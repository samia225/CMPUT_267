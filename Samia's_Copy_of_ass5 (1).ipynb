{
  "cells": [
    {
      "cell_type": "code",
      "source": [
        "# Enable widgets\n",
        "from google.colab import output\n",
        "output.enable_custom_widget_manager()\n",
        "import ipywidgets as widgets"
      ],
      "metadata": {
        "id": "ydQzTpVPWhLk"
      },
      "execution_count": 1,
      "outputs": []
    },
    {
      "cell_type": "code",
      "execution_count": 2,
      "metadata": {
        "id": "6WOHTeGhIgze"
      },
      "outputs": [],
      "source": [
        "# Install otter-grader\n",
        "%pip install -q otter-grader\n",
        "\n",
        "# Download the tests directory from the course website (this will be used by otter-grader)\n",
        "!wget -q https://vladtkachuk4.github.io/machinelearning1/assignments/Fall2024/ass5/tests.zip -O tests.zip\n",
        "\n",
        "# Unzip the tests directory, forcing overwriting of existing files\n",
        "!unzip -qo tests.zip -d ."
      ]
    },
    {
      "cell_type": "code",
      "execution_count": 3,
      "metadata": {
        "deletable": false,
        "editable": false,
        "id": "Qrxz42W-Igzf"
      },
      "outputs": [],
      "source": [
        "# Initialize Otter\n",
        "import otter\n",
        "grader = otter.Notebook()"
      ]
    },
    {
      "cell_type": "markdown",
      "metadata": {
        "id": "R8_-cZQeIgzf"
      },
      "source": [
        "# CMPUT 267 - Machine Learning I\n",
        "# Assignment 5 - Evaluating Predictors"
      ]
    },
    {
      "cell_type": "markdown",
      "metadata": {
        "id": "HGSHlEptIgzf"
      },
      "source": [
        "## Assignment Instructions and Information\n",
        "For this assignment, we will be using Google Colab. If you are new to Google Colab, you can find a brief introduction at the following link: [Google Colab Introduction](https://colab.research.google.com/notebooks/intro.ipynb).\n",
        "\n",
        "**Important:** Before you start working on this notebook, make sure to save a copy to your own Google Drive. To do this, go to `File` -> `Save a copy in Drive`.\n",
        "\n",
        "If you do not save a copy, you will not be able to save any changes you make.\n"
      ]
    },
    {
      "cell_type": "markdown",
      "metadata": {
        "id": "fux4UwwgIgzg"
      },
      "source": [
        "### Submitting your assignment\n",
        "Once you have completed the assignment, please submit your work as a `.ipynb` file on eClass in the \"Assignment 5\" section. To download your Colab notebook in the required format, follow these steps:\n",
        "\n",
        "1. Save your notebook to ensure all changes are preserved.\n",
        "2. Navigate to `File` -> `Download` -> `Download .ipynb`.\n",
        "\n",
        "Make sure to save your notebook before downloading it!"
      ]
    },
    {
      "cell_type": "markdown",
      "metadata": {
        "id": "Qz1Ewsb2Igzg"
      },
      "source": [
        "### Questions and Autograding\n",
        "\n",
        "Each section contains questions for you to solve, marked with the subsection heading \"Question X.Y\" (ex: the first problem is \"Question 1.1\").\n",
        "\n",
        "For each question your solution must go within the following designated code block:\n",
        "\n",
        "```python\n",
        "### YOUR CODE HERE ###\n",
        "\n",
        "######################\n",
        "```\n",
        "\n",
        "All questions will be autograded using [Otter-Grader](https://otter-grader.readthedocs.io/en/latest/).\n",
        "The first two code cells in this notebook install the Otter-Grader package and download the test cases.\n",
        "You should run these cells, otherwise the autograder will not work.\n",
        "\n",
        "At the end of each question there is code that runs the autograder. For example, in Question 1.1 the code `grader.check(\"q1_1\")` runs the autograder.\n",
        "If you pass all the test cases for a question (ex: Question 1.1), you will see the following output:\n",
        "\n",
        "**q1_1** passed!\n",
        "\n",
        "If you do not pass all the test cases for a question, you will see which test cases you did not pass along with their corresponding error messages.\n",
        "\n",
        "There are both public and private test cases. You only have access to the public test cases. This means that if you pass all the test cases in this notebook, you have passed all the public test cases.\n",
        "\n",
        "After you submit the assignment, we will also run the private test cases. The public test cases account for 50% of the total mark, while the private test cases make up the remaining 50%. Therefore, if you pass all the test cases in the notebook, you are guaranteed a mark of at least 50%.\n",
        "\n",
        "After each question description, the number of points (marks) the question is worth is indicated.\n",
        "This is the total number of points for both the public and private test cases.\n",
        "For each question, the public test cases are worth 50% of the points.\n"
      ]
    },
    {
      "cell_type": "markdown",
      "metadata": {
        "id": "GT56T_z7Igzg"
      },
      "source": [
        "## Introduction\n",
        "\n",
        "Welcome to Assignment 5! In this assignment, you will explore evaluating predictors.\n",
        "We will be focusing on the methods discussed in Chapter 7 of the [course notes](https://vladtkachuk4.github.io/machinelearning1/notes.pdf).\n",
        "\n",
        "This assignment will guide you through the following sections:\n",
        "\n",
        "1. [Visualizing Different Errors](#part-1-visualizing-different-errors)\n",
        "1. [Picking the Best Polynomial Predictor](#part-2-picking-the-best-polynomial-predictor)\n",
        "1. [Regularization](#part-3-regularization)\n",
        "\n",
        "You can quickly navigate to each section by opening the table of contents on the left side of the screen.\n",
        "\n",
        "Let's get started!\n"
      ]
    },
    {
      "cell_type": "markdown",
      "metadata": {
        "id": "RqlYXPWDIgzg"
      },
      "source": [
        "# Part 1: Visualizing Different Errors\n",
        "\n",
        "In this assignment we will use synthetic data that we generate ourselves.\n",
        "This means that we have access to the feature-label distribution $\\mathbb{P}_{\\boldsymbol{X}, Y}$.\n",
        "This is useful because it allows us to calculate the expected loss $L$ of our predictors.\n",
        "\n",
        "To make visualizing things easier, we will use a 1-dimensional features (i.e. $d=1$).\n",
        "Thus,\n",
        "$$\\mathcal{X} = \\mathbb{R}^{d+1} = \\mathbb{R}^2 \\quad \\text{and} \\quad \\mathcal{Y} = \\mathbb{R}$$\n",
        "\n",
        "Since we are working in the regression setting we will be using the squared loss function\n",
        "$$\\ell(\\hat{y}, y) = (\\hat{y} - y)^2.$$\n",
        "\n",
        "In this section our goal will be to visualize and build a better understanding of the different error terms we encounter when trying to minimize $\\mathbb{E}[L(\\mathcal{A}(D))]$."
      ]
    },
    {
      "cell_type": "markdown",
      "metadata": {
        "id": "6xpBNRcfIgzg"
      },
      "source": [
        "To get started, lets import all the necessary libraries for this assignment"
      ]
    },
    {
      "cell_type": "code",
      "execution_count": 4,
      "metadata": {
        "id": "bDH8lyUbIgzg"
      },
      "outputs": [],
      "source": [
        "# Import necessary libraries\n",
        "import numpy as np\n",
        "import pandas as pd\n",
        "import matplotlib.pyplot as plt\n",
        "from sklearn.datasets import fetch_california_housing\n",
        "from ipywidgets import interactive_output\n",
        "import ipywidgets as widgets\n",
        "from IPython.display import display, clear_output\n",
        "from sklearn.preprocessing import PolynomialFeatures\n",
        "from sklearn.preprocessing import StandardScaler\n",
        "\n",
        "# Set a fixed random seed for reproducibility\n",
        "random_seed = 42"
      ]
    },
    {
      "cell_type": "markdown",
      "metadata": {
        "id": "ZkAO104sIgzh"
      },
      "source": [
        "Now, lets visualize the best possible predictor\n",
        "$$f_\\text{Bayes} = \\arg\\min_{f \\in \\{f | f: \\mathcal{X} \\to \\mathcal{Y}\\}} L(f).$$\n",
        "and what $\\mathbb{P}_{\\boldsymbol{X}, Y}$ looks like by ploting 1000 samples from it.\n",
        "\n",
        "One way to interpret $f_\\text{Bayes}$ is as the predictor that best fits infinitely many samples from $\\mathbb{P}_{\\boldsymbol{X}, Y}$.\n",
        "Since we can not plot infinitely many samples we only plotted finitely many (1000 in this case)."
      ]
    },
    {
      "cell_type": "code",
      "execution_count": 5,
      "metadata": {
        "id": "pHCOIpAHIgzh",
        "colab": {
          "base_uri": "https://localhost:8080/",
          "height": 17,
          "referenced_widgets": [
            "27acad7088ea46f5b92dd09f655dd192",
            "8ad71d721c9646e8998c5f24038e47dc",
            "e9b6c727a4154fd6998c503f2627351a",
            "5ee688535f2d46dbab06ba90eecce987",
            "f15af4a03a714d4b9de2e3900c074832"
          ]
        },
        "cellView": "form",
        "outputId": "89ebe6f5-e449-41bc-ca88-5ef3a8bd0018"
      },
      "outputs": [
        {
          "output_type": "display_data",
          "data": {
            "text/plain": [
              "Checkbox(value=False, description='Show Plot')"
            ],
            "application/vnd.jupyter.widget-view+json": {
              "version_major": 2,
              "version_minor": 0,
              "model_id": "27acad7088ea46f5b92dd09f655dd192"
            }
          },
          "metadata": {
            "application/vnd.jupyter.widget-view+json": {
              "colab": {
                "custom_widget_manager": {
                  "url": "https://ssl.gstatic.com/colaboratory-static/widgets/colab-cdn-widget-manager/2b70e893a8ba7c0f/manager.min.js"
                }
              }
            }
          }
        },
        {
          "output_type": "display_data",
          "data": {
            "text/plain": [
              "Output()"
            ],
            "application/vnd.jupyter.widget-view+json": {
              "version_major": 2,
              "version_minor": 0,
              "model_id": "5ee688535f2d46dbab06ba90eecce987"
            }
          },
          "metadata": {
            "application/vnd.jupyter.widget-view+json": {
              "colab": {
                "custom_widget_manager": {
                  "url": "https://ssl.gstatic.com/colaboratory-static/widgets/colab-cdn-widget-manager/2b70e893a8ba7c0f/manager.min.js"
                }
              }
            }
          }
        }
      ],
      "source": [
        "# @title Plot\n",
        "\n",
        "# Define the coefficients for f_Bayes\n",
        "coefficients = [1, 7, -6, 1.2, 0.1, -0.02, 0.001, 0, -0.0002]\n",
        "\n",
        "# Define a polynomial function\n",
        "def polynomial(coeffs):\n",
        "    def poly_func(x):\n",
        "        return sum(c * x**i for i, c in enumerate(coeffs))\n",
        "    return poly_func\n",
        "\n",
        "# Define f_Bayes\n",
        "f_bayes = polynomial(coefficients)\n",
        "\n",
        "np.random.seed(random_seed)\n",
        "\n",
        "# Number of data points\n",
        "num_points_plot = 1000\n",
        "\n",
        "# Generate X values uniformly between 0 and 4\n",
        "X_plot = np.random.uniform(0, 4, num_points_plot)\n",
        "\n",
        "# Generate noise from a Gaussian distribution with mean 0 and variance 1\n",
        "noise_plot = np.random.normal(0, 1, num_points_plot)\n",
        "\n",
        "# Calculate Y values using f_Bayes and adding noise\n",
        "Y_plot = f_bayes(X_plot) + noise_plot\n",
        "\n",
        "# Generate x values for plotting\n",
        "x = np.linspace(0, 4, 400)\n",
        "\n",
        "# Define the function to update the plot based on the checkbox value\n",
        "def update_plot_f_bayes(show_plot):\n",
        "    if show_plot:\n",
        "        # Plot the generated data points\n",
        "        plt.figure(figsize=(10, 6))\n",
        "        plt.scatter(X_plot, Y_plot, alpha=0.5, label=r'Samples from $\\mathbb{P}_{X, Y}$')\n",
        "        plt.plot(x, f_bayes(x), color='black', label=r'$f_{Bayes}$', linewidth=3)\n",
        "        plt.xlabel('X')\n",
        "        plt.ylabel('Y')\n",
        "        plt.ylim(0.2, 7.2)\n",
        "        plt.xlim(-0.2, 4.2)\n",
        "        plt.legend()\n",
        "        plt.grid(True)\n",
        "        plt.show()\n",
        "    else:\n",
        "        clear_output()\n",
        "        # plt.close()\n",
        "\n",
        "# Create a checkbox for showing/hiding the plot\n",
        "show_plot_checkbox_f_bayes = widgets.Checkbox(value=False, description='Show Plot')\n",
        "\n",
        "# Use interactive_output to update the plot based on the checkbox value\n",
        "interactive_plot_f_bayes = widgets.interactive_output(update_plot_f_bayes, {'show_plot': show_plot_checkbox_f_bayes})\n",
        "\n",
        "# Display the checkbox and the plot\n",
        "display(show_plot_checkbox_f_bayes, interactive_plot_f_bayes)"
      ]
    },
    {
      "cell_type": "markdown",
      "metadata": {
        "id": "_C22uQ_mIgzh"
      },
      "source": [
        "Now we would like to see what the best predictor in a polynomial degree $p$ function class $\\cal{F}_p$ looks like.\n",
        "In particular, the predictor\n",
        "$$f^*_p = \\arg\\min_{f \\in \\cal{F}_p} L(f)$$\n",
        "where\n",
        "$$\\cal{F}_p = \\{f | f: \\mathcal{X} \\to \\mathcal{Y}, \\text{ where } f(\\boldsymbol{x}) = \\phi_p(\\boldsymbol{x})^\\top \\boldsymbol{w}, \\text{ and } \\boldsymbol{w} \\in \\mathbb{R}^{\\bar p}\\}$$\n",
        "To do this we will need an implemention of the polynomial feature map $\\phi_p$ for various values of $p$.\n",
        "To test your understanding we will only ask you to implement $\\phi_3$.\n",
        "\n",
        "After your implementation, we provide you with a more general implementation of $\\phi_p$ for any $p$, that will be used for the rest of the assignment.\n",
        "\n",
        "**Do not just copy the code from `phi_p` into the cell where you are asked to implement $\\phi_3$. You will get zero marks for that.**"
      ]
    },
    {
      "cell_type": "markdown",
      "metadata": {
        "deletable": false,
        "editable": false,
        "id": "7KvLNPWnIgzh"
      },
      "source": [
        "### Question 1.1\n",
        "\n",
        "Implement `phi_3`.\n",
        "\n",
        "_Points:_ 8"
      ]
    },
    {
      "cell_type": "code",
      "execution_count": 6,
      "metadata": {
        "tags": [],
        "id": "I9SwjqRhIgzh"
      },
      "outputs": [],
      "source": [
        "def phi_3(x):\n",
        "    \"\"\"\n",
        "    Transforms a single feature vector into a polynomial of degree 3 feature vector.\n",
        "\n",
        "    Parameters:\n",
        "    x (numpy array): A single feature vector of size d+1.\n",
        "\n",
        "    Returns:\n",
        "    poly_features (numpy array): A transformed feature vector of size (d+1)*(d+2)*(d+3)/6.\n",
        "    \"\"\"\n",
        "    # Calculate the size of the transformed feature vector\n",
        "    d = len(x) - 1\n",
        "    size = (d+1) * (d+2) * (d+3) // 6\n",
        "\n",
        "    # Initialize the transformed feature vector with zeros\n",
        "    poly_features = np.zeros(size)\n",
        "\n",
        "    ### YOUR CODE HERE ###\n",
        "    id = 0\n",
        "    for i in range(d+1):\n",
        "      for j in range(i,d+1):\n",
        "        for k in range(j,d+1):\n",
        "          poly_features[id] = x[i] * x [j] * x[k]\n",
        "          id +=1\n",
        "\n",
        "\n",
        "    ######################\n",
        "\n",
        "    return poly_features\n"
      ]
    },
    {
      "cell_type": "code",
      "execution_count": 7,
      "metadata": {
        "deletable": false,
        "editable": false,
        "id": "EceOOOZCIgzh",
        "colab": {
          "base_uri": "https://localhost:8080/",
          "height": 47
        },
        "outputId": "11660953-5d21-41b8-a51d-7f9bea0e5fee"
      },
      "outputs": [
        {
          "output_type": "execute_result",
          "data": {
            "text/plain": [
              "q1_1 results: All test cases passed!"
            ],
            "text/html": [
              "<p><strong><pre style='display: inline;'>q1_1</pre></strong> passed! ✨</p>"
            ]
          },
          "metadata": {},
          "execution_count": 7
        }
      ],
      "source": [
        "grader.check(\"q1_1\")"
      ]
    },
    {
      "cell_type": "markdown",
      "metadata": {
        "id": "wE0U-cS7Igzh"
      },
      "source": [
        "Below is the `phi_p` function that implements $\\phi_p$ for any $p$, which we will use for the rest of the assignment.\n",
        "We directly add normalization the the end of the `phi_p` function, so that we don't have to constantly normalize the features after applying the `phi_p` function each time.\n",
        "The purpose of normalization was discussed in assignment 4."
      ]
    },
    {
      "cell_type": "code",
      "execution_count": 8,
      "metadata": {
        "id": "TRuy6aBPIgzh"
      },
      "outputs": [],
      "source": [
        "def phi_p(X, p):\n",
        "    \"\"\"\n",
        "    Transforms the input feature matrix X into polynomial features of degree p and normalizes them.\n",
        "\n",
        "    Parameters:\n",
        "    X (numpy.ndarray): Input feature matrix where each row is a feature vector.\n",
        "    p (int): Degree of the polynomial features.\n",
        "\n",
        "    Returns:\n",
        "    poly_features (numpy.ndarray): Transformed and normalized polynomial features.\n",
        "    \"\"\"\n",
        "    # Create PolynomialFeatures instance with the desired degree\n",
        "    poly = PolynomialFeatures(degree=p, include_bias=True)\n",
        "\n",
        "    # Transform the feature matrix to polynomial features\n",
        "    poly_features = poly.fit_transform(X[:, 1:])\n",
        "\n",
        "    # Normalize the polynomial features, excluding the first column\n",
        "    poly_features[:, 1:] = (poly_features[:, 1:] - np.mean(poly_features[:, 1:], axis=0)) / np.std(poly_features[:, 1:], axis=0)\n",
        "\n",
        "    return poly_features"
      ]
    },
    {
      "cell_type": "markdown",
      "metadata": {
        "id": "yghU2E_qIgzh"
      },
      "source": [
        "Lets plot $f^*_p$ for various values of $p$ and compare it to $f_\\text{Bayes}$.\n",
        "\n",
        "You can use the slider to select different values of $p$.\n",
        "\n",
        "Notice how as $p$ increases, $f^*_p$ is able to better approximate $f_\\text{Bayes}$.\n",
        "This is because $\\cal{F}_p$ is a richer function class as $p$ increases, and for large enough $p$, we will even have that $f_\\text{Bayes} \\in \\cal{F}_p$."
      ]
    },
    {
      "cell_type": "code",
      "execution_count": 9,
      "metadata": {
        "id": "5nfr8gbyIgzh",
        "colab": {
          "base_uri": "https://localhost:8080/",
          "height": 49,
          "referenced_widgets": [
            "02153a170f394ef7b1d481c34e5c535a",
            "b620a0e0bdd44b13a1456c56dd99534d",
            "b23ddf620d31470bb01b1cfda32d3b46",
            "5a0d4325ae934f7aa67543c871ef1693",
            "9cd2ef5aabc84a40a4d0256c2c399c66",
            "cb22a686e91846a0bc8c4736388442ac",
            "6bd6e7455ee847ad9de920815a316e10",
            "d0fa254f92c14bcbbff349406a65ae66"
          ]
        },
        "cellView": "form",
        "outputId": "dff3fef6-e34d-473d-af88-e79343d9269a"
      },
      "outputs": [
        {
          "output_type": "display_data",
          "data": {
            "text/plain": [
              "IntSlider(value=1, description='Degree p', max=9, min=1)"
            ],
            "application/vnd.jupyter.widget-view+json": {
              "version_major": 2,
              "version_minor": 0,
              "model_id": "02153a170f394ef7b1d481c34e5c535a"
            }
          },
          "metadata": {
            "application/vnd.jupyter.widget-view+json": {
              "colab": {
                "custom_widget_manager": {
                  "url": "https://ssl.gstatic.com/colaboratory-static/widgets/colab-cdn-widget-manager/2b70e893a8ba7c0f/manager.min.js"
                }
              }
            }
          }
        },
        {
          "output_type": "display_data",
          "data": {
            "text/plain": [
              "Checkbox(value=False, description='Show Plot')"
            ],
            "application/vnd.jupyter.widget-view+json": {
              "version_major": 2,
              "version_minor": 0,
              "model_id": "5a0d4325ae934f7aa67543c871ef1693"
            }
          },
          "metadata": {
            "application/vnd.jupyter.widget-view+json": {
              "colab": {
                "custom_widget_manager": {
                  "url": "https://ssl.gstatic.com/colaboratory-static/widgets/colab-cdn-widget-manager/2b70e893a8ba7c0f/manager.min.js"
                }
              }
            }
          }
        },
        {
          "output_type": "display_data",
          "data": {
            "text/plain": [
              "Output()"
            ],
            "application/vnd.jupyter.widget-view+json": {
              "version_major": 2,
              "version_minor": 0,
              "model_id": "6bd6e7455ee847ad9de920815a316e10"
            }
          },
          "metadata": {
            "application/vnd.jupyter.widget-view+json": {
              "colab": {
                "custom_widget_manager": {
                  "url": "https://ssl.gstatic.com/colaboratory-static/widgets/colab-cdn-widget-manager/2b70e893a8ba7c0f/manager.min.js"
                }
              }
            }
          }
        }
      ],
      "source": [
        "# @title Plot\n",
        "\n",
        "np.random.seed(random_seed)\n",
        "# num_points = 1000000\n",
        "num_points = 10000\n",
        "X_exp = np.random.uniform(0, 4, num_points)\n",
        "noise_exp = np.random.normal(0, 1, num_points)\n",
        "Y_exp = f_bayes(X_exp) + noise_exp\n",
        "\n",
        "# Define the function to update the plot based on the selected degree and checkbox value\n",
        "def update_plot_f_star(degree, show_plot):\n",
        "    if show_plot:\n",
        "        # Fit the polynomial to the data\n",
        "        w_star = np.polyfit(X_exp, Y_exp, degree)\n",
        "\n",
        "        # Generate y values for the fitted polynomial\n",
        "        f_star = np.polyval(w_star, x)\n",
        "\n",
        "        # Plot the generated data points and the polynomial fit\n",
        "        plt.figure(figsize=(10, 6))\n",
        "        plt.plot(x, f_bayes(x), color='black', label=r'$f_{Bayes}$', linewidth=3)\n",
        "        plt.plot(x, f_star, color='green', linestyle='-', label=fr'$f^*_{degree}$', linewidth=3)\n",
        "        plt.xlabel('X')\n",
        "        plt.ylabel('Y')\n",
        "        plt.ylim(0.2, 7.2)\n",
        "        plt.xlim(-0.2, 4.2)\n",
        "        plt.legend(loc='upper left')\n",
        "        plt.grid(True)\n",
        "        plt.show()\n",
        "    else:\n",
        "        clear_output()\n",
        "\n",
        "# Create sliders for the polynomial degree and a checkbox for showing/hiding the plot\n",
        "degree_slider_f_star = widgets.IntSlider(value=1, min=1, max=9, step=1, description='Degree p')\n",
        "show_plot_checkbox_f_star = widgets.Checkbox(value=False, description='Show Plot')\n",
        "\n",
        "# Use interactive_output to update the plot based on the slider and checkbox values\n",
        "interactive_plot_f_star = widgets.interactive_output(update_plot_f_star, {'degree': degree_slider_f_star, 'show_plot': show_plot_checkbox_f_star})\n",
        "\n",
        "# Display the sliders, checkbox, and the plot\n",
        "display(degree_slider_f_star, show_plot_checkbox_f_star, interactive_plot_f_star)"
      ]
    },
    {
      "cell_type": "markdown",
      "metadata": {
        "id": "4ATilZDFIgzi"
      },
      "source": [
        "Now, we would like to plot the best predictor based on a dataset of size $n$.\n",
        "In particular, the predictor\n",
        "$$\\hat f_{p} = \\arg\\min_{f \\in \\cal{F}_p} \\hat L(f).$$\n",
        "Recall that the closed form linear regression learner outputs exactly this predictor.\n",
        "Since you have already implemented it in the previous assignment, we will provide you with the implementation of the learner below."
      ]
    },
    {
      "cell_type": "code",
      "execution_count": 10,
      "metadata": {
        "id": "P_YlJ6k6Igzi"
      },
      "outputs": [],
      "source": [
        "def closed_form_learner(X, Y):\n",
        "    '''\n",
        "    Solves linear regression using the closed form solution.\n",
        "\n",
        "    Parameters:\n",
        "    X (numpy array): Feature matrix of size (n, d+1), where n is the number of samples\n",
        "                     and d is the number of features. The first column should be all 1s.\n",
        "    Y (numpy array): Target vector of size (n, 1).\n",
        "\n",
        "    Returns:\n",
        "    predictor (function): A function that takes a feature vector and returns a predicted value.\n",
        "    w_hat (numpy array): The weights calculated using the closed form solution.\n",
        "    '''\n",
        "\n",
        "    A = X.T @ X\n",
        "    b = X.T @ Y\n",
        "    w_hat = np.linalg.pinv(A) @ b\n",
        "\n",
        "    def predictor(x):\n",
        "        return x @ w_hat\n",
        "\n",
        "    return predictor, w_hat"
      ]
    },
    {
      "cell_type": "markdown",
      "metadata": {
        "id": "2Q75XWAbIgzi"
      },
      "source": [
        "We can add $\\hat f_{p}$ to our previous plot and see how it compares.\n",
        "\n",
        "We have added 2 more sliders so that you can change the size of the dataset $n$ and the random seed used to generate the dataset.\n",
        "Changing the random seed should be thought of as getting an entirely new dataset of size $n$.\n",
        "\n",
        "The orange dots are the data points from the dataset.\n",
        "You should notice that as $n$ increases, $\\hat f_{p}$ is a better approximation of $f^*_p$.\n",
        "You should also notice that if you change the random seed, the dataset changes and thus $\\hat f_{p}$ changes.\n",
        "Another thing to notice is that if you increase the degree of the polynomial $p$, more samples $n$ are needed for $\\hat f_p$ to approximate $f^*_p$ well, and if you change the random seed, $\\hat f_{p}$ changes more drastically."
      ]
    },
    {
      "cell_type": "code",
      "execution_count": 11,
      "metadata": {
        "id": "reVEjF1OIgzi",
        "colab": {
          "base_uri": "https://localhost:8080/",
          "height": 109,
          "referenced_widgets": [
            "e37924a91f7c4776a4c9cd306cdfa79b",
            "4340b04f22d242cfb66a9d07f874e702",
            "3ef3f7ecdaa54c1c80213904a20f09d9",
            "674de7b377d745e2882726544cf662d9",
            "d06332a03bcb44b5930d86959cff5d60",
            "5e35780dfe5047158e3dd7950144e452",
            "dc77787ef20f42aa83aa610124008a99",
            "7d2add3c215642a38cb6f68fbffaf8eb",
            "27e3a5ddc68840a0a0b42fb215403220",
            "5328184e2ca440bbb7ec14ba9686f6dc",
            "8d2ceb0d04ae40c1b9495d5a20762411",
            "90d812be2aca40ad85886751d2b649b8",
            "9c14ce9d588e410b89f8b418747824ca",
            "9f4d2a9a3bc64ecb9eb6b508bf468f51"
          ]
        },
        "cellView": "form",
        "outputId": "9b710729-c94d-49ef-c857-ba20fce55d69"
      },
      "outputs": [
        {
          "output_type": "display_data",
          "data": {
            "text/plain": [
              "IntSlider(value=1, description='Degree p', max=9, min=1)"
            ],
            "application/vnd.jupyter.widget-view+json": {
              "version_major": 2,
              "version_minor": 0,
              "model_id": "e37924a91f7c4776a4c9cd306cdfa79b"
            }
          },
          "metadata": {
            "application/vnd.jupyter.widget-view+json": {
              "colab": {
                "custom_widget_manager": {
                  "url": "https://ssl.gstatic.com/colaboratory-static/widgets/colab-cdn-widget-manager/2b70e893a8ba7c0f/manager.min.js"
                }
              }
            }
          }
        },
        {
          "output_type": "display_data",
          "data": {
            "text/plain": [
              "IntSlider(value=10, description='n', max=200, min=1)"
            ],
            "application/vnd.jupyter.widget-view+json": {
              "version_major": 2,
              "version_minor": 0,
              "model_id": "674de7b377d745e2882726544cf662d9"
            }
          },
          "metadata": {
            "application/vnd.jupyter.widget-view+json": {
              "colab": {
                "custom_widget_manager": {
                  "url": "https://ssl.gstatic.com/colaboratory-static/widgets/colab-cdn-widget-manager/2b70e893a8ba7c0f/manager.min.js"
                }
              }
            }
          }
        },
        {
          "output_type": "display_data",
          "data": {
            "text/plain": [
              "IntSlider(value=1, description='Random Seed', max=10, min=1, style=SliderStyle(description_width='initial'))"
            ],
            "application/vnd.jupyter.widget-view+json": {
              "version_major": 2,
              "version_minor": 0,
              "model_id": "dc77787ef20f42aa83aa610124008a99"
            }
          },
          "metadata": {
            "application/vnd.jupyter.widget-view+json": {
              "colab": {
                "custom_widget_manager": {
                  "url": "https://ssl.gstatic.com/colaboratory-static/widgets/colab-cdn-widget-manager/2b70e893a8ba7c0f/manager.min.js"
                }
              }
            }
          }
        },
        {
          "output_type": "display_data",
          "data": {
            "text/plain": [
              "Checkbox(value=False, description='Show Plot')"
            ],
            "application/vnd.jupyter.widget-view+json": {
              "version_major": 2,
              "version_minor": 0,
              "model_id": "5328184e2ca440bbb7ec14ba9686f6dc"
            }
          },
          "metadata": {
            "application/vnd.jupyter.widget-view+json": {
              "colab": {
                "custom_widget_manager": {
                  "url": "https://ssl.gstatic.com/colaboratory-static/widgets/colab-cdn-widget-manager/2b70e893a8ba7c0f/manager.min.js"
                }
              }
            }
          }
        },
        {
          "output_type": "display_data",
          "data": {
            "text/plain": [
              "Output()"
            ],
            "application/vnd.jupyter.widget-view+json": {
              "version_major": 2,
              "version_minor": 0,
              "model_id": "9c14ce9d588e410b89f8b418747824ca"
            }
          },
          "metadata": {
            "application/vnd.jupyter.widget-view+json": {
              "colab": {
                "custom_widget_manager": {
                  "url": "https://ssl.gstatic.com/colaboratory-static/widgets/colab-cdn-widget-manager/2b70e893a8ba7c0f/manager.min.js"
                }
              }
            }
          }
        }
      ],
      "source": [
        "# @title Plot\n",
        "\n",
        "# Define the function to update the plot based on the selected degree, n, and random seed\n",
        "def update_plot_f_hat(degree, n, random_seed, show_plot):\n",
        "    if show_plot:\n",
        "        # Fit the polynomial to the data\n",
        "        w_star = np.polyfit(X_exp, Y_exp, degree)\n",
        "\n",
        "        # Generate y values for the fitted polynomial\n",
        "        f_star = np.polyval(w_star, x)\n",
        "\n",
        "        # Generate new train dataset\n",
        "        np.random.seed(random_seed)\n",
        "        X_train_raw = np.random.uniform(0, 4, n)\n",
        "        X_train = np.c_[np.ones(n), X_train_raw]\n",
        "        noise_train = np.random.normal(0, 1, n)\n",
        "        Y_train = f_bayes(X_train_raw) + noise_train\n",
        "\n",
        "        # Transform the feature matrix to polynomial features\n",
        "        X_train_poly = phi_p(X_train, degree)\n",
        "\n",
        "        # Fit the model using closed form solution\n",
        "        f_hat, w_hat = closed_form_learner(X_train_poly, Y_train)\n",
        "\n",
        "        # Generate y values for the fitted polynomial from closed_form_learner\n",
        "        f_hat_values = f_hat(phi_p(np.c_[np.ones(x.shape[0]), x], degree))\n",
        "\n",
        "        # Plot the generated data points and the polynomial fit\n",
        "        plt.figure(figsize=(10, 6))\n",
        "        plt.plot(x, f_bayes(x), color='black', label=r'$f_{Bayes}$', linewidth=3)\n",
        "        plt.plot(x, f_star, color='green', linestyle='-', label=fr'$f^*_{degree}$', linewidth=3)\n",
        "        plt.plot(x, f_hat_values, color='orange', linestyle='--', label=fr'$\\hat f_{degree}$ with n={n}', linewidth=3)\n",
        "        plt.scatter(X_train_raw, Y_train, color='orange', alpha=0.5, label='Dataset')\n",
        "        plt.xlabel('X')\n",
        "        plt.ylabel('Y')\n",
        "        plt.ylim(0.2, 7.2)\n",
        "        plt.xlim(-0.2, 4.2)\n",
        "        plt.legend(loc='upper left')\n",
        "        plt.grid(True)\n",
        "        plt.show()\n",
        "    else:\n",
        "        clear_output()\n",
        "\n",
        "# Create sliders for the polynomial degree, n, and random seed\n",
        "degree_slider_f_hat = widgets.IntSlider(value=1, min=1, max=9, step=1, description='Degree p')\n",
        "n_slider_f_hat = widgets.IntSlider(value=10, min=1, max=200, step=1, description='n')\n",
        "random_seed_slider_f_hat = widgets.IntSlider(value=1, min=1, max=10, step=1, description='Random Seed', style={'description_width': 'initial'})\n",
        "show_plot_checkbox_f_hat = widgets.Checkbox(value=False, description='Show Plot')\n",
        "\n",
        "# Use interactive_output to update the plot based on the slider values\n",
        "interactive_plot_f_hat = widgets.interactive_output(update_plot_f_hat,\n",
        "                                                    {'degree': degree_slider_f_hat,\n",
        "                                                     'n': n_slider_f_hat,\n",
        "                                                     'random_seed': random_seed_slider_f_hat,\n",
        "                                                     'show_plot': show_plot_checkbox_f_hat})\n",
        "\n",
        "# Display the sliders and the plot\n",
        "display(degree_slider_f_hat, n_slider_f_hat, random_seed_slider_f_hat, show_plot_checkbox_f_hat, interactive_plot_f_hat)"
      ]
    },
    {
      "cell_type": "markdown",
      "metadata": {
        "id": "JiVcnSX9Igzi"
      },
      "source": [
        "In class we also discussed the expected predictor\n",
        "$$\\bar f_p(x) = \\mathbb{E}[\\hat f_{D, p}(X)|X = x],$$\n",
        "which is the predictor we get after taking the expected value of $\\hat f_{D, p}(x)$ for each $x \\in [0,4]$ over all possible datasets.\n",
        "We have added $D$ to the subscript of $\\hat f_p$ here to emphasize that it is a function of the random variable $D$, thus it it also a random variable and that is what the expectation is taken over.\n",
        "\n",
        "Since it is difficult to calculate this expected value we plot an estimate of $\\bar f_p$ based on 1000 datasets.\n",
        "What you should see is that $\\bar f_p$ is approximately equal to $f^*_p$.\n",
        "Indeed, if we could calculate $\\bar f_p$ exactly then you would see that is equal to $f^*_p$.\n",
        "This is a property that holds when we use the closed form linear regression learner.\n",
        "We will see in [Part 3](#part-3-regularization) that this property does not hold when we use regularization."
      ]
    },
    {
      "cell_type": "code",
      "execution_count": 12,
      "metadata": {
        "id": "Laig_4nBIgzi",
        "colab": {
          "base_uri": "https://localhost:8080/",
          "height": 109,
          "referenced_widgets": [
            "f38ea16f94954165ba7840626afa639f",
            "4ba3d5e1401d4490a9fe9f448d5f8277",
            "e58fb46d8cf544349d068f1031271376",
            "957d3b0ec19f49a1b365fc5d9e1bf1d4",
            "751999348e67487bb7c630235a28dfea",
            "3203e618f5f2440fa02f46bee54ab9e6",
            "93804e670d0b4da8aeb3fdeb0f97d36c",
            "712a5a60ed1449d9aad4399aff1048c9",
            "2b8d2660b19c48c788cb5d6199c23f5b",
            "c432c0dc237d40928736f1ff19a21aad",
            "731243b2c2bc4e1eb7a2a7286860a248",
            "368a29fce98d47a1b5065fb85e1c3695",
            "a29887d98a3a4f64a4c550241a803209",
            "8af3dc30761d446abc3fc645d425c069"
          ]
        },
        "cellView": "form",
        "outputId": "f49283a8-c05e-4c99-9c5b-911e196f496c"
      },
      "outputs": [
        {
          "output_type": "display_data",
          "data": {
            "text/plain": [
              "IntSlider(value=1, description='Degree p', max=9, min=1)"
            ],
            "application/vnd.jupyter.widget-view+json": {
              "version_major": 2,
              "version_minor": 0,
              "model_id": "f38ea16f94954165ba7840626afa639f"
            }
          },
          "metadata": {
            "application/vnd.jupyter.widget-view+json": {
              "colab": {
                "custom_widget_manager": {
                  "url": "https://ssl.gstatic.com/colaboratory-static/widgets/colab-cdn-widget-manager/2b70e893a8ba7c0f/manager.min.js"
                }
              }
            }
          }
        },
        {
          "output_type": "display_data",
          "data": {
            "text/plain": [
              "IntSlider(value=10, description='n', max=200, min=1)"
            ],
            "application/vnd.jupyter.widget-view+json": {
              "version_major": 2,
              "version_minor": 0,
              "model_id": "957d3b0ec19f49a1b365fc5d9e1bf1d4"
            }
          },
          "metadata": {
            "application/vnd.jupyter.widget-view+json": {
              "colab": {
                "custom_widget_manager": {
                  "url": "https://ssl.gstatic.com/colaboratory-static/widgets/colab-cdn-widget-manager/2b70e893a8ba7c0f/manager.min.js"
                }
              }
            }
          }
        },
        {
          "output_type": "display_data",
          "data": {
            "text/plain": [
              "IntSlider(value=1, description='Random Seed', max=10, min=1, style=SliderStyle(description_width='initial'))"
            ],
            "application/vnd.jupyter.widget-view+json": {
              "version_major": 2,
              "version_minor": 0,
              "model_id": "93804e670d0b4da8aeb3fdeb0f97d36c"
            }
          },
          "metadata": {
            "application/vnd.jupyter.widget-view+json": {
              "colab": {
                "custom_widget_manager": {
                  "url": "https://ssl.gstatic.com/colaboratory-static/widgets/colab-cdn-widget-manager/2b70e893a8ba7c0f/manager.min.js"
                }
              }
            }
          }
        },
        {
          "output_type": "display_data",
          "data": {
            "text/plain": [
              "Checkbox(value=False, description='Show Plot')"
            ],
            "application/vnd.jupyter.widget-view+json": {
              "version_major": 2,
              "version_minor": 0,
              "model_id": "c432c0dc237d40928736f1ff19a21aad"
            }
          },
          "metadata": {
            "application/vnd.jupyter.widget-view+json": {
              "colab": {
                "custom_widget_manager": {
                  "url": "https://ssl.gstatic.com/colaboratory-static/widgets/colab-cdn-widget-manager/2b70e893a8ba7c0f/manager.min.js"
                }
              }
            }
          }
        },
        {
          "output_type": "display_data",
          "data": {
            "text/plain": [
              "Output()"
            ],
            "application/vnd.jupyter.widget-view+json": {
              "version_major": 2,
              "version_minor": 0,
              "model_id": "a29887d98a3a4f64a4c550241a803209"
            }
          },
          "metadata": {
            "application/vnd.jupyter.widget-view+json": {
              "colab": {
                "custom_widget_manager": {
                  "url": "https://ssl.gstatic.com/colaboratory-static/widgets/colab-cdn-widget-manager/2b70e893a8ba7c0f/manager.min.js"
                }
              }
            }
          }
        }
      ],
      "source": [
        "# @title Plot\n",
        "\n",
        "# Define the function to update the plot based on the selected degree, n, and random seed\n",
        "def update_plot_f_bar(degree, n, random_seed, show_plot):\n",
        "    if show_plot:\n",
        "        # Fit the polynomial to the data\n",
        "        w_star = np.polyfit(X_exp, Y_exp, degree)\n",
        "\n",
        "        # Generate y values for the fitted polynomial\n",
        "        f_star = np.polyval(w_star, x)\n",
        "\n",
        "        # Generate new train dataset\n",
        "        np.random.seed(random_seed)\n",
        "        X_train_raw = np.random.uniform(0, 4, n)\n",
        "        X_train = np.c_[np.ones(n), X_train_raw]\n",
        "        noise_train = np.random.normal(0, 1, n)\n",
        "        Y_train = f_bayes(X_train_raw) + noise_train\n",
        "\n",
        "        # Transform the feature matrix to polynomial features\n",
        "        X_train_poly = phi_p(X_train, degree)\n",
        "\n",
        "        # Fit the model using closed form solution\n",
        "        f_hat, w_hat = closed_form_learner(X_train_poly, Y_train)\n",
        "\n",
        "        # Generate y values for the fitted polynomial from closed_form_learner\n",
        "        f_hat_values = f_hat(phi_p(np.c_[np.ones(x.shape[0]), x], degree))\n",
        "\n",
        "        # Calculate the average predictor\n",
        "        num_datasets = 1000\n",
        "        f_bar_values = np.zeros_like(x)\n",
        "\n",
        "        for _ in range(num_datasets):\n",
        "            X_train_raw = np.random.uniform(0, 4, n)\n",
        "            X_train = np.c_[np.ones(n), X_train_raw]\n",
        "            noise_train = np.random.normal(0, 1, n)\n",
        "            Y_train = f_bayes(X_train_raw) + noise_train\n",
        "\n",
        "            X_train_poly = phi_p(X_train, degree)\n",
        "            f_bar, w_bar = closed_form_learner(X_train_poly, Y_train)\n",
        "            f_bar_values += f_bar(phi_p(np.c_[np.ones(x.shape[0]), x], degree))\n",
        "\n",
        "        f_bar_values /= num_datasets\n",
        "\n",
        "        # Plot the generated data points and the polynomial fit\n",
        "        plt.figure(figsize=(10, 6))\n",
        "        plt.plot(x, f_bayes(x), color='black', label=r'$f_{Bayes}$', linewidth=3)\n",
        "        plt.plot(x, f_star, color='green', linestyle='-', label=fr'$f^*_{degree}$', linewidth=3)\n",
        "        plt.plot(x, f_hat_values, color='orange', linestyle='--', label=fr'$\\hat f_{degree}$ with n={n}', linewidth=3)\n",
        "        plt.plot(x, f_bar_values, color='blue', linestyle='-.', label=fr'$\\bar f_{degree}$ over {num_datasets} datasets', linewidth=3)\n",
        "        plt.scatter(X_train_raw, Y_train, color='orange', alpha=0.5, label='Dataset')\n",
        "        plt.xlabel('X')\n",
        "        plt.ylabel('Y')\n",
        "        plt.ylim(0.2, 7.2)\n",
        "        plt.xlim(-0.2, 4.2)\n",
        "        plt.legend(loc='upper left')\n",
        "        plt.grid(True)\n",
        "        plt.show()\n",
        "    else:\n",
        "        clear_output()\n",
        "\n",
        "# Create sliders for the polynomial degree, n, and random seed\n",
        "degree_slider_f_bar = widgets.IntSlider(value=1, min=1, max=9, step=1, description='Degree p')\n",
        "n_slider_f_bar = widgets.IntSlider(value=10, min=1, max=200, step=1, description='n')\n",
        "random_seed_slider_f_bar = widgets.IntSlider(value=1, min=1, max=10, step=1, description='Random Seed', style={'description_width': 'initial'})\n",
        "show_plot_checkbox_f_bar = widgets.Checkbox(value=False, description='Show Plot')\n",
        "\n",
        "# Use interactive_output to update the plot based on the slider values\n",
        "interactive_plot_f_bar = widgets.interactive_output(update_plot_f_bar,\n",
        "                                                    {'degree': degree_slider_f_bar,\n",
        "                                                     'n': n_slider_f_bar,\n",
        "                                                     'random_seed': random_seed_slider_f_bar,\n",
        "                                                     'show_plot': show_plot_checkbox_f_bar})\n",
        "\n",
        "# Display the sliders and the plot\n",
        "display(degree_slider_f_bar, n_slider_f_bar, random_seed_slider_f_bar, show_plot_checkbox_f_bar, interactive_plot_f_bar)"
      ]
    },
    {
      "cell_type": "markdown",
      "metadata": {
        "id": "gkz7UEYUIgzi"
      },
      "source": [
        "Now we would like to plot the expected and estimated losses of the predictors we have discussed above.\n",
        "To do this you will need to first implement `estimated_loss`, which is the estimate of expected loss, defined as\n",
        "$$\\hat L(f) = \\frac{1}{n} \\sum_{i=1}^n \\ell(f(x_i), y_i).$$\n",
        "Remember that we are using the squared loss.\n",
        "Also, `X` is a matrix, where each row is a feature vector, and `Y` is a vector of labels, similar to the previous assignment."
      ]
    },
    {
      "cell_type": "markdown",
      "metadata": {
        "deletable": false,
        "editable": false,
        "id": "ab_rV9VDIgzi"
      },
      "source": [
        "### Question 1.2\n",
        "Implement `estimated_loss`.\n",
        "\n",
        "_Points:_ 4"
      ]
    },
    {
      "cell_type": "code",
      "execution_count": 13,
      "metadata": {
        "tags": [],
        "id": "x2YC4296Igzi"
      },
      "outputs": [],
      "source": [
        "def estimated_loss(f, X, Y):\n",
        "    \"\"\"\n",
        "    Estimate the expected loss for a given predictor function.\n",
        "\n",
        "    Parameters:\n",
        "    f (function): Predictor function that takes an input feature matrix X and returns predicted values.\n",
        "    X (numpy.ndarray): Input feature matrix.\n",
        "    Y (numpy.ndarray): Target vector.\n",
        "\n",
        "    Returns:\n",
        "    loss (float): Estimate of the expected loss.\n",
        "    \"\"\"\n",
        "\n",
        "    ### YOUR CODE HERE ###\n",
        "\n",
        "    n = X.shape[0]\n",
        "\n",
        "    loss = 1/n * np.sum((np.array([f(row) for row in X])-Y)**2)\n",
        "\n",
        "    ######################\n",
        "\n",
        "    return loss"
      ]
    },
    {
      "cell_type": "code",
      "execution_count": 14,
      "metadata": {
        "deletable": false,
        "editable": false,
        "id": "QXmXUa2EIgzi",
        "colab": {
          "base_uri": "https://localhost:8080/",
          "height": 47
        },
        "outputId": "9fd121f0-6751-4445-d033-e2908ac294b5"
      },
      "outputs": [
        {
          "output_type": "execute_result",
          "data": {
            "text/plain": [
              "q1_2 results: All test cases passed!"
            ],
            "text/html": [
              "<p><strong><pre style='display: inline;'>q1_2</pre></strong> passed! 🌈</p>"
            ]
          },
          "metadata": {},
          "execution_count": 14
        }
      ],
      "source": [
        "grader.check(\"q1_2\")"
      ]
    },
    {
      "cell_type": "markdown",
      "metadata": {
        "id": "P4jOdqGvIgzi"
      },
      "source": [
        "Now we can plot $L(f_\\text{Bayes})$, $L(f^*_p)$, $\\mathbb{E}[L(\\hat f_{D, p})]$, and $\\mathbb{E}[\\hat L(\\hat f_{D, p})]$ for various values of $p$.\n",
        "\n",
        "You should see the same trends as we discussed in class.\n",
        "In particular, the irreducible error $L(f_\\text{Bayes})$ is the lowest; however, it is not zero because of the noise in the data.\n",
        "The approximation error $L(f^*_p)- L(f_\\text{Bayes})$ should decrease as $p$ increases.\n",
        "The estimation error $\\mathbb{E}[L(\\hat f_{D, p})] - L(f^*_p)$ should increase as $p$ increases, which can explained due to $\\mathbb{E}[L(\\hat f_{D, p})] - \\mathbb{E}[\\hat L(\\hat f_{D, p})]$ getting larger as $p$ increases.\n",
        "\n",
        "You can also use the slider to change the size of the dataset $n$.\n",
        "You should notice that as $n$ increases, the estimation error decreases."
      ]
    },
    {
      "cell_type": "code",
      "execution_count": 15,
      "metadata": {
        "id": "uC4oAf9bIgzi",
        "colab": {
          "base_uri": "https://localhost:8080/",
          "height": 49,
          "referenced_widgets": [
            "83a7283596e9461fa3383a698f31005d",
            "11792801be78482089dd595302429c40",
            "3636042d6b7e42aba30363428303d8c6",
            "1ba3a342db49498daee58dda47896c7d",
            "a17ac305eff84a63ac9ccdee3005bd05",
            "7f2ea5dd05c34571a6b8d80b4776efbb",
            "4923078eba5f4d57b046e56fb230ad14",
            "4fa86db9bc734318afa31688d5e2694e"
          ]
        },
        "cellView": "form",
        "outputId": "2fec8814-c7cc-4268-e51b-f8dc713705c5"
      },
      "outputs": [
        {
          "output_type": "display_data",
          "data": {
            "text/plain": [
              "IntSlider(value=30, description='n', max=200, min=10, step=2)"
            ],
            "application/vnd.jupyter.widget-view+json": {
              "version_major": 2,
              "version_minor": 0,
              "model_id": "83a7283596e9461fa3383a698f31005d"
            }
          },
          "metadata": {
            "application/vnd.jupyter.widget-view+json": {
              "colab": {
                "custom_widget_manager": {
                  "url": "https://ssl.gstatic.com/colaboratory-static/widgets/colab-cdn-widget-manager/2b70e893a8ba7c0f/manager.min.js"
                }
              }
            }
          }
        },
        {
          "output_type": "display_data",
          "data": {
            "text/plain": [
              "Checkbox(value=False, description='Show Plot')"
            ],
            "application/vnd.jupyter.widget-view+json": {
              "version_major": 2,
              "version_minor": 0,
              "model_id": "1ba3a342db49498daee58dda47896c7d"
            }
          },
          "metadata": {
            "application/vnd.jupyter.widget-view+json": {
              "colab": {
                "custom_widget_manager": {
                  "url": "https://ssl.gstatic.com/colaboratory-static/widgets/colab-cdn-widget-manager/2b70e893a8ba7c0f/manager.min.js"
                }
              }
            }
          }
        },
        {
          "output_type": "display_data",
          "data": {
            "text/plain": [
              "Output()"
            ],
            "application/vnd.jupyter.widget-view+json": {
              "version_major": 2,
              "version_minor": 0,
              "model_id": "4923078eba5f4d57b046e56fb230ad14"
            }
          },
          "metadata": {
            "application/vnd.jupyter.widget-view+json": {
              "colab": {
                "custom_widget_manager": {
                  "url": "https://ssl.gstatic.com/colaboratory-static/widgets/colab-cdn-widget-manager/2b70e893a8ba7c0f/manager.min.js"
                }
              }
            }
          }
        }
      ],
      "source": [
        "# @title Plot\n",
        "\n",
        "# degrees = [1, 2, 3, 4, 5, 6, 7]\n",
        "degrees = [1, 2, 3, 4, 5, 6, 7, 8, 9, 10]\n",
        "\n",
        "# Define the function to update the plot based on the value of n and show_plot checkbox\n",
        "def update_plot_true_loss(n, show_plot):\n",
        "    if show_plot:\n",
        "        np.random.seed(random_seed)\n",
        "        # Number of different train datasets to use\n",
        "        num_datasets = 100\n",
        "\n",
        "        # Calculate the loss for each polynomial degree using closed_form_learner\n",
        "        L_f_star = []\n",
        "        L_f_hat = []\n",
        "        L_hat_f_hat = []\n",
        "\n",
        "        # Calculate the loss for f_bayes\n",
        "        L_f_bayes = estimated_loss(f_bayes, X_exp, Y_exp)\n",
        "\n",
        "        for degree in degrees:\n",
        "            L_hat_f_hat_temp = []\n",
        "            L_f_hat_temp = []\n",
        "\n",
        "            coeffs = np.polyfit(X_exp, Y_exp, degree)\n",
        "            f_star = lambda x: np.polyval(coeffs, x)\n",
        "\n",
        "            # Calculate the estimated loss\n",
        "            L = estimated_loss(f_star, X_exp, Y_exp)\n",
        "            L_f_star.append(L)\n",
        "\n",
        "            for _ in range(num_datasets):\n",
        "                # Generate new train dataset\n",
        "                X_train_raw = np.random.uniform(0, 4, n)\n",
        "                X_train = np.c_[np.ones(n), X_train_raw]\n",
        "                noise_train = np.random.normal(0, 1, n)\n",
        "                Y_train = f_bayes(X_train_raw) + noise_train\n",
        "\n",
        "                # Transform the feature matrix to polynomial features\n",
        "                X_train_poly = phi_p(X_train, degree)\n",
        "\n",
        "                # Fit the model using closed form solution\n",
        "                f_hat, w_hat = closed_form_learner(X_train_poly, Y_train)\n",
        "\n",
        "                # Calculate the estimated loss on train data\n",
        "                L_hat = estimated_loss(f_hat, X_train_poly, Y_train)\n",
        "                L_hat_f_hat_temp.append(L_hat)\n",
        "\n",
        "                # Calculate the estimated loss on the entire dataset\n",
        "                X_poly = phi_p(np.c_[np.ones(X_exp.shape[0]), X_exp], degree)\n",
        "                L = estimated_loss(f_hat, X_poly, Y_exp)\n",
        "                L_f_hat_temp.append(L)\n",
        "\n",
        "            # Take the average of the losses\n",
        "            L_hat_f_hat.append(np.mean(L_hat_f_hat_temp))\n",
        "            L_f_hat.append(np.mean(L_f_hat_temp))\n",
        "\n",
        "        # Plot the estimated loss as a function of polynomial degrees and the closed form learner loss\n",
        "        plt.figure(figsize=(10, 6))\n",
        "        plt.plot(degrees, L_f_star, color='green', marker='o', label=r'$L(f^*_p)$', linewidth=3, markersize=10)\n",
        "        plt.plot(degrees, L_f_hat, color='orange', marker='x', linestyle='--', label=r'$\\mathbb{E}[L(\\hat{f}_{D, p})]$', linewidth=3, markersize=10)\n",
        "        plt.plot(degrees, L_hat_f_hat, color='purple', marker='x', linestyle='--', label=r'$\\mathbb{E}[\\hat{L}(\\hat{f}_{D, p})]$', linewidth=3, markersize=10)\n",
        "        plt.axhline(y=L_f_bayes, color='black', linestyle='-', label=r'$L(f_{Bayes})$', linewidth=3)\n",
        "        plt.xlabel('Polynomial Degree p')\n",
        "        plt.ylim(0.2, 3)\n",
        "        plt.legend(loc='lower left')\n",
        "        plt.grid(True)\n",
        "        plt.show()\n",
        "    else:\n",
        "        clear_output()\n",
        "\n",
        "# Create a slider for the variable n and a checkbox for showing/hiding the plot\n",
        "n_slider_true_loss = widgets.IntSlider(value=30, min=10, max=200, step=2, description='n')\n",
        "show_plot_checkbox_true_loss = widgets.Checkbox(value=False, description='Show Plot')\n",
        "\n",
        "# Use interactive_output to update the plot based on the slider and checkbox values\n",
        "interactive_plot_true_loss = widgets.interactive_output(update_plot_true_loss, {'n': n_slider_true_loss, 'show_plot': show_plot_checkbox_true_loss})\n",
        "\n",
        "# Display the slider, checkbox, and the plot\n",
        "display(n_slider_true_loss, show_plot_checkbox_true_loss, interactive_plot_true_loss)"
      ]
    },
    {
      "cell_type": "markdown",
      "metadata": {
        "id": "93aZq6DzIgzj"
      },
      "source": [
        "Recall that we would like to select the predictor that minimizes the expected loss.\n",
        "If we had access to the above plot we would look for the value of $p$ that minimizes $\\mathbb{E}[L(\\hat f_{p})]$.\n",
        "Then, we would select $\\hat f_{p}$ as our predictor.\n",
        "However, in practice you do not have access to the expected loss, so you would need to estimate it using a test set, which is the topic of the next section."
      ]
    },
    {
      "cell_type": "markdown",
      "metadata": {
        "id": "KhzB7mrkIgzj"
      },
      "source": [
        "# Part 2: Picking the Best Polynomial Predictor\n",
        "\n",
        "In practice we only have access to a single dataset $\\cal{D}$.\n",
        "So we can only talk about the predictors $\\hat f_p$ learned from this dataset.\n",
        "As such, we will work with the expected loss $L(\\hat f_p)$ of our predictor, instead of its expected value across all datasets $\\mathbb{E}[L(\\hat f_{D, p})]$.\n",
        "<!-- We would like to plot an estimate of $\\mathbb{E}[L(\\hat f_{D, p})]$ so that we can select the polynomial degree $p$ that gives the minimum expected loss. -->\n",
        "<!-- To do this we will need to split our dataset into a training and test set -->\n",
        "To get a good estimate of $L(\\hat f_p)$ we will need to split our dataset into a training and test set.\n",
        "$$\\cal{D}_\\text{train} = ((\\boldsymbol{x}_1, y_1), \\ldots, (\\boldsymbol{x}_{n-m}, y_{n-m})),$$\n",
        "$$\\cal{D}_\\text{test} = ((\\boldsymbol{x}_{n-m+1}, y_{n-m+1}), \\ldots, (\\boldsymbol{x}_n, y_n)).$$\n",
        "Our learner will only use the training set to learn the predictor $\\hat f_p$ that minimizes\n",
        "$\\hat L_\\text{train}(f_p) = \\frac{1}{n-m} \\sum_{i=1}^{n-m} \\ell(f_p(x_i), y_i)$ over all $f_p \\in \\cal{F}_p$.\n",
        "<!-- Using the training set we can calculate  -->\n",
        "<!-- $$\\hat L_\\text{train}(\\hat f_p) = \\frac{1}{n-m} \\sum_{i=1}^{n-m} \\ell(\\hat f_p(x_i), y_i)$$ -->\n",
        "<!-- which is an estimate of $\\mathbb{E}[\\hat L(\\hat f_{D, p})]$. -->\n",
        "Using the test set we can then calculate\n",
        "$$\\hat L_\\text{test}(\\hat f_p) = \\frac{1}{m} \\sum_{i=n-m+1}^{n} \\ell(\\hat f_p(x_i), y_i)$$\n",
        "which is a good estimate of $L(\\hat f_{D, p})$.\n",
        "\n",
        "You need to implement `split_dataset` which splits the dataset `X`, `Y` into a training set `X_train`, `Y_train` and test set `X_test`, `Y_test`.\n",
        "Instead of specifying the size of the test set $m$, it is more common to specify what percentage of the dataset should be used for the training set.\n",
        "The argument `train_size` represents this percentage.\n",
        "If the percentage of the training set causes the size of the training set to be a fraction, then the training set should be rounded down to the nearest integer.\n",
        "For example, if the dataset has 10 samples and `train_size` is 0.75, then the training set should have 7 samples and the test set should have 3 samples.\n",
        "If `train_size=0`, then `X_train`, `Y_train` should be empty numpy arrays, while if `train_size=1`, then `X_test`, `Y_test` should be empty numpy arrays."
      ]
    },
    {
      "cell_type": "markdown",
      "metadata": {
        "deletable": false,
        "editable": false,
        "id": "vuFimjkgIgzj"
      },
      "source": [
        "### Question 2.1\n",
        "\n",
        "Implement `split_dataset`.\n",
        "\n",
        "_Points:_ 6"
      ]
    },
    {
      "cell_type": "code",
      "execution_count": 16,
      "metadata": {
        "tags": [],
        "id": "-Bcxze8XIgzj"
      },
      "outputs": [],
      "source": [
        "def split_dataset(X, Y, train_size=0.5):\n",
        "    \"\"\"\n",
        "    Splits the dataset into training and test sets.\n",
        "\n",
        "    Parameters:\n",
        "    X (numpy.ndarray): Feature matrix.\n",
        "    Y (numpy.ndarray): Target vector.\n",
        "    train_size (float): Proportion of the dataset to include in the training set.\n",
        "\n",
        "    Returns:\n",
        "    X_train (numpy.ndarray): Training feature matrix.\n",
        "    Y_train (numpy.ndarray): Training target vector.\n",
        "    X_test (numpy.ndarray): Test feature matrix.\n",
        "    Y_test (numpy.ndarray): Test target vector.\n",
        "    \"\"\"\n",
        "\n",
        "    ### YOUR CODE HERE ###\n",
        "\n",
        "    n = X.shape[0]\n",
        "\n",
        "    train_no = int(train_size*n)\n",
        "\n",
        "    if train_no == 0:\n",
        "        X_train = np.array([])\n",
        "        Y_train = np.array([])\n",
        "        X_test = X\n",
        "        Y_test = Y\n",
        "\n",
        "    elif train_no == 1:\n",
        "        X_train = X\n",
        "        Y_train = Y\n",
        "        X_test =  np.array([])\n",
        "        Y_test =  np.array([])\n",
        "\n",
        "\n",
        "\n",
        "\n",
        "    X_train = X[:train_no]\n",
        "    Y_train = Y[:train_no]\n",
        "\n",
        "    X_test = X[train_no:]\n",
        "    Y_test = Y[train_no:]\n",
        "\n",
        "    ######################\n",
        "\n",
        "    return X_train, Y_train, X_test, Y_test"
      ]
    },
    {
      "cell_type": "code",
      "execution_count": 17,
      "metadata": {
        "deletable": false,
        "editable": false,
        "id": "E_wLILLZIgzj",
        "colab": {
          "base_uri": "https://localhost:8080/",
          "height": 47
        },
        "outputId": "985d8387-869c-47dc-f8dd-871e23d825ef"
      },
      "outputs": [
        {
          "output_type": "execute_result",
          "data": {
            "text/plain": [
              "q2_1 results: All test cases passed!"
            ],
            "text/html": [
              "<p><strong><pre style='display: inline;'>q2_1</pre></strong> passed! 🎉</p>"
            ]
          },
          "metadata": {},
          "execution_count": 17
        }
      ],
      "source": [
        "grader.check(\"q2_1\")"
      ]
    },
    {
      "cell_type": "markdown",
      "metadata": {
        "id": "hqSx6UhKIgzj"
      },
      "source": [
        "First, lets assume we still have the ability to compute the expected loss $L(\\hat f_p)$, and see how our estimates $\\hat L_\\text{train}(\\hat f_p)$ and $\\hat L_\\text{test}(\\hat f_p)$ compare.\n",
        "\n",
        "The first slider for $n$ is the size of the dataset.\n",
        "While the second slider \"random seed\" is the random seed used to generate the dataset of size $n$.\n",
        "Changing the random seed should be thought of as getting an entirely new dataset of size $n$.\n",
        "We have used `train_size = 0.5` for the split.\n",
        "\n",
        "In the plot below you should see that for most datasets (i.e. random seed values) the test loss is a better estimate of the expected loss than the training loss.\n",
        "You should also see that increasing $n$ causes both the training and test loss to become better estimates of the expected loss, as expected.\n",
        "Since we only have access to one dataset we could not plot the expected values of the losses across datasets.\n",
        "In particular, we could not plot $\\mathbb{E}[L(\\hat f_{D, p})]$ and $\\mathbb{E}[\\hat L(\\hat f_{D, p})]$, but instead had to plot their estimates based on a single dataset split into a training and test set.\n",
        "This is why for most datasets the behaviour of $\\hat L_\\text{test}(\\hat f_p)$ resembles that of $\\mathbb{E}[L(\\hat f_{D, p})]$ from the previous plot.\n",
        "Similarly $\\hat L_\\text{test}(\\hat f_p)$ resembles the behaviour of $\\mathbb{E}[\\hat L(\\hat f_{D, p})]$.\n",
        "However, there are some datasets where the behaviour appears different, which is expected since we are only looking at a single dataset."
      ]
    },
    {
      "cell_type": "code",
      "execution_count": 18,
      "metadata": {
        "id": "sl3Hg_m7Igzj",
        "colab": {
          "base_uri": "https://localhost:8080/",
          "height": 79,
          "referenced_widgets": [
            "2230980685734c15a04e7b9fc0713234",
            "e60a391bc3494a34a07225ab31c2242a",
            "347e9eabade2499ab74027397200a4d0",
            "1e3192594c2244c383570bbfc4e43f62",
            "ed07939b090941feb52e82913dec1c29",
            "f70098481370409e9a7c0d81d2b9c7df",
            "2c3027fe3be64f26991ddb8bb7e73cdb",
            "d6807b0dbc3740cb9c82fc0f84624617",
            "962dc92ecb4e47c2b0f48c33b485f568",
            "b4237a26f7b84981814d9e068536cd53",
            "f40f227c565341cea0aba56ad7afd5c7"
          ]
        },
        "cellView": "form",
        "outputId": "5987f1b0-6864-4521-f258-578e8fcc96bd"
      },
      "outputs": [
        {
          "output_type": "display_data",
          "data": {
            "text/plain": [
              "IntSlider(value=60, description='n', max=500, min=10, step=5)"
            ],
            "application/vnd.jupyter.widget-view+json": {
              "version_major": 2,
              "version_minor": 0,
              "model_id": "2230980685734c15a04e7b9fc0713234"
            }
          },
          "metadata": {
            "application/vnd.jupyter.widget-view+json": {
              "colab": {
                "custom_widget_manager": {
                  "url": "https://ssl.gstatic.com/colaboratory-static/widgets/colab-cdn-widget-manager/2b70e893a8ba7c0f/manager.min.js"
                }
              }
            }
          }
        },
        {
          "output_type": "display_data",
          "data": {
            "text/plain": [
              "IntSlider(value=1, description='random seed', max=10, min=1, style=SliderStyle(description_width='initial'))"
            ],
            "application/vnd.jupyter.widget-view+json": {
              "version_major": 2,
              "version_minor": 0,
              "model_id": "1e3192594c2244c383570bbfc4e43f62"
            }
          },
          "metadata": {
            "application/vnd.jupyter.widget-view+json": {
              "colab": {
                "custom_widget_manager": {
                  "url": "https://ssl.gstatic.com/colaboratory-static/widgets/colab-cdn-widget-manager/2b70e893a8ba7c0f/manager.min.js"
                }
              }
            }
          }
        },
        {
          "output_type": "display_data",
          "data": {
            "text/plain": [
              "Checkbox(value=False, description='Show Plot')"
            ],
            "application/vnd.jupyter.widget-view+json": {
              "version_major": 2,
              "version_minor": 0,
              "model_id": "2c3027fe3be64f26991ddb8bb7e73cdb"
            }
          },
          "metadata": {
            "application/vnd.jupyter.widget-view+json": {
              "colab": {
                "custom_widget_manager": {
                  "url": "https://ssl.gstatic.com/colaboratory-static/widgets/colab-cdn-widget-manager/2b70e893a8ba7c0f/manager.min.js"
                }
              }
            }
          }
        },
        {
          "output_type": "display_data",
          "data": {
            "text/plain": [
              "Output()"
            ],
            "application/vnd.jupyter.widget-view+json": {
              "version_major": 2,
              "version_minor": 0,
              "model_id": "b4237a26f7b84981814d9e068536cd53"
            }
          },
          "metadata": {
            "application/vnd.jupyter.widget-view+json": {
              "colab": {
                "custom_widget_manager": {
                  "url": "https://ssl.gstatic.com/colaboratory-static/widgets/colab-cdn-widget-manager/2b70e893a8ba7c0f/manager.min.js"
                }
              }
            }
          }
        }
      ],
      "source": [
        "# @title Plot\n",
        "\n",
        "def update_plot_sample_loss_all(seed, n, show_plot):\n",
        "    if show_plot:\n",
        "        np.random.seed(seed)\n",
        "\n",
        "        # Number of data points\n",
        "        # n = 60\n",
        "\n",
        "        # Generate X values uniformly between 0 and 4\n",
        "        X_raw = np.random.uniform(0, 4, n)\n",
        "        X = np.c_[np.ones(n), X_raw]\n",
        "\n",
        "        # Generate Y values\n",
        "        noise = np.random.normal(0, 1, n)\n",
        "        Y = f_bayes(X_raw) + noise\n",
        "\n",
        "        X_train, Y_train, X_test, Y_test = split_dataset(X, Y, train_size=0.5)\n",
        "\n",
        "        # Calculate the loss for each polynomial degree using closed_form_learner\n",
        "        L_f_bayes = estimated_loss(f_bayes, X_exp, Y_exp)\n",
        "        L_f_star = []\n",
        "        L_f_hat = []\n",
        "        L_hat_f_hat = []\n",
        "        L_hat_test_f_hat = []\n",
        "\n",
        "        for degree in degrees:\n",
        "            coeffs = np.polyfit(X_exp, Y_exp, degree)\n",
        "            f_star = lambda x: np.polyval(coeffs, x)\n",
        "\n",
        "            # Calculate the estimated loss\n",
        "            L = estimated_loss(f_star, X_exp, Y_exp)\n",
        "            L_f_star.append(L)\n",
        "\n",
        "            # Transform the feature matrix to polynomial features\n",
        "            X_train_poly = phi_p(X_train, degree)\n",
        "\n",
        "            # Fit the model using closed form solution\n",
        "            f_hat, w_hat = closed_form_learner(X_train_poly, Y_train)\n",
        "\n",
        "            # Calculate the estimated loss on the training data\n",
        "            L_hat = estimated_loss(f_hat, X_train_poly, Y_train)\n",
        "            L_hat_f_hat.append(L_hat)\n",
        "\n",
        "            X_poly = phi_p(np.c_[np.ones(X_exp.shape[0]), X_exp], degree)\n",
        "            L = estimated_loss(f_hat, X_poly, Y_exp)\n",
        "            L_f_hat.append(L)\n",
        "\n",
        "            X_test_poly = phi_p(X_test, degree)\n",
        "            L_hat_test = estimated_loss(f_hat, X_test_poly, Y_test)\n",
        "            L_hat_test_f_hat.append(L_hat_test)\n",
        "\n",
        "        # Plot the estimated loss as a function of polynomial degrees and the closed form learner loss\n",
        "        plt.figure(figsize=(10, 6))\n",
        "        plt.plot(degrees, L_f_star, color='green', marker='o', label=r'$L(f^*_p)$', linewidth=3, markersize=10)\n",
        "        plt.plot(degrees, L_f_hat, color='orange', marker='x', linestyle='--', label=r'$L(\\hat{f}_p)$', linewidth=3, markersize=10)\n",
        "        plt.plot(degrees, L_hat_f_hat, color='purple', marker='x', linestyle='--', label=r'$\\hat{L}_{train}(\\hat{f}_p)$', linewidth=3, markersize=10)\n",
        "        plt.plot(degrees, L_hat_test_f_hat, color = 'blue', marker='x', linestyle='--', label=r'$\\hat{L}_{test}(\\hat{f}_p)$', linewidth=3, markersize=10)\n",
        "        plt.axhline(y=L_f_bayes, color='black', linestyle='-', label=r'$L(f_{Bayes})$', linewidth=3)\n",
        "        plt.xlabel('Polynomial Degree p')\n",
        "        plt.legend()\n",
        "        plt.grid(True)\n",
        "        plt.show()\n",
        "    else:\n",
        "        clear_output()\n",
        "\n",
        "# Create a slider for the variable see and a checkbox for showing/hiding the plot\n",
        "seed_slider_sample_loss_all = widgets.IntSlider(value=1, min=1, max=10, step=1, description='random seed', style={'description_width': 'initial'})\n",
        "n_slider_sample_loss_all = widgets.IntSlider(value=60, min=10, max=500, step=5, description='n')\n",
        "show_plot_checkbox_sample_loss_all = widgets.Checkbox(value=False, description='Show Plot')\n",
        "\n",
        "# Use interactive_output to update the plot based on the slider and checkbox values\n",
        "interactive_plot_sample_loss_all = widgets.interactive_output(update_plot_sample_loss_all, {'n': n_slider_sample_loss_all, 'seed': seed_slider_sample_loss_all, 'show_plot': show_plot_checkbox_sample_loss_all})\n",
        "\n",
        "# Display the slider, checkbox, and the plot\n",
        "display(n_slider_sample_loss_all, seed_slider_sample_loss_all, show_plot_checkbox_sample_loss_all, interactive_plot_sample_loss_all)"
      ]
    },
    {
      "cell_type": "markdown",
      "metadata": {
        "id": "gMWruvBTIgzk"
      },
      "source": [
        "Let us now simulate the process of selecting the best predictor.\n",
        "In practice we only have access to $\\hat L_{\\text{train}}(\\hat f_p)$ and $\\hat L_{\\text{test}}(\\hat f_p)$ for a single dataset of size $n$.\n",
        "In this case we set `n=100` and split the traning and test set evenly `train_size=0.5`.\n",
        "\n",
        "First, for each value of $p \\in \\{1, \\dots, 10\\}$ we use `closed_form_learner` only on the training set with the function class $\\cal{F}_p$ to get 10 different predictors $\\hat f_1, \\dots, \\hat f_{10}$.\n",
        "Now, we need to select the best predictor predictor from $\\hat f_1, \\dots, \\hat f_{10}$.\n",
        "To do this we plot $\\hat L_{\\text{train}}(\\hat f_p)$ and $\\hat L_{\\text{test}}(\\hat f_p)$.\n",
        "You should see the training loss $\\hat L_{\\text{train}}(\\hat f_p)$ decreases as $p$ increases, indicating that our `closed_form_learner` is better able to fit the training data as $p$ increases.\n",
        "However, we want to choose the predictor that minimizes the expected loss, which we saw is better estimated by the test loss $\\hat L_{\\text{test}}(\\hat f_p)$.\n",
        "Thus, based on the plot below, we would select $\\hat f_4$ as our predictor, since it has the lowest test loss."
      ]
    },
    {
      "cell_type": "code",
      "execution_count": 19,
      "metadata": {
        "id": "iQ_FtMe9Igzk",
        "colab": {
          "base_uri": "https://localhost:8080/",
          "height": 17,
          "referenced_widgets": [
            "22060faffc9f47c3a5d1b459fd09b8ce",
            "5b0938bdbfb84273b525027628a9cbe9",
            "d23eee6bf9534354973454a8b476c456",
            "dfde729df6594317af7a2375cd4efe67",
            "2e2f7cdabfce4c8a8e4f9abda8ce7d62"
          ]
        },
        "cellView": "form",
        "outputId": "e77df1f8-2366-4000-d59c-5e3c6627a467"
      },
      "outputs": [
        {
          "output_type": "display_data",
          "data": {
            "text/plain": [
              "Checkbox(value=False, description='Show Plot')"
            ],
            "application/vnd.jupyter.widget-view+json": {
              "version_major": 2,
              "version_minor": 0,
              "model_id": "22060faffc9f47c3a5d1b459fd09b8ce"
            }
          },
          "metadata": {
            "application/vnd.jupyter.widget-view+json": {
              "colab": {
                "custom_widget_manager": {
                  "url": "https://ssl.gstatic.com/colaboratory-static/widgets/colab-cdn-widget-manager/2b70e893a8ba7c0f/manager.min.js"
                }
              }
            }
          }
        },
        {
          "output_type": "display_data",
          "data": {
            "text/plain": [
              "Output()"
            ],
            "application/vnd.jupyter.widget-view+json": {
              "version_major": 2,
              "version_minor": 0,
              "model_id": "dfde729df6594317af7a2375cd4efe67"
            }
          },
          "metadata": {
            "application/vnd.jupyter.widget-view+json": {
              "colab": {
                "custom_widget_manager": {
                  "url": "https://ssl.gstatic.com/colaboratory-static/widgets/colab-cdn-widget-manager/2b70e893a8ba7c0f/manager.min.js"
                }
              }
            }
          }
        }
      ],
      "source": [
        "# @title Plot\n",
        "\n",
        "# Initialize variables to store the predictors\n",
        "predictor_degree_2 = None\n",
        "predictor_degree_4 = None\n",
        "predictor_degree_10 = None\n",
        "\n",
        "def update_plot_sample_loss_fixed(show_plot):\n",
        "    global predictor_degree_2, predictor_degree_4, predictor_degree_10\n",
        "\n",
        "    if show_plot:\n",
        "        seed = 2\n",
        "        n = 100\n",
        "        np.random.seed(seed)\n",
        "\n",
        "        # Generate X values uniformly between 0 and 4\n",
        "        X_raw = np.random.uniform(0, 4, n)\n",
        "        X = np.c_[np.ones(n), X_raw]\n",
        "\n",
        "        # Generate Y values\n",
        "        noise = np.random.normal(0, 1, n)\n",
        "        Y = f_bayes(X_raw) + noise\n",
        "\n",
        "        X_train, Y_train, X_test, Y_test = split_dataset(X, Y, train_size=0.5)\n",
        "\n",
        "        # Calculate the loss for each polynomial degree using closed_form_learner\n",
        "        L_hat_f_hat = []\n",
        "        L_hat_test_f_hat = []\n",
        "\n",
        "        for degree in degrees:\n",
        "            # Transform the feature matrix to polynomial features\n",
        "            X_train_poly = phi_p(X_train, degree)\n",
        "\n",
        "            # Fit the model using closed form solution\n",
        "            f_hat, w_hat = closed_form_learner(X_train_poly, Y_train)\n",
        "\n",
        "            # Save the predictors for degrees 2, 4, and 10\n",
        "            if degree == 2:\n",
        "                predictor_degree_2 = f_hat\n",
        "            elif degree == 4:\n",
        "                predictor_degree_4 = f_hat\n",
        "            elif degree == 10:\n",
        "                predictor_degree_10 = f_hat\n",
        "\n",
        "            # Calculate the estimated loss on the training data\n",
        "            L_hat = estimated_loss(f_hat, X_train_poly, Y_train)\n",
        "            L_hat_f_hat.append(L_hat)\n",
        "\n",
        "            X_test_poly = phi_p(X_test, degree)\n",
        "            L_hat_test = estimated_loss(f_hat, X_test_poly, Y_test)\n",
        "            L_hat_test_f_hat.append(L_hat_test)\n",
        "\n",
        "        # Plot the estimated loss as a function of polynomial degrees and the closed form learner loss\n",
        "        plt.figure(figsize=(10, 6))\n",
        "        plt.plot(degrees, L_hat_f_hat, color='purple', marker='x', linestyle='--', label=r'$\\hat{L}_{train}(\\hat{f}_p)$', linewidth=3, markersize=10)\n",
        "        plt.plot(degrees, L_hat_test_f_hat, color = 'blue', marker='x', linestyle='--', label=r'$\\hat{L}_{test}(\\hat{f}_p)$', linewidth=3, markersize=10)\n",
        "        plt.xlabel('Polynomial Degree p')\n",
        "        plt.legend()\n",
        "        plt.grid(True)\n",
        "        plt.show()\n",
        "    else:\n",
        "        clear_output()\n",
        "\n",
        "# Create a checkbox for showing/hiding the plot\n",
        "show_plot_checkbox_sample_loss_fixed = widgets.Checkbox(value=False, description='Show Plot')\n",
        "\n",
        "# Use interactive_output to update the plot based on the checkbox value\n",
        "interactive_plot_sample_loss_fixed = widgets.interactive_output(update_plot_sample_loss_fixed, {'show_plot': show_plot_checkbox_sample_loss_fixed})\n",
        "\n",
        "# Display the checkbox and the plot\n",
        "display(show_plot_checkbox_sample_loss_fixed, interactive_plot_sample_loss_fixed)\n"
      ]
    },
    {
      "cell_type": "markdown",
      "metadata": {
        "id": "vY-qpjwQIgzk"
      },
      "source": [
        "We can visualize the predictor $\\hat f_4$ by plotting it on the same plot as $f_\\text{Bayes}$.\n",
        "We can also compare it to predictors that have higher test loss, such as $\\hat f_2$ and $\\hat f_{10}$.\n",
        "\n",
        "You should see that $\\hat f_4$ is a better approximation of $f_\\text{Bayes}$ than $\\hat f_2$ and $\\hat f_{10}$."
      ]
    },
    {
      "cell_type": "code",
      "execution_count": 20,
      "metadata": {
        "id": "RXY8aNNVIgzk",
        "colab": {
          "base_uri": "https://localhost:8080/",
          "height": 17,
          "referenced_widgets": [
            "9d729790e3444ae3a352a8c6f2501978",
            "a457b25b9a9b41e788b7ea7de9976592",
            "36e1ba07161f403ca8a522c58d606d9b",
            "0fbab498b57248bcaad1b0cb195315a3",
            "86ab562083834f78ae71845a3a558196"
          ]
        },
        "cellView": "form",
        "outputId": "70466248-dfd9-4c17-c0ff-7c049f81b44e"
      },
      "outputs": [
        {
          "output_type": "display_data",
          "data": {
            "text/plain": [
              "Checkbox(value=False, description='Show Plot')"
            ],
            "application/vnd.jupyter.widget-view+json": {
              "version_major": 2,
              "version_minor": 0,
              "model_id": "9d729790e3444ae3a352a8c6f2501978"
            }
          },
          "metadata": {
            "application/vnd.jupyter.widget-view+json": {
              "colab": {
                "custom_widget_manager": {
                  "url": "https://ssl.gstatic.com/colaboratory-static/widgets/colab-cdn-widget-manager/2b70e893a8ba7c0f/manager.min.js"
                }
              }
            }
          }
        },
        {
          "output_type": "display_data",
          "data": {
            "text/plain": [
              "Output()"
            ],
            "application/vnd.jupyter.widget-view+json": {
              "version_major": 2,
              "version_minor": 0,
              "model_id": "0fbab498b57248bcaad1b0cb195315a3"
            }
          },
          "metadata": {
            "application/vnd.jupyter.widget-view+json": {
              "colab": {
                "custom_widget_manager": {
                  "url": "https://ssl.gstatic.com/colaboratory-static/widgets/colab-cdn-widget-manager/2b70e893a8ba7c0f/manager.min.js"
                }
              }
            }
          }
        }
      ],
      "source": [
        "# @title Plot\n",
        "\n",
        "# Define the function to update the plot based on the selected degree, n, and random seed\n",
        "def update_plot_best_f(show_plot):\n",
        "    if show_plot:\n",
        "        deg_2_values = predictor_degree_2(phi_p(np.c_[np.ones(x.shape[0]), x], 2))\n",
        "        deg_4_values = predictor_degree_4(phi_p(np.c_[np.ones(x.shape[0]), x], 4))\n",
        "        deg_10_values = predictor_degree_10(phi_p(np.c_[np.ones(x.shape[0]), x], 10))\n",
        "\n",
        "        # Plot the generated data points and the polynomial fit\n",
        "        plt.figure(figsize=(10, 6))\n",
        "        plt.plot(x, f_bayes(x), color='black', label=r'$f_{Bayes}$', linewidth=3)\n",
        "        plt.plot(x, deg_2_values, color='orange', linestyle='--', label=fr'$\\hat f_2$', linewidth=3)\n",
        "        plt.plot(x, deg_4_values, color='green', linestyle='-', label=fr'$\\hat f_4$', linewidth=3)\n",
        "        plt.plot(x, deg_10_values, color='blue', linestyle=':', label=r'$\\hat{f}_{10}$', linewidth=3)\n",
        "        plt.xlabel('X')\n",
        "        plt.ylabel('Y')\n",
        "        plt.ylim(0.2, 7.2)\n",
        "        plt.xlim(-0.2, 4.2)\n",
        "        plt.legend(loc='upper left')\n",
        "        plt.grid(True)\n",
        "        plt.show()\n",
        "    else:\n",
        "        clear_output()\n",
        "\n",
        "# Create a checkbox for showing/hiding the plot\n",
        "show_plot_checkbox_best_f = widgets.Checkbox(value=False, description='Show Plot')\n",
        "\n",
        "# Use interactive_output to update the plot based on the checkbox value\n",
        "interactive_plot_best_f = widgets.interactive_output(update_plot_best_f, {'show_plot': show_plot_checkbox_best_f})\n",
        "\n",
        "# Display the checkbox and the plot\n",
        "display(show_plot_checkbox_best_f, interactive_plot_best_f)"
      ]
    },
    {
      "cell_type": "markdown",
      "metadata": {
        "id": "Bm268XUAIgzk"
      },
      "source": [
        "# Part 3: Regularization\n",
        "\n",
        "In this section we will study the effect of regularization on our predictors.\n",
        "To do this you will need to implement a regularized version of the batch gradient descent learner `regularized_bgd_learner`.\n",
        "This learner should take its gradient steps with respect to the gradient of the regularized estimated loss\n",
        "$$\\hat L_\\lambda(\\boldsymbol{w}) = \\frac{1}{n} \\sum_{i=1}^n \\ell(\\boldsymbol{x_i}^\\top \\boldsymbol{w}, y_i) + \\frac{\\lambda}{n} \\sum_{j=1}^{d} w_j^2.$$\n",
        "For your implementation assume that the degree of the polynomial $p$ is 1.\n",
        "This means you do not need to apply `phi_p` to the features `X` in `regularized_bgd_learner`.\n",
        "The reason for this is that it makes the implementation simpler and it is without loss of generality since when we use your implementation to plot things we can simply apply `phi_p` first, before passing the features to `regularized_bgd_learner`."
      ]
    },
    {
      "cell_type": "markdown",
      "metadata": {
        "deletable": false,
        "editable": false,
        "id": "uutEdH2YIgzk"
      },
      "source": [
        "### Question 3.1\n",
        "\n",
        "Implement `regularized_bgd_learner`.\n",
        "\n",
        "_Points:_ 12"
      ]
    },
    {
      "cell_type": "code",
      "execution_count": 21,
      "metadata": {
        "tags": [],
        "id": "dCe3RnT4Igzk"
      },
      "outputs": [],
      "source": [
        "def regularized_bgd_learner(X, Y, step_size=0.01, lambda_=0.1, epochs=1000, random_seed=42):\n",
        "    \"\"\"\n",
        "    Performs batch gradient descent with L2 regularization to learn the weights.\n",
        "\n",
        "    Parameters:\n",
        "    X (numpy.ndarray): Feature matrix of size (n, d+1), where n is the number of samples\n",
        "                       and d is the number of features. The first column should be all 1s.\n",
        "    Y (numpy.ndarray): Target vector of size (n, 1).\n",
        "    alpha (float): Learning rate.\n",
        "    lambda_ (float): Regularization parameter.\n",
        "    epochs (int): Number of iterations for gradient descent.\n",
        "\n",
        "    Returns:\n",
        "    predictor (function): A function that takes a feature vector and returns a predicted value.\n",
        "    w (numpy.ndarray): The learned weights.\n",
        "    \"\"\"\n",
        "    n, d = X[:, 1:].shape\n",
        "    np.random.seed(random_seed)\n",
        "    w = np.random.randn(d+1) # initialize the weights randomly\n",
        "\n",
        "    ### YOUR CODE HERE ###\n",
        "    for i in range(epochs):\n",
        "      gradient_learner = (2 / n) * (X.T @ (X @ w - Y))\n",
        "      L2 = + (2 * lambda_ / n) *  w[1:]\n",
        "      gradient_learner[1:] = gradient_learner[1:] + L2\n",
        "\n",
        "      w = w - step_size*gradient_learner\n",
        "\n",
        "\n",
        "\n",
        "\n",
        "\n",
        "\n",
        "    # Define the predictor function\n",
        "    def predictor(x):\n",
        "        return x @ w\n",
        "\n",
        "    return predictor, w"
      ]
    },
    {
      "cell_type": "code",
      "execution_count": 22,
      "metadata": {
        "deletable": false,
        "editable": false,
        "id": "9oL1oqUiIgzk",
        "colab": {
          "base_uri": "https://localhost:8080/",
          "height": 47
        },
        "outputId": "7b761252-f96e-4609-d67f-26837e7b3f20"
      },
      "outputs": [
        {
          "output_type": "execute_result",
          "data": {
            "text/plain": [
              "q3_1 results: All test cases passed!"
            ],
            "text/html": [
              "<p><strong><pre style='display: inline;'>q3_1</pre></strong> passed! 🍀</p>"
            ]
          },
          "metadata": {},
          "execution_count": 22
        }
      ],
      "source": [
        "grader.check(\"q3_1\")"
      ]
    },
    {
      "cell_type": "markdown",
      "metadata": {
        "id": "pWFuAMdHIgzk"
      },
      "source": [
        "We plot the effect of regularization on the predictor `regularized_bgd_learner` outputs, for various values of $\\lambda$.\n",
        "We will use the function class $\\cal{F}_9$, which contains polynomials of degree 9 or less.\n",
        "When $\\lambda = 0$ we should get almost the same predictor as the `closed_form_learner` (the only error is due to gradient descent potentially not being run for enough epochs).\n",
        "Since the function class $\\cal{F}_9$ is very large we should expect the predictor to overfit the data when $\\lambda = 0$.\n",
        "As $\\lambda$ increases you should see that the predictor becomes less complicated and thus less likely to overfit the data.\n",
        "When $\\lambda$ gets too large you should see that the predictor becomes too simple and thus underfits the data.\n",
        "\n",
        "We also plot the expected predictor $\\bar f_9$ based on 10 datasets.\n",
        "Note that we only used 10 datasets due to computational reasons.\n",
        "Ideally we would use more datasets to get a better estimate of $\\bar f_9$.\n",
        "What you should see in the plot is that when $\\lambda = 0$ the expected predictor $\\bar f_9$ is approximately equal to $f_\\text{Bayes}$ (it would be exactly equal if we used more datasets), which means the Bias is low.\n",
        "As $\\lambda$ increases $\\bar f_9$ becomes less complicated and is no longer similar to $f_\\text{Bayes}$, which means the Bias increases.\n",
        "When $\\lambda$ gets too large $\\bar f_9$ becomes too simple and has high Bias.\n",
        "\n",
        "You should also notice that for small $\\lambda$ the predictor $\\hat f_9$, varies a lot across datasets (random seed values) relative to $\\bar f_9$, which means the Variance is high.\n",
        "While for large $\\lambda$ the predictor $\\hat f_9$ varies less across datasets relative to $\\bar f_9$, which means the Variance is low."
      ]
    },
    {
      "cell_type": "code",
      "execution_count": 23,
      "metadata": {
        "id": "nBY4L8FZIgzk",
        "colab": {
          "base_uri": "https://localhost:8080/",
          "height": 79,
          "referenced_widgets": [
            "08889d87018d46daae3224875f945dff",
            "2a440050d5f54f5c932b1ca6e4359556",
            "88c3901bf7654cbdaba61eb6fb7c410c",
            "9a96997b9f2a43f0bde529b7a9217221",
            "afc0e51157f44c1885c2654005928abb",
            "825f5ff310674928adfaedb6c47da67b",
            "56003883403544f6a0c896f8731b1881",
            "87fe69618d7b445abb42b211454b7f9e",
            "a97e75e13f894110979ed0520f53a1e7",
            "c581e7f15c234c83b7545a3dc0fccb26",
            "3720ef927e13464e9389dad8bc9c6673"
          ]
        },
        "cellView": "form",
        "outputId": "065d3b23-c145-4671-e179-0d79b5e232fd"
      },
      "outputs": [
        {
          "output_type": "display_data",
          "data": {
            "text/plain": [
              "IntSlider(value=1, description='Random Seed', max=10, min=1, style=SliderStyle(description_width='initial'))"
            ],
            "application/vnd.jupyter.widget-view+json": {
              "version_major": 2,
              "version_minor": 0,
              "model_id": "08889d87018d46daae3224875f945dff"
            }
          },
          "metadata": {
            "application/vnd.jupyter.widget-view+json": {
              "colab": {
                "custom_widget_manager": {
                  "url": "https://ssl.gstatic.com/colaboratory-static/widgets/colab-cdn-widget-manager/2b70e893a8ba7c0f/manager.min.js"
                }
              }
            }
          }
        },
        {
          "output_type": "display_data",
          "data": {
            "text/plain": [
              "FloatLogSlider(value=0.01, description='Lambda', max=2.0, min=-4.0)"
            ],
            "application/vnd.jupyter.widget-view+json": {
              "version_major": 2,
              "version_minor": 0,
              "model_id": "9a96997b9f2a43f0bde529b7a9217221"
            }
          },
          "metadata": {
            "application/vnd.jupyter.widget-view+json": {
              "colab": {
                "custom_widget_manager": {
                  "url": "https://ssl.gstatic.com/colaboratory-static/widgets/colab-cdn-widget-manager/2b70e893a8ba7c0f/manager.min.js"
                }
              }
            }
          }
        },
        {
          "output_type": "display_data",
          "data": {
            "text/plain": [
              "Checkbox(value=False, description='Show Plot')"
            ],
            "application/vnd.jupyter.widget-view+json": {
              "version_major": 2,
              "version_minor": 0,
              "model_id": "56003883403544f6a0c896f8731b1881"
            }
          },
          "metadata": {
            "application/vnd.jupyter.widget-view+json": {
              "colab": {
                "custom_widget_manager": {
                  "url": "https://ssl.gstatic.com/colaboratory-static/widgets/colab-cdn-widget-manager/2b70e893a8ba7c0f/manager.min.js"
                }
              }
            }
          }
        },
        {
          "output_type": "display_data",
          "data": {
            "text/plain": [
              "Output()"
            ],
            "application/vnd.jupyter.widget-view+json": {
              "version_major": 2,
              "version_minor": 0,
              "model_id": "c581e7f15c234c83b7545a3dc0fccb26"
            }
          },
          "metadata": {
            "application/vnd.jupyter.widget-view+json": {
              "colab": {
                "custom_widget_manager": {
                  "url": "https://ssl.gstatic.com/colaboratory-static/widgets/colab-cdn-widget-manager/2b70e893a8ba7c0f/manager.min.js"
                }
              }
            }
          }
        }
      ],
      "source": [
        "# @title Plot\n",
        "\n",
        "# Define the function to update the plot based on the selected random seed, lambda, and show_plot\n",
        "def update_plot_f_bar_reg(random_seed, lambda_, show_plot):\n",
        "    degree = 9\n",
        "    n = 40\n",
        "    if show_plot:\n",
        "        # Fit the polynomial to the data\n",
        "        w_star = np.polyfit(X_exp, Y_exp, degree)\n",
        "\n",
        "        # Generate y values for the fitted polynomial\n",
        "        f_star = np.polyval(w_star, x)\n",
        "\n",
        "        # Generate new train dataset\n",
        "        np.random.seed(random_seed)\n",
        "        X_train_raw = np.random.uniform(0, 4, n)\n",
        "        X_train = np.c_[np.ones(n), X_train_raw]\n",
        "        noise_train = np.random.normal(0, 1, n)\n",
        "        Y_train = f_bayes(X_train_raw) + noise_train\n",
        "\n",
        "        # Transform the feature matrix to polynomial features\n",
        "        X_train_poly = phi_p(X_train, degree)\n",
        "\n",
        "        # Fit the model using regularized batch gradient descent\n",
        "        f_hat, w_hat = regularized_bgd_learner(X_train_poly, Y_train, step_size=0.075, lambda_=lambda_, epochs=10000)\n",
        "\n",
        "        # Generate y values for the fitted polynomial from regularized_bgd_learner\n",
        "        f_hat_values = f_hat(phi_p(np.c_[np.ones(x.shape[0]), x], degree))\n",
        "\n",
        "        # Calculate the average predictor\n",
        "        num_datasets = 10\n",
        "        f_bar_values = np.zeros_like(x)\n",
        "\n",
        "        for _ in range(num_datasets):\n",
        "            X_train_raw = np.random.uniform(0, 4, n)\n",
        "            X_train = np.c_[np.ones(n), X_train_raw]\n",
        "            noise_train = np.random.normal(0, 1, n)\n",
        "            Y_train = f_bayes(X_train_raw) + noise_train\n",
        "\n",
        "            X_train_poly = phi_p(X_train, degree)\n",
        "            f_bar, w_bar = regularized_bgd_learner(X_train_poly, Y_train, step_size=0.075, lambda_=lambda_, epochs=10000)\n",
        "            f_bar_values += f_bar(phi_p(np.c_[np.ones(x.shape[0]), x], degree))\n",
        "\n",
        "        f_bar_values /= num_datasets\n",
        "\n",
        "        # Plot the generated data points and the polynomial fit\n",
        "        plt.figure(figsize=(10, 6))\n",
        "        plt.plot(x, f_bayes(x), color='black', label=r'$f_{Bayes}$', linewidth=3)\n",
        "        plt.plot(x, f_star, color='green', linestyle='-', label=fr'$f^*_{degree}$', linewidth=3)\n",
        "        plt.plot(x, f_hat_values, color='orange', linestyle='--', label=fr'$\\hat f_{degree}$ with n={n}', linewidth=3)\n",
        "        plt.plot(x, f_bar_values, color='blue', linestyle='-', label=fr'$\\bar f_{degree}$ over {num_datasets} datasets', linewidth=3)\n",
        "        plt.scatter(X_train_raw, Y_train, color='orange', alpha=0.5, label='Datapoints')\n",
        "        plt.xlabel('X')\n",
        "        plt.ylabel('Y')\n",
        "        plt.ylim(0.2, 7.2)\n",
        "        plt.xlim(-0.2, 4.2)\n",
        "        plt.legend(loc='upper left')\n",
        "        plt.grid(True)\n",
        "        plt.show()\n",
        "    else:\n",
        "        clear_output()\n",
        "\n",
        "# Create sliders for the random seed and lambda\n",
        "random_seed_slider_f_bar_reg = widgets.IntSlider(value=1, min=1, max=10, step=1, description='Random Seed', style={'description_width': 'initial'})\n",
        "lambda_slider_f_bar_reg = widgets.FloatLogSlider(\n",
        "    value=0.01,\n",
        "    base=10,\n",
        "    min=-4,  # 10^-4 = 0.0001\n",
        "    max=2,   # 10^1 = 10.0\n",
        "    step=0.1,\n",
        "    description='Lambda',\n",
        ")\n",
        "show_plot_checkbox_f_bar_reg = widgets.Checkbox(value=False, description='Show Plot')\n",
        "\n",
        "# Use interactive_output to update the plot based on the slider values\n",
        "interactive_plot_f_bar_reg = widgets.interactive_output(update_plot_f_bar_reg,\n",
        "                                                    {'random_seed': random_seed_slider_f_bar_reg,\n",
        "                                                     'lambda_': lambda_slider_f_bar_reg,\n",
        "                                                     'show_plot': show_plot_checkbox_f_bar_reg})\n",
        "\n",
        "# Display the sliders and the plot\n",
        "display(random_seed_slider_f_bar_reg, lambda_slider_f_bar_reg, show_plot_checkbox_f_bar_reg, interactive_plot_f_bar_reg)\n"
      ]
    },
    {
      "cell_type": "markdown",
      "metadata": {
        "id": "W8bd2JVmIgzk"
      },
      "source": [
        "To conclude, we can plot training and test loss for various values of $\\lambda$.\n",
        "You should see that the training loss decreases as $\\lambda$ increases, since it allows the predictor to become more complicated.\n",
        "However, the test loss should at first decrease as $\\lambda$ increases (bias is reducing a lot), but around $\\lambda = 1$ it should start to increase (variance is increasing a lot).\n",
        "\n",
        "Similar to [Part 2](#part-2-picking-the-best-polynomial-predictor), we would use the test loss to select the best predictor, which in this case would be the predictor output by `regularized_bgd_learner` with $\\lambda$ slightly less than 1."
      ]
    },
    {
      "cell_type": "code",
      "execution_count": 24,
      "metadata": {
        "id": "gDM5oXEOIgzk",
        "colab": {
          "base_uri": "https://localhost:8080/",
          "height": 17,
          "referenced_widgets": [
            "6e5aafc83c804e4abf313379d88b360e",
            "2a0510d2356b4ba9a867b874ae73a741",
            "536e42a1d39f4dbc84352d43cbd38da8",
            "27ce74af547b4d999f49aed5225058ed",
            "5644468d47824faa8570e6be0a7bdfe0"
          ]
        },
        "cellView": "form",
        "outputId": "83963279-1655-45d4-b315-d9788f5faf91"
      },
      "outputs": [
        {
          "output_type": "display_data",
          "data": {
            "text/plain": [
              "Checkbox(value=False, description='Show Plot')"
            ],
            "application/vnd.jupyter.widget-view+json": {
              "version_major": 2,
              "version_minor": 0,
              "model_id": "6e5aafc83c804e4abf313379d88b360e"
            }
          },
          "metadata": {
            "application/vnd.jupyter.widget-view+json": {
              "colab": {
                "custom_widget_manager": {
                  "url": "https://ssl.gstatic.com/colaboratory-static/widgets/colab-cdn-widget-manager/2b70e893a8ba7c0f/manager.min.js"
                }
              }
            }
          }
        },
        {
          "output_type": "display_data",
          "data": {
            "text/plain": [
              "Output()"
            ],
            "application/vnd.jupyter.widget-view+json": {
              "version_major": 2,
              "version_minor": 0,
              "model_id": "27ce74af547b4d999f49aed5225058ed"
            }
          },
          "metadata": {
            "application/vnd.jupyter.widget-view+json": {
              "colab": {
                "custom_widget_manager": {
                  "url": "https://ssl.gstatic.com/colaboratory-static/widgets/colab-cdn-widget-manager/2b70e893a8ba7c0f/manager.min.js"
                }
              }
            }
          }
        }
      ],
      "source": [
        "# @title Plot\n",
        "\n",
        "# Function to update the plot based on the checkbox value\n",
        "def update_plot_reg(show_plot):\n",
        "    if show_plot:\n",
        "        # Number of data points\n",
        "        n = 18\n",
        "\n",
        "        # Set the random seed for reproducibility\n",
        "        random_seed = 7\n",
        "        np.random.seed(random_seed)\n",
        "\n",
        "        X_raw = np.random.uniform(0, 4, n)\n",
        "        X = np.c_[np.ones(n), X_raw]\n",
        "\n",
        "        # Generate noise from a Gaussian distribution with mean 0 and variance 1\n",
        "        noise_train = np.random.normal(0, 1, n)\n",
        "\n",
        "        # Calculate Y values using f_bayes\n",
        "        Y = f_bayes(X_raw) + noise_train\n",
        "\n",
        "        X_train, Y_train, X_test, Y_test = split_dataset(X, Y, train_size=0.5)\n",
        "\n",
        "        # Define the range of lambda values to test\n",
        "        lambda_values = np.logspace(2, -2, 10)\n",
        "\n",
        "        # Initialize lists to store the losses\n",
        "        L_hat_f_hat_lambda = []\n",
        "        L_hat_test_f_hat_lambda = []\n",
        "\n",
        "        # Degree of polynomial features\n",
        "        degree = 9\n",
        "\n",
        "        # Train and evaluate the model for each lambda value\n",
        "        for lambda_ in lambda_values:\n",
        "            # Transform the feature matrix to polynomial features\n",
        "            X_train_poly = phi_p(X_train, degree)\n",
        "            X_test_poly = phi_p(X_test, degree)\n",
        "\n",
        "            # Fit the model using regularized batch gradient descent\n",
        "            f_hat_lambda, w_hat_lambda = regularized_bgd_learner(X_train_poly, Y_train, step_size=0.01, lambda_=lambda_, epochs=10000)\n",
        "\n",
        "            # Calculate the estimated loss on the training data\n",
        "            L_hat = estimated_loss(f_hat_lambda, X_train_poly, Y_train)\n",
        "            L_hat_f_hat_lambda.append(L_hat)\n",
        "\n",
        "            # Calculate the estimated loss on the test data\n",
        "            L_hat_test = estimated_loss(f_hat_lambda, X_test_poly, Y_test)\n",
        "            L_hat_test_f_hat_lambda.append(L_hat_test)\n",
        "\n",
        "        # Plot the estimated loss as a function of lambda values\n",
        "        plt.figure(figsize=(10, 6))\n",
        "        plt.plot(lambda_values, L_hat_f_hat_lambda, color='purple', marker='x', linestyle='--', label=r'$\\hat{L}_{train, \\lambda}(\\hat{f})$', linewidth=3, markersize=10)\n",
        "        plt.plot(lambda_values, L_hat_test_f_hat_lambda, color = 'blue', marker='x', linestyle='--', label=r'$\\hat{L}_{test, \\lambda}(\\hat{f})$', linewidth=3, markersize=10)\n",
        "        plt.xscale('log')\n",
        "        plt.gca().invert_xaxis()  # Invert the x-axis\n",
        "        plt.xlabel(r'$\\lambda$')\n",
        "        plt.ylim(0.2, 2.7)\n",
        "        plt.legend()\n",
        "        plt.grid(True)\n",
        "        plt.show()\n",
        "    else:\n",
        "        clear_output()\n",
        "\n",
        "# Create a checkbox for showing/hiding the plot\n",
        "show_plot_checkbox_reg = widgets.Checkbox(value=False, description='Show Plot')\n",
        "\n",
        "# Use interactive_output to update the plot based on the checkbox value\n",
        "interactive_plot_reg = widgets.interactive_output(update_plot_reg, {'show_plot': show_plot_checkbox_reg})\n",
        "\n",
        "# Display the checkbox and the plot\n",
        "display(show_plot_checkbox_reg, interactive_plot_reg)\n"
      ]
    },
    {
      "cell_type": "markdown",
      "metadata": {
        "deletable": false,
        "editable": false,
        "id": "c9f0XnPbIgzk"
      },
      "source": [
        "---\n",
        "\n",
        "To double-check your work, the cell below will rerun all of the autograder tests."
      ]
    },
    {
      "cell_type": "code",
      "execution_count": 25,
      "metadata": {
        "deletable": false,
        "editable": false,
        "id": "2mDYrdmRIgzk",
        "colab": {
          "base_uri": "https://localhost:8080/"
        },
        "outputId": "aa252cfa-3d01-4423-a1b0-22897e38bd27"
      },
      "outputs": [
        {
          "output_type": "execute_result",
          "data": {
            "text/plain": [
              "q1_1 results: All test cases passed!\n",
              "\n",
              "q1_2 results: All test cases passed!\n",
              "\n",
              "q2_1 results: All test cases passed!\n",
              "\n",
              "q3_1 results: All test cases passed!"
            ]
          },
          "metadata": {},
          "execution_count": 25
        }
      ],
      "source": [
        "grader.check_all()"
      ]
    }
  ],
  "metadata": {
    "kernelspec": {
      "display_name": "ml1",
      "language": "python",
      "name": "python3"
    },
    "language_info": {
      "codemirror_mode": {
        "name": "ipython",
        "version": 3
      },
      "file_extension": ".py",
      "mimetype": "text/x-python",
      "name": "python",
      "nbconvert_exporter": "python",
      "pygments_lexer": "ipython3",
      "version": "3.12.7"
    },
    "colab": {
      "provenance": []
    },
    "widgets": {
      "application/vnd.jupyter.widget-state+json": {
        "27acad7088ea46f5b92dd09f655dd192": {
          "model_module": "@jupyter-widgets/controls",
          "model_name": "CheckboxModel",
          "model_module_version": "2.0.0",
          "state": {
            "_dom_classes": [],
            "_model_module": "@jupyter-widgets/controls",
            "_model_module_version": "2.0.0",
            "_model_name": "CheckboxModel",
            "_view_count": null,
            "_view_module": "@jupyter-widgets/controls",
            "_view_module_version": "2.0.0",
            "_view_name": "CheckboxView",
            "description": "Show Plot",
            "description_allow_html": false,
            "disabled": false,
            "indent": true,
            "layout": "IPY_MODEL_8ad71d721c9646e8998c5f24038e47dc",
            "style": "IPY_MODEL_e9b6c727a4154fd6998c503f2627351a",
            "tabbable": null,
            "tooltip": null,
            "value": false
          }
        },
        "8ad71d721c9646e8998c5f24038e47dc": {
          "model_module": "@jupyter-widgets/base",
          "model_name": "LayoutModel",
          "model_module_version": "2.0.0",
          "state": {
            "_model_module": "@jupyter-widgets/base",
            "_model_module_version": "2.0.0",
            "_model_name": "LayoutModel",
            "_view_count": null,
            "_view_module": "@jupyter-widgets/base",
            "_view_module_version": "2.0.0",
            "_view_name": "LayoutView",
            "align_content": null,
            "align_items": null,
            "align_self": null,
            "border_bottom": null,
            "border_left": null,
            "border_right": null,
            "border_top": null,
            "bottom": null,
            "display": null,
            "flex": null,
            "flex_flow": null,
            "grid_area": null,
            "grid_auto_columns": null,
            "grid_auto_flow": null,
            "grid_auto_rows": null,
            "grid_column": null,
            "grid_gap": null,
            "grid_row": null,
            "grid_template_areas": null,
            "grid_template_columns": null,
            "grid_template_rows": null,
            "height": null,
            "justify_content": null,
            "justify_items": null,
            "left": null,
            "margin": null,
            "max_height": null,
            "max_width": null,
            "min_height": null,
            "min_width": null,
            "object_fit": null,
            "object_position": null,
            "order": null,
            "overflow": null,
            "padding": null,
            "right": null,
            "top": null,
            "visibility": null,
            "width": null
          }
        },
        "e9b6c727a4154fd6998c503f2627351a": {
          "model_module": "@jupyter-widgets/controls",
          "model_name": "CheckboxStyleModel",
          "model_module_version": "2.0.0",
          "state": {
            "_model_module": "@jupyter-widgets/controls",
            "_model_module_version": "2.0.0",
            "_model_name": "CheckboxStyleModel",
            "_view_count": null,
            "_view_module": "@jupyter-widgets/base",
            "_view_module_version": "2.0.0",
            "_view_name": "StyleView",
            "background": null,
            "description_width": ""
          }
        },
        "5ee688535f2d46dbab06ba90eecce987": {
          "model_module": "@jupyter-widgets/output",
          "model_name": "OutputModel",
          "model_module_version": "1.0.0",
          "state": {
            "_dom_classes": [],
            "_model_module": "@jupyter-widgets/output",
            "_model_module_version": "1.0.0",
            "_model_name": "OutputModel",
            "_view_count": null,
            "_view_module": "@jupyter-widgets/output",
            "_view_module_version": "1.0.0",
            "_view_name": "OutputView",
            "layout": "IPY_MODEL_f15af4a03a714d4b9de2e3900c074832",
            "msg_id": "",
            "outputs": [],
            "tabbable": null,
            "tooltip": null
          }
        },
        "f15af4a03a714d4b9de2e3900c074832": {
          "model_module": "@jupyter-widgets/base",
          "model_name": "LayoutModel",
          "model_module_version": "2.0.0",
          "state": {
            "_model_module": "@jupyter-widgets/base",
            "_model_module_version": "2.0.0",
            "_model_name": "LayoutModel",
            "_view_count": null,
            "_view_module": "@jupyter-widgets/base",
            "_view_module_version": "2.0.0",
            "_view_name": "LayoutView",
            "align_content": null,
            "align_items": null,
            "align_self": null,
            "border_bottom": null,
            "border_left": null,
            "border_right": null,
            "border_top": null,
            "bottom": null,
            "display": null,
            "flex": null,
            "flex_flow": null,
            "grid_area": null,
            "grid_auto_columns": null,
            "grid_auto_flow": null,
            "grid_auto_rows": null,
            "grid_column": null,
            "grid_gap": null,
            "grid_row": null,
            "grid_template_areas": null,
            "grid_template_columns": null,
            "grid_template_rows": null,
            "height": null,
            "justify_content": null,
            "justify_items": null,
            "left": null,
            "margin": null,
            "max_height": null,
            "max_width": null,
            "min_height": null,
            "min_width": null,
            "object_fit": null,
            "object_position": null,
            "order": null,
            "overflow": null,
            "padding": null,
            "right": null,
            "top": null,
            "visibility": null,
            "width": null
          }
        },
        "02153a170f394ef7b1d481c34e5c535a": {
          "model_module": "@jupyter-widgets/controls",
          "model_name": "IntSliderModel",
          "model_module_version": "2.0.0",
          "state": {
            "_dom_classes": [],
            "_model_module": "@jupyter-widgets/controls",
            "_model_module_version": "2.0.0",
            "_model_name": "IntSliderModel",
            "_view_count": null,
            "_view_module": "@jupyter-widgets/controls",
            "_view_module_version": "2.0.0",
            "_view_name": "IntSliderView",
            "behavior": "drag-tap",
            "continuous_update": true,
            "description": "Degree p",
            "description_allow_html": false,
            "disabled": false,
            "layout": "IPY_MODEL_b620a0e0bdd44b13a1456c56dd99534d",
            "max": 9,
            "min": 1,
            "orientation": "horizontal",
            "readout": true,
            "readout_format": "d",
            "step": 1,
            "style": "IPY_MODEL_b23ddf620d31470bb01b1cfda32d3b46",
            "tabbable": null,
            "tooltip": null,
            "value": 1
          }
        },
        "b620a0e0bdd44b13a1456c56dd99534d": {
          "model_module": "@jupyter-widgets/base",
          "model_name": "LayoutModel",
          "model_module_version": "2.0.0",
          "state": {
            "_model_module": "@jupyter-widgets/base",
            "_model_module_version": "2.0.0",
            "_model_name": "LayoutModel",
            "_view_count": null,
            "_view_module": "@jupyter-widgets/base",
            "_view_module_version": "2.0.0",
            "_view_name": "LayoutView",
            "align_content": null,
            "align_items": null,
            "align_self": null,
            "border_bottom": null,
            "border_left": null,
            "border_right": null,
            "border_top": null,
            "bottom": null,
            "display": null,
            "flex": null,
            "flex_flow": null,
            "grid_area": null,
            "grid_auto_columns": null,
            "grid_auto_flow": null,
            "grid_auto_rows": null,
            "grid_column": null,
            "grid_gap": null,
            "grid_row": null,
            "grid_template_areas": null,
            "grid_template_columns": null,
            "grid_template_rows": null,
            "height": null,
            "justify_content": null,
            "justify_items": null,
            "left": null,
            "margin": null,
            "max_height": null,
            "max_width": null,
            "min_height": null,
            "min_width": null,
            "object_fit": null,
            "object_position": null,
            "order": null,
            "overflow": null,
            "padding": null,
            "right": null,
            "top": null,
            "visibility": null,
            "width": null
          }
        },
        "b23ddf620d31470bb01b1cfda32d3b46": {
          "model_module": "@jupyter-widgets/controls",
          "model_name": "SliderStyleModel",
          "model_module_version": "2.0.0",
          "state": {
            "_model_module": "@jupyter-widgets/controls",
            "_model_module_version": "2.0.0",
            "_model_name": "SliderStyleModel",
            "_view_count": null,
            "_view_module": "@jupyter-widgets/base",
            "_view_module_version": "2.0.0",
            "_view_name": "StyleView",
            "description_width": "",
            "handle_color": null
          }
        },
        "5a0d4325ae934f7aa67543c871ef1693": {
          "model_module": "@jupyter-widgets/controls",
          "model_name": "CheckboxModel",
          "model_module_version": "2.0.0",
          "state": {
            "_dom_classes": [],
            "_model_module": "@jupyter-widgets/controls",
            "_model_module_version": "2.0.0",
            "_model_name": "CheckboxModel",
            "_view_count": null,
            "_view_module": "@jupyter-widgets/controls",
            "_view_module_version": "2.0.0",
            "_view_name": "CheckboxView",
            "description": "Show Plot",
            "description_allow_html": false,
            "disabled": false,
            "indent": true,
            "layout": "IPY_MODEL_9cd2ef5aabc84a40a4d0256c2c399c66",
            "style": "IPY_MODEL_cb22a686e91846a0bc8c4736388442ac",
            "tabbable": null,
            "tooltip": null,
            "value": false
          }
        },
        "9cd2ef5aabc84a40a4d0256c2c399c66": {
          "model_module": "@jupyter-widgets/base",
          "model_name": "LayoutModel",
          "model_module_version": "2.0.0",
          "state": {
            "_model_module": "@jupyter-widgets/base",
            "_model_module_version": "2.0.0",
            "_model_name": "LayoutModel",
            "_view_count": null,
            "_view_module": "@jupyter-widgets/base",
            "_view_module_version": "2.0.0",
            "_view_name": "LayoutView",
            "align_content": null,
            "align_items": null,
            "align_self": null,
            "border_bottom": null,
            "border_left": null,
            "border_right": null,
            "border_top": null,
            "bottom": null,
            "display": null,
            "flex": null,
            "flex_flow": null,
            "grid_area": null,
            "grid_auto_columns": null,
            "grid_auto_flow": null,
            "grid_auto_rows": null,
            "grid_column": null,
            "grid_gap": null,
            "grid_row": null,
            "grid_template_areas": null,
            "grid_template_columns": null,
            "grid_template_rows": null,
            "height": null,
            "justify_content": null,
            "justify_items": null,
            "left": null,
            "margin": null,
            "max_height": null,
            "max_width": null,
            "min_height": null,
            "min_width": null,
            "object_fit": null,
            "object_position": null,
            "order": null,
            "overflow": null,
            "padding": null,
            "right": null,
            "top": null,
            "visibility": null,
            "width": null
          }
        },
        "cb22a686e91846a0bc8c4736388442ac": {
          "model_module": "@jupyter-widgets/controls",
          "model_name": "CheckboxStyleModel",
          "model_module_version": "2.0.0",
          "state": {
            "_model_module": "@jupyter-widgets/controls",
            "_model_module_version": "2.0.0",
            "_model_name": "CheckboxStyleModel",
            "_view_count": null,
            "_view_module": "@jupyter-widgets/base",
            "_view_module_version": "2.0.0",
            "_view_name": "StyleView",
            "background": null,
            "description_width": ""
          }
        },
        "6bd6e7455ee847ad9de920815a316e10": {
          "model_module": "@jupyter-widgets/output",
          "model_name": "OutputModel",
          "model_module_version": "1.0.0",
          "state": {
            "_dom_classes": [],
            "_model_module": "@jupyter-widgets/output",
            "_model_module_version": "1.0.0",
            "_model_name": "OutputModel",
            "_view_count": null,
            "_view_module": "@jupyter-widgets/output",
            "_view_module_version": "1.0.0",
            "_view_name": "OutputView",
            "layout": "IPY_MODEL_d0fa254f92c14bcbbff349406a65ae66",
            "msg_id": "",
            "outputs": [],
            "tabbable": null,
            "tooltip": null
          }
        },
        "d0fa254f92c14bcbbff349406a65ae66": {
          "model_module": "@jupyter-widgets/base",
          "model_name": "LayoutModel",
          "model_module_version": "2.0.0",
          "state": {
            "_model_module": "@jupyter-widgets/base",
            "_model_module_version": "2.0.0",
            "_model_name": "LayoutModel",
            "_view_count": null,
            "_view_module": "@jupyter-widgets/base",
            "_view_module_version": "2.0.0",
            "_view_name": "LayoutView",
            "align_content": null,
            "align_items": null,
            "align_self": null,
            "border_bottom": null,
            "border_left": null,
            "border_right": null,
            "border_top": null,
            "bottom": null,
            "display": null,
            "flex": null,
            "flex_flow": null,
            "grid_area": null,
            "grid_auto_columns": null,
            "grid_auto_flow": null,
            "grid_auto_rows": null,
            "grid_column": null,
            "grid_gap": null,
            "grid_row": null,
            "grid_template_areas": null,
            "grid_template_columns": null,
            "grid_template_rows": null,
            "height": null,
            "justify_content": null,
            "justify_items": null,
            "left": null,
            "margin": null,
            "max_height": null,
            "max_width": null,
            "min_height": null,
            "min_width": null,
            "object_fit": null,
            "object_position": null,
            "order": null,
            "overflow": null,
            "padding": null,
            "right": null,
            "top": null,
            "visibility": null,
            "width": null
          }
        },
        "e37924a91f7c4776a4c9cd306cdfa79b": {
          "model_module": "@jupyter-widgets/controls",
          "model_name": "IntSliderModel",
          "model_module_version": "2.0.0",
          "state": {
            "_dom_classes": [],
            "_model_module": "@jupyter-widgets/controls",
            "_model_module_version": "2.0.0",
            "_model_name": "IntSliderModel",
            "_view_count": null,
            "_view_module": "@jupyter-widgets/controls",
            "_view_module_version": "2.0.0",
            "_view_name": "IntSliderView",
            "behavior": "drag-tap",
            "continuous_update": true,
            "description": "Degree p",
            "description_allow_html": false,
            "disabled": false,
            "layout": "IPY_MODEL_4340b04f22d242cfb66a9d07f874e702",
            "max": 9,
            "min": 1,
            "orientation": "horizontal",
            "readout": true,
            "readout_format": "d",
            "step": 1,
            "style": "IPY_MODEL_3ef3f7ecdaa54c1c80213904a20f09d9",
            "tabbable": null,
            "tooltip": null,
            "value": 1
          }
        },
        "4340b04f22d242cfb66a9d07f874e702": {
          "model_module": "@jupyter-widgets/base",
          "model_name": "LayoutModel",
          "model_module_version": "2.0.0",
          "state": {
            "_model_module": "@jupyter-widgets/base",
            "_model_module_version": "2.0.0",
            "_model_name": "LayoutModel",
            "_view_count": null,
            "_view_module": "@jupyter-widgets/base",
            "_view_module_version": "2.0.0",
            "_view_name": "LayoutView",
            "align_content": null,
            "align_items": null,
            "align_self": null,
            "border_bottom": null,
            "border_left": null,
            "border_right": null,
            "border_top": null,
            "bottom": null,
            "display": null,
            "flex": null,
            "flex_flow": null,
            "grid_area": null,
            "grid_auto_columns": null,
            "grid_auto_flow": null,
            "grid_auto_rows": null,
            "grid_column": null,
            "grid_gap": null,
            "grid_row": null,
            "grid_template_areas": null,
            "grid_template_columns": null,
            "grid_template_rows": null,
            "height": null,
            "justify_content": null,
            "justify_items": null,
            "left": null,
            "margin": null,
            "max_height": null,
            "max_width": null,
            "min_height": null,
            "min_width": null,
            "object_fit": null,
            "object_position": null,
            "order": null,
            "overflow": null,
            "padding": null,
            "right": null,
            "top": null,
            "visibility": null,
            "width": null
          }
        },
        "3ef3f7ecdaa54c1c80213904a20f09d9": {
          "model_module": "@jupyter-widgets/controls",
          "model_name": "SliderStyleModel",
          "model_module_version": "2.0.0",
          "state": {
            "_model_module": "@jupyter-widgets/controls",
            "_model_module_version": "2.0.0",
            "_model_name": "SliderStyleModel",
            "_view_count": null,
            "_view_module": "@jupyter-widgets/base",
            "_view_module_version": "2.0.0",
            "_view_name": "StyleView",
            "description_width": "",
            "handle_color": null
          }
        },
        "674de7b377d745e2882726544cf662d9": {
          "model_module": "@jupyter-widgets/controls",
          "model_name": "IntSliderModel",
          "model_module_version": "2.0.0",
          "state": {
            "_dom_classes": [],
            "_model_module": "@jupyter-widgets/controls",
            "_model_module_version": "2.0.0",
            "_model_name": "IntSliderModel",
            "_view_count": null,
            "_view_module": "@jupyter-widgets/controls",
            "_view_module_version": "2.0.0",
            "_view_name": "IntSliderView",
            "behavior": "drag-tap",
            "continuous_update": true,
            "description": "n",
            "description_allow_html": false,
            "disabled": false,
            "layout": "IPY_MODEL_d06332a03bcb44b5930d86959cff5d60",
            "max": 200,
            "min": 1,
            "orientation": "horizontal",
            "readout": true,
            "readout_format": "d",
            "step": 1,
            "style": "IPY_MODEL_5e35780dfe5047158e3dd7950144e452",
            "tabbable": null,
            "tooltip": null,
            "value": 9
          }
        },
        "d06332a03bcb44b5930d86959cff5d60": {
          "model_module": "@jupyter-widgets/base",
          "model_name": "LayoutModel",
          "model_module_version": "2.0.0",
          "state": {
            "_model_module": "@jupyter-widgets/base",
            "_model_module_version": "2.0.0",
            "_model_name": "LayoutModel",
            "_view_count": null,
            "_view_module": "@jupyter-widgets/base",
            "_view_module_version": "2.0.0",
            "_view_name": "LayoutView",
            "align_content": null,
            "align_items": null,
            "align_self": null,
            "border_bottom": null,
            "border_left": null,
            "border_right": null,
            "border_top": null,
            "bottom": null,
            "display": null,
            "flex": null,
            "flex_flow": null,
            "grid_area": null,
            "grid_auto_columns": null,
            "grid_auto_flow": null,
            "grid_auto_rows": null,
            "grid_column": null,
            "grid_gap": null,
            "grid_row": null,
            "grid_template_areas": null,
            "grid_template_columns": null,
            "grid_template_rows": null,
            "height": null,
            "justify_content": null,
            "justify_items": null,
            "left": null,
            "margin": null,
            "max_height": null,
            "max_width": null,
            "min_height": null,
            "min_width": null,
            "object_fit": null,
            "object_position": null,
            "order": null,
            "overflow": null,
            "padding": null,
            "right": null,
            "top": null,
            "visibility": null,
            "width": null
          }
        },
        "5e35780dfe5047158e3dd7950144e452": {
          "model_module": "@jupyter-widgets/controls",
          "model_name": "SliderStyleModel",
          "model_module_version": "2.0.0",
          "state": {
            "_model_module": "@jupyter-widgets/controls",
            "_model_module_version": "2.0.0",
            "_model_name": "SliderStyleModel",
            "_view_count": null,
            "_view_module": "@jupyter-widgets/base",
            "_view_module_version": "2.0.0",
            "_view_name": "StyleView",
            "description_width": "",
            "handle_color": null
          }
        },
        "dc77787ef20f42aa83aa610124008a99": {
          "model_module": "@jupyter-widgets/controls",
          "model_name": "IntSliderModel",
          "model_module_version": "2.0.0",
          "state": {
            "_dom_classes": [],
            "_model_module": "@jupyter-widgets/controls",
            "_model_module_version": "2.0.0",
            "_model_name": "IntSliderModel",
            "_view_count": null,
            "_view_module": "@jupyter-widgets/controls",
            "_view_module_version": "2.0.0",
            "_view_name": "IntSliderView",
            "behavior": "drag-tap",
            "continuous_update": true,
            "description": "Random Seed",
            "description_allow_html": false,
            "disabled": false,
            "layout": "IPY_MODEL_7d2add3c215642a38cb6f68fbffaf8eb",
            "max": 10,
            "min": 1,
            "orientation": "horizontal",
            "readout": true,
            "readout_format": "d",
            "step": 1,
            "style": "IPY_MODEL_27e3a5ddc68840a0a0b42fb215403220",
            "tabbable": null,
            "tooltip": null,
            "value": 1
          }
        },
        "7d2add3c215642a38cb6f68fbffaf8eb": {
          "model_module": "@jupyter-widgets/base",
          "model_name": "LayoutModel",
          "model_module_version": "2.0.0",
          "state": {
            "_model_module": "@jupyter-widgets/base",
            "_model_module_version": "2.0.0",
            "_model_name": "LayoutModel",
            "_view_count": null,
            "_view_module": "@jupyter-widgets/base",
            "_view_module_version": "2.0.0",
            "_view_name": "LayoutView",
            "align_content": null,
            "align_items": null,
            "align_self": null,
            "border_bottom": null,
            "border_left": null,
            "border_right": null,
            "border_top": null,
            "bottom": null,
            "display": null,
            "flex": null,
            "flex_flow": null,
            "grid_area": null,
            "grid_auto_columns": null,
            "grid_auto_flow": null,
            "grid_auto_rows": null,
            "grid_column": null,
            "grid_gap": null,
            "grid_row": null,
            "grid_template_areas": null,
            "grid_template_columns": null,
            "grid_template_rows": null,
            "height": null,
            "justify_content": null,
            "justify_items": null,
            "left": null,
            "margin": null,
            "max_height": null,
            "max_width": null,
            "min_height": null,
            "min_width": null,
            "object_fit": null,
            "object_position": null,
            "order": null,
            "overflow": null,
            "padding": null,
            "right": null,
            "top": null,
            "visibility": null,
            "width": null
          }
        },
        "27e3a5ddc68840a0a0b42fb215403220": {
          "model_module": "@jupyter-widgets/controls",
          "model_name": "SliderStyleModel",
          "model_module_version": "2.0.0",
          "state": {
            "_model_module": "@jupyter-widgets/controls",
            "_model_module_version": "2.0.0",
            "_model_name": "SliderStyleModel",
            "_view_count": null,
            "_view_module": "@jupyter-widgets/base",
            "_view_module_version": "2.0.0",
            "_view_name": "StyleView",
            "description_width": "initial",
            "handle_color": null
          }
        },
        "5328184e2ca440bbb7ec14ba9686f6dc": {
          "model_module": "@jupyter-widgets/controls",
          "model_name": "CheckboxModel",
          "model_module_version": "2.0.0",
          "state": {
            "_dom_classes": [],
            "_model_module": "@jupyter-widgets/controls",
            "_model_module_version": "2.0.0",
            "_model_name": "CheckboxModel",
            "_view_count": null,
            "_view_module": "@jupyter-widgets/controls",
            "_view_module_version": "2.0.0",
            "_view_name": "CheckboxView",
            "description": "Show Plot",
            "description_allow_html": false,
            "disabled": false,
            "indent": true,
            "layout": "IPY_MODEL_8d2ceb0d04ae40c1b9495d5a20762411",
            "style": "IPY_MODEL_90d812be2aca40ad85886751d2b649b8",
            "tabbable": null,
            "tooltip": null,
            "value": false
          }
        },
        "8d2ceb0d04ae40c1b9495d5a20762411": {
          "model_module": "@jupyter-widgets/base",
          "model_name": "LayoutModel",
          "model_module_version": "2.0.0",
          "state": {
            "_model_module": "@jupyter-widgets/base",
            "_model_module_version": "2.0.0",
            "_model_name": "LayoutModel",
            "_view_count": null,
            "_view_module": "@jupyter-widgets/base",
            "_view_module_version": "2.0.0",
            "_view_name": "LayoutView",
            "align_content": null,
            "align_items": null,
            "align_self": null,
            "border_bottom": null,
            "border_left": null,
            "border_right": null,
            "border_top": null,
            "bottom": null,
            "display": null,
            "flex": null,
            "flex_flow": null,
            "grid_area": null,
            "grid_auto_columns": null,
            "grid_auto_flow": null,
            "grid_auto_rows": null,
            "grid_column": null,
            "grid_gap": null,
            "grid_row": null,
            "grid_template_areas": null,
            "grid_template_columns": null,
            "grid_template_rows": null,
            "height": null,
            "justify_content": null,
            "justify_items": null,
            "left": null,
            "margin": null,
            "max_height": null,
            "max_width": null,
            "min_height": null,
            "min_width": null,
            "object_fit": null,
            "object_position": null,
            "order": null,
            "overflow": null,
            "padding": null,
            "right": null,
            "top": null,
            "visibility": null,
            "width": null
          }
        },
        "90d812be2aca40ad85886751d2b649b8": {
          "model_module": "@jupyter-widgets/controls",
          "model_name": "CheckboxStyleModel",
          "model_module_version": "2.0.0",
          "state": {
            "_model_module": "@jupyter-widgets/controls",
            "_model_module_version": "2.0.0",
            "_model_name": "CheckboxStyleModel",
            "_view_count": null,
            "_view_module": "@jupyter-widgets/base",
            "_view_module_version": "2.0.0",
            "_view_name": "StyleView",
            "background": null,
            "description_width": ""
          }
        },
        "9c14ce9d588e410b89f8b418747824ca": {
          "model_module": "@jupyter-widgets/output",
          "model_name": "OutputModel",
          "model_module_version": "1.0.0",
          "state": {
            "_dom_classes": [],
            "_model_module": "@jupyter-widgets/output",
            "_model_module_version": "1.0.0",
            "_model_name": "OutputModel",
            "_view_count": null,
            "_view_module": "@jupyter-widgets/output",
            "_view_module_version": "1.0.0",
            "_view_name": "OutputView",
            "layout": "IPY_MODEL_9f4d2a9a3bc64ecb9eb6b508bf468f51",
            "msg_id": "",
            "outputs": [],
            "tabbable": null,
            "tooltip": null
          }
        },
        "9f4d2a9a3bc64ecb9eb6b508bf468f51": {
          "model_module": "@jupyter-widgets/base",
          "model_name": "LayoutModel",
          "model_module_version": "2.0.0",
          "state": {
            "_model_module": "@jupyter-widgets/base",
            "_model_module_version": "2.0.0",
            "_model_name": "LayoutModel",
            "_view_count": null,
            "_view_module": "@jupyter-widgets/base",
            "_view_module_version": "2.0.0",
            "_view_name": "LayoutView",
            "align_content": null,
            "align_items": null,
            "align_self": null,
            "border_bottom": null,
            "border_left": null,
            "border_right": null,
            "border_top": null,
            "bottom": null,
            "display": null,
            "flex": null,
            "flex_flow": null,
            "grid_area": null,
            "grid_auto_columns": null,
            "grid_auto_flow": null,
            "grid_auto_rows": null,
            "grid_column": null,
            "grid_gap": null,
            "grid_row": null,
            "grid_template_areas": null,
            "grid_template_columns": null,
            "grid_template_rows": null,
            "height": null,
            "justify_content": null,
            "justify_items": null,
            "left": null,
            "margin": null,
            "max_height": null,
            "max_width": null,
            "min_height": null,
            "min_width": null,
            "object_fit": null,
            "object_position": null,
            "order": null,
            "overflow": null,
            "padding": null,
            "right": null,
            "top": null,
            "visibility": null,
            "width": null
          }
        },
        "f38ea16f94954165ba7840626afa639f": {
          "model_module": "@jupyter-widgets/controls",
          "model_name": "IntSliderModel",
          "model_module_version": "2.0.0",
          "state": {
            "_dom_classes": [],
            "_model_module": "@jupyter-widgets/controls",
            "_model_module_version": "2.0.0",
            "_model_name": "IntSliderModel",
            "_view_count": null,
            "_view_module": "@jupyter-widgets/controls",
            "_view_module_version": "2.0.0",
            "_view_name": "IntSliderView",
            "behavior": "drag-tap",
            "continuous_update": true,
            "description": "Degree p",
            "description_allow_html": false,
            "disabled": false,
            "layout": "IPY_MODEL_4ba3d5e1401d4490a9fe9f448d5f8277",
            "max": 9,
            "min": 1,
            "orientation": "horizontal",
            "readout": true,
            "readout_format": "d",
            "step": 1,
            "style": "IPY_MODEL_e58fb46d8cf544349d068f1031271376",
            "tabbable": null,
            "tooltip": null,
            "value": 1
          }
        },
        "4ba3d5e1401d4490a9fe9f448d5f8277": {
          "model_module": "@jupyter-widgets/base",
          "model_name": "LayoutModel",
          "model_module_version": "2.0.0",
          "state": {
            "_model_module": "@jupyter-widgets/base",
            "_model_module_version": "2.0.0",
            "_model_name": "LayoutModel",
            "_view_count": null,
            "_view_module": "@jupyter-widgets/base",
            "_view_module_version": "2.0.0",
            "_view_name": "LayoutView",
            "align_content": null,
            "align_items": null,
            "align_self": null,
            "border_bottom": null,
            "border_left": null,
            "border_right": null,
            "border_top": null,
            "bottom": null,
            "display": null,
            "flex": null,
            "flex_flow": null,
            "grid_area": null,
            "grid_auto_columns": null,
            "grid_auto_flow": null,
            "grid_auto_rows": null,
            "grid_column": null,
            "grid_gap": null,
            "grid_row": null,
            "grid_template_areas": null,
            "grid_template_columns": null,
            "grid_template_rows": null,
            "height": null,
            "justify_content": null,
            "justify_items": null,
            "left": null,
            "margin": null,
            "max_height": null,
            "max_width": null,
            "min_height": null,
            "min_width": null,
            "object_fit": null,
            "object_position": null,
            "order": null,
            "overflow": null,
            "padding": null,
            "right": null,
            "top": null,
            "visibility": null,
            "width": null
          }
        },
        "e58fb46d8cf544349d068f1031271376": {
          "model_module": "@jupyter-widgets/controls",
          "model_name": "SliderStyleModel",
          "model_module_version": "2.0.0",
          "state": {
            "_model_module": "@jupyter-widgets/controls",
            "_model_module_version": "2.0.0",
            "_model_name": "SliderStyleModel",
            "_view_count": null,
            "_view_module": "@jupyter-widgets/base",
            "_view_module_version": "2.0.0",
            "_view_name": "StyleView",
            "description_width": "",
            "handle_color": null
          }
        },
        "957d3b0ec19f49a1b365fc5d9e1bf1d4": {
          "model_module": "@jupyter-widgets/controls",
          "model_name": "IntSliderModel",
          "model_module_version": "2.0.0",
          "state": {
            "_dom_classes": [],
            "_model_module": "@jupyter-widgets/controls",
            "_model_module_version": "2.0.0",
            "_model_name": "IntSliderModel",
            "_view_count": null,
            "_view_module": "@jupyter-widgets/controls",
            "_view_module_version": "2.0.0",
            "_view_name": "IntSliderView",
            "behavior": "drag-tap",
            "continuous_update": true,
            "description": "n",
            "description_allow_html": false,
            "disabled": false,
            "layout": "IPY_MODEL_751999348e67487bb7c630235a28dfea",
            "max": 200,
            "min": 1,
            "orientation": "horizontal",
            "readout": true,
            "readout_format": "d",
            "step": 1,
            "style": "IPY_MODEL_3203e618f5f2440fa02f46bee54ab9e6",
            "tabbable": null,
            "tooltip": null,
            "value": 9
          }
        },
        "751999348e67487bb7c630235a28dfea": {
          "model_module": "@jupyter-widgets/base",
          "model_name": "LayoutModel",
          "model_module_version": "2.0.0",
          "state": {
            "_model_module": "@jupyter-widgets/base",
            "_model_module_version": "2.0.0",
            "_model_name": "LayoutModel",
            "_view_count": null,
            "_view_module": "@jupyter-widgets/base",
            "_view_module_version": "2.0.0",
            "_view_name": "LayoutView",
            "align_content": null,
            "align_items": null,
            "align_self": null,
            "border_bottom": null,
            "border_left": null,
            "border_right": null,
            "border_top": null,
            "bottom": null,
            "display": null,
            "flex": null,
            "flex_flow": null,
            "grid_area": null,
            "grid_auto_columns": null,
            "grid_auto_flow": null,
            "grid_auto_rows": null,
            "grid_column": null,
            "grid_gap": null,
            "grid_row": null,
            "grid_template_areas": null,
            "grid_template_columns": null,
            "grid_template_rows": null,
            "height": null,
            "justify_content": null,
            "justify_items": null,
            "left": null,
            "margin": null,
            "max_height": null,
            "max_width": null,
            "min_height": null,
            "min_width": null,
            "object_fit": null,
            "object_position": null,
            "order": null,
            "overflow": null,
            "padding": null,
            "right": null,
            "top": null,
            "visibility": null,
            "width": null
          }
        },
        "3203e618f5f2440fa02f46bee54ab9e6": {
          "model_module": "@jupyter-widgets/controls",
          "model_name": "SliderStyleModel",
          "model_module_version": "2.0.0",
          "state": {
            "_model_module": "@jupyter-widgets/controls",
            "_model_module_version": "2.0.0",
            "_model_name": "SliderStyleModel",
            "_view_count": null,
            "_view_module": "@jupyter-widgets/base",
            "_view_module_version": "2.0.0",
            "_view_name": "StyleView",
            "description_width": "",
            "handle_color": null
          }
        },
        "93804e670d0b4da8aeb3fdeb0f97d36c": {
          "model_module": "@jupyter-widgets/controls",
          "model_name": "IntSliderModel",
          "model_module_version": "2.0.0",
          "state": {
            "_dom_classes": [],
            "_model_module": "@jupyter-widgets/controls",
            "_model_module_version": "2.0.0",
            "_model_name": "IntSliderModel",
            "_view_count": null,
            "_view_module": "@jupyter-widgets/controls",
            "_view_module_version": "2.0.0",
            "_view_name": "IntSliderView",
            "behavior": "drag-tap",
            "continuous_update": true,
            "description": "Random Seed",
            "description_allow_html": false,
            "disabled": false,
            "layout": "IPY_MODEL_712a5a60ed1449d9aad4399aff1048c9",
            "max": 10,
            "min": 1,
            "orientation": "horizontal",
            "readout": true,
            "readout_format": "d",
            "step": 1,
            "style": "IPY_MODEL_2b8d2660b19c48c788cb5d6199c23f5b",
            "tabbable": null,
            "tooltip": null,
            "value": 1
          }
        },
        "712a5a60ed1449d9aad4399aff1048c9": {
          "model_module": "@jupyter-widgets/base",
          "model_name": "LayoutModel",
          "model_module_version": "2.0.0",
          "state": {
            "_model_module": "@jupyter-widgets/base",
            "_model_module_version": "2.0.0",
            "_model_name": "LayoutModel",
            "_view_count": null,
            "_view_module": "@jupyter-widgets/base",
            "_view_module_version": "2.0.0",
            "_view_name": "LayoutView",
            "align_content": null,
            "align_items": null,
            "align_self": null,
            "border_bottom": null,
            "border_left": null,
            "border_right": null,
            "border_top": null,
            "bottom": null,
            "display": null,
            "flex": null,
            "flex_flow": null,
            "grid_area": null,
            "grid_auto_columns": null,
            "grid_auto_flow": null,
            "grid_auto_rows": null,
            "grid_column": null,
            "grid_gap": null,
            "grid_row": null,
            "grid_template_areas": null,
            "grid_template_columns": null,
            "grid_template_rows": null,
            "height": null,
            "justify_content": null,
            "justify_items": null,
            "left": null,
            "margin": null,
            "max_height": null,
            "max_width": null,
            "min_height": null,
            "min_width": null,
            "object_fit": null,
            "object_position": null,
            "order": null,
            "overflow": null,
            "padding": null,
            "right": null,
            "top": null,
            "visibility": null,
            "width": null
          }
        },
        "2b8d2660b19c48c788cb5d6199c23f5b": {
          "model_module": "@jupyter-widgets/controls",
          "model_name": "SliderStyleModel",
          "model_module_version": "2.0.0",
          "state": {
            "_model_module": "@jupyter-widgets/controls",
            "_model_module_version": "2.0.0",
            "_model_name": "SliderStyleModel",
            "_view_count": null,
            "_view_module": "@jupyter-widgets/base",
            "_view_module_version": "2.0.0",
            "_view_name": "StyleView",
            "description_width": "initial",
            "handle_color": null
          }
        },
        "c432c0dc237d40928736f1ff19a21aad": {
          "model_module": "@jupyter-widgets/controls",
          "model_name": "CheckboxModel",
          "model_module_version": "2.0.0",
          "state": {
            "_dom_classes": [],
            "_model_module": "@jupyter-widgets/controls",
            "_model_module_version": "2.0.0",
            "_model_name": "CheckboxModel",
            "_view_count": null,
            "_view_module": "@jupyter-widgets/controls",
            "_view_module_version": "2.0.0",
            "_view_name": "CheckboxView",
            "description": "Show Plot",
            "description_allow_html": false,
            "disabled": false,
            "indent": true,
            "layout": "IPY_MODEL_731243b2c2bc4e1eb7a2a7286860a248",
            "style": "IPY_MODEL_368a29fce98d47a1b5065fb85e1c3695",
            "tabbable": null,
            "tooltip": null,
            "value": false
          }
        },
        "731243b2c2bc4e1eb7a2a7286860a248": {
          "model_module": "@jupyter-widgets/base",
          "model_name": "LayoutModel",
          "model_module_version": "2.0.0",
          "state": {
            "_model_module": "@jupyter-widgets/base",
            "_model_module_version": "2.0.0",
            "_model_name": "LayoutModel",
            "_view_count": null,
            "_view_module": "@jupyter-widgets/base",
            "_view_module_version": "2.0.0",
            "_view_name": "LayoutView",
            "align_content": null,
            "align_items": null,
            "align_self": null,
            "border_bottom": null,
            "border_left": null,
            "border_right": null,
            "border_top": null,
            "bottom": null,
            "display": null,
            "flex": null,
            "flex_flow": null,
            "grid_area": null,
            "grid_auto_columns": null,
            "grid_auto_flow": null,
            "grid_auto_rows": null,
            "grid_column": null,
            "grid_gap": null,
            "grid_row": null,
            "grid_template_areas": null,
            "grid_template_columns": null,
            "grid_template_rows": null,
            "height": null,
            "justify_content": null,
            "justify_items": null,
            "left": null,
            "margin": null,
            "max_height": null,
            "max_width": null,
            "min_height": null,
            "min_width": null,
            "object_fit": null,
            "object_position": null,
            "order": null,
            "overflow": null,
            "padding": null,
            "right": null,
            "top": null,
            "visibility": null,
            "width": null
          }
        },
        "368a29fce98d47a1b5065fb85e1c3695": {
          "model_module": "@jupyter-widgets/controls",
          "model_name": "CheckboxStyleModel",
          "model_module_version": "2.0.0",
          "state": {
            "_model_module": "@jupyter-widgets/controls",
            "_model_module_version": "2.0.0",
            "_model_name": "CheckboxStyleModel",
            "_view_count": null,
            "_view_module": "@jupyter-widgets/base",
            "_view_module_version": "2.0.0",
            "_view_name": "StyleView",
            "background": null,
            "description_width": ""
          }
        },
        "a29887d98a3a4f64a4c550241a803209": {
          "model_module": "@jupyter-widgets/output",
          "model_name": "OutputModel",
          "model_module_version": "1.0.0",
          "state": {
            "_dom_classes": [],
            "_model_module": "@jupyter-widgets/output",
            "_model_module_version": "1.0.0",
            "_model_name": "OutputModel",
            "_view_count": null,
            "_view_module": "@jupyter-widgets/output",
            "_view_module_version": "1.0.0",
            "_view_name": "OutputView",
            "layout": "IPY_MODEL_8af3dc30761d446abc3fc645d425c069",
            "msg_id": "",
            "outputs": [],
            "tabbable": null,
            "tooltip": null
          }
        },
        "8af3dc30761d446abc3fc645d425c069": {
          "model_module": "@jupyter-widgets/base",
          "model_name": "LayoutModel",
          "model_module_version": "2.0.0",
          "state": {
            "_model_module": "@jupyter-widgets/base",
            "_model_module_version": "2.0.0",
            "_model_name": "LayoutModel",
            "_view_count": null,
            "_view_module": "@jupyter-widgets/base",
            "_view_module_version": "2.0.0",
            "_view_name": "LayoutView",
            "align_content": null,
            "align_items": null,
            "align_self": null,
            "border_bottom": null,
            "border_left": null,
            "border_right": null,
            "border_top": null,
            "bottom": null,
            "display": null,
            "flex": null,
            "flex_flow": null,
            "grid_area": null,
            "grid_auto_columns": null,
            "grid_auto_flow": null,
            "grid_auto_rows": null,
            "grid_column": null,
            "grid_gap": null,
            "grid_row": null,
            "grid_template_areas": null,
            "grid_template_columns": null,
            "grid_template_rows": null,
            "height": null,
            "justify_content": null,
            "justify_items": null,
            "left": null,
            "margin": null,
            "max_height": null,
            "max_width": null,
            "min_height": null,
            "min_width": null,
            "object_fit": null,
            "object_position": null,
            "order": null,
            "overflow": null,
            "padding": null,
            "right": null,
            "top": null,
            "visibility": null,
            "width": null
          }
        },
        "83a7283596e9461fa3383a698f31005d": {
          "model_module": "@jupyter-widgets/controls",
          "model_name": "IntSliderModel",
          "model_module_version": "2.0.0",
          "state": {
            "_dom_classes": [],
            "_model_module": "@jupyter-widgets/controls",
            "_model_module_version": "2.0.0",
            "_model_name": "IntSliderModel",
            "_view_count": null,
            "_view_module": "@jupyter-widgets/controls",
            "_view_module_version": "2.0.0",
            "_view_name": "IntSliderView",
            "behavior": "drag-tap",
            "continuous_update": true,
            "description": "n",
            "description_allow_html": false,
            "disabled": false,
            "layout": "IPY_MODEL_11792801be78482089dd595302429c40",
            "max": 200,
            "min": 10,
            "orientation": "horizontal",
            "readout": true,
            "readout_format": "d",
            "step": 2,
            "style": "IPY_MODEL_3636042d6b7e42aba30363428303d8c6",
            "tabbable": null,
            "tooltip": null,
            "value": 29
          }
        },
        "11792801be78482089dd595302429c40": {
          "model_module": "@jupyter-widgets/base",
          "model_name": "LayoutModel",
          "model_module_version": "2.0.0",
          "state": {
            "_model_module": "@jupyter-widgets/base",
            "_model_module_version": "2.0.0",
            "_model_name": "LayoutModel",
            "_view_count": null,
            "_view_module": "@jupyter-widgets/base",
            "_view_module_version": "2.0.0",
            "_view_name": "LayoutView",
            "align_content": null,
            "align_items": null,
            "align_self": null,
            "border_bottom": null,
            "border_left": null,
            "border_right": null,
            "border_top": null,
            "bottom": null,
            "display": null,
            "flex": null,
            "flex_flow": null,
            "grid_area": null,
            "grid_auto_columns": null,
            "grid_auto_flow": null,
            "grid_auto_rows": null,
            "grid_column": null,
            "grid_gap": null,
            "grid_row": null,
            "grid_template_areas": null,
            "grid_template_columns": null,
            "grid_template_rows": null,
            "height": null,
            "justify_content": null,
            "justify_items": null,
            "left": null,
            "margin": null,
            "max_height": null,
            "max_width": null,
            "min_height": null,
            "min_width": null,
            "object_fit": null,
            "object_position": null,
            "order": null,
            "overflow": null,
            "padding": null,
            "right": null,
            "top": null,
            "visibility": null,
            "width": null
          }
        },
        "3636042d6b7e42aba30363428303d8c6": {
          "model_module": "@jupyter-widgets/controls",
          "model_name": "SliderStyleModel",
          "model_module_version": "2.0.0",
          "state": {
            "_model_module": "@jupyter-widgets/controls",
            "_model_module_version": "2.0.0",
            "_model_name": "SliderStyleModel",
            "_view_count": null,
            "_view_module": "@jupyter-widgets/base",
            "_view_module_version": "2.0.0",
            "_view_name": "StyleView",
            "description_width": "",
            "handle_color": null
          }
        },
        "1ba3a342db49498daee58dda47896c7d": {
          "model_module": "@jupyter-widgets/controls",
          "model_name": "CheckboxModel",
          "model_module_version": "2.0.0",
          "state": {
            "_dom_classes": [],
            "_model_module": "@jupyter-widgets/controls",
            "_model_module_version": "2.0.0",
            "_model_name": "CheckboxModel",
            "_view_count": null,
            "_view_module": "@jupyter-widgets/controls",
            "_view_module_version": "2.0.0",
            "_view_name": "CheckboxView",
            "description": "Show Plot",
            "description_allow_html": false,
            "disabled": false,
            "indent": true,
            "layout": "IPY_MODEL_a17ac305eff84a63ac9ccdee3005bd05",
            "style": "IPY_MODEL_7f2ea5dd05c34571a6b8d80b4776efbb",
            "tabbable": null,
            "tooltip": null,
            "value": false
          }
        },
        "a17ac305eff84a63ac9ccdee3005bd05": {
          "model_module": "@jupyter-widgets/base",
          "model_name": "LayoutModel",
          "model_module_version": "2.0.0",
          "state": {
            "_model_module": "@jupyter-widgets/base",
            "_model_module_version": "2.0.0",
            "_model_name": "LayoutModel",
            "_view_count": null,
            "_view_module": "@jupyter-widgets/base",
            "_view_module_version": "2.0.0",
            "_view_name": "LayoutView",
            "align_content": null,
            "align_items": null,
            "align_self": null,
            "border_bottom": null,
            "border_left": null,
            "border_right": null,
            "border_top": null,
            "bottom": null,
            "display": null,
            "flex": null,
            "flex_flow": null,
            "grid_area": null,
            "grid_auto_columns": null,
            "grid_auto_flow": null,
            "grid_auto_rows": null,
            "grid_column": null,
            "grid_gap": null,
            "grid_row": null,
            "grid_template_areas": null,
            "grid_template_columns": null,
            "grid_template_rows": null,
            "height": null,
            "justify_content": null,
            "justify_items": null,
            "left": null,
            "margin": null,
            "max_height": null,
            "max_width": null,
            "min_height": null,
            "min_width": null,
            "object_fit": null,
            "object_position": null,
            "order": null,
            "overflow": null,
            "padding": null,
            "right": null,
            "top": null,
            "visibility": null,
            "width": null
          }
        },
        "7f2ea5dd05c34571a6b8d80b4776efbb": {
          "model_module": "@jupyter-widgets/controls",
          "model_name": "CheckboxStyleModel",
          "model_module_version": "2.0.0",
          "state": {
            "_model_module": "@jupyter-widgets/controls",
            "_model_module_version": "2.0.0",
            "_model_name": "CheckboxStyleModel",
            "_view_count": null,
            "_view_module": "@jupyter-widgets/base",
            "_view_module_version": "2.0.0",
            "_view_name": "StyleView",
            "background": null,
            "description_width": ""
          }
        },
        "4923078eba5f4d57b046e56fb230ad14": {
          "model_module": "@jupyter-widgets/output",
          "model_name": "OutputModel",
          "model_module_version": "1.0.0",
          "state": {
            "_dom_classes": [],
            "_model_module": "@jupyter-widgets/output",
            "_model_module_version": "1.0.0",
            "_model_name": "OutputModel",
            "_view_count": null,
            "_view_module": "@jupyter-widgets/output",
            "_view_module_version": "1.0.0",
            "_view_name": "OutputView",
            "layout": "IPY_MODEL_4fa86db9bc734318afa31688d5e2694e",
            "msg_id": "",
            "outputs": [],
            "tabbable": null,
            "tooltip": null
          }
        },
        "4fa86db9bc734318afa31688d5e2694e": {
          "model_module": "@jupyter-widgets/base",
          "model_name": "LayoutModel",
          "model_module_version": "2.0.0",
          "state": {
            "_model_module": "@jupyter-widgets/base",
            "_model_module_version": "2.0.0",
            "_model_name": "LayoutModel",
            "_view_count": null,
            "_view_module": "@jupyter-widgets/base",
            "_view_module_version": "2.0.0",
            "_view_name": "LayoutView",
            "align_content": null,
            "align_items": null,
            "align_self": null,
            "border_bottom": null,
            "border_left": null,
            "border_right": null,
            "border_top": null,
            "bottom": null,
            "display": null,
            "flex": null,
            "flex_flow": null,
            "grid_area": null,
            "grid_auto_columns": null,
            "grid_auto_flow": null,
            "grid_auto_rows": null,
            "grid_column": null,
            "grid_gap": null,
            "grid_row": null,
            "grid_template_areas": null,
            "grid_template_columns": null,
            "grid_template_rows": null,
            "height": null,
            "justify_content": null,
            "justify_items": null,
            "left": null,
            "margin": null,
            "max_height": null,
            "max_width": null,
            "min_height": null,
            "min_width": null,
            "object_fit": null,
            "object_position": null,
            "order": null,
            "overflow": null,
            "padding": null,
            "right": null,
            "top": null,
            "visibility": null,
            "width": null
          }
        },
        "2230980685734c15a04e7b9fc0713234": {
          "model_module": "@jupyter-widgets/controls",
          "model_name": "IntSliderModel",
          "model_module_version": "2.0.0",
          "state": {
            "_dom_classes": [],
            "_model_module": "@jupyter-widgets/controls",
            "_model_module_version": "2.0.0",
            "_model_name": "IntSliderModel",
            "_view_count": null,
            "_view_module": "@jupyter-widgets/controls",
            "_view_module_version": "2.0.0",
            "_view_name": "IntSliderView",
            "behavior": "drag-tap",
            "continuous_update": true,
            "description": "n",
            "description_allow_html": false,
            "disabled": false,
            "layout": "IPY_MODEL_e60a391bc3494a34a07225ab31c2242a",
            "max": 500,
            "min": 10,
            "orientation": "horizontal",
            "readout": true,
            "readout_format": "d",
            "step": 5,
            "style": "IPY_MODEL_347e9eabade2499ab74027397200a4d0",
            "tabbable": null,
            "tooltip": null,
            "value": 60
          }
        },
        "e60a391bc3494a34a07225ab31c2242a": {
          "model_module": "@jupyter-widgets/base",
          "model_name": "LayoutModel",
          "model_module_version": "2.0.0",
          "state": {
            "_model_module": "@jupyter-widgets/base",
            "_model_module_version": "2.0.0",
            "_model_name": "LayoutModel",
            "_view_count": null,
            "_view_module": "@jupyter-widgets/base",
            "_view_module_version": "2.0.0",
            "_view_name": "LayoutView",
            "align_content": null,
            "align_items": null,
            "align_self": null,
            "border_bottom": null,
            "border_left": null,
            "border_right": null,
            "border_top": null,
            "bottom": null,
            "display": null,
            "flex": null,
            "flex_flow": null,
            "grid_area": null,
            "grid_auto_columns": null,
            "grid_auto_flow": null,
            "grid_auto_rows": null,
            "grid_column": null,
            "grid_gap": null,
            "grid_row": null,
            "grid_template_areas": null,
            "grid_template_columns": null,
            "grid_template_rows": null,
            "height": null,
            "justify_content": null,
            "justify_items": null,
            "left": null,
            "margin": null,
            "max_height": null,
            "max_width": null,
            "min_height": null,
            "min_width": null,
            "object_fit": null,
            "object_position": null,
            "order": null,
            "overflow": null,
            "padding": null,
            "right": null,
            "top": null,
            "visibility": null,
            "width": null
          }
        },
        "347e9eabade2499ab74027397200a4d0": {
          "model_module": "@jupyter-widgets/controls",
          "model_name": "SliderStyleModel",
          "model_module_version": "2.0.0",
          "state": {
            "_model_module": "@jupyter-widgets/controls",
            "_model_module_version": "2.0.0",
            "_model_name": "SliderStyleModel",
            "_view_count": null,
            "_view_module": "@jupyter-widgets/base",
            "_view_module_version": "2.0.0",
            "_view_name": "StyleView",
            "description_width": "",
            "handle_color": null
          }
        },
        "1e3192594c2244c383570bbfc4e43f62": {
          "model_module": "@jupyter-widgets/controls",
          "model_name": "IntSliderModel",
          "model_module_version": "2.0.0",
          "state": {
            "_dom_classes": [],
            "_model_module": "@jupyter-widgets/controls",
            "_model_module_version": "2.0.0",
            "_model_name": "IntSliderModel",
            "_view_count": null,
            "_view_module": "@jupyter-widgets/controls",
            "_view_module_version": "2.0.0",
            "_view_name": "IntSliderView",
            "behavior": "drag-tap",
            "continuous_update": true,
            "description": "random seed",
            "description_allow_html": false,
            "disabled": false,
            "layout": "IPY_MODEL_ed07939b090941feb52e82913dec1c29",
            "max": 10,
            "min": 1,
            "orientation": "horizontal",
            "readout": true,
            "readout_format": "d",
            "step": 1,
            "style": "IPY_MODEL_f70098481370409e9a7c0d81d2b9c7df",
            "tabbable": null,
            "tooltip": null,
            "value": 1
          }
        },
        "ed07939b090941feb52e82913dec1c29": {
          "model_module": "@jupyter-widgets/base",
          "model_name": "LayoutModel",
          "model_module_version": "2.0.0",
          "state": {
            "_model_module": "@jupyter-widgets/base",
            "_model_module_version": "2.0.0",
            "_model_name": "LayoutModel",
            "_view_count": null,
            "_view_module": "@jupyter-widgets/base",
            "_view_module_version": "2.0.0",
            "_view_name": "LayoutView",
            "align_content": null,
            "align_items": null,
            "align_self": null,
            "border_bottom": null,
            "border_left": null,
            "border_right": null,
            "border_top": null,
            "bottom": null,
            "display": null,
            "flex": null,
            "flex_flow": null,
            "grid_area": null,
            "grid_auto_columns": null,
            "grid_auto_flow": null,
            "grid_auto_rows": null,
            "grid_column": null,
            "grid_gap": null,
            "grid_row": null,
            "grid_template_areas": null,
            "grid_template_columns": null,
            "grid_template_rows": null,
            "height": null,
            "justify_content": null,
            "justify_items": null,
            "left": null,
            "margin": null,
            "max_height": null,
            "max_width": null,
            "min_height": null,
            "min_width": null,
            "object_fit": null,
            "object_position": null,
            "order": null,
            "overflow": null,
            "padding": null,
            "right": null,
            "top": null,
            "visibility": null,
            "width": null
          }
        },
        "f70098481370409e9a7c0d81d2b9c7df": {
          "model_module": "@jupyter-widgets/controls",
          "model_name": "SliderStyleModel",
          "model_module_version": "2.0.0",
          "state": {
            "_model_module": "@jupyter-widgets/controls",
            "_model_module_version": "2.0.0",
            "_model_name": "SliderStyleModel",
            "_view_count": null,
            "_view_module": "@jupyter-widgets/base",
            "_view_module_version": "2.0.0",
            "_view_name": "StyleView",
            "description_width": "initial",
            "handle_color": null
          }
        },
        "2c3027fe3be64f26991ddb8bb7e73cdb": {
          "model_module": "@jupyter-widgets/controls",
          "model_name": "CheckboxModel",
          "model_module_version": "2.0.0",
          "state": {
            "_dom_classes": [],
            "_model_module": "@jupyter-widgets/controls",
            "_model_module_version": "2.0.0",
            "_model_name": "CheckboxModel",
            "_view_count": null,
            "_view_module": "@jupyter-widgets/controls",
            "_view_module_version": "2.0.0",
            "_view_name": "CheckboxView",
            "description": "Show Plot",
            "description_allow_html": false,
            "disabled": false,
            "indent": true,
            "layout": "IPY_MODEL_d6807b0dbc3740cb9c82fc0f84624617",
            "style": "IPY_MODEL_962dc92ecb4e47c2b0f48c33b485f568",
            "tabbable": null,
            "tooltip": null,
            "value": false
          }
        },
        "d6807b0dbc3740cb9c82fc0f84624617": {
          "model_module": "@jupyter-widgets/base",
          "model_name": "LayoutModel",
          "model_module_version": "2.0.0",
          "state": {
            "_model_module": "@jupyter-widgets/base",
            "_model_module_version": "2.0.0",
            "_model_name": "LayoutModel",
            "_view_count": null,
            "_view_module": "@jupyter-widgets/base",
            "_view_module_version": "2.0.0",
            "_view_name": "LayoutView",
            "align_content": null,
            "align_items": null,
            "align_self": null,
            "border_bottom": null,
            "border_left": null,
            "border_right": null,
            "border_top": null,
            "bottom": null,
            "display": null,
            "flex": null,
            "flex_flow": null,
            "grid_area": null,
            "grid_auto_columns": null,
            "grid_auto_flow": null,
            "grid_auto_rows": null,
            "grid_column": null,
            "grid_gap": null,
            "grid_row": null,
            "grid_template_areas": null,
            "grid_template_columns": null,
            "grid_template_rows": null,
            "height": null,
            "justify_content": null,
            "justify_items": null,
            "left": null,
            "margin": null,
            "max_height": null,
            "max_width": null,
            "min_height": null,
            "min_width": null,
            "object_fit": null,
            "object_position": null,
            "order": null,
            "overflow": null,
            "padding": null,
            "right": null,
            "top": null,
            "visibility": null,
            "width": null
          }
        },
        "962dc92ecb4e47c2b0f48c33b485f568": {
          "model_module": "@jupyter-widgets/controls",
          "model_name": "CheckboxStyleModel",
          "model_module_version": "2.0.0",
          "state": {
            "_model_module": "@jupyter-widgets/controls",
            "_model_module_version": "2.0.0",
            "_model_name": "CheckboxStyleModel",
            "_view_count": null,
            "_view_module": "@jupyter-widgets/base",
            "_view_module_version": "2.0.0",
            "_view_name": "StyleView",
            "background": null,
            "description_width": ""
          }
        },
        "b4237a26f7b84981814d9e068536cd53": {
          "model_module": "@jupyter-widgets/output",
          "model_name": "OutputModel",
          "model_module_version": "1.0.0",
          "state": {
            "_dom_classes": [],
            "_model_module": "@jupyter-widgets/output",
            "_model_module_version": "1.0.0",
            "_model_name": "OutputModel",
            "_view_count": null,
            "_view_module": "@jupyter-widgets/output",
            "_view_module_version": "1.0.0",
            "_view_name": "OutputView",
            "layout": "IPY_MODEL_f40f227c565341cea0aba56ad7afd5c7",
            "msg_id": "",
            "outputs": [],
            "tabbable": null,
            "tooltip": null
          }
        },
        "f40f227c565341cea0aba56ad7afd5c7": {
          "model_module": "@jupyter-widgets/base",
          "model_name": "LayoutModel",
          "model_module_version": "2.0.0",
          "state": {
            "_model_module": "@jupyter-widgets/base",
            "_model_module_version": "2.0.0",
            "_model_name": "LayoutModel",
            "_view_count": null,
            "_view_module": "@jupyter-widgets/base",
            "_view_module_version": "2.0.0",
            "_view_name": "LayoutView",
            "align_content": null,
            "align_items": null,
            "align_self": null,
            "border_bottom": null,
            "border_left": null,
            "border_right": null,
            "border_top": null,
            "bottom": null,
            "display": null,
            "flex": null,
            "flex_flow": null,
            "grid_area": null,
            "grid_auto_columns": null,
            "grid_auto_flow": null,
            "grid_auto_rows": null,
            "grid_column": null,
            "grid_gap": null,
            "grid_row": null,
            "grid_template_areas": null,
            "grid_template_columns": null,
            "grid_template_rows": null,
            "height": null,
            "justify_content": null,
            "justify_items": null,
            "left": null,
            "margin": null,
            "max_height": null,
            "max_width": null,
            "min_height": null,
            "min_width": null,
            "object_fit": null,
            "object_position": null,
            "order": null,
            "overflow": null,
            "padding": null,
            "right": null,
            "top": null,
            "visibility": null,
            "width": null
          }
        },
        "22060faffc9f47c3a5d1b459fd09b8ce": {
          "model_module": "@jupyter-widgets/controls",
          "model_name": "CheckboxModel",
          "model_module_version": "2.0.0",
          "state": {
            "_dom_classes": [],
            "_model_module": "@jupyter-widgets/controls",
            "_model_module_version": "2.0.0",
            "_model_name": "CheckboxModel",
            "_view_count": null,
            "_view_module": "@jupyter-widgets/controls",
            "_view_module_version": "2.0.0",
            "_view_name": "CheckboxView",
            "description": "Show Plot",
            "description_allow_html": false,
            "disabled": false,
            "indent": true,
            "layout": "IPY_MODEL_5b0938bdbfb84273b525027628a9cbe9",
            "style": "IPY_MODEL_d23eee6bf9534354973454a8b476c456",
            "tabbable": null,
            "tooltip": null,
            "value": false
          }
        },
        "5b0938bdbfb84273b525027628a9cbe9": {
          "model_module": "@jupyter-widgets/base",
          "model_name": "LayoutModel",
          "model_module_version": "2.0.0",
          "state": {
            "_model_module": "@jupyter-widgets/base",
            "_model_module_version": "2.0.0",
            "_model_name": "LayoutModel",
            "_view_count": null,
            "_view_module": "@jupyter-widgets/base",
            "_view_module_version": "2.0.0",
            "_view_name": "LayoutView",
            "align_content": null,
            "align_items": null,
            "align_self": null,
            "border_bottom": null,
            "border_left": null,
            "border_right": null,
            "border_top": null,
            "bottom": null,
            "display": null,
            "flex": null,
            "flex_flow": null,
            "grid_area": null,
            "grid_auto_columns": null,
            "grid_auto_flow": null,
            "grid_auto_rows": null,
            "grid_column": null,
            "grid_gap": null,
            "grid_row": null,
            "grid_template_areas": null,
            "grid_template_columns": null,
            "grid_template_rows": null,
            "height": null,
            "justify_content": null,
            "justify_items": null,
            "left": null,
            "margin": null,
            "max_height": null,
            "max_width": null,
            "min_height": null,
            "min_width": null,
            "object_fit": null,
            "object_position": null,
            "order": null,
            "overflow": null,
            "padding": null,
            "right": null,
            "top": null,
            "visibility": null,
            "width": null
          }
        },
        "d23eee6bf9534354973454a8b476c456": {
          "model_module": "@jupyter-widgets/controls",
          "model_name": "CheckboxStyleModel",
          "model_module_version": "2.0.0",
          "state": {
            "_model_module": "@jupyter-widgets/controls",
            "_model_module_version": "2.0.0",
            "_model_name": "CheckboxStyleModel",
            "_view_count": null,
            "_view_module": "@jupyter-widgets/base",
            "_view_module_version": "2.0.0",
            "_view_name": "StyleView",
            "background": null,
            "description_width": ""
          }
        },
        "dfde729df6594317af7a2375cd4efe67": {
          "model_module": "@jupyter-widgets/output",
          "model_name": "OutputModel",
          "model_module_version": "1.0.0",
          "state": {
            "_dom_classes": [],
            "_model_module": "@jupyter-widgets/output",
            "_model_module_version": "1.0.0",
            "_model_name": "OutputModel",
            "_view_count": null,
            "_view_module": "@jupyter-widgets/output",
            "_view_module_version": "1.0.0",
            "_view_name": "OutputView",
            "layout": "IPY_MODEL_2e2f7cdabfce4c8a8e4f9abda8ce7d62",
            "msg_id": "",
            "outputs": [],
            "tabbable": null,
            "tooltip": null
          }
        },
        "2e2f7cdabfce4c8a8e4f9abda8ce7d62": {
          "model_module": "@jupyter-widgets/base",
          "model_name": "LayoutModel",
          "model_module_version": "2.0.0",
          "state": {
            "_model_module": "@jupyter-widgets/base",
            "_model_module_version": "2.0.0",
            "_model_name": "LayoutModel",
            "_view_count": null,
            "_view_module": "@jupyter-widgets/base",
            "_view_module_version": "2.0.0",
            "_view_name": "LayoutView",
            "align_content": null,
            "align_items": null,
            "align_self": null,
            "border_bottom": null,
            "border_left": null,
            "border_right": null,
            "border_top": null,
            "bottom": null,
            "display": null,
            "flex": null,
            "flex_flow": null,
            "grid_area": null,
            "grid_auto_columns": null,
            "grid_auto_flow": null,
            "grid_auto_rows": null,
            "grid_column": null,
            "grid_gap": null,
            "grid_row": null,
            "grid_template_areas": null,
            "grid_template_columns": null,
            "grid_template_rows": null,
            "height": null,
            "justify_content": null,
            "justify_items": null,
            "left": null,
            "margin": null,
            "max_height": null,
            "max_width": null,
            "min_height": null,
            "min_width": null,
            "object_fit": null,
            "object_position": null,
            "order": null,
            "overflow": null,
            "padding": null,
            "right": null,
            "top": null,
            "visibility": null,
            "width": null
          }
        },
        "9d729790e3444ae3a352a8c6f2501978": {
          "model_module": "@jupyter-widgets/controls",
          "model_name": "CheckboxModel",
          "model_module_version": "2.0.0",
          "state": {
            "_dom_classes": [],
            "_model_module": "@jupyter-widgets/controls",
            "_model_module_version": "2.0.0",
            "_model_name": "CheckboxModel",
            "_view_count": null,
            "_view_module": "@jupyter-widgets/controls",
            "_view_module_version": "2.0.0",
            "_view_name": "CheckboxView",
            "description": "Show Plot",
            "description_allow_html": false,
            "disabled": false,
            "indent": true,
            "layout": "IPY_MODEL_a457b25b9a9b41e788b7ea7de9976592",
            "style": "IPY_MODEL_36e1ba07161f403ca8a522c58d606d9b",
            "tabbable": null,
            "tooltip": null,
            "value": false
          }
        },
        "a457b25b9a9b41e788b7ea7de9976592": {
          "model_module": "@jupyter-widgets/base",
          "model_name": "LayoutModel",
          "model_module_version": "2.0.0",
          "state": {
            "_model_module": "@jupyter-widgets/base",
            "_model_module_version": "2.0.0",
            "_model_name": "LayoutModel",
            "_view_count": null,
            "_view_module": "@jupyter-widgets/base",
            "_view_module_version": "2.0.0",
            "_view_name": "LayoutView",
            "align_content": null,
            "align_items": null,
            "align_self": null,
            "border_bottom": null,
            "border_left": null,
            "border_right": null,
            "border_top": null,
            "bottom": null,
            "display": null,
            "flex": null,
            "flex_flow": null,
            "grid_area": null,
            "grid_auto_columns": null,
            "grid_auto_flow": null,
            "grid_auto_rows": null,
            "grid_column": null,
            "grid_gap": null,
            "grid_row": null,
            "grid_template_areas": null,
            "grid_template_columns": null,
            "grid_template_rows": null,
            "height": null,
            "justify_content": null,
            "justify_items": null,
            "left": null,
            "margin": null,
            "max_height": null,
            "max_width": null,
            "min_height": null,
            "min_width": null,
            "object_fit": null,
            "object_position": null,
            "order": null,
            "overflow": null,
            "padding": null,
            "right": null,
            "top": null,
            "visibility": null,
            "width": null
          }
        },
        "36e1ba07161f403ca8a522c58d606d9b": {
          "model_module": "@jupyter-widgets/controls",
          "model_name": "CheckboxStyleModel",
          "model_module_version": "2.0.0",
          "state": {
            "_model_module": "@jupyter-widgets/controls",
            "_model_module_version": "2.0.0",
            "_model_name": "CheckboxStyleModel",
            "_view_count": null,
            "_view_module": "@jupyter-widgets/base",
            "_view_module_version": "2.0.0",
            "_view_name": "StyleView",
            "background": null,
            "description_width": ""
          }
        },
        "0fbab498b57248bcaad1b0cb195315a3": {
          "model_module": "@jupyter-widgets/output",
          "model_name": "OutputModel",
          "model_module_version": "1.0.0",
          "state": {
            "_dom_classes": [],
            "_model_module": "@jupyter-widgets/output",
            "_model_module_version": "1.0.0",
            "_model_name": "OutputModel",
            "_view_count": null,
            "_view_module": "@jupyter-widgets/output",
            "_view_module_version": "1.0.0",
            "_view_name": "OutputView",
            "layout": "IPY_MODEL_86ab562083834f78ae71845a3a558196",
            "msg_id": "",
            "outputs": [],
            "tabbable": null,
            "tooltip": null
          }
        },
        "86ab562083834f78ae71845a3a558196": {
          "model_module": "@jupyter-widgets/base",
          "model_name": "LayoutModel",
          "model_module_version": "2.0.0",
          "state": {
            "_model_module": "@jupyter-widgets/base",
            "_model_module_version": "2.0.0",
            "_model_name": "LayoutModel",
            "_view_count": null,
            "_view_module": "@jupyter-widgets/base",
            "_view_module_version": "2.0.0",
            "_view_name": "LayoutView",
            "align_content": null,
            "align_items": null,
            "align_self": null,
            "border_bottom": null,
            "border_left": null,
            "border_right": null,
            "border_top": null,
            "bottom": null,
            "display": null,
            "flex": null,
            "flex_flow": null,
            "grid_area": null,
            "grid_auto_columns": null,
            "grid_auto_flow": null,
            "grid_auto_rows": null,
            "grid_column": null,
            "grid_gap": null,
            "grid_row": null,
            "grid_template_areas": null,
            "grid_template_columns": null,
            "grid_template_rows": null,
            "height": null,
            "justify_content": null,
            "justify_items": null,
            "left": null,
            "margin": null,
            "max_height": null,
            "max_width": null,
            "min_height": null,
            "min_width": null,
            "object_fit": null,
            "object_position": null,
            "order": null,
            "overflow": null,
            "padding": null,
            "right": null,
            "top": null,
            "visibility": null,
            "width": null
          }
        },
        "08889d87018d46daae3224875f945dff": {
          "model_module": "@jupyter-widgets/controls",
          "model_name": "IntSliderModel",
          "model_module_version": "2.0.0",
          "state": {
            "_dom_classes": [],
            "_model_module": "@jupyter-widgets/controls",
            "_model_module_version": "2.0.0",
            "_model_name": "IntSliderModel",
            "_view_count": null,
            "_view_module": "@jupyter-widgets/controls",
            "_view_module_version": "2.0.0",
            "_view_name": "IntSliderView",
            "behavior": "drag-tap",
            "continuous_update": true,
            "description": "Random Seed",
            "description_allow_html": false,
            "disabled": false,
            "layout": "IPY_MODEL_2a440050d5f54f5c932b1ca6e4359556",
            "max": 10,
            "min": 1,
            "orientation": "horizontal",
            "readout": true,
            "readout_format": "d",
            "step": 1,
            "style": "IPY_MODEL_88c3901bf7654cbdaba61eb6fb7c410c",
            "tabbable": null,
            "tooltip": null,
            "value": 1
          }
        },
        "2a440050d5f54f5c932b1ca6e4359556": {
          "model_module": "@jupyter-widgets/base",
          "model_name": "LayoutModel",
          "model_module_version": "2.0.0",
          "state": {
            "_model_module": "@jupyter-widgets/base",
            "_model_module_version": "2.0.0",
            "_model_name": "LayoutModel",
            "_view_count": null,
            "_view_module": "@jupyter-widgets/base",
            "_view_module_version": "2.0.0",
            "_view_name": "LayoutView",
            "align_content": null,
            "align_items": null,
            "align_self": null,
            "border_bottom": null,
            "border_left": null,
            "border_right": null,
            "border_top": null,
            "bottom": null,
            "display": null,
            "flex": null,
            "flex_flow": null,
            "grid_area": null,
            "grid_auto_columns": null,
            "grid_auto_flow": null,
            "grid_auto_rows": null,
            "grid_column": null,
            "grid_gap": null,
            "grid_row": null,
            "grid_template_areas": null,
            "grid_template_columns": null,
            "grid_template_rows": null,
            "height": null,
            "justify_content": null,
            "justify_items": null,
            "left": null,
            "margin": null,
            "max_height": null,
            "max_width": null,
            "min_height": null,
            "min_width": null,
            "object_fit": null,
            "object_position": null,
            "order": null,
            "overflow": null,
            "padding": null,
            "right": null,
            "top": null,
            "visibility": null,
            "width": null
          }
        },
        "88c3901bf7654cbdaba61eb6fb7c410c": {
          "model_module": "@jupyter-widgets/controls",
          "model_name": "SliderStyleModel",
          "model_module_version": "2.0.0",
          "state": {
            "_model_module": "@jupyter-widgets/controls",
            "_model_module_version": "2.0.0",
            "_model_name": "SliderStyleModel",
            "_view_count": null,
            "_view_module": "@jupyter-widgets/base",
            "_view_module_version": "2.0.0",
            "_view_name": "StyleView",
            "description_width": "initial",
            "handle_color": null
          }
        },
        "9a96997b9f2a43f0bde529b7a9217221": {
          "model_module": "@jupyter-widgets/controls",
          "model_name": "FloatLogSliderModel",
          "model_module_version": "2.0.0",
          "state": {
            "_dom_classes": [],
            "_model_module": "@jupyter-widgets/controls",
            "_model_module_version": "2.0.0",
            "_model_name": "FloatLogSliderModel",
            "_view_count": null,
            "_view_module": "@jupyter-widgets/controls",
            "_view_module_version": "2.0.0",
            "_view_name": "FloatLogSliderView",
            "base": 10,
            "behavior": "drag-tap",
            "continuous_update": true,
            "description": "Lambda",
            "description_allow_html": false,
            "disabled": false,
            "layout": "IPY_MODEL_afc0e51157f44c1885c2654005928abb",
            "max": 2,
            "min": -4,
            "orientation": "horizontal",
            "readout": true,
            "readout_format": ".3g",
            "step": 0.1,
            "style": "IPY_MODEL_825f5ff310674928adfaedb6c47da67b",
            "tabbable": null,
            "tooltip": null,
            "value": 0.01
          }
        },
        "afc0e51157f44c1885c2654005928abb": {
          "model_module": "@jupyter-widgets/base",
          "model_name": "LayoutModel",
          "model_module_version": "2.0.0",
          "state": {
            "_model_module": "@jupyter-widgets/base",
            "_model_module_version": "2.0.0",
            "_model_name": "LayoutModel",
            "_view_count": null,
            "_view_module": "@jupyter-widgets/base",
            "_view_module_version": "2.0.0",
            "_view_name": "LayoutView",
            "align_content": null,
            "align_items": null,
            "align_self": null,
            "border_bottom": null,
            "border_left": null,
            "border_right": null,
            "border_top": null,
            "bottom": null,
            "display": null,
            "flex": null,
            "flex_flow": null,
            "grid_area": null,
            "grid_auto_columns": null,
            "grid_auto_flow": null,
            "grid_auto_rows": null,
            "grid_column": null,
            "grid_gap": null,
            "grid_row": null,
            "grid_template_areas": null,
            "grid_template_columns": null,
            "grid_template_rows": null,
            "height": null,
            "justify_content": null,
            "justify_items": null,
            "left": null,
            "margin": null,
            "max_height": null,
            "max_width": null,
            "min_height": null,
            "min_width": null,
            "object_fit": null,
            "object_position": null,
            "order": null,
            "overflow": null,
            "padding": null,
            "right": null,
            "top": null,
            "visibility": null,
            "width": null
          }
        },
        "825f5ff310674928adfaedb6c47da67b": {
          "model_module": "@jupyter-widgets/controls",
          "model_name": "SliderStyleModel",
          "model_module_version": "2.0.0",
          "state": {
            "_model_module": "@jupyter-widgets/controls",
            "_model_module_version": "2.0.0",
            "_model_name": "SliderStyleModel",
            "_view_count": null,
            "_view_module": "@jupyter-widgets/base",
            "_view_module_version": "2.0.0",
            "_view_name": "StyleView",
            "description_width": "",
            "handle_color": null
          }
        },
        "56003883403544f6a0c896f8731b1881": {
          "model_module": "@jupyter-widgets/controls",
          "model_name": "CheckboxModel",
          "model_module_version": "2.0.0",
          "state": {
            "_dom_classes": [],
            "_model_module": "@jupyter-widgets/controls",
            "_model_module_version": "2.0.0",
            "_model_name": "CheckboxModel",
            "_view_count": null,
            "_view_module": "@jupyter-widgets/controls",
            "_view_module_version": "2.0.0",
            "_view_name": "CheckboxView",
            "description": "Show Plot",
            "description_allow_html": false,
            "disabled": false,
            "indent": true,
            "layout": "IPY_MODEL_87fe69618d7b445abb42b211454b7f9e",
            "style": "IPY_MODEL_a97e75e13f894110979ed0520f53a1e7",
            "tabbable": null,
            "tooltip": null,
            "value": false
          }
        },
        "87fe69618d7b445abb42b211454b7f9e": {
          "model_module": "@jupyter-widgets/base",
          "model_name": "LayoutModel",
          "model_module_version": "2.0.0",
          "state": {
            "_model_module": "@jupyter-widgets/base",
            "_model_module_version": "2.0.0",
            "_model_name": "LayoutModel",
            "_view_count": null,
            "_view_module": "@jupyter-widgets/base",
            "_view_module_version": "2.0.0",
            "_view_name": "LayoutView",
            "align_content": null,
            "align_items": null,
            "align_self": null,
            "border_bottom": null,
            "border_left": null,
            "border_right": null,
            "border_top": null,
            "bottom": null,
            "display": null,
            "flex": null,
            "flex_flow": null,
            "grid_area": null,
            "grid_auto_columns": null,
            "grid_auto_flow": null,
            "grid_auto_rows": null,
            "grid_column": null,
            "grid_gap": null,
            "grid_row": null,
            "grid_template_areas": null,
            "grid_template_columns": null,
            "grid_template_rows": null,
            "height": null,
            "justify_content": null,
            "justify_items": null,
            "left": null,
            "margin": null,
            "max_height": null,
            "max_width": null,
            "min_height": null,
            "min_width": null,
            "object_fit": null,
            "object_position": null,
            "order": null,
            "overflow": null,
            "padding": null,
            "right": null,
            "top": null,
            "visibility": null,
            "width": null
          }
        },
        "a97e75e13f894110979ed0520f53a1e7": {
          "model_module": "@jupyter-widgets/controls",
          "model_name": "CheckboxStyleModel",
          "model_module_version": "2.0.0",
          "state": {
            "_model_module": "@jupyter-widgets/controls",
            "_model_module_version": "2.0.0",
            "_model_name": "CheckboxStyleModel",
            "_view_count": null,
            "_view_module": "@jupyter-widgets/base",
            "_view_module_version": "2.0.0",
            "_view_name": "StyleView",
            "background": null,
            "description_width": ""
          }
        },
        "c581e7f15c234c83b7545a3dc0fccb26": {
          "model_module": "@jupyter-widgets/output",
          "model_name": "OutputModel",
          "model_module_version": "1.0.0",
          "state": {
            "_dom_classes": [],
            "_model_module": "@jupyter-widgets/output",
            "_model_module_version": "1.0.0",
            "_model_name": "OutputModel",
            "_view_count": null,
            "_view_module": "@jupyter-widgets/output",
            "_view_module_version": "1.0.0",
            "_view_name": "OutputView",
            "layout": "IPY_MODEL_3720ef927e13464e9389dad8bc9c6673",
            "msg_id": "",
            "outputs": [],
            "tabbable": null,
            "tooltip": null
          }
        },
        "3720ef927e13464e9389dad8bc9c6673": {
          "model_module": "@jupyter-widgets/base",
          "model_name": "LayoutModel",
          "model_module_version": "2.0.0",
          "state": {
            "_model_module": "@jupyter-widgets/base",
            "_model_module_version": "2.0.0",
            "_model_name": "LayoutModel",
            "_view_count": null,
            "_view_module": "@jupyter-widgets/base",
            "_view_module_version": "2.0.0",
            "_view_name": "LayoutView",
            "align_content": null,
            "align_items": null,
            "align_self": null,
            "border_bottom": null,
            "border_left": null,
            "border_right": null,
            "border_top": null,
            "bottom": null,
            "display": null,
            "flex": null,
            "flex_flow": null,
            "grid_area": null,
            "grid_auto_columns": null,
            "grid_auto_flow": null,
            "grid_auto_rows": null,
            "grid_column": null,
            "grid_gap": null,
            "grid_row": null,
            "grid_template_areas": null,
            "grid_template_columns": null,
            "grid_template_rows": null,
            "height": null,
            "justify_content": null,
            "justify_items": null,
            "left": null,
            "margin": null,
            "max_height": null,
            "max_width": null,
            "min_height": null,
            "min_width": null,
            "object_fit": null,
            "object_position": null,
            "order": null,
            "overflow": null,
            "padding": null,
            "right": null,
            "top": null,
            "visibility": null,
            "width": null
          }
        },
        "6e5aafc83c804e4abf313379d88b360e": {
          "model_module": "@jupyter-widgets/controls",
          "model_name": "CheckboxModel",
          "model_module_version": "2.0.0",
          "state": {
            "_dom_classes": [],
            "_model_module": "@jupyter-widgets/controls",
            "_model_module_version": "2.0.0",
            "_model_name": "CheckboxModel",
            "_view_count": null,
            "_view_module": "@jupyter-widgets/controls",
            "_view_module_version": "2.0.0",
            "_view_name": "CheckboxView",
            "description": "Show Plot",
            "description_allow_html": false,
            "disabled": false,
            "indent": true,
            "layout": "IPY_MODEL_2a0510d2356b4ba9a867b874ae73a741",
            "style": "IPY_MODEL_536e42a1d39f4dbc84352d43cbd38da8",
            "tabbable": null,
            "tooltip": null,
            "value": false
          }
        },
        "2a0510d2356b4ba9a867b874ae73a741": {
          "model_module": "@jupyter-widgets/base",
          "model_name": "LayoutModel",
          "model_module_version": "2.0.0",
          "state": {
            "_model_module": "@jupyter-widgets/base",
            "_model_module_version": "2.0.0",
            "_model_name": "LayoutModel",
            "_view_count": null,
            "_view_module": "@jupyter-widgets/base",
            "_view_module_version": "2.0.0",
            "_view_name": "LayoutView",
            "align_content": null,
            "align_items": null,
            "align_self": null,
            "border_bottom": null,
            "border_left": null,
            "border_right": null,
            "border_top": null,
            "bottom": null,
            "display": null,
            "flex": null,
            "flex_flow": null,
            "grid_area": null,
            "grid_auto_columns": null,
            "grid_auto_flow": null,
            "grid_auto_rows": null,
            "grid_column": null,
            "grid_gap": null,
            "grid_row": null,
            "grid_template_areas": null,
            "grid_template_columns": null,
            "grid_template_rows": null,
            "height": null,
            "justify_content": null,
            "justify_items": null,
            "left": null,
            "margin": null,
            "max_height": null,
            "max_width": null,
            "min_height": null,
            "min_width": null,
            "object_fit": null,
            "object_position": null,
            "order": null,
            "overflow": null,
            "padding": null,
            "right": null,
            "top": null,
            "visibility": null,
            "width": null
          }
        },
        "536e42a1d39f4dbc84352d43cbd38da8": {
          "model_module": "@jupyter-widgets/controls",
          "model_name": "CheckboxStyleModel",
          "model_module_version": "2.0.0",
          "state": {
            "_model_module": "@jupyter-widgets/controls",
            "_model_module_version": "2.0.0",
            "_model_name": "CheckboxStyleModel",
            "_view_count": null,
            "_view_module": "@jupyter-widgets/base",
            "_view_module_version": "2.0.0",
            "_view_name": "StyleView",
            "background": null,
            "description_width": ""
          }
        },
        "27ce74af547b4d999f49aed5225058ed": {
          "model_module": "@jupyter-widgets/output",
          "model_name": "OutputModel",
          "model_module_version": "1.0.0",
          "state": {
            "_dom_classes": [],
            "_model_module": "@jupyter-widgets/output",
            "_model_module_version": "1.0.0",
            "_model_name": "OutputModel",
            "_view_count": null,
            "_view_module": "@jupyter-widgets/output",
            "_view_module_version": "1.0.0",
            "_view_name": "OutputView",
            "layout": "IPY_MODEL_5644468d47824faa8570e6be0a7bdfe0",
            "msg_id": "",
            "outputs": [],
            "tabbable": null,
            "tooltip": null
          }
        },
        "5644468d47824faa8570e6be0a7bdfe0": {
          "model_module": "@jupyter-widgets/base",
          "model_name": "LayoutModel",
          "model_module_version": "2.0.0",
          "state": {
            "_model_module": "@jupyter-widgets/base",
            "_model_module_version": "2.0.0",
            "_model_name": "LayoutModel",
            "_view_count": null,
            "_view_module": "@jupyter-widgets/base",
            "_view_module_version": "2.0.0",
            "_view_name": "LayoutView",
            "align_content": null,
            "align_items": null,
            "align_self": null,
            "border_bottom": null,
            "border_left": null,
            "border_right": null,
            "border_top": null,
            "bottom": null,
            "display": null,
            "flex": null,
            "flex_flow": null,
            "grid_area": null,
            "grid_auto_columns": null,
            "grid_auto_flow": null,
            "grid_auto_rows": null,
            "grid_column": null,
            "grid_gap": null,
            "grid_row": null,
            "grid_template_areas": null,
            "grid_template_columns": null,
            "grid_template_rows": null,
            "height": null,
            "justify_content": null,
            "justify_items": null,
            "left": null,
            "margin": null,
            "max_height": null,
            "max_width": null,
            "min_height": null,
            "min_width": null,
            "object_fit": null,
            "object_position": null,
            "order": null,
            "overflow": null,
            "padding": null,
            "right": null,
            "top": null,
            "visibility": null,
            "width": null
          }
        }
      }
    }
  },
  "nbformat": 4,
  "nbformat_minor": 0
}