{
  "cells": [
    {
      "cell_type": "markdown",
      "metadata": {
        "id": "view-in-github",
        "colab_type": "text"
      },
      "source": [
        "<a href=\"https://colab.research.google.com/github/samia225/CMPUT_267/blob/main/Samia's_copy_of_ass4.ipynb\" target=\"_parent\"><img src=\"https://colab.research.google.com/assets/colab-badge.svg\" alt=\"Open In Colab\"/></a>"
      ]
    },
    {
      "cell_type": "code",
      "source": [
        "# Enable widgets\n",
        "from google.colab import output\n",
        "output.enable_custom_widget_manager()\n",
        "import ipywidgets as widgets"
      ],
      "metadata": {
        "id": "MuMLT_iETg61"
      },
      "execution_count": null,
      "outputs": []
    },
    {
      "cell_type": "code",
      "execution_count": null,
      "metadata": {
        "id": "x8xSS1aA64MZ"
      },
      "outputs": [],
      "source": [
        "# Install otter-grader\n",
        "%pip install -q otter-grader\n",
        "\n",
        "# Download the tests directory from the course website (this will be used by otter-grader)\n",
        "!wget -q https://vladtkachuk4.github.io/machinelearning1/assignments/Fall2024/ass4/tests.zip -O tests.zip\n",
        "\n",
        "# Unzip the tests directory, forcing overwriting of existing files\n",
        "!unzip -qo tests.zip -d ."
      ]
    },
    {
      "cell_type": "code",
      "execution_count": null,
      "metadata": {
        "deletable": false,
        "editable": false,
        "id": "HK_Bcc8q64Ma",
        "colab": {
          "base_uri": "https://localhost:8080/"
        },
        "outputId": "a69181af-292e-45b4-a584-48ad6fd62eba"
      },
      "outputs": [
        {
          "output_type": "stream",
          "name": "stdout",
          "text": [
            "<google.colab._shell.Shell object at 0x7b306e579e40>\n"
          ]
        }
      ],
      "source": [
        "# Initialize Otter\n",
        "import otter\n",
        "grader = otter.Notebook()"
      ]
    },
    {
      "cell_type": "markdown",
      "metadata": {
        "id": "148Fxs2z64Ma"
      },
      "source": [
        "# CMPUT 267 - Machine Learning I\n",
        "# Assignment 4 - Optimization for Regression"
      ]
    },
    {
      "cell_type": "markdown",
      "metadata": {
        "id": "1S6iyNQ064Mb"
      },
      "source": [
        "## Assignment Instructions and Information\n",
        "For this assignment, we will be using Google Colab. If you are new to Google Colab, you can find a brief introduction at the following link: [Google Colab Introduction](https://colab.research.google.com/notebooks/intro.ipynb).\n",
        "\n",
        "**Important:** Before you start working on this notebook, make sure to save a copy to your own Google Drive. To do this, go to `File` -> `Save a copy in Drive`.\n",
        "\n",
        "If you do not save a copy, you will not be able to save any changes you make.\n"
      ]
    },
    {
      "cell_type": "markdown",
      "metadata": {
        "id": "dVSbSyyM64Mb"
      },
      "source": [
        "### Submitting your assignment\n",
        "Once you have completed the assignment, please submit your work as a `.ipynb` file on eClass in the \"Assignment 4\" section. To download your Colab notebook in the required format, follow these steps:\n",
        "\n",
        "1. Save your notebook to ensure all changes are preserved.\n",
        "2. Navigate to `File` -> `Download` -> `Download .ipynb`.\n",
        "\n",
        "Make sure to save your notebook before downloading it!"
      ]
    },
    {
      "cell_type": "markdown",
      "metadata": {
        "id": "7kp6lSue64Mc"
      },
      "source": [
        "### Questions and Autograding\n",
        "\n",
        "Each section contains questions for you to solve, marked with the subsection heading \"Question X.Y\" (ex: the first problem is \"Question 2.1\").\n",
        "\n",
        "For each question your solution must go within the following designated code block:\n",
        "\n",
        "```python\n",
        "### YOUR CODE HERE ###\n",
        "\n",
        "######################\n",
        "```\n",
        "\n",
        "All questions will be autograded using [Otter-Grader](https://otter-grader.readthedocs.io/en/latest/).\n",
        "The first two code cells in this notebook install the Otter-Grader package and download the test cases.\n",
        "You should run these cells, otherwise the autograder will not work.\n",
        "\n",
        "At the end of each question there is code that runs the autograder. For example, in question Question 2.1 the code `grader.check(\"q2.1\")` runs the autograder.\n",
        "If you pass all the test cases for a question (ex: Question 2.1), you will see the following output:\n",
        "\n",
        "**q2_1** passed!\n",
        "\n",
        "If you do not pass all the test cases for a question, you will see which test cases you did not pass along with their corresponding error messages.\n",
        "\n",
        "There are both public and private test cases. You only have access to the public test cases. This means that if you pass all the test cases in this notebook, you have passed all the public test cases.\n",
        "\n",
        "After you submit the assignment, we will also run the private test cases. The public test cases account for 50% of the total mark, while the private test cases make up the remaining 50%. Therefore, if you pass all the test cases in the notebook, you are guaranteed a mark of at least 50%.\n",
        "\n",
        "After each question description, the number of points (marks) the question is worth is indicated.\n",
        "This is the total number of points for both the public and private test cases.\n",
        "For each question, the public test cases are worth 50% of the points.\n"
      ]
    },
    {
      "cell_type": "markdown",
      "metadata": {
        "id": "8IH_C7HD64Mc"
      },
      "source": [
        "## Introduction\n",
        "\n",
        "Welcome to Assignment 4! In this assignment, you will explore optimization techniques in the context of linear regression.\n",
        "You will be implementing various optimization algorithms as described in Chapter 6 of the [course notes](https://vladtkachuk4.github.io/machinelearning1/notes.pdf).\n",
        "\n",
        "This assignment will guide you through the following sections:\n",
        "\n",
        "1. [Understanding the Dataset](#part-1-understanding-the-dataset)\n",
        "2. [Closed Form Solution](#part-2-closed-form-solution)\n",
        "3. [Batch Gradient Descent](#part-3-batch-gradient-descent)\n",
        "6. [Polynomial Regression](#part-4-polynomial-regression)\n",
        "5. [Mini-Batch Gradient Descent](#part-5-mini-batch-gradient-descent)\n",
        "4. [Step Sizes](#part-6-step-sizes)\n",
        "\n",
        "You can quickly navigate to each section by opening the table of contents on the left side of the screen.\n",
        "\n",
        "In class we learned that Empirical Risk Minimization (ERM) is a Learner that has two steps:\n",
        "1. Estimation: $\\hat L(f)$ is an estimate of the true loss $L(f)$ for each $f \\in \\mathcal{F}$.\n",
        "2. Optimization: Find $f \\in \\mathcal{F}$ that minimizes $\\hat L(f)$.\n",
        "\n",
        "In this assignment, we will focus on implementing the ERM learner using various optimization techniques.\n",
        "\n",
        "We will **not** discuss how to evaluate the learner.\n",
        "In particular, recall that our objective in supervised learning was to minimize the expected loss $L(f)$, which captures how well the learner generalizes to unseen data.\n",
        "In this assignment we will assume that $\\hat L(f)$ is a good estimate of $L(f)$, and we will focus on the optimization step.\n",
        "How well the `predictor` $\\hat f$ output by our learner does at predicting unseen data will be the focus of the next coding assignment.\n",
        "\n",
        "Let's get started!\n"
      ]
    },
    {
      "cell_type": "markdown",
      "metadata": {
        "id": "PjVuEbrk64Mc"
      },
      "source": [
        "# Part 1: Understanding the Dataset\n",
        "\n",
        "In this assignment, we will use the **California Housing Prices dataset**, which is a classic dataset often used for linear regression tasks. It contains information about various features of houses in California, such as median income (in tens of thousands of dollars), average number of rooms, and the location of the houses, among others, with the targets (labels) being the median house price.\n",
        "\n",
        "The dataset is from the **1990 California census**.\n",
        "\n",
        "Let's begin by loading the dataset and taking a closer look at what it contains."
      ]
    },
    {
      "cell_type": "markdown",
      "metadata": {
        "id": "SwX3ftOf64Md"
      },
      "source": [
        "### Load the Dataset\n",
        "\n",
        "First, lets import all the necessary libraries for this assignment."
      ]
    },
    {
      "cell_type": "code",
      "execution_count": null,
      "metadata": {
        "id": "IT5cIFP_64Md"
      },
      "outputs": [],
      "source": [
        "# Import necessary libraries\n",
        "import numpy as np\n",
        "import pandas as pd\n",
        "import matplotlib.pyplot as plt\n",
        "from sklearn.datasets import fetch_california_housing\n",
        "from mpl_toolkits.mplot3d import Axes3D\n",
        "from ipywidgets import interactive_output\n",
        "import ipywidgets as widgets\n",
        "from IPython.display import display, clear_output\n",
        "\n",
        "# Set a fixed random seed for reproducibility\n",
        "random_seed = 42"
      ]
    },
    {
      "cell_type": "markdown",
      "metadata": {
        "id": "NcrXOgGG64Md"
      },
      "source": [
        "We will use the `fetch_california_housing` dataset from the `sklearn.datasets` module.\n",
        "Let's load the dataset and examine the features for the first few datapoints.\n",
        "You should see that the dataset contains 8 features and a target value (price)."
      ]
    },
    {
      "cell_type": "code",
      "execution_count": null,
      "metadata": {
        "id": "hsaVA9K-64Me",
        "colab": {
          "base_uri": "https://localhost:8080/",
          "height": 206
        },
        "outputId": "2612b9eb-e41f-4d83-ba0c-19dee0409375"
      },
      "outputs": [
        {
          "output_type": "execute_result",
          "data": {
            "text/plain": [
              "   MedInc  HouseAge  AveRooms  AveBedrms  Population  AveOccup  Latitude  \\\n",
              "0  8.3252      41.0  6.984127   1.023810       322.0  2.555556     37.88   \n",
              "1  8.3014      21.0  6.238137   0.971880      2401.0  2.109842     37.86   \n",
              "2  7.2574      52.0  8.288136   1.073446       496.0  2.802260     37.85   \n",
              "3  5.6431      52.0  5.817352   1.073059       558.0  2.547945     37.85   \n",
              "4  3.8462      52.0  6.281853   1.081081       565.0  2.181467     37.85   \n",
              "\n",
              "   Longitude  Price  \n",
              "0    -122.23  4.526  \n",
              "1    -122.22  3.585  \n",
              "2    -122.24  3.521  \n",
              "3    -122.25  3.413  \n",
              "4    -122.25  3.422  "
            ],
            "text/html": [
              "\n",
              "  <div id=\"df-1fa24ddd-4e1a-4c8f-9da4-8e1904a51220\" class=\"colab-df-container\">\n",
              "    <div>\n",
              "<style scoped>\n",
              "    .dataframe tbody tr th:only-of-type {\n",
              "        vertical-align: middle;\n",
              "    }\n",
              "\n",
              "    .dataframe tbody tr th {\n",
              "        vertical-align: top;\n",
              "    }\n",
              "\n",
              "    .dataframe thead th {\n",
              "        text-align: right;\n",
              "    }\n",
              "</style>\n",
              "<table border=\"1\" class=\"dataframe\">\n",
              "  <thead>\n",
              "    <tr style=\"text-align: right;\">\n",
              "      <th></th>\n",
              "      <th>MedInc</th>\n",
              "      <th>HouseAge</th>\n",
              "      <th>AveRooms</th>\n",
              "      <th>AveBedrms</th>\n",
              "      <th>Population</th>\n",
              "      <th>AveOccup</th>\n",
              "      <th>Latitude</th>\n",
              "      <th>Longitude</th>\n",
              "      <th>Price</th>\n",
              "    </tr>\n",
              "  </thead>\n",
              "  <tbody>\n",
              "    <tr>\n",
              "      <th>0</th>\n",
              "      <td>8.3252</td>\n",
              "      <td>41.0</td>\n",
              "      <td>6.984127</td>\n",
              "      <td>1.023810</td>\n",
              "      <td>322.0</td>\n",
              "      <td>2.555556</td>\n",
              "      <td>37.88</td>\n",
              "      <td>-122.23</td>\n",
              "      <td>4.526</td>\n",
              "    </tr>\n",
              "    <tr>\n",
              "      <th>1</th>\n",
              "      <td>8.3014</td>\n",
              "      <td>21.0</td>\n",
              "      <td>6.238137</td>\n",
              "      <td>0.971880</td>\n",
              "      <td>2401.0</td>\n",
              "      <td>2.109842</td>\n",
              "      <td>37.86</td>\n",
              "      <td>-122.22</td>\n",
              "      <td>3.585</td>\n",
              "    </tr>\n",
              "    <tr>\n",
              "      <th>2</th>\n",
              "      <td>7.2574</td>\n",
              "      <td>52.0</td>\n",
              "      <td>8.288136</td>\n",
              "      <td>1.073446</td>\n",
              "      <td>496.0</td>\n",
              "      <td>2.802260</td>\n",
              "      <td>37.85</td>\n",
              "      <td>-122.24</td>\n",
              "      <td>3.521</td>\n",
              "    </tr>\n",
              "    <tr>\n",
              "      <th>3</th>\n",
              "      <td>5.6431</td>\n",
              "      <td>52.0</td>\n",
              "      <td>5.817352</td>\n",
              "      <td>1.073059</td>\n",
              "      <td>558.0</td>\n",
              "      <td>2.547945</td>\n",
              "      <td>37.85</td>\n",
              "      <td>-122.25</td>\n",
              "      <td>3.413</td>\n",
              "    </tr>\n",
              "    <tr>\n",
              "      <th>4</th>\n",
              "      <td>3.8462</td>\n",
              "      <td>52.0</td>\n",
              "      <td>6.281853</td>\n",
              "      <td>1.081081</td>\n",
              "      <td>565.0</td>\n",
              "      <td>2.181467</td>\n",
              "      <td>37.85</td>\n",
              "      <td>-122.25</td>\n",
              "      <td>3.422</td>\n",
              "    </tr>\n",
              "  </tbody>\n",
              "</table>\n",
              "</div>\n",
              "    <div class=\"colab-df-buttons\">\n",
              "\n",
              "  <div class=\"colab-df-container\">\n",
              "    <button class=\"colab-df-convert\" onclick=\"convertToInteractive('df-1fa24ddd-4e1a-4c8f-9da4-8e1904a51220')\"\n",
              "            title=\"Convert this dataframe to an interactive table.\"\n",
              "            style=\"display:none;\">\n",
              "\n",
              "  <svg xmlns=\"http://www.w3.org/2000/svg\" height=\"24px\" viewBox=\"0 -960 960 960\">\n",
              "    <path d=\"M120-120v-720h720v720H120Zm60-500h600v-160H180v160Zm220 220h160v-160H400v160Zm0 220h160v-160H400v160ZM180-400h160v-160H180v160Zm440 0h160v-160H620v160ZM180-180h160v-160H180v160Zm440 0h160v-160H620v160Z\"/>\n",
              "  </svg>\n",
              "    </button>\n",
              "\n",
              "  <style>\n",
              "    .colab-df-container {\n",
              "      display:flex;\n",
              "      gap: 12px;\n",
              "    }\n",
              "\n",
              "    .colab-df-convert {\n",
              "      background-color: #E8F0FE;\n",
              "      border: none;\n",
              "      border-radius: 50%;\n",
              "      cursor: pointer;\n",
              "      display: none;\n",
              "      fill: #1967D2;\n",
              "      height: 32px;\n",
              "      padding: 0 0 0 0;\n",
              "      width: 32px;\n",
              "    }\n",
              "\n",
              "    .colab-df-convert:hover {\n",
              "      background-color: #E2EBFA;\n",
              "      box-shadow: 0px 1px 2px rgba(60, 64, 67, 0.3), 0px 1px 3px 1px rgba(60, 64, 67, 0.15);\n",
              "      fill: #174EA6;\n",
              "    }\n",
              "\n",
              "    .colab-df-buttons div {\n",
              "      margin-bottom: 4px;\n",
              "    }\n",
              "\n",
              "    [theme=dark] .colab-df-convert {\n",
              "      background-color: #3B4455;\n",
              "      fill: #D2E3FC;\n",
              "    }\n",
              "\n",
              "    [theme=dark] .colab-df-convert:hover {\n",
              "      background-color: #434B5C;\n",
              "      box-shadow: 0px 1px 3px 1px rgba(0, 0, 0, 0.15);\n",
              "      filter: drop-shadow(0px 1px 2px rgba(0, 0, 0, 0.3));\n",
              "      fill: #FFFFFF;\n",
              "    }\n",
              "  </style>\n",
              "\n",
              "    <script>\n",
              "      const buttonEl =\n",
              "        document.querySelector('#df-1fa24ddd-4e1a-4c8f-9da4-8e1904a51220 button.colab-df-convert');\n",
              "      buttonEl.style.display =\n",
              "        google.colab.kernel.accessAllowed ? 'block' : 'none';\n",
              "\n",
              "      async function convertToInteractive(key) {\n",
              "        const element = document.querySelector('#df-1fa24ddd-4e1a-4c8f-9da4-8e1904a51220');\n",
              "        const dataTable =\n",
              "          await google.colab.kernel.invokeFunction('convertToInteractive',\n",
              "                                                    [key], {});\n",
              "        if (!dataTable) return;\n",
              "\n",
              "        const docLinkHtml = 'Like what you see? Visit the ' +\n",
              "          '<a target=\"_blank\" href=https://colab.research.google.com/notebooks/data_table.ipynb>data table notebook</a>'\n",
              "          + ' to learn more about interactive tables.';\n",
              "        element.innerHTML = '';\n",
              "        dataTable['output_type'] = 'display_data';\n",
              "        await google.colab.output.renderOutput(dataTable, element);\n",
              "        const docLink = document.createElement('div');\n",
              "        docLink.innerHTML = docLinkHtml;\n",
              "        element.appendChild(docLink);\n",
              "      }\n",
              "    </script>\n",
              "  </div>\n",
              "\n",
              "\n",
              "<div id=\"df-ed94c1c9-d0ac-403a-ac1a-b8e41b89c12c\">\n",
              "  <button class=\"colab-df-quickchart\" onclick=\"quickchart('df-ed94c1c9-d0ac-403a-ac1a-b8e41b89c12c')\"\n",
              "            title=\"Suggest charts\"\n",
              "            style=\"display:none;\">\n",
              "\n",
              "<svg xmlns=\"http://www.w3.org/2000/svg\" height=\"24px\"viewBox=\"0 0 24 24\"\n",
              "     width=\"24px\">\n",
              "    <g>\n",
              "        <path d=\"M19 3H5c-1.1 0-2 .9-2 2v14c0 1.1.9 2 2 2h14c1.1 0 2-.9 2-2V5c0-1.1-.9-2-2-2zM9 17H7v-7h2v7zm4 0h-2V7h2v10zm4 0h-2v-4h2v4z\"/>\n",
              "    </g>\n",
              "</svg>\n",
              "  </button>\n",
              "\n",
              "<style>\n",
              "  .colab-df-quickchart {\n",
              "      --bg-color: #E8F0FE;\n",
              "      --fill-color: #1967D2;\n",
              "      --hover-bg-color: #E2EBFA;\n",
              "      --hover-fill-color: #174EA6;\n",
              "      --disabled-fill-color: #AAA;\n",
              "      --disabled-bg-color: #DDD;\n",
              "  }\n",
              "\n",
              "  [theme=dark] .colab-df-quickchart {\n",
              "      --bg-color: #3B4455;\n",
              "      --fill-color: #D2E3FC;\n",
              "      --hover-bg-color: #434B5C;\n",
              "      --hover-fill-color: #FFFFFF;\n",
              "      --disabled-bg-color: #3B4455;\n",
              "      --disabled-fill-color: #666;\n",
              "  }\n",
              "\n",
              "  .colab-df-quickchart {\n",
              "    background-color: var(--bg-color);\n",
              "    border: none;\n",
              "    border-radius: 50%;\n",
              "    cursor: pointer;\n",
              "    display: none;\n",
              "    fill: var(--fill-color);\n",
              "    height: 32px;\n",
              "    padding: 0;\n",
              "    width: 32px;\n",
              "  }\n",
              "\n",
              "  .colab-df-quickchart:hover {\n",
              "    background-color: var(--hover-bg-color);\n",
              "    box-shadow: 0 1px 2px rgba(60, 64, 67, 0.3), 0 1px 3px 1px rgba(60, 64, 67, 0.15);\n",
              "    fill: var(--button-hover-fill-color);\n",
              "  }\n",
              "\n",
              "  .colab-df-quickchart-complete:disabled,\n",
              "  .colab-df-quickchart-complete:disabled:hover {\n",
              "    background-color: var(--disabled-bg-color);\n",
              "    fill: var(--disabled-fill-color);\n",
              "    box-shadow: none;\n",
              "  }\n",
              "\n",
              "  .colab-df-spinner {\n",
              "    border: 2px solid var(--fill-color);\n",
              "    border-color: transparent;\n",
              "    border-bottom-color: var(--fill-color);\n",
              "    animation:\n",
              "      spin 1s steps(1) infinite;\n",
              "  }\n",
              "\n",
              "  @keyframes spin {\n",
              "    0% {\n",
              "      border-color: transparent;\n",
              "      border-bottom-color: var(--fill-color);\n",
              "      border-left-color: var(--fill-color);\n",
              "    }\n",
              "    20% {\n",
              "      border-color: transparent;\n",
              "      border-left-color: var(--fill-color);\n",
              "      border-top-color: var(--fill-color);\n",
              "    }\n",
              "    30% {\n",
              "      border-color: transparent;\n",
              "      border-left-color: var(--fill-color);\n",
              "      border-top-color: var(--fill-color);\n",
              "      border-right-color: var(--fill-color);\n",
              "    }\n",
              "    40% {\n",
              "      border-color: transparent;\n",
              "      border-right-color: var(--fill-color);\n",
              "      border-top-color: var(--fill-color);\n",
              "    }\n",
              "    60% {\n",
              "      border-color: transparent;\n",
              "      border-right-color: var(--fill-color);\n",
              "    }\n",
              "    80% {\n",
              "      border-color: transparent;\n",
              "      border-right-color: var(--fill-color);\n",
              "      border-bottom-color: var(--fill-color);\n",
              "    }\n",
              "    90% {\n",
              "      border-color: transparent;\n",
              "      border-bottom-color: var(--fill-color);\n",
              "    }\n",
              "  }\n",
              "</style>\n",
              "\n",
              "  <script>\n",
              "    async function quickchart(key) {\n",
              "      const quickchartButtonEl =\n",
              "        document.querySelector('#' + key + ' button');\n",
              "      quickchartButtonEl.disabled = true;  // To prevent multiple clicks.\n",
              "      quickchartButtonEl.classList.add('colab-df-spinner');\n",
              "      try {\n",
              "        const charts = await google.colab.kernel.invokeFunction(\n",
              "            'suggestCharts', [key], {});\n",
              "      } catch (error) {\n",
              "        console.error('Error during call to suggestCharts:', error);\n",
              "      }\n",
              "      quickchartButtonEl.classList.remove('colab-df-spinner');\n",
              "      quickchartButtonEl.classList.add('colab-df-quickchart-complete');\n",
              "    }\n",
              "    (() => {\n",
              "      let quickchartButtonEl =\n",
              "        document.querySelector('#df-ed94c1c9-d0ac-403a-ac1a-b8e41b89c12c button');\n",
              "      quickchartButtonEl.style.display =\n",
              "        google.colab.kernel.accessAllowed ? 'block' : 'none';\n",
              "    })();\n",
              "  </script>\n",
              "</div>\n",
              "\n",
              "    </div>\n",
              "  </div>\n"
            ],
            "application/vnd.google.colaboratory.intrinsic+json": {
              "type": "dataframe",
              "variable_name": "df",
              "summary": "{\n  \"name\": \"df\",\n  \"rows\": 20640,\n  \"fields\": [\n    {\n      \"column\": \"MedInc\",\n      \"properties\": {\n        \"dtype\": \"number\",\n        \"std\": 1.8998217179452732,\n        \"min\": 0.4999,\n        \"max\": 15.0001,\n        \"num_unique_values\": 12928,\n        \"samples\": [\n          5.0286,\n          2.0433,\n          6.1228\n        ],\n        \"semantic_type\": \"\",\n        \"description\": \"\"\n      }\n    },\n    {\n      \"column\": \"HouseAge\",\n      \"properties\": {\n        \"dtype\": \"number\",\n        \"std\": 12.585557612111637,\n        \"min\": 1.0,\n        \"max\": 52.0,\n        \"num_unique_values\": 52,\n        \"samples\": [\n          35.0,\n          25.0,\n          7.0\n        ],\n        \"semantic_type\": \"\",\n        \"description\": \"\"\n      }\n    },\n    {\n      \"column\": \"AveRooms\",\n      \"properties\": {\n        \"dtype\": \"number\",\n        \"std\": 2.4741731394243205,\n        \"min\": 0.8461538461538461,\n        \"max\": 141.9090909090909,\n        \"num_unique_values\": 19392,\n        \"samples\": [\n          6.111269614835948,\n          5.912820512820513,\n          5.7924528301886795\n        ],\n        \"semantic_type\": \"\",\n        \"description\": \"\"\n      }\n    },\n    {\n      \"column\": \"AveBedrms\",\n      \"properties\": {\n        \"dtype\": \"number\",\n        \"std\": 0.47391085679546435,\n        \"min\": 0.3333333333333333,\n        \"max\": 34.06666666666667,\n        \"num_unique_values\": 14233,\n        \"samples\": [\n          0.9906542056074766,\n          1.112099644128114,\n          1.0398230088495575\n        ],\n        \"semantic_type\": \"\",\n        \"description\": \"\"\n      }\n    },\n    {\n      \"column\": \"Population\",\n      \"properties\": {\n        \"dtype\": \"number\",\n        \"std\": 1132.4621217653375,\n        \"min\": 3.0,\n        \"max\": 35682.0,\n        \"num_unique_values\": 3888,\n        \"samples\": [\n          4169.0,\n          636.0,\n          3367.0\n        ],\n        \"semantic_type\": \"\",\n        \"description\": \"\"\n      }\n    },\n    {\n      \"column\": \"AveOccup\",\n      \"properties\": {\n        \"dtype\": \"number\",\n        \"std\": 10.386049562213591,\n        \"min\": 0.6923076923076923,\n        \"max\": 1243.3333333333333,\n        \"num_unique_values\": 18841,\n        \"samples\": [\n          2.6939799331103678,\n          3.559375,\n          3.297082228116711\n        ],\n        \"semantic_type\": \"\",\n        \"description\": \"\"\n      }\n    },\n    {\n      \"column\": \"Latitude\",\n      \"properties\": {\n        \"dtype\": \"number\",\n        \"std\": 2.1359523974571117,\n        \"min\": 32.54,\n        \"max\": 41.95,\n        \"num_unique_values\": 862,\n        \"samples\": [\n          33.7,\n          34.41,\n          38.24\n        ],\n        \"semantic_type\": \"\",\n        \"description\": \"\"\n      }\n    },\n    {\n      \"column\": \"Longitude\",\n      \"properties\": {\n        \"dtype\": \"number\",\n        \"std\": 2.003531723502581,\n        \"min\": -124.35,\n        \"max\": -114.31,\n        \"num_unique_values\": 844,\n        \"samples\": [\n          -118.63,\n          -119.86,\n          -121.26\n        ],\n        \"semantic_type\": \"\",\n        \"description\": \"\"\n      }\n    },\n    {\n      \"column\": \"Price\",\n      \"properties\": {\n        \"dtype\": \"number\",\n        \"std\": 1.1539561587441483,\n        \"min\": 0.14999,\n        \"max\": 5.00001,\n        \"num_unique_values\": 3842,\n        \"samples\": [\n          1.943,\n          3.79,\n          2.301\n        ],\n        \"semantic_type\": \"\",\n        \"description\": \"\"\n      }\n    }\n  ]\n}"
            }
          },
          "metadata": {},
          "execution_count": 97
        }
      ],
      "source": [
        "# Load the California housing dataset\n",
        "data = fetch_california_housing()\n",
        "\n",
        "# Convert to a DataFrame\n",
        "df = pd.DataFrame(data.data, columns=data.feature_names)\n",
        "df['Price'] = data.target\n",
        "\n",
        "# Display the first few rows of the dataset\n",
        "df.head()"
      ]
    },
    {
      "cell_type": "markdown",
      "metadata": {
        "id": "lbiWvTLh64Me"
      },
      "source": [
        "### Data Preprocessing\n",
        "\n",
        "In the California Housing Prices dataset, houses with prices over $500,000 were capped at $500,000. This capping can cause some undesirable behaviors when learning a good predictor because it introduces a ceiling effect, where the true variability of house prices above $500,000 is not captured. As a result, the model might not learn the true relationship between the features and the target variable for high-priced houses.\n",
        "\n",
        "To address this issue, we will remove any datapoints from our dataset that have a price of exactly $500,000. This will help ensure that our model learns a more accurate relationship between the features and the target variable.\n",
        "\n",
        "Additionally, to make it easier to visualize and work with the data, we will only use the first 500 datapoints in this assignment. This will allow us to create more manageable plots and computations.\n",
        "\n",
        "Here is the code to preprocess the dataset:\n"
      ]
    },
    {
      "cell_type": "code",
      "execution_count": null,
      "metadata": {
        "id": "Dt7L7UCY64Me"
      },
      "outputs": [],
      "source": [
        "# Filter out houses with prices of $500k and above\n",
        "df = df[df['Price'] < 5]\n",
        "\n",
        "# Select the first 500 data points\n",
        "df_small = df.iloc[:500]"
      ]
    },
    {
      "cell_type": "markdown",
      "metadata": {
        "id": "RcNG0ytP64Me"
      },
      "source": [
        "Now that we have loaded and filtered the dataset, we need to prepare it for use in our linear regression models.\n",
        "We will store all the features in a matrix $\\mathbf{X}$ where each row represents a data point and each column represents a feature.\n",
        "Additionally, we will append a column of 1s as the first column of $\\mathbf{X}$, which will be used to multiply the bias term in the weights.\n",
        "We will also store the target values (house prices) in a vector $\\mathbf{Y}$.\n",
        "\n",
        "For implementation reasons, it is usually preferred to store all the features in a matrix $\\mathbf{X}$ with each row being a data point and each column being a feature. This allows for efficient matrix operations and simplifies the implementation of algorithms.\n",
        "\n",
        "We will also *normalize* the features.\n",
        "Normalization is the process of scaling the features so that they have a mean of 0 and a standard deviation of 1. This is important because it ensures that all features contribute equally to the model and prevents features with larger scales from dominating the learning process. In machine learning, normalization is commonly done to improve the convergence of gradient-based optimization algorithms and to ensure that the model's performance is not biased towards features with larger numerical ranges.\n",
        "\n",
        "For example, consider two features: Population and HouseAge. The Population feature might have values ranging from hundreds to thousands, while HouseAge might have values ranging from 0 to 100. Without normalization, the Population feature could dominate the learning process because of its larger numerical range. Normalization ensures that both features contribute equally to the model, regardless of their original scales.\n",
        "\n",
        "Below, we preprocess the data in this way."
      ]
    },
    {
      "cell_type": "code",
      "execution_count": null,
      "metadata": {
        "id": "TSStOfwX64Me"
      },
      "outputs": [],
      "source": [
        "# Extract features and target\n",
        "X = df_small.drop(columns=['Price']).values\n",
        "\n",
        "Y = df_small['Price'].values\n",
        "\n",
        "# Append a column of 1s to X for the bias term\n",
        "X = np.hstack([np.ones((X.shape[0], 1)), X])\n",
        "\n",
        "# Normalize the features in X, excluding the first column\n",
        "X_mean = X[:, 1:].mean(axis=0)\n",
        "X_std = X[:, 1:].std(axis=0)\n",
        "X = np.hstack([X[:, :1], (X[:, 1:] - X_mean) / X_std])"
      ]
    },
    {
      "cell_type": "markdown",
      "metadata": {
        "id": "L66pmZem64Me"
      },
      "source": [
        "### Visualizing the Data\n",
        "\n",
        "To start understanding our dataset better, let's visualize the relationship between the **median income** feature (`MedInc`) and the **house price** (`Price`). This can help us get an initial sense of how one of the key features relates to the target variable.\n",
        "\n",
        "You should notice a positive correlation between the median income and the house price, which is expected since houses in areas with higher median incomes tend to be more expensive.\n",
        "It also looks like a line might be a good fit for this data.\n",
        "\n",
        "To view this and all future plots you must click the \"Show plot\" checkbox."
      ]
    },
    {
      "cell_type": "code",
      "execution_count": null,
      "metadata": {
        "id": "AjXR_mSR64Me",
        "colab": {
          "base_uri": "https://localhost:8080/",
          "height": 49,
          "referenced_widgets": [
            "9339d41451274def878f07db45041358",
            "7dafd52170c34627a76a900eafa17f38",
            "41c6f05ceb2c47c3b10db2757713096d"
          ]
        },
        "outputId": "f672d8ff-0777-48d3-ee6d-201e5c946890",
        "cellView": "form"
      },
      "outputs": [
        {
          "output_type": "display_data",
          "data": {
            "text/plain": [
              "Checkbox(value=False, description='Show Plot')"
            ],
            "application/vnd.jupyter.widget-view+json": {
              "version_major": 2,
              "version_minor": 0,
              "model_id": "9339d41451274def878f07db45041358"
            }
          },
          "metadata": {
            "application/vnd.jupyter.widget-view+json": {
              "colab": {
                "custom_widget_manager": {
                  "url": "https://ssl.gstatic.com/colaboratory-static/widgets/colab-cdn-widget-manager/2b70e893a8ba7c0f/manager.min.js"
                }
              }
            }
          }
        }
      ],
      "source": [
        "# @title Plot\n",
        "\n",
        "# Create a checkbox widget\n",
        "show_plot_checkbox_medinc = widgets.Checkbox(\n",
        "    value=False,\n",
        "    description='Show Plot',\n",
        "    disabled=False\n",
        ")\n",
        "\n",
        "# Function to plot the data\n",
        "def plot_data_medinc(change):\n",
        "    clear_output(wait=True)  # Clear the output before plotting or closing the plot\n",
        "    display(show_plot_checkbox_medinc)  # Re-display the checkbox after clearing\n",
        "\n",
        "    if show_plot_checkbox_medinc.value:\n",
        "        plt.figure(figsize=(10, 5))\n",
        "        plt.scatter(df_small['MedInc'], df_small['Price'], alpha=0.3)\n",
        "        plt.xlabel('Median Income (in tens of thousands)')\n",
        "        plt.ylabel('Median House Price (in hundreds of thousands)')\n",
        "        plt.title('Median Income vs House Price')\n",
        "        plt.xlim(0, 12)\n",
        "        plt.show()\n",
        "\n",
        "# Attach the function to the checkbox\n",
        "show_plot_checkbox_medinc.observe(plot_data_medinc, names='value')\n",
        "\n",
        "# Display the checkbox\n",
        "display(show_plot_checkbox_medinc)"
      ]
    },
    {
      "cell_type": "markdown",
      "metadata": {
        "id": "gwFvkXbY64Me"
      },
      "source": [
        "Now lets visualize the relationship between the number of rooms (`AveRooms`) and the house price (`Price`).\n",
        "\n",
        "For this plot you should notice a weaker relationship between the number of rooms and the house price compared to the median income.\n",
        "The relationship is not as clear, and in the [Polynomial Regression](#part-4-polynomial-regression) section, we will see that a quadratic function might be a better fit for this data."
      ]
    },
    {
      "cell_type": "code",
      "execution_count": null,
      "metadata": {
        "id": "TFVGL2mn64Mf",
        "cellView": "form",
        "colab": {
          "base_uri": "https://localhost:8080/",
          "height": 49,
          "referenced_widgets": [
            "97f7b7ea4e6141c480d185b642ea17dc",
            "d28836440b504ef9bae2bcd8ae715fed",
            "f0394a056b8b452a86390123ca48f5cd"
          ]
        },
        "outputId": "3901b6e1-9939-4822-e08d-9c8680b7ed9b"
      },
      "outputs": [
        {
          "output_type": "display_data",
          "data": {
            "text/plain": [
              "Checkbox(value=False, description='Show Plot')"
            ],
            "application/vnd.jupyter.widget-view+json": {
              "version_major": 2,
              "version_minor": 0,
              "model_id": "97f7b7ea4e6141c480d185b642ea17dc"
            }
          },
          "metadata": {
            "application/vnd.jupyter.widget-view+json": {
              "colab": {
                "custom_widget_manager": {
                  "url": "https://ssl.gstatic.com/colaboratory-static/widgets/colab-cdn-widget-manager/2b70e893a8ba7c0f/manager.min.js"
                }
              }
            }
          }
        }
      ],
      "source": [
        "# @title Plot\n",
        "\n",
        "# Create a checkbox widget\n",
        "show_plot_checkbox_rooms = widgets.Checkbox(\n",
        "    value=False,\n",
        "    description='Show Plot',\n",
        "    disabled=False\n",
        ")\n",
        "\n",
        "# Function to plot the data\n",
        "def plot_data_rooms(change):\n",
        "    clear_output(wait=True)  # Clear the output before plotting or closing the plot\n",
        "    display(show_plot_checkbox_rooms)  # Re-display the checkbox after clearing\n",
        "\n",
        "    if show_plot_checkbox_rooms.value:\n",
        "        plt.figure(figsize=(10, 5))\n",
        "        plt.scatter(df_small['AveRooms'], df_small['Price'], alpha=0.3)\n",
        "        plt.xlabel('Average Number of Rooms')\n",
        "        plt.ylabel('Median House Price (in hundreds of thousands)')\n",
        "        plt.title('Average Number of Rooms vs House Price')\n",
        "        plt.xlim(1, 10)\n",
        "        plt.show()\n",
        "\n",
        "# Attach the function to the checkbox\n",
        "show_plot_checkbox_rooms.observe(plot_data_rooms, names='value')\n",
        "\n",
        "# Display the checkbox\n",
        "display(show_plot_checkbox_rooms)"
      ]
    },
    {
      "cell_type": "markdown",
      "metadata": {
        "id": "zis6QCyt64Mf"
      },
      "source": [
        "Lets plot one more feature, the longitude (`Longitude`) against the house price (`Price`).\n",
        "\n",
        "In this plot you should see that there is no clear relationship between the longitude and the house price."
      ]
    },
    {
      "cell_type": "code",
      "execution_count": null,
      "metadata": {
        "id": "isIChZ8v64Mf",
        "cellView": "form",
        "colab": {
          "base_uri": "https://localhost:8080/",
          "height": 49,
          "referenced_widgets": [
            "8aed9e2282b24e79b44f8cae5a7f4ab8",
            "141005d7a784422f805294fadae79c5b",
            "5d0ca5ce36fa4ce5bd11da26f45b1dca"
          ]
        },
        "outputId": "6b0bf1a9-bcf1-4a5b-d3b7-68ff2edd023b"
      },
      "outputs": [
        {
          "output_type": "display_data",
          "data": {
            "text/plain": [
              "Checkbox(value=False, description='Show Plot')"
            ],
            "application/vnd.jupyter.widget-view+json": {
              "version_major": 2,
              "version_minor": 0,
              "model_id": "8aed9e2282b24e79b44f8cae5a7f4ab8"
            }
          },
          "metadata": {
            "application/vnd.jupyter.widget-view+json": {
              "colab": {
                "custom_widget_manager": {
                  "url": "https://ssl.gstatic.com/colaboratory-static/widgets/colab-cdn-widget-manager/2b70e893a8ba7c0f/manager.min.js"
                }
              }
            }
          }
        }
      ],
      "source": [
        "# @title Plot\n",
        "\n",
        "# Create a checkbox widget\n",
        "show_plot_checkbox_longitude = widgets.Checkbox(\n",
        "    value=False,\n",
        "    description='Show Plot',\n",
        "    disabled=False\n",
        ")\n",
        "\n",
        "# Function to plot the data\n",
        "def plot_data_longitude(change):\n",
        "    clear_output(wait=True)  # Clear the output before plotting or closing the plot\n",
        "    display(show_plot_checkbox_longitude)  # Re-display the checkbox after clearing\n",
        "\n",
        "    if show_plot_checkbox_longitude.value:\n",
        "        plt.figure(figsize=(10, 5))\n",
        "        plt.scatter(df_small['Longitude'], df_small['Price'], alpha=0.3)\n",
        "        plt.xlabel('Longitude')\n",
        "        plt.ylabel('Median House Price (in hundreds of thousands)')\n",
        "        plt.title('Longitude vs House Price')\n",
        "        plt.xlim(-122.35, -122.1)\n",
        "        plt.show()\n",
        "\n",
        "# Attach the function to the checkbox\n",
        "show_plot_checkbox_longitude.observe(plot_data_longitude, names='value')\n",
        "\n",
        "# Display the checkbox\n",
        "display(show_plot_checkbox_longitude)"
      ]
    },
    {
      "cell_type": "markdown",
      "metadata": {
        "id": "40GxufSy64Mf"
      },
      "source": [
        "What we wanted to highlight with these plots is that not all features will have a strong linear relationship with the target variable, and in some cases, a linear model might not be the best fit for the data.\n",
        "\n",
        "Now that we have a better understanding of the dataset, we can move on to implementing some learning algorithms, beginning with the closed-form solution."
      ]
    },
    {
      "cell_type": "markdown",
      "metadata": {
        "id": "5ZOTTlG564Mf"
      },
      "source": [
        "\n",
        "# Part 2: Closed Form Solution\n",
        "\n",
        "In this section, you will implement the closed form solution for linear regression.\n",
        "\n",
        "In class we learned that the closed form linear regression learner is defined as:\n",
        "\n",
        "\n",
        "$$\\mathcal{A}(\\mathcal{D}) = \\hat f \\quad \\text{where} \\quad \\hat f = \\mathbf{x}^\\top \\hat{\\mathbf{w}}$$\n",
        "\n",
        "and\n",
        "\n",
        "$$\\hat{\\mathbf{w}} = \\mathbf{A}^{-1} \\mathbf{b}, \\quad \\text{where} \\quad \\mathbf{A} = \\sum_{i=1}^n \\mathbf{x}_i \\mathbf{x}_i^\\top, \\quad \\mathbf{b} = \\sum_{i=1}^n \\mathbf{x}_i y_i$$\n",
        "\n",
        "In Question 2.1 your goal is to define the learner $\\mathcal{A}$ as a function `closed_form_learner` that takes as input `X` and `Y` (which is our dataset $\\mathcal{D}$) and returns the function `predictor`, which represents $\\hat f$.\n",
        "\n",
        "Note that `closed_form_learner` also returns `w_hat` because we will use it for plotting purposes later."
      ]
    },
    {
      "cell_type": "markdown",
      "metadata": {
        "id": "gwSz0Wyl64Mf"
      },
      "source": [
        "**A note on implementation:**\n",
        "Some helpful functions and syntax for this question are:\n",
        "- `*` for scalar multiplication (e.g. `2 * x` is the scalar product of `x` with 2).\n",
        "- `@` for matrix multiplication (e.g. `A @ B` is the matrix product of `A` and `B`, and `A @ x` is the matrix-vector product of `A` and `x`).\n",
        "- `.T` for the transpose of a matrix (e.g. `A.T` is the transpose of `A`).\n",
        "- `.shape` to get the shape of a matrix (e.g. if `A` is a matrix, `A.shape` is a tuple containing the number of rows and columns of `A`).\n",
        "- `np.outer` for the outer product of two vectors (e.g. `np.outer(x, x)` is the outer product of `x` with itself).\n",
        "- `np.linalg.pinv` for the inverse of a matrix (e.g. `np.linalg.pinv(A)` is the inverse of `A`).\n",
        "\n",
        "You can implement the above sums using a for loop; however, it is much more common to use matrix operations to compute these sums.\n",
        "This is because matrix operations are much faster and more efficient than using for loops.\n",
        "\n",
        "To see how this can be done, notice that $\\mathbf{X}, \\mathbf{X}^\\top$ and $\\mathbf{Y}$ can be visualized as follows:\n",
        "$$\n",
        "\\mathbf{X} = \\begin{bmatrix}\n",
        "\\mathbf{x}_1^\\top \\\\\n",
        "\\mathbf{x}_2^\\top \\\\\n",
        "\\vdots \\\\\n",
        "\\mathbf{x}_n^\\top \\\\\n",
        "\\end{bmatrix}, \\quad\n",
        "\\mathbf{X}^\\top = \\begin{bmatrix}\n",
        "\\mathbf{x}_1 & \\mathbf{x}_2 & \\cdots & \\mathbf{x}_n\n",
        "\\end{bmatrix}, \\quad\n",
        "\\mathbf{Y} = \\begin{bmatrix}\n",
        "y_1 \\\\\n",
        "y_2 \\\\\n",
        "\\vdots \\\\\n",
        "y_n \\\\\n",
        "\\end{bmatrix}\n",
        "$$\n",
        "Now, if we calculate $\\mathbf{X}^\\top \\mathbf{Y}$ we would get:\n",
        "$$\n",
        "\\mathbf{X}^\\top \\mathbf{Y} = \\begin{bmatrix}\n",
        "\\mathbf{x}_1 & \\mathbf{x}_2 & \\cdots & \\mathbf{x}_n\n",
        "\\end{bmatrix}\n",
        "\\begin{bmatrix}\n",
        "y_1 \\\\\n",
        "y_2 \\\\\n",
        "\\vdots \\\\\n",
        "y_n \\\\\n",
        "\\end{bmatrix}\n",
        "= \\mathbf{x}_1 y_1 + \\mathbf{x}_2 y_2 + \\cdots + \\mathbf{x}_n y_n\n",
        "= \\sum_{i=1}^n \\mathbf{x}_i y_i\n",
        "$$\n",
        "Notice how this is exactly equal to $\\mathbf{b}$.\n",
        "On a similar note, if we calculate $\\mathbf{X}^\\top \\mathbf{X}$ we would get (I don't expect you to know why the last equality holds):\n",
        "$$\n",
        "\\mathbf{X}^\\top \\mathbf{X} = \\begin{bmatrix}\n",
        "\\mathbf{x}_1 & \\mathbf{x}_2 & \\cdots & \\mathbf{x}_n\n",
        "\\end{bmatrix}\n",
        "\\begin{bmatrix}\n",
        "\\mathbf{x}_1^\\top \\\\\n",
        "\\mathbf{x}_2^\\top \\\\\n",
        "\\vdots \\\\\n",
        "\\mathbf{x}_n^\\top \\\\\n",
        "\\end{bmatrix}\n",
        "= \\sum_{i=1}^n \\mathbf{x}_i \\mathbf{x}_i^\\top\n",
        "$$\n",
        "\n",
        "Notice how this is exactly equal to $\\mathbf{A}$.\n",
        "\n",
        "\n",
        "\n",
        "\n",
        "\n",
        "\n"
      ]
    },
    {
      "cell_type": "markdown",
      "metadata": {
        "deletable": false,
        "editable": false,
        "id": "_Kpj4d6D64Mf"
      },
      "source": [
        "### Question 2.1\n",
        "Implement `closed_form_learner`.\n",
        "In particular your code should set `w_hat` as $\\hat{\\mathbf{w}}$ is defined above.\n",
        "\n",
        "_Points:_ 8"
      ]
    },
    {
      "cell_type": "code",
      "execution_count": null,
      "metadata": {
        "tags": [],
        "id": "d6hs6AUp64Mf"
      },
      "outputs": [],
      "source": [
        "def closed_form_learner(X, Y):\n",
        "    '''\n",
        "    Solves linear regression using the closed form solution.\n",
        "\n",
        "    Parameters:\n",
        "    X (numpy array): Feature matrix of size (n, d+1), where n is the number of samples\n",
        "                     and d is the number of features. The first column should be all 1s.\n",
        "    Y (numpy array): Target vector of size (n, 1).\n",
        "\n",
        "    Returns:\n",
        "    predictor (function): A function that takes a feature vector and returns a predicted value.\n",
        "    w_hat (numpy array): The weights calculated using the closed form solution.\n",
        "    '''\n",
        "\n",
        "    ### YOUR CODE HERE ###\n",
        "\n",
        "    w_hat = np.linalg.pinv(X.T @ X) @ X.T @ Y # this is a placeholder, replace it with the correct value\n",
        "\n",
        "    ######################\n",
        "\n",
        "    def predictor(x):\n",
        "        return x @ w_hat\n",
        "\n",
        "    return predictor, w_hat\n"
      ]
    },
    {
      "cell_type": "code",
      "execution_count": null,
      "metadata": {
        "deletable": false,
        "editable": false,
        "id": "h_-trPhc64Mf",
        "colab": {
          "base_uri": "https://localhost:8080/",
          "height": 47
        },
        "outputId": "ae7838f5-f3e7-4b7e-b0fa-809f1784319c"
      },
      "outputs": [
        {
          "output_type": "execute_result",
          "data": {
            "text/plain": [
              "q2_1 results: All test cases passed!"
            ],
            "text/html": [
              "<p><strong><pre style='display: inline;'>q2_1</pre></strong> passed! 🌟</p>"
            ]
          },
          "metadata": {},
          "execution_count": 104
        }
      ],
      "source": [
        "grader.check(\"q2_1\")"
      ]
    },
    {
      "cell_type": "markdown",
      "metadata": {
        "id": "nzyabxKq64Mg"
      },
      "source": [
        "## Visualizing the Predictor"
      ]
    },
    {
      "cell_type": "markdown",
      "metadata": {
        "id": "qIQTZzjJ64Mg"
      },
      "source": [
        "To get an sense of the quality of the predictor our learner outputs, we will plot the predicted house prices against the true house prices.\n",
        "To help us visualize things we will only use one feature, the median income, to make the plot.\n",
        "First lets define a new matrix `X_MedInc` that only contains two columns, the first columns contains all 1s and the second column contains the median income feature."
      ]
    },
    {
      "cell_type": "code",
      "execution_count": null,
      "metadata": {
        "id": "yEjuFCK864Mg"
      },
      "outputs": [],
      "source": [
        "X_MedInc = np.hstack([np.ones((X.shape[0], 1)), X[:, 1].reshape(-1, 1)])"
      ]
    },
    {
      "cell_type": "markdown",
      "metadata": {
        "id": "bQ5bisVL64Mg"
      },
      "source": [
        "Now we can pass `X_MedInc` and `Y` to the `closed_form_learner` to get the predictor and plot it against the true house prices.\n",
        "\n",
        "You should see the predictor is a line that fits the data well."
      ]
    },
    {
      "cell_type": "code",
      "execution_count": null,
      "metadata": {
        "id": "vc_dRXBL64Mg",
        "colab": {
          "base_uri": "https://localhost:8080/",
          "height": 49,
          "referenced_widgets": [
            "9e9f6ed73da14f1f8a33d25df4e038ec",
            "a8704a3657be49c9afabd9859edd8da8",
            "a7ddc3c5f2dd4d04a384d3a5e04514e5"
          ]
        },
        "outputId": "13dcb4ec-1afe-4dc3-9567-560fcb02ad8e",
        "cellView": "form"
      },
      "outputs": [
        {
          "output_type": "display_data",
          "data": {
            "text/plain": [
              "Checkbox(value=False, description='Show Plot')"
            ],
            "application/vnd.jupyter.widget-view+json": {
              "version_major": 2,
              "version_minor": 0,
              "model_id": "9e9f6ed73da14f1f8a33d25df4e038ec"
            }
          },
          "metadata": {
            "application/vnd.jupyter.widget-view+json": {
              "colab": {
                "custom_widget_manager": {
                  "url": "https://ssl.gstatic.com/colaboratory-static/widgets/colab-cdn-widget-manager/2b70e893a8ba7c0f/manager.min.js"
                }
              }
            }
          }
        }
      ],
      "source": [
        "# @title Plot\n",
        "\n",
        "# Create a checkbox widget\n",
        "show_plot_checkbox_cf = widgets.Checkbox(\n",
        "    value=False,\n",
        "    description='Show Plot',\n",
        "    disabled=False\n",
        ")\n",
        "\n",
        "# Function to plot the data\n",
        "def plot_data_cf(change):\n",
        "    clear_output(wait=True)  # Clear the output before plotting or closing the plot\n",
        "    display(show_plot_checkbox_cf)  # Re-display the checkbox after clearing\n",
        "\n",
        "    # Step 1: Call the closed_form_learner to get the predictor function and weights trained on X_MedInc.\n",
        "    predictor_cf, w_hat_cf = closed_form_learner(X_MedInc, Y)\n",
        "\n",
        "    # Step 2: Generate predicted values using the predictor function.\n",
        "    Y_pred_cf = predictor_cf(X_MedInc)\n",
        "\n",
        "    if show_plot_checkbox_cf.value:\n",
        "       # Step 4: Plot the original data points and the predicted line, with the desired style.\n",
        "        plt.figure(figsize=(10, 5))  # Set figure size as in the previous plot.\n",
        "        plt.scatter(X_MedInc[:, 1:], Y, alpha=0.3)  # Plot actual data with 30% opacity.\n",
        "        plt.plot(X_MedInc[:, 1:], Y_pred_cf, color='red', label='Closed Form Predictor')  # Plot the predicted line.\n",
        "        plt.xlabel('Median Income (in tens of thousands)')  # Change the x-axis label.\n",
        "        plt.ylabel('Median House Price (in hundreds of thousands)')  # Change the y-axis label.\n",
        "        plt.legend()  # Show the legend.\n",
        "\n",
        "        # Show the plot.\n",
        "        plt.show()\n",
        "\n",
        "# Attach the function to the checkbox\n",
        "show_plot_checkbox_cf.observe(plot_data_cf, names='value')\n",
        "\n",
        "# Display the checkbox\n",
        "display(show_plot_checkbox_cf)\n"
      ]
    },
    {
      "cell_type": "markdown",
      "metadata": {
        "id": "0V45FMx464Mg"
      },
      "source": [
        "# Part 3: Batch Gradient Descent"
      ]
    },
    {
      "cell_type": "markdown",
      "metadata": {
        "id": "0uVtmbE764Mg"
      },
      "source": [
        "Lets now implement the batch gradient descent learner for linear regression.\n",
        "In class we learned that the batch gradient descent learner is defined as:\n",
        "\n",
        "$$\\mathcal{A}(\\mathcal{D}) = \\hat f \\quad \\text{where} \\quad \\hat f = \\mathbf{x}^\\top \\mathbf{w}^{(T)}, \\quad T \\in \\mathbb{N}$$\n",
        "\n",
        "and\n",
        "\n",
        "$$\\mathbf{w}^{(t+1)} = \\mathbf{w}^{(t)} - \\eta^{(t)} \\frac{2}{n} \\sum_{i=1}^n (\\mathbf{x}_i^\\top \\mathbf{w}^{(t)} - y_i) \\mathbf{x}_i$$\n",
        "\n",
        "In Question 3.1 your goal is to define the learner $\\mathcal{A}$ as a function `batch_gradient_descent_learner` that takes as input:\n",
        "- `X` and `Y` (which is the dataset $\\mathcal{D}$),\n",
        "- `step_size` which is a constant learning rate, representing $\\eta^{(t)} = \\eta$,\n",
        "- `epochs` which is the number of steps to take, representing $T$,\n",
        "- `random_seed` which is the random seed used for reproducibility when initializing the weights randomly,\n",
        "\n",
        "and returns the function `predictor`, which represents $\\hat f$.\n",
        "Note that we are assuming a constant learning rate $\\eta^{(t)} = \\eta$ for this implementation.\n",
        "\n",
        "**A note on implementation:**\n",
        "Similar to the closed form solution, you can implement the above sum using a for loop; however, it is much more common to use matrix operations to compute these sums.\n",
        "To see how this can be done, first notice that\n",
        "$$\n",
        "\\sum_{i=1}^n (\\mathbf{x}_i^\\top \\mathbf{w}^{(t)} - y_i) \\mathbf{x}_i\n",
        "= \\sum_{i=1}^n \\mathbf{x}_i (\\mathbf{x}_i^\\top \\mathbf{w}^{(t)} - y_i)\n",
        "= \\sum_{i=1}^n \\mathbf{x}_i (\\mathbf{x}_i^\\top \\mathbf{w}^{(t)}) - \\sum_{i=1}^n \\mathbf{x}_i y_i\n",
        "$$\n",
        "We already learned in the previous section that $\\mathbf{X}^\\top \\mathbf{Y} = \\sum_{i=1}^n \\mathbf{x}_i y_i$.\n",
        "For the first sum, notice that if we calculate $\\mathbf{X}^\\top \\mathbf{X} \\mathbf{w}$ we get:\n",
        "$$\n",
        "\\mathbf{X}^\\top \\mathbf{X} \\mathbf{w} = \\left( \\sum_{i=1}^n \\mathbf{x}_i \\mathbf{x}_i^\\top \\right) \\mathbf{w}\n",
        "= \\sum_{i=1}^n \\mathbf{x}_i (\\mathbf{x}_i^\\top \\mathbf{w})\n",
        "$$\n"
      ]
    },
    {
      "cell_type": "markdown",
      "metadata": {
        "deletable": false,
        "editable": false,
        "id": "p72pI8nZ64Mg"
      },
      "source": [
        "### Question 3.1\n",
        "Implement `batch_gradient_descent_learner`.\n",
        "In particular your code should set `w` as $\\mathbf{w}^{(t+1)}$ is defined above.\n",
        "\n",
        "_Points:_ 8"
      ]
    },
    {
      "cell_type": "code",
      "execution_count": null,
      "metadata": {
        "tags": [],
        "id": "dAoFa0sa64Mg"
      },
      "outputs": [],
      "source": [
        "def batch_gradient_descent_learner(X, Y, step_size=0.01, epochs=10, random_seed=42):\n",
        "    '''\n",
        "    Solves linear regression using batch gradient descent.\n",
        "\n",
        "    Parameters:\n",
        "    X (numpy array): Feature matrix of size (n, d+1), where n is the number of samples\n",
        "                     and d is the number of features. The first column should be all 1s.\n",
        "    Y (numpy array): Target vector of size (n, 1).\n",
        "    step_size (float): The step size for gradient descent.\n",
        "    epochs (int): The number of iterations to run gradient descent.\n",
        "    random_seed (int, optional): The seed for the random number generator.\n",
        "\n",
        "    Returns:\n",
        "    predictor (function): A function that takes a feature vector and returns a predicted value.\n",
        "    w (numpy array): The final weights after applying gradient descent for the specified epochs.\n",
        "    '''\n",
        "    n, d = X[:,1:].shape\n",
        "    np.random.seed(random_seed)\n",
        "    w = np.random.randn(d+1) # initialize the weights randomly\n",
        "\n",
        "    ### YOUR CODE HERE ###\n",
        "    for i in range(epochs):\n",
        "      gradient_learner = (2/n) * (X.T @X @ w - X.T @ Y)\n",
        "      w = w - step_size*gradient_learner\n",
        "\n",
        "    ######################\n",
        "\n",
        "    def predictor(x):\n",
        "        return x @ w\n",
        "\n",
        "    return predictor, w\n"
      ]
    },
    {
      "cell_type": "code",
      "execution_count": null,
      "metadata": {
        "deletable": false,
        "editable": false,
        "id": "Xpw97KNj64Mg",
        "colab": {
          "base_uri": "https://localhost:8080/",
          "height": 47
        },
        "outputId": "5d6bc5a2-585c-43d3-92dd-cfbac33f6937"
      },
      "outputs": [
        {
          "output_type": "execute_result",
          "data": {
            "text/plain": [
              "q3_1 results: All test cases passed!"
            ],
            "text/html": [
              "<p><strong><pre style='display: inline;'>q3_1</pre></strong> passed! 🙌</p>"
            ]
          },
          "metadata": {},
          "execution_count": 108
        }
      ],
      "source": [
        "grader.check(\"q3_1\")"
      ]
    },
    {
      "cell_type": "markdown",
      "metadata": {
        "id": "zKb63w8864Mg"
      },
      "source": [
        "## Visualizing the Predictor"
      ]
    },
    {
      "cell_type": "markdown",
      "metadata": {
        "id": "lgoTqMrA64Mh"
      },
      "source": [
        "Similar to the previous section, we will plot the predicted house prices against the true house prices using the median income feature.\n",
        "\n",
        "You should notice that as the number of epochs increases, the predictor gets closer to the closed form predictor.\n",
        "This makes sense, because the $\\hat{\\textbf{w}}$ used by the closed form predictor is\n",
        "$$\\hat{\\textbf{w}} = \\text{arg} \\min_{\\textbf{w}} \\hat L(\\textbf{w})$$\n",
        "and the $\\textbf{w}$ used by the batch gradient descent learner approaches this $\\hat{\\textbf{w}}$ as the number of epochs increases.\n",
        "\n",
        "You can use the slider to change the number of `epochs` that the `batch_gradient_descent_learner` runs for."
      ]
    },
    {
      "cell_type": "code",
      "execution_count": null,
      "metadata": {
        "id": "qA7Jdv2-64Mh",
        "cellView": "form",
        "colab": {
          "base_uri": "https://localhost:8080/",
          "height": 79,
          "referenced_widgets": [
            "a9dc95a3e0374940abaee5208a0b5b24",
            "8d6ef889ac174205b1d00d2197d8f0d4",
            "dcae574527904a749aef4b6b77b06832",
            "2078a5839fd944b18365d998e8149f0c",
            "16da1115a56f4f10814c819ac48d10a6",
            "8c258fc33225412583fe37ba7c0227ce",
            "0701ccc3e9904064b4a0066762318f09",
            "568e956e6dee477a94ea62777f95462d"
          ]
        },
        "outputId": "b636784e-5ab9-4f04-ceaf-afa2f153e766"
      },
      "outputs": [
        {
          "output_type": "display_data",
          "data": {
            "text/plain": [
              "IntSlider(value=3, description='Epochs:', max=300, min=1)"
            ],
            "application/vnd.jupyter.widget-view+json": {
              "version_major": 2,
              "version_minor": 0,
              "model_id": "a9dc95a3e0374940abaee5208a0b5b24"
            }
          },
          "metadata": {
            "application/vnd.jupyter.widget-view+json": {
              "colab": {
                "custom_widget_manager": {
                  "url": "https://ssl.gstatic.com/colaboratory-static/widgets/colab-cdn-widget-manager/2b70e893a8ba7c0f/manager.min.js"
                }
              }
            }
          }
        },
        {
          "output_type": "display_data",
          "data": {
            "text/plain": [
              "Checkbox(value=False, description='Show Plot')"
            ],
            "application/vnd.jupyter.widget-view+json": {
              "version_major": 2,
              "version_minor": 0,
              "model_id": "2078a5839fd944b18365d998e8149f0c"
            }
          },
          "metadata": {
            "application/vnd.jupyter.widget-view+json": {
              "colab": {
                "custom_widget_manager": {
                  "url": "https://ssl.gstatic.com/colaboratory-static/widgets/colab-cdn-widget-manager/2b70e893a8ba7c0f/manager.min.js"
                }
              }
            }
          }
        },
        {
          "output_type": "display_data",
          "data": {
            "text/plain": [
              "Output()"
            ],
            "application/vnd.jupyter.widget-view+json": {
              "version_major": 2,
              "version_minor": 0,
              "model_id": "0701ccc3e9904064b4a0066762318f09"
            }
          },
          "metadata": {
            "application/vnd.jupyter.widget-view+json": {
              "colab": {
                "custom_widget_manager": {
                  "url": "https://ssl.gstatic.com/colaboratory-static/widgets/colab-cdn-widget-manager/2b70e893a8ba7c0f/manager.min.js"
                }
              }
            }
          }
        }
      ],
      "source": [
        "# @title Plot\n",
        "# Create a slider widget for selecting the number of epochs\n",
        "epochs_slider = widgets.IntSlider(\n",
        "    value=3,\n",
        "    min=1,\n",
        "    max=300,\n",
        "    step=1,\n",
        "    description='Epochs:',\n",
        "    continuous_update=True  # Enable continuous updates for smoother interaction\n",
        ")\n",
        "\n",
        "# Create a checkbox widget\n",
        "show_plot_checkbox_bgd = widgets.Checkbox(\n",
        "    value=False,\n",
        "    description='Show Plot',\n",
        "    disabled=False\n",
        ")\n",
        "\n",
        "# Step 1: Call the closed_form_learner to get the predictor function and weights trained on X_MedInc.\n",
        "predictor_cf, w_hat_cf = closed_form_learner(X_MedInc, Y)\n",
        "\n",
        "# Step 2: Generate predicted values using the predictor function.\n",
        "Y_pred_cf = predictor_cf(X_MedInc)\n",
        "\n",
        "# Function to update the plot based on the selected number of epochs\n",
        "def update_plot_scatter_bgd(epochs, show_plot):\n",
        "    if show_plot:\n",
        "        # Step 1: Call the batch_gradient_descent_learner to get the predictor function and weights trained on X_MedInc.\n",
        "        bgd_predictor, bgd_weights = batch_gradient_descent_learner(X_MedInc, Y, step_size=0.01, epochs=epochs)\n",
        "\n",
        "        # Step 2: Generate predicted values using the BGD predictor function.\n",
        "        Y_pred_bgd = bgd_predictor(X_MedInc)\n",
        "\n",
        "        # Step 3: Plot the original data points, the closed form predictor line, and the BGD predictor line.\n",
        "        plt.figure(figsize=(10, 5))  # Set figure size as in the previous plot.\n",
        "        plt.scatter(X_MedInc[:, 1:], Y, alpha=0.3, label='Actual Data')  # Plot actual data with 30% opacity.\n",
        "        plt.plot(X_MedInc[:, 1:], Y_pred_cf, color='red', label='Closed Form Predictor')  # Plot the closed form predicted line.\n",
        "        plt.plot(X_MedInc[:, 1:], Y_pred_bgd, color='blue', label=f'BGD Predictor ({epochs} epochs)')  # Plot the BGD predicted line.\n",
        "        plt.xlabel('Median Income (in tens of thousands)')  # Change the x-axis label.\n",
        "        plt.ylabel('Median House Price (in hundreds of thousands)')  # Change the y-axis label.\n",
        "        plt.ylim(0.4, 5.4)\n",
        "        plt.legend()  # Show the legend.\n",
        "\n",
        "        # Show the plot.\n",
        "        plt.show()\n",
        "    else:\n",
        "        # Clear the output to hide the plot when \"Show Plot\" is unchecked\n",
        "        clear_output()\n",
        "\n",
        "# Use interactive_output to update the plot interactively\n",
        "interactive_plot_scatter_bgd = interactive_output(update_plot_scatter_bgd, {'epochs': epochs_slider, 'show_plot': show_plot_checkbox_bgd})\n",
        "\n",
        "# Display the slider, checkbox, and interactive plot\n",
        "display(epochs_slider, show_plot_checkbox_bgd, interactive_plot_scatter_bgd)\n"
      ]
    },
    {
      "cell_type": "markdown",
      "metadata": {
        "id": "T5q2Y8PE64Mh"
      },
      "source": [
        "We can also visualize the estimated loss $\\hat L(\\mathbf{w})$ over the epochs.\n",
        "Lets define a function `calculate_loss` that takes in `X`, `Y`, and `w` and returns the estimated loss $\\hat L(\\mathbf{w})$."
      ]
    },
    {
      "cell_type": "code",
      "execution_count": null,
      "metadata": {
        "id": "u1-hghXt64Mh"
      },
      "outputs": [],
      "source": [
        "def calculate_loss(X, Y, w):\n",
        "    return np.mean((X @ w - Y) ** 2)"
      ]
    },
    {
      "cell_type": "markdown",
      "metadata": {
        "id": "rAl4dnXF64Mi"
      },
      "source": [
        "Since we are only using one feature, the weight vector $\\mathbf{w}$ is a 2-dimensional vector, where the first element is the bias term and the second element is the weight for the median income feature.\n",
        "Thus we can plot the estimated loss as a function of the 2-dimensional weight vector $\\mathbf{w}$.\n",
        "\n",
        "In the plot you should see that the $\\hat{\\textbf{w}}$ used by the closed form solution is the minimizer of the estimated loss.\n",
        "You should also see that the estimated loss for batch gradient descent weight vector $\\textbf{w}$ approaches $\\hat{\\textbf{w}}$ as the number of epochs increases.\n",
        "\n",
        "You can use the sliders to change the viewing angle of the plot."
      ]
    },
    {
      "cell_type": "code",
      "execution_count": null,
      "metadata": {
        "id": "FO5vLv6564Mi",
        "cellView": "form",
        "colab": {
          "base_uri": "https://localhost:8080/",
          "height": 109,
          "referenced_widgets": [
            "0c0429931dcd4d8e9ba986a9a6a677a5",
            "48b1237df0034b39b854abdf110f7bdb",
            "5173d56d8f7a4aa1a446ed67167c3dd4",
            "480a1f12b01942c5a62c4c7497a01fde",
            "1d45bfa8a6b140148b719bb7bb428da2",
            "3ba80f3982d94549ab4520ccee15cca2",
            "45ebe2588fa448e9af0343750f716eaf",
            "ab130765cdf54b09848b04d74bc79cdf",
            "2fe66d01e9bc48e9b6dc47404d12deac",
            "6bf1941246394495ac924c99371fad61",
            "ee053da90f274ebeb04065958678d800"
          ]
        },
        "outputId": "0e1c2276-5d77-4e7e-d87a-a2e05777f6b2"
      },
      "outputs": [
        {
          "output_type": "display_data",
          "data": {
            "text/plain": [
              "IntSlider(value=15, description='Elev:', max=90)"
            ],
            "application/vnd.jupyter.widget-view+json": {
              "version_major": 2,
              "version_minor": 0,
              "model_id": "0c0429931dcd4d8e9ba986a9a6a677a5"
            }
          },
          "metadata": {
            "application/vnd.jupyter.widget-view+json": {
              "colab": {
                "custom_widget_manager": {
                  "url": "https://ssl.gstatic.com/colaboratory-static/widgets/colab-cdn-widget-manager/2b70e893a8ba7c0f/manager.min.js"
                }
              }
            }
          }
        },
        {
          "output_type": "display_data",
          "data": {
            "text/plain": [
              "IntSlider(value=70, description='Azim:', max=360)"
            ],
            "application/vnd.jupyter.widget-view+json": {
              "version_major": 2,
              "version_minor": 0,
              "model_id": "480a1f12b01942c5a62c4c7497a01fde"
            }
          },
          "metadata": {
            "application/vnd.jupyter.widget-view+json": {
              "colab": {
                "custom_widget_manager": {
                  "url": "https://ssl.gstatic.com/colaboratory-static/widgets/colab-cdn-widget-manager/2b70e893a8ba7c0f/manager.min.js"
                }
              }
            }
          }
        },
        {
          "output_type": "display_data",
          "data": {
            "text/plain": [
              "Checkbox(value=False, description='Show Plot')"
            ],
            "application/vnd.jupyter.widget-view+json": {
              "version_major": 2,
              "version_minor": 0,
              "model_id": "45ebe2588fa448e9af0343750f716eaf"
            }
          },
          "metadata": {
            "application/vnd.jupyter.widget-view+json": {
              "colab": {
                "custom_widget_manager": {
                  "url": "https://ssl.gstatic.com/colaboratory-static/widgets/colab-cdn-widget-manager/2b70e893a8ba7c0f/manager.min.js"
                }
              }
            }
          }
        },
        {
          "output_type": "display_data",
          "data": {
            "text/plain": [
              "Output()"
            ],
            "application/vnd.jupyter.widget-view+json": {
              "version_major": 2,
              "version_minor": 0,
              "model_id": "6bf1941246394495ac924c99371fad61"
            }
          },
          "metadata": {
            "application/vnd.jupyter.widget-view+json": {
              "colab": {
                "custom_widget_manager": {
                  "url": "https://ssl.gstatic.com/colaboratory-static/widgets/colab-cdn-widget-manager/2b70e893a8ba7c0f/manager.min.js"
                }
              }
            }
          }
        }
      ],
      "source": [
        "# @title Plot\n",
        "# Create sliders for elev and azim\n",
        "elev_slider = widgets.IntSlider(\n",
        "    value=15,\n",
        "    min=0,\n",
        "    max=90,\n",
        "    step=1,\n",
        "    description='Elev:',\n",
        "    continuous_update=True  # Enable continuous updates for smoother interaction\n",
        ")\n",
        "\n",
        "azim_slider = widgets.IntSlider(\n",
        "    value=70,\n",
        "    min=0,\n",
        "    max=360,\n",
        "    step=1,\n",
        "    description='Azim:',\n",
        "    continuous_update=True  # Enable continuous updates for smoother interaction\n",
        ")\n",
        "\n",
        "# Create a checkbox widget\n",
        "show_plot_checkbox_mesh = widgets.Checkbox(\n",
        "    value=False,\n",
        "    description='Show Plot',\n",
        "    disabled=False\n",
        ")\n",
        "\n",
        "# Run batch gradient descent for different epochs\n",
        "bgd_predictor_1, bgd_weights_1 = batch_gradient_descent_learner(X_MedInc, Y, step_size=0.01, epochs=1)\n",
        "bgd_predictor_10, bgd_weights_10 = batch_gradient_descent_learner(X_MedInc, Y, step_size=0.01, epochs=10)\n",
        "bgd_predictor_50, bgd_weights_50 = batch_gradient_descent_learner(X_MedInc, Y, step_size=0.01, epochs=50)\n",
        "\n",
        "# Compute the loss values for each set of weights\n",
        "bgd_loss_1 = calculate_loss(X_MedInc, Y, bgd_weights_1)\n",
        "bgd_loss_10 = calculate_loss(X_MedInc, Y, bgd_weights_10)\n",
        "bgd_loss_50 = calculate_loss(X_MedInc, Y, bgd_weights_50)\n",
        "\n",
        "# Get the closed form solution weights and loss\n",
        "closed_form_predictor, closed_form_weights = closed_form_learner(X_MedInc, Y)\n",
        "closed_form_loss = calculate_loss(X_MedInc, Y, closed_form_weights)\n",
        "\n",
        "# Create a grid of weight values for plotting the loss surface\n",
        "W0, W1 = np.meshgrid(np.linspace(-0.2, 2.5, 100), np.linspace(-0.5, 1.2, 100))\n",
        "loss_values = np.zeros_like(W0)\n",
        "\n",
        "# Compute the loss for each combination of weights\n",
        "for i in range(W0.shape[0]):\n",
        "    for j in range(W0.shape[1]):\n",
        "        w = np.array([W0[i, j], W1[i, j]])\n",
        "        loss_values[i, j] = calculate_loss(X_MedInc, Y, w)\n",
        "\n",
        "# Function to update the plot based on the slider values\n",
        "def update_plot_mesh(elev, azim, show_plot):\n",
        "    if show_plot:\n",
        "        # Create a new figure and 3D plot\n",
        "        fig = plt.figure(figsize=(12, 8))\n",
        "        ax = fig.add_subplot(111, projection='3d')\n",
        "        ax.plot_surface(W0, W1, loss_values, cmap='viridis', alpha=0.6)\n",
        "        ax.scatter(bgd_weights_1[0], bgd_weights_1[1], bgd_loss_1, color='blue', label='BGD Predictor (1 epoch)', s=100)\n",
        "        ax.scatter(bgd_weights_10[0], bgd_weights_10[1], bgd_loss_10, color='orange', label='BGD Predictor (10 epochs)', s=100)\n",
        "        ax.scatter(bgd_weights_50[0], bgd_weights_50[1], bgd_loss_50, color='red', label='BGD Predictor (50 epochs)', s=100)\n",
        "        ax.scatter(closed_form_weights[0], closed_form_weights[1], closed_form_loss, color='green', label='Closed Form Predictor', s=100)\n",
        "        ax.set_xlabel('Weight w0')\n",
        "        ax.set_ylabel('Weight w1')\n",
        "        ax.set_zlabel('Estimated Loss')\n",
        "        ax.view_init(elev=elev, azim=azim)\n",
        "        ax.set_title('Estimated Loss as a Function of Weight')\n",
        "        ax.legend()\n",
        "\n",
        "        # Display the updated plot\n",
        "        plt.show()\n",
        "    else:\n",
        "        # Clear the output to hide the plot when \"Show Plot\" is unchecked\n",
        "        clear_output()\n",
        "\n",
        "# Use interactive_output to update the plot interactively\n",
        "interactive_plot_mesh = interactive_output(update_plot_mesh, {'elev': elev_slider, 'azim': azim_slider, 'show_plot': show_plot_checkbox_mesh})\n",
        "\n",
        "# Display the sliders, checkbox, and interactive plot\n",
        "display(elev_slider, azim_slider, show_plot_checkbox_mesh, interactive_plot_mesh)\n"
      ]
    },
    {
      "cell_type": "markdown",
      "metadata": {
        "id": "zrwNn8hl64Mi"
      },
      "source": [
        "We can also visualize the estimated loss $\\hat L(\\mathbf{w})$ over the epochs in a 2D plot.\n",
        "Here we use a heatmap to represent the estimated loss value.\n",
        "The darkest blue represents the minimum estimated loss.\n",
        "You should see that the $\\hat{\\textbf{w}}$ used by the closed form solution is at the darkest blue region.\n",
        "You should also see that the estimated loss for the batch gradient descent weight vector $\\textbf{w}$ gets closer to $\\hat{\\textbf{w}}$ after each gradient descent step.\n",
        "The gradient steps are indicated by the red arrows."
      ]
    },
    {
      "cell_type": "code",
      "execution_count": null,
      "metadata": {
        "id": "P7O6og1t64Mi",
        "cellView": "form",
        "colab": {
          "base_uri": "https://localhost:8080/",
          "height": 49,
          "referenced_widgets": [
            "2d013dc6e4c34d22a9a5ba81793b0991",
            "25b5373c2a304a36baa18ca7fa254f74",
            "a06348291100403ca30463cda585ebf1"
          ]
        },
        "outputId": "5c0d9ff2-a60d-464e-c256-6a69fb22561e"
      },
      "outputs": [
        {
          "output_type": "display_data",
          "data": {
            "text/plain": [
              "Checkbox(value=False, description='Show Plot')"
            ],
            "application/vnd.jupyter.widget-view+json": {
              "version_major": 2,
              "version_minor": 0,
              "model_id": "2d013dc6e4c34d22a9a5ba81793b0991"
            }
          },
          "metadata": {
            "application/vnd.jupyter.widget-view+json": {
              "colab": {
                "custom_widget_manager": {
                  "url": "https://ssl.gstatic.com/colaboratory-static/widgets/colab-cdn-widget-manager/2b70e893a8ba7c0f/manager.min.js"
                }
              }
            }
          }
        }
      ],
      "source": [
        "# @title Plot\n",
        "# Create a checkbox widget\n",
        "show_plot_checkbox_loss = widgets.Checkbox(\n",
        "    value=False,\n",
        "    description='Show Plot',\n",
        "    disabled=False\n",
        ")\n",
        "\n",
        "# Function to plot the data\n",
        "def plot_data_loss(change):\n",
        "    clear_output(wait=True)  # Clear the output before plotting or closing the plot\n",
        "    display(show_plot_checkbox_loss)  # Re-display the checkbox after clearing\n",
        "\n",
        "    if show_plot_checkbox_loss.value:\n",
        "        # Get the closed form solution weights and loss\n",
        "        closed_form_predictor, closed_form_weights = closed_form_learner(X_MedInc, Y)\n",
        "        closed_form_loss = calculate_loss(X_MedInc, Y, closed_form_weights)\n",
        "\n",
        "        # Define the range of weight values to evaluate\n",
        "        w0_values = np.linspace(-0.2, 2.5, 100)\n",
        "        w1_values = np.linspace(-0.5, 1.2, 100)\n",
        "\n",
        "        # Create a meshgrid for the weight values\n",
        "        W0, W1 = np.meshgrid(w0_values, w1_values)\n",
        "\n",
        "        # Calculate the estimated loss for each pair of weight values\n",
        "        loss_values = np.zeros_like(W0)\n",
        "        for i in range(W0.shape[0]):\n",
        "            for j in range(W0.shape[1]):\n",
        "                w = np.array([W0[i, j], W1[i, j]])\n",
        "                loss = calculate_loss(X_MedInc, Y, w)\n",
        "                loss_values[i, j] = loss\n",
        "\n",
        "        # Get the weight values from the BGD predictor for different epochs\n",
        "        bgd_weights = []\n",
        "        _, bgd_weight = batch_gradient_descent_learner(X_MedInc, Y, step_size=0.01, epochs=1)\n",
        "        bgd_weights.append(bgd_weight)\n",
        "        for epoch in range(5, 100, 5):\n",
        "            _, bgd_weight = batch_gradient_descent_learner(X_MedInc, Y, step_size=0.01, epochs=epoch)\n",
        "            bgd_weights.append(bgd_weight)\n",
        "\n",
        "        bgd_weights = np.array(bgd_weights)\n",
        "\n",
        "        # Get the weight values from the closed form predictor\n",
        "        _, closed_form_weight = closed_form_learner(X_MedInc, Y)\n",
        "\n",
        "        # Plot the estimated loss as a function of the weight vector in 2D\n",
        "        plt.figure(figsize=(12, 8))\n",
        "        plt.contourf(W0, W1, loss_values, levels=50, cmap='viridis')\n",
        "        plt.colorbar(label='Estimated Loss')\n",
        "        plt.scatter(closed_form_weight[0], closed_form_weight[1], color='green', s=100, label='Closed Form Predictor')\n",
        "        plt.plot(bgd_weights[:, 0], bgd_weights[:, 1], marker='o', color='red', label='BGD Path')\n",
        "        for i in range(len(bgd_weights) - 1):\n",
        "            plt.arrow(bgd_weights[i, 0], bgd_weights[i, 1],\n",
        "                      bgd_weights[i+1, 0] - bgd_weights[i, 0],\n",
        "                      bgd_weights[i+1, 1] - bgd_weights[i, 1],\n",
        "                      head_width=0.045, head_length=0.045, fc='red', ec='red')  # Arrows in red\n",
        "        plt.xlabel('Weight w0')\n",
        "        plt.ylabel('Weight w1')\n",
        "        plt.title('Estimated Loss as a Function of Weight with Gradient Descent Path')\n",
        "        plt.legend()\n",
        "        plt.show()\n",
        "\n",
        "# Attach the function to the checkbox\n",
        "show_plot_checkbox_loss.observe(plot_data_loss, names='value')\n",
        "\n",
        "# Display the checkbox\n",
        "display(show_plot_checkbox_loss)\n"
      ]
    },
    {
      "cell_type": "markdown",
      "metadata": {
        "id": "DwaLXpsT64Mi"
      },
      "source": [
        "One last way we can visualize the estimated loss is by plotting the estimated loss as a function of the number of epochs.\n",
        "This is sometimes called a learning curve, or a loss curve, and is perhaps the most commonly used way to visualize the performance of a learner in machine learning.\n",
        "\n",
        "For this kind of plot we are not limited to visualizing a predictor that only uses a single feature.\n",
        "In particular, now we can use all of the features in the dataset `X` instead of just the median income feature data `X_MedInc` to learn a predictor.\n",
        "We plot the estimated loss as a function of the number of epochs for the predictor output by the batch gradient descent learner using only the median income feature data `X_MedInc`, and all the features in the dataset `X`.\n",
        "\n",
        "What you should see is that the estimated loss decreases as the number of epochs increases for both cases.\n",
        "You should also find that the estimated loss for the predictor output by the learner using all the features in the dataset `X` reached a lower value compared to the predictor output by the learner using only the matrix containing the median income feature `X_MedInc`.\n",
        "This makes sense, since the learner has access to more information (features) and thus should be able to learn a predictor that better fits the data."
      ]
    },
    {
      "cell_type": "code",
      "execution_count": null,
      "metadata": {
        "id": "9PKNwavx64Mi",
        "cellView": "form",
        "colab": {
          "base_uri": "https://localhost:8080/",
          "height": 49,
          "referenced_widgets": [
            "7be0e9db4e3b4c78b1a124dd3663ab37",
            "72fd90cda0714643a6ca4d315af4dfcc",
            "f27a8b951eec4f82a1e68afcd10b86ed"
          ]
        },
        "outputId": "253a184e-c0a2-45f4-bbee-d87f3b13e840"
      },
      "outputs": [
        {
          "output_type": "display_data",
          "data": {
            "text/plain": [
              "Checkbox(value=False, description='Show Plot')"
            ],
            "application/vnd.jupyter.widget-view+json": {
              "version_major": 2,
              "version_minor": 0,
              "model_id": "7be0e9db4e3b4c78b1a124dd3663ab37"
            }
          },
          "metadata": {
            "application/vnd.jupyter.widget-view+json": {
              "colab": {
                "custom_widget_manager": {
                  "url": "https://ssl.gstatic.com/colaboratory-static/widgets/colab-cdn-widget-manager/2b70e893a8ba7c0f/manager.min.js"
                }
              }
            }
          }
        }
      ],
      "source": [
        "# @title Plot\n",
        "\n",
        "# Create a checkbox widget\n",
        "show_plot_checkbox_loss_curve = widgets.Checkbox(\n",
        "    value=False,\n",
        "    description='Show Plot',\n",
        "    disabled=False\n",
        ")\n",
        "\n",
        "# Function to plot the data\n",
        "def plot_data_loss_curve(change):\n",
        "    clear_output(wait=True)  # Clear the output before plotting or closing the plot\n",
        "    display(show_plot_checkbox_loss_curve)  # Re-display the checkbox after clearing\n",
        "\n",
        "    if show_plot_checkbox_loss_curve.value:\n",
        "        # Define the number of epochs to evaluate\n",
        "        epochs = range(1, 501)\n",
        "\n",
        "        # Initialize empty lists to store the loss values for each dataset\n",
        "        loss_values_X_MedInc = []\n",
        "        loss_values_X = []\n",
        "\n",
        "        # Train the model for each number of epochs and calculate the loss for each dataset\n",
        "        for epoch in epochs:\n",
        "            # For X_MedInc\n",
        "            _, w_X_MedInc = batch_gradient_descent_learner(X_MedInc, Y, step_size=0.01, epochs=epoch)\n",
        "            loss_X_MedInc = calculate_loss(X_MedInc, Y, w_X_MedInc)\n",
        "            loss_values_X_MedInc.append(loss_X_MedInc)\n",
        "\n",
        "            # For all features X\n",
        "            _, w_X = batch_gradient_descent_learner(X, Y, step_size=0.01, epochs=epoch)\n",
        "            loss_X = calculate_loss(X, Y, w_X)\n",
        "            loss_values_X.append(loss_X)\n",
        "\n",
        "        # Plot the loss as a function of the number of epochs for each dataset\n",
        "        plt.figure(figsize=(10, 5))\n",
        "        plt.plot(epochs, loss_values_X_MedInc, label='X_MedInc')\n",
        "        plt.plot(epochs, loss_values_X, label='All Features X')\n",
        "        plt.xlabel('Number of Epochs')\n",
        "        plt.ylabel('Loss')\n",
        "        plt.title('Loss as a Function of Number of Epochs for Different Feature Sets')\n",
        "        plt.yscale('log')\n",
        "        plt.legend()\n",
        "        plt.show()\n",
        "\n",
        "# Attach the function to the checkbox\n",
        "show_plot_checkbox_loss_curve.observe(plot_data_loss_curve, names='value')\n",
        "\n",
        "# Display the checkbox\n",
        "display(show_plot_checkbox_loss_curve)\n"
      ]
    },
    {
      "cell_type": "markdown",
      "metadata": {
        "id": "VPmwnT_q64Mi"
      },
      "source": [
        "# Part 4: Polynomial Regression\n",
        "\n",
        "Now we would like to explore how polynomial regression can be used to fit our data.\n",
        "To do this you will need to implement a polynomial feature map.\n",
        "We will keep things simply and only ask you to implement a degree 2 polynomial feature map.\n",
        "\n",
        "In Question 4.1 your goal is to implement `phi_2` (representing $\\phi_2$ from the course notes) which takes in a feature vector `x` and returns a new feature vector `poly_features` where `poly_features` is the degree 2 polynomial feature map of `x`.\n",
        "The input `x` is of dimension $d+1$, since the first element is always 1 (to account for the bias term in the weights).\n",
        "You should use the implementation of $\\phi_2$ from the course notes as a reference."
      ]
    },
    {
      "cell_type": "markdown",
      "metadata": {
        "deletable": false,
        "editable": false,
        "id": "CmAyhNfO64Mi"
      },
      "source": [
        "### Question 4.1\n",
        "\n",
        "Implement `phi_2`.\n",
        "\n",
        "_Points:_ 8"
      ]
    },
    {
      "cell_type": "code",
      "execution_count": null,
      "metadata": {
        "tags": [],
        "id": "nsluCWwE64Mi"
      },
      "outputs": [],
      "source": [
        "def phi_2(x):\n",
        "    \"\"\"\n",
        "    Transforms a single feature vector into a polynomial of degree 2 feature vector.\n",
        "\n",
        "    Parameters:\n",
        "    x (numpy array): A single feature vector of size d+1.\n",
        "\n",
        "    Returns:\n",
        "    poly_features (numpy array): A transformed feature vector of size (d+1)*(d+2)/2.\n",
        "    \"\"\"\n",
        "    # Calculate the size of the transformed feature vector\n",
        "    d = len(x) - 1\n",
        "    size = (d+1) * (d+2) // 2\n",
        "\n",
        "    # Initialize the transformed feature vector with zeros\n",
        "    poly_features = np.zeros(size)\n",
        "\n",
        "    ### YOUR CODE HERE ###\n",
        "\n",
        "    id = 0\n",
        "    for i in range(d+1):\n",
        "      for j in range(i,d+1):\n",
        "        poly_features[id] = x[i] * x [j]\n",
        "        id +=1\n",
        "\n",
        "\n",
        "    ######################\n",
        "\n",
        "    return poly_features\n"
      ]
    },
    {
      "cell_type": "code",
      "execution_count": null,
      "metadata": {
        "deletable": false,
        "editable": false,
        "id": "TQPRk3DS64Mi",
        "colab": {
          "base_uri": "https://localhost:8080/",
          "height": 47
        },
        "outputId": "7b8ec54a-f5dc-4a43-ed0e-44d056e07f46"
      },
      "outputs": [
        {
          "output_type": "execute_result",
          "data": {
            "text/plain": [
              "q4_1 results: All test cases passed!"
            ],
            "text/html": [
              "<p><strong><pre style='display: inline;'>q4_1</pre></strong> passed! ✨</p>"
            ]
          },
          "metadata": {},
          "execution_count": 115
        }
      ],
      "source": [
        "grader.check(\"q4_1\")"
      ]
    },
    {
      "cell_type": "markdown",
      "metadata": {
        "id": "MeN6AkVT64Mj"
      },
      "source": [
        "### Visualizing and Comparing the Polynomial Predictor\n",
        "\n",
        "We would like to use the polynomial feature map to transform the features of all the data points, however `phi_2` is only defined for a single feature vector `x`.\n",
        "To apply the polynomial feature map to a matrix of features `X` we have implemented the function `transform_and_normalize`.\n",
        "This function also normalizes the features after applying the polynomial feature map, which is important step as we discussed in [Understanding the Dataset](#part-1-understanding-the-dataset).\n"
      ]
    },
    {
      "cell_type": "code",
      "execution_count": null,
      "metadata": {
        "id": "bV9RdyY364Mj"
      },
      "outputs": [],
      "source": [
        "def transform_and_normalize(X):\n",
        "    \"\"\"\n",
        "    Transforms the feature matrix X using the given polynomial feature map function phi\n",
        "    and normalizes the polynomial features.\n",
        "\n",
        "    Parameters:\n",
        "    X (numpy array): The feature matrix of size (n, d+1).\n",
        "    phi (function): The polynomial feature map function to apply to each row of X.\n",
        "\n",
        "    Returns:\n",
        "    X_poly (numpy array): The transformed and normalized feature matrix.\n",
        "    \"\"\"\n",
        "    # Apply the phi function to each row of X\n",
        "    X_poly = np.array([phi_2(x) for x in X])\n",
        "\n",
        "    # Normalize the polynomial features, excluding the first column\n",
        "    X_poly_mean = X_poly[:, 1:].mean(axis=0)\n",
        "    X_poly_std = X_poly[:, 1:].std(axis=0)\n",
        "    X_poly[:, 1:] = (X_poly[:, 1:] - X_poly_mean) / X_poly_std\n",
        "\n",
        "    return X_poly"
      ]
    },
    {
      "cell_type": "markdown",
      "metadata": {
        "id": "BmVHGDg_64Mj"
      },
      "source": [
        "So that we can visualize the polynomial predictor, we will again only use a single feature.\n",
        "However, now we will use the feature describing the median number of rooms instead of the median income as we did in the previous sections.\n",
        "This is because, as we will see in the plot, a quadratic function might be a better fit for this data.\n",
        "\n",
        "Below we define the matrix `X_AveRooms` that only contains two columns, the first columns contains all 1s and the second column contains the average number of rooms feature.\n",
        "We also define the matrix `X_AveRooms_poly` which is the polynomial feature map of `X_AveRooms`."
      ]
    },
    {
      "cell_type": "code",
      "execution_count": null,
      "metadata": {
        "id": "1u5BTSjD64Mj"
      },
      "outputs": [],
      "source": [
        "X_AveRooms = np.hstack([np.ones((X.shape[0], 1)), X[:, 3].reshape(-1, 1)])\n",
        "X_AveRooms_poly = transform_and_normalize(X_AveRooms)"
      ]
    },
    {
      "cell_type": "markdown",
      "metadata": {
        "id": "1zzhO0zB64Mj"
      },
      "source": [
        "Now we can pass `X_AveRooms_poly` and `Y` to the `closed_form_learner` to get the polynomial predictor and plot it against the true house prices.\n",
        "We also include the linear predictor (produced by passing `X_AveRooms` to `Y` to the `closed_form_learner`) for comparison.\n",
        "\n",
        "You should see two functions plotted, one that is a line (linear predictor) and one that is a quadratic (polynomial predictor).\n",
        "The quadratic function should fit the data slightly better than the line."
      ]
    },
    {
      "cell_type": "code",
      "execution_count": null,
      "metadata": {
        "id": "4dEzRBJL64Mj",
        "cellView": "form",
        "colab": {
          "base_uri": "https://localhost:8080/",
          "height": 49,
          "referenced_widgets": [
            "4d5538534bce4bccb4fbe221c8d4546f",
            "424e52eca40e4916b7dfc812f5ae2b40",
            "3f1da7e1d6cc45a780bf8a82c414a319"
          ]
        },
        "outputId": "56fb49dc-60ae-438e-960a-6c30379fdf82"
      },
      "outputs": [
        {
          "output_type": "display_data",
          "data": {
            "text/plain": [
              "Checkbox(value=False, description='Show Plot')"
            ],
            "application/vnd.jupyter.widget-view+json": {
              "version_major": 2,
              "version_minor": 0,
              "model_id": "4d5538534bce4bccb4fbe221c8d4546f"
            }
          },
          "metadata": {
            "application/vnd.jupyter.widget-view+json": {
              "colab": {
                "custom_widget_manager": {
                  "url": "https://ssl.gstatic.com/colaboratory-static/widgets/colab-cdn-widget-manager/2b70e893a8ba7c0f/manager.min.js"
                }
              }
            }
          }
        }
      ],
      "source": [
        "# @title Plot\n",
        "\n",
        "# Create a checkbox to control the display of the plot\n",
        "show_plot_checkbox_scatter_poly = widgets.Checkbox(value=False, description='Show Plot')\n",
        "\n",
        "# Function to update the plot based on the checkbox value\n",
        "def plot_scatter_poly(change):\n",
        "    clear_output(wait=True)\n",
        "    display(show_plot_checkbox_scatter_poly)\n",
        "\n",
        "    if show_plot_checkbox_scatter_poly.value:\n",
        "        X_AveRooms_plot = X_AveRooms[:, 1]\n",
        "\n",
        "        # Sort the x-axis and the Y predictions using the same indices\n",
        "        sorted_indices = np.argsort(X_AveRooms_plot)\n",
        "        X_AveRooms_plot_sorted = X_AveRooms_plot[sorted_indices]\n",
        "\n",
        "        # Scatter plot of X_AveRooms vs Y\n",
        "        plt.figure(figsize=(10, 5))\n",
        "        plt.scatter(X_AveRooms_plot, Y, alpha=0.3, label='Actual Data')\n",
        "\n",
        "        # Closed form predictor for X_AveRooms\n",
        "        closed_form_predictor_AveRooms, closed_form_weights_AveRooms = closed_form_learner(X_AveRooms, Y)\n",
        "        Y_pred_AveRooms = closed_form_predictor_AveRooms(X_AveRooms)\n",
        "        Y_pred_AveRooms_sorted = Y_pred_AveRooms[sorted_indices]\n",
        "        plt.plot(X_AveRooms_plot_sorted, Y_pred_AveRooms_sorted, color='red', label='Closed Form Predictor (X_AveRooms)')\n",
        "\n",
        "        # Closed form predictor for X_AveRooms_poly\n",
        "        closed_form_predictor_AveRooms_poly, closed_form_weights_AveRooms_poly = closed_form_learner(X_AveRooms_poly, Y)\n",
        "        Y_pred_AveRooms_poly = closed_form_predictor_AveRooms_poly(X_AveRooms_poly)\n",
        "        Y_pred_AveRooms_poly_sorted = Y_pred_AveRooms_poly[sorted_indices]\n",
        "        plt.plot(X_AveRooms_plot_sorted, Y_pred_AveRooms_poly_sorted, color='blue', label='Closed Form Predictor (X_AveRooms_poly)')\n",
        "\n",
        "        # Labels and legend\n",
        "        plt.xlabel('Average Rooms')\n",
        "        plt.ylabel('Median House Price')\n",
        "        plt.legend()\n",
        "        plt.show()\n",
        "\n",
        "# Attach the function to the checkbox\n",
        "show_plot_checkbox_scatter_poly.observe(plot_scatter_poly, names='value')\n",
        "\n",
        "# Initial display\n",
        "display(show_plot_checkbox_scatter_poly)"
      ]
    },
    {
      "cell_type": "markdown",
      "metadata": {
        "id": "bPJGZXbq64Mj"
      },
      "source": [
        "If you were not convinced by the previous plots that a quadratic function might be a better fit for the data, we can compute the estimated loss $\\hat L(\\hat{\\mathbf{w}})$ of the linear and polynomial predictors.\n",
        "This gives us a single number that quantifies how well the predictor fits the data.\n",
        "Intuitively, this number tells us on average how far off the predictor is from the true house prices (in terms of a the squared distance).\n",
        "\n",
        "Below you should see a bar plot containing two bars, one for the linear predictor and one for the polynomial predictor.\n",
        "You should also see that the estimated loss for the polynomial predictor is lower than the estimated loss for the linear predictor.\n",
        "This makes sense, since the polynomial features contain all the linear features, but also include all the quadratic features, which means the polynomial predictor always has at least as much information as the linear predictor."
      ]
    },
    {
      "cell_type": "code",
      "execution_count": null,
      "metadata": {
        "id": "zfIzBy7n64Mj",
        "cellView": "form",
        "colab": {
          "base_uri": "https://localhost:8080/",
          "height": 49,
          "referenced_widgets": [
            "8e8d6c68b5aa4b31867e88223db426db",
            "a825b0a52c784dc78d0e8cd85518f467",
            "1e799cf0f6c941cc95185474b0d49530"
          ]
        },
        "outputId": "4d41448e-8333-4bd5-fdec-3ba54be11c46"
      },
      "outputs": [
        {
          "output_type": "display_data",
          "data": {
            "text/plain": [
              "Checkbox(value=False, description='Show Plot')"
            ],
            "application/vnd.jupyter.widget-view+json": {
              "version_major": 2,
              "version_minor": 0,
              "model_id": "8e8d6c68b5aa4b31867e88223db426db"
            }
          },
          "metadata": {
            "application/vnd.jupyter.widget-view+json": {
              "colab": {
                "custom_widget_manager": {
                  "url": "https://ssl.gstatic.com/colaboratory-static/widgets/colab-cdn-widget-manager/2b70e893a8ba7c0f/manager.min.js"
                }
              }
            }
          }
        }
      ],
      "source": [
        "# @title Plot\n",
        "\n",
        "# Create a checkbox to control the display of the plot\n",
        "show_plot_checkbox_loss_comparison_poly = widgets.Checkbox(value=False, description='Show Plot')\n",
        "\n",
        "\n",
        "# Function to update the plot based on the checkbox value\n",
        "def plot_loss_comparison_poly(change):\n",
        "    clear_output(wait=True)\n",
        "    display(show_plot_checkbox_loss_comparison_poly)\n",
        "\n",
        "    # Define closed_form_weights_AveRooms and closed_form_weights_AveRooms_poly\n",
        "    closed_form_predictor_AveRooms, closed_form_weights_AveRooms = closed_form_learner(X_AveRooms, Y)\n",
        "    closed_form_predictor_AveRooms_poly, closed_form_weights_AveRooms_poly = closed_form_learner(X_AveRooms_poly, Y)\n",
        "\n",
        "    if show_plot_checkbox_loss_comparison_poly.value:\n",
        "        # Calculate the loss for the closed form predictor using X_AveRooms\n",
        "        loss_AveRooms = calculate_loss(X_AveRooms, Y, closed_form_weights_AveRooms)\n",
        "\n",
        "        # Calculate the loss for the closed form predictor using X_AveRooms_poly\n",
        "        loss_AveRooms_poly = calculate_loss(X_AveRooms_poly, Y, closed_form_weights_AveRooms_poly)\n",
        "\n",
        "        # Create a bar plot of the loss for the two predictors with softer colors\n",
        "        plt.figure(figsize=(8, 5))\n",
        "        plt.bar(['X_AveRooms', 'X_AveRooms_poly'], [loss_AveRooms, loss_AveRooms_poly], color=['#87CEEB', '#FFB6C1'])\n",
        "        plt.xlabel('Features')\n",
        "        plt.ylabel('Loss')\n",
        "        plt.title('Loss for Closed Form Predictors')\n",
        "        plt.show()\n",
        "\n",
        "# Attach the function to the checkbox\n",
        "show_plot_checkbox_loss_comparison_poly.observe(plot_loss_comparison_poly, names='value')\n",
        "\n",
        "# Initial display\n",
        "display(show_plot_checkbox_loss_comparison_poly)"
      ]
    },
    {
      "cell_type": "markdown",
      "metadata": {
        "id": "K_6JEVBd64Mj"
      },
      "source": [
        "We can also use the bar plot to compare the estimated loss of the linear and polynomial predictors obtained when `closed_form_learner` uses the matrix of all the features in the dataset `X` instead of the matrix containing just the average number of rooms feature `X_AveRooms`.\n",
        "\n",
        "In the next code cell we transform the features in `X` into polynomial features `X_poly`."
      ]
    },
    {
      "cell_type": "code",
      "execution_count": null,
      "metadata": {
        "id": "xQkVxOAP64Mj"
      },
      "outputs": [],
      "source": [
        "X_poly = transform_and_normalize(X)"
      ]
    },
    {
      "cell_type": "markdown",
      "metadata": {
        "id": "oAH_nafP64Mj"
      },
      "source": [
        "In the plotting section of [Batch Gradient Descent](#part-3-batch-gradient-descent), we discussed how if the learner has access to more features, it should be able to learn a predictor that better fits the data.\n",
        "We verify this by using a bar plot, but now include the estimated loss for the linear and polynomial predictors obtained when `closed_form_learner` is trained on all the features in the dataset `X` or `X_poly` instead of just the average number of rooms feature `X_AveRooms`.\n",
        "\n",
        "You shold see that when all the features `X` or `X_poly` are used, the estimated loss for the predictors is lower than when only the average number of rooms feature `X_AveRooms` or `X_AveRooms_poly` is used.\n",
        "You should also see that the predictor trained of `X_poly` has a lower estimated loss than the predictor trained on `X`."
      ]
    },
    {
      "cell_type": "code",
      "execution_count": null,
      "metadata": {
        "id": "dciMgG6S64Mj",
        "cellView": "form",
        "colab": {
          "base_uri": "https://localhost:8080/",
          "height": 49,
          "referenced_widgets": [
            "dbefdea0fe7b4d2eb80847fddad78e73",
            "aabb74b77c684f1991abe580c8d17525",
            "a9e66f141bdf42d3bd296317161bd50a"
          ]
        },
        "outputId": "efc4d82d-0f13-4afe-e4f8-33311a07c152"
      },
      "outputs": [
        {
          "output_type": "display_data",
          "data": {
            "text/plain": [
              "Checkbox(value=False, description='Show Plot')"
            ],
            "application/vnd.jupyter.widget-view+json": {
              "version_major": 2,
              "version_minor": 0,
              "model_id": "dbefdea0fe7b4d2eb80847fddad78e73"
            }
          },
          "metadata": {
            "application/vnd.jupyter.widget-view+json": {
              "colab": {
                "custom_widget_manager": {
                  "url": "https://ssl.gstatic.com/colaboratory-static/widgets/colab-cdn-widget-manager/2b70e893a8ba7c0f/manager.min.js"
                }
              }
            }
          }
        }
      ],
      "source": [
        "# @title Plot\n",
        "\n",
        "# Create a checkbox to control the display of the plot\n",
        "show_plot_checkbox_loss_comparison_poly_full = widgets.Checkbox(value=False, description='Show Plot')\n",
        "\n",
        "# Function to update the plot based on the checkbox value\n",
        "def plot_loss_comparison_poly_full(change):\n",
        "    clear_output(wait=True)\n",
        "    display(show_plot_checkbox_loss_comparison_poly_full)\n",
        "\n",
        "    # Define closed_form_weights_AveRooms and closed_form_weights_AveRooms_poly\n",
        "    closed_form_predictor_AveRooms, closed_form_weights_AveRooms = closed_form_learner(X_AveRooms, Y)\n",
        "    closed_form_predictor_AveRooms_poly, closed_form_weights_AveRooms_poly = closed_form_learner(X_AveRooms_poly, Y)\n",
        "    closed_form_predictor_X, closed_form_weights_X = closed_form_learner(X, Y)\n",
        "    closed_form_predictor_X_poly, closed_form_weights_X_poly = closed_form_learner(X_poly, Y)\n",
        "\n",
        "    if show_plot_checkbox_loss_comparison_poly_full.value:\n",
        "        # Calculate the loss for the closed form predictor using X_AveRooms\n",
        "        loss_AveRooms = calculate_loss(X_AveRooms, Y, closed_form_weights_AveRooms)\n",
        "\n",
        "        # Calculate the loss for the closed form predictor using X_AveRooms_poly\n",
        "        loss_AveRooms_poly = calculate_loss(X_AveRooms_poly, Y, closed_form_weights_AveRooms_poly)\n",
        "\n",
        "        # Calculate the loss for the closed form predictor using X\n",
        "        loss_X = calculate_loss(X, Y, closed_form_weights_X)\n",
        "\n",
        "        # Calculate the loss for the closed form predictor using X_poly\n",
        "        loss_X_poly = calculate_loss(X_poly, Y, closed_form_weights_X_poly)\n",
        "\n",
        "        # Create a bar plot of the loss for the four predictors with softer colors\n",
        "        plt.figure(figsize=(10, 5))\n",
        "        plt.bar(['X_AveRooms', 'X_AveRooms_poly', 'X', 'X_poly'],\n",
        "                [loss_AveRooms, loss_AveRooms_poly, loss_X, loss_X_poly],\n",
        "                color=['#87CEEB', '#FFB6C1', '#90EE90', '#FFD700'])\n",
        "        plt.xlabel('Features')\n",
        "        plt.ylabel('Loss')\n",
        "        plt.title('Loss for Closed Form Predictors')\n",
        "        plt.show()\n",
        "\n",
        "# Attach the function to the checkbox\n",
        "show_plot_checkbox_loss_comparison_poly_full.observe(plot_loss_comparison_poly_full, names='value')\n",
        "\n",
        "# Initial display\n",
        "display(show_plot_checkbox_loss_comparison_poly_full)"
      ]
    },
    {
      "cell_type": "markdown",
      "metadata": {
        "id": "mPs7pB5o64Mk"
      },
      "source": [
        "# Part 5: Mini-Batch Gradient Descent\n",
        "\n",
        "Lets now implement the mini-batch gradient descent learner for linear regression.\n",
        "In Question 5.1 your goal is to implement `minibatch_gradient_descent_learner` which takes all the same inputs as `batch_gradient_descent_learner` but also takes an additional parameter `batch_size` which is the size of the mini-batches.\n",
        "You should use a constant step size `step_size` for this implementation.\n",
        "Your implementation should be based on the MBGD Linear Regression learner from the course notes.\n",
        "\n",
        "**A note on implementation:**\n",
        "You should use `np.random.permutation` to help you shuffle the dataset `X` and `Y`.\n",
        "This function returns a random permutation of the integers from 0 to `n` - 1, where `n` is the number of data points in the dataset.\n",
        "For example, `np.random.permutation(5)` might return `[2, 0, 4, 1, 3]`.\n",
        "You can use this permutation to shuffle the dataset by indexing the dataset with the permutation (e.g. `X[permutation]` will return a shuffled version of `X`)."
      ]
    },
    {
      "cell_type": "markdown",
      "metadata": {
        "deletable": false,
        "editable": false,
        "id": "gjsJ2JSm64Mk"
      },
      "source": [
        "### Question 5.1\n",
        "\n",
        "Implement `minibatch_gradient_descent_learner`.\n",
        "\n",
        "_Points:_ 8"
      ]
    },
    {
      "cell_type": "code",
      "execution_count": null,
      "metadata": {
        "tags": [],
        "id": "gjYyIs3W64Mk"
      },
      "outputs": [],
      "source": [
        "def minibatch_gradient_descent_learner(X, Y, step_size=0.01, epochs=10, batch_size=32, random_seed=42):\n",
        "    '''\n",
        "    Solves linear regression using mini-batch gradient descent with a fixed step size.\n",
        "\n",
        "    Parameters:\n",
        "    X (numpy array): Feature matrix of size (n, d+1), where n is the number of samples\n",
        "                     and d is the number of features. The first column should be all 1s.\n",
        "    Y (numpy array): Target vector of size (n, 1).\n",
        "    step_size (float): The step size for gradient descent.\n",
        "    epochs (int): The number of iterations to run gradient descent.\n",
        "    batch_size (int): The size of each mini-batch.\n",
        "    random_seed (int): The seed for the random number generator.\n",
        "\n",
        "    Returns:\n",
        "    predictor (function): A function that takes a feature vector and returns a predicted value.\n",
        "    w (numpy array): The final weights after applying gradient descent for the specified epochs.\n",
        "    '''\n",
        "    np.random.seed(random_seed)  # Set the random seed for reproducibility\n",
        "    n, d = X[:, 1:].shape\n",
        "    w = np.random.randn(d+1) # initialize the weights randomly\n",
        "    M = np.floor(n / batch_size).astype(int)  # Number of mini-batches\n",
        "\n",
        "    ### YOUR CODE HERE ###\n",
        "\n",
        "    for i in range(epochs):\n",
        "\n",
        "      shuffle = np.random.permutation(n)\n",
        "\n",
        "      for j in range(M):\n",
        "\n",
        "        a = j * batch_size\n",
        "        b = a + batch_size\n",
        "\n",
        "        X_mini = X[shuffle][a:b]\n",
        "        Y_mini = Y[shuffle][a:b]\n",
        "\n",
        "\n",
        "\n",
        "        gradient_learner = (2/batch_size) * (X_mini.T @ X_mini @ w - X_mini.T @ Y_mini.reshape(-1))\n",
        "        w = w - step_size*gradient_learner\n",
        "\n",
        "\n",
        "\n",
        "    ######################\n",
        "\n",
        "    def predictor(x):\n",
        "        return x @ w\n",
        "\n",
        "    return predictor, w\n"
      ]
    },
    {
      "cell_type": "code",
      "execution_count": null,
      "metadata": {
        "deletable": false,
        "editable": false,
        "id": "j_ioozl764Mk",
        "colab": {
          "base_uri": "https://localhost:8080/",
          "height": 47
        },
        "outputId": "ab607f78-de4a-4b5c-ed1a-ad6f70302ca3"
      },
      "outputs": [
        {
          "output_type": "execute_result",
          "data": {
            "text/plain": [
              "q5_1 results: All test cases passed!"
            ],
            "text/html": [
              "<p><strong><pre style='display: inline;'>q5_1</pre></strong> passed! 🚀</p>"
            ]
          },
          "metadata": {},
          "execution_count": 123
        }
      ],
      "source": [
        "grader.check(\"q5_1\")"
      ]
    },
    {
      "cell_type": "markdown",
      "metadata": {
        "id": "3q4lCAT964Mk"
      },
      "source": [
        "## Comparing Different Batch Sizes\n",
        "\n",
        "Lets continue with the example from the [Polynomial Regression](#part-4-polynomial-regression) section where we used the matrix `X_poly` containing all the features in the dataset `X` transformed into polynomial features.\n",
        "Recall that the `closed_form_learner` outputs the predictor that exactly minimizes the estimated loss $\\hat L(\\mathbf{w})$.\n",
        "Thus, a good way to evaluate the performance of the `minibatch_gradient_descent_learner` is to compare the estimated loss of the predictor it outputs to the estimated loss of the predictor output by the `closed_form_learner`.\n",
        "We will do this for different batch sizes: $1, 32$ and $n$ (which is the full batch and is equivalent to the batch gradient descent learner).\n",
        "We also run the `minibatch_gradient_descent_learner` for 1000 epochs, which should be more than enough epochs for the predictor to converge to a good solution.\n",
        "\n",
        "We show a bar plot of the results. You should see that the estimated loss for the closed form predictor has the smallest value, and that the estimated loss for the mini-batch gradient descent predictor approaches the estimated loss for the closed form predictor as the batch size decreases.\n",
        "This gives us some practical verification that indeed using a smaller batch size can be a good idea.\n",
        "In particular for this dataset, using a batch size of 1 seems to be the best."
      ]
    },
    {
      "cell_type": "code",
      "execution_count": null,
      "metadata": {
        "id": "zdqoICGy64Mk",
        "cellView": "form",
        "colab": {
          "base_uri": "https://localhost:8080/",
          "height": 49,
          "referenced_widgets": [
            "fbeced5c4fd64a9abaf55d91a7966d50",
            "d52f2fe6038443658b9b1056fb2bb358",
            "c73830ba48164f32960ca8b552c14262"
          ]
        },
        "outputId": "1102cd40-6868-43bf-f676-7782a3283c65"
      },
      "outputs": [
        {
          "output_type": "display_data",
          "data": {
            "text/plain": [
              "Checkbox(value=False, description='Show Plot')"
            ],
            "application/vnd.jupyter.widget-view+json": {
              "version_major": 2,
              "version_minor": 0,
              "model_id": "fbeced5c4fd64a9abaf55d91a7966d50"
            }
          },
          "metadata": {
            "application/vnd.jupyter.widget-view+json": {
              "colab": {
                "custom_widget_manager": {
                  "url": "https://ssl.gstatic.com/colaboratory-static/widgets/colab-cdn-widget-manager/2b70e893a8ba7c0f/manager.min.js"
                }
              }
            }
          }
        }
      ],
      "source": [
        "# @title Plot\n",
        "\n",
        "# Create a checkbox to control the display of the plot\n",
        "show_plot_checkbox_minibatch = widgets.Checkbox(value=False, description='Show Plot')\n",
        "\n",
        "# Function to update the plot based on the checkbox value\n",
        "def plot_minibatch(change):\n",
        "    clear_output(wait=True)\n",
        "    display(show_plot_checkbox_minibatch)\n",
        "\n",
        "    # Define the number of epochs\n",
        "    epochs = 1000\n",
        "\n",
        "    # Closed form predictors\n",
        "    closed_form_predictor_X_poly, closed_form_weights_X_poly = closed_form_learner(X_poly, Y)\n",
        "\n",
        "    # Calculate the loss for the closed form predictors\n",
        "    loss_X_poly = calculate_loss(X_poly, Y, closed_form_weights_X_poly)\n",
        "\n",
        "    # Minibatch gradient descent with batch size 32\n",
        "    _, w_mb_32_poly = minibatch_gradient_descent_learner(X_poly, Y, step_size=0.001, epochs=epochs, batch_size=32)\n",
        "    loss_mb_32_poly = calculate_loss(X_poly, Y, w_mb_32_poly)\n",
        "\n",
        "    # Minibatch gradient descent with batch size 1\n",
        "    _, w_mb_1_poly = minibatch_gradient_descent_learner(X_poly, Y, step_size=0.0001, epochs=epochs, batch_size=1)\n",
        "    loss_mb_1_poly = calculate_loss(X_poly, Y, w_mb_1_poly)\n",
        "\n",
        "    # Batch gradient descent (batch size = n)\n",
        "    _, w_bgd_poly = batch_gradient_descent_learner(X_poly, Y, step_size=0.01, epochs=epochs)\n",
        "    loss_bgd_poly = calculate_loss(X_poly, Y, w_bgd_poly)\n",
        "\n",
        "    # Create a bar plot of the losses\n",
        "    labels = ['Closed Form (X_poly)', 'MBGD (Batch 1, X_poly)', 'MBGD (Batch 32, X_poly)', 'BGD (X_poly)']\n",
        "    losses = [loss_X_poly, loss_mb_1_poly, loss_mb_32_poly, loss_bgd_poly]\n",
        "\n",
        "    # Define a more visually appealing color palette\n",
        "    colors = ['#4E79A7', '#F28E2B', '#E15759', '#76B7B2']\n",
        "\n",
        "    if show_plot_checkbox_minibatch.value:\n",
        "        plt.figure(figsize=(12, 6))\n",
        "        plt.bar(labels, losses, color=colors)\n",
        "        plt.xlabel('Predictors')\n",
        "        plt.ylabel('Loss')\n",
        "        plt.title('Loss for Different Predictors (Gradient Descent run for 1000 epochs)')\n",
        "        plt.xticks(rotation=0)\n",
        "        plt.show()\n",
        "\n",
        "# Attach the function to the checkbox\n",
        "show_plot_checkbox_minibatch.observe(plot_minibatch, names='value')\n",
        "\n",
        "# Initial display\n",
        "display(show_plot_checkbox_minibatch)\n"
      ]
    },
    {
      "cell_type": "markdown",
      "metadata": {
        "id": "C6_G_fJx64Mk"
      },
      "source": [
        "# Part 6: Step Sizes\n",
        "\n",
        "So far we have been using a constant step size $\\eta^{(t)} = \\eta$.\n",
        "However, in class we learned that the step size can be chosen in a variety of ways.\n",
        "In this section we will explore how different step sizes can affect the performance of the batch gradient descent learner.\n",
        "\n",
        "To do this, you will need to implement the different step size functions described in class.\n",
        "To keep the inputs consistent for all the step size functions, we will assume the input is a dictionary `state` that contains the following keys:\n",
        "- `eta` which is the initial step size,\n",
        "- `lambda_` which is the decay rate,\n",
        "- `epoch` which is the current epoch,\n",
        "- `gradient` which is the gradient at the current epoch,\n",
        "- `eps` which is a small constant to prevent division by zero.\n",
        "\n",
        "You can access the values of the dictionary using the keys, for example `state['eta']` will return the initial step size.\n",
        "As an example, we implement the constant step size function `constant_step_size` below, which is defined as $\\eta^{(t)} = \\eta$."
      ]
    },
    {
      "cell_type": "code",
      "execution_count": null,
      "metadata": {
        "id": "nvBtaX-b64Mk"
      },
      "outputs": [],
      "source": [
        "def constant_step_size(state):\n",
        "    \"\"\"\n",
        "    Returns a constant step size.\n",
        "\n",
        "    Parameters:\n",
        "    state (dict): A dictionary containing the state variables, including 'eta'.\n",
        "\n",
        "    Returns:\n",
        "    float: The constant step size.\n",
        "    \"\"\"\n",
        "    step_size = state['eta']\n",
        "    return step_size"
      ]
    },
    {
      "cell_type": "markdown",
      "metadata": {
        "deletable": false,
        "editable": false,
        "id": "2_UWyzMT64Mk"
      },
      "source": [
        "### Question 6.1\n",
        "\n",
        "Implement `inverse_decaying_step_size` which is defined as\n",
        "$$\\eta^{(t)} = \\frac{\\eta}{1 + \\lambda t}$$\n",
        "\n",
        "_Points:_ 4"
      ]
    },
    {
      "cell_type": "code",
      "execution_count": null,
      "metadata": {
        "tags": [],
        "id": "l29l0ovF64Mk"
      },
      "outputs": [],
      "source": [
        "def inverse_decaying_step_size(state):\n",
        "    \"\"\"\n",
        "    Returns an inverse decaying step size.\n",
        "\n",
        "    Parameters:\n",
        "    state (dict): A dictionary containing the state variables, including 'eta', 'lambda_', and 'epoch'.\n",
        "\n",
        "    Returns:\n",
        "    step_size (float): The step size for the given epoch.\n",
        "    \"\"\"\n",
        "    ### YOUR CODE HERE ###\n",
        "\n",
        "    eta = state['eta']\n",
        "    lambda_ = state['lambda_']\n",
        "    epoch = state['epoch']\n",
        "    step_size = eta / (1 + lambda_ * epoch)\n",
        "\n",
        "    ######################\n",
        "    return step_size"
      ]
    },
    {
      "cell_type": "code",
      "execution_count": null,
      "metadata": {
        "deletable": false,
        "editable": false,
        "id": "L5qibZWU64Mk",
        "colab": {
          "base_uri": "https://localhost:8080/",
          "height": 47
        },
        "outputId": "223d1958-ee8a-4286-805b-b7e2885b35a1"
      },
      "outputs": [
        {
          "output_type": "execute_result",
          "data": {
            "text/plain": [
              "q6_1 results: All test cases passed!"
            ],
            "text/html": [
              "<p><strong><pre style='display: inline;'>q6_1</pre></strong> passed! 💯</p>"
            ]
          },
          "metadata": {},
          "execution_count": 127
        }
      ],
      "source": [
        "grader.check(\"q6_1\")"
      ]
    },
    {
      "cell_type": "markdown",
      "metadata": {
        "deletable": false,
        "editable": false,
        "id": "pG9sULOX64Ml"
      },
      "source": [
        "### Question 6.2\n",
        "\n",
        "Implement `exponential_decaying_step_size` which is defined as\n",
        "$$\\eta^{(t)} = \\eta \\exp(-\\lambda t).$$\n",
        "You can use `np.exp` to implement the exponential function.\n",
        "\n",
        "_Points:_ 4"
      ]
    },
    {
      "cell_type": "code",
      "execution_count": null,
      "metadata": {
        "tags": [],
        "id": "FRzegfZQ64Ml"
      },
      "outputs": [],
      "source": [
        "def exponential_decaying_step_size(state):\n",
        "    \"\"\"\n",
        "    Returns an exponentially decaying step size.\n",
        "\n",
        "    Parameters:\n",
        "    state (dict): A dictionary containing the state variables, including 'eta', 'lambda_', and 'epoch'.\n",
        "\n",
        "    Returns:\n",
        "    step_size (float): The step size for the given epoch.\n",
        "    \"\"\"\n",
        "    ### YOUR CODE HERE ###\n",
        "\n",
        "    eta = state['eta']\n",
        "    lambda_ = state['lambda_']\n",
        "    epoch = state['epoch']\n",
        "    step_size = eta * np.exp(- lambda_ * epoch)\n",
        "\n",
        "    ######################\n",
        "    return step_size"
      ]
    },
    {
      "cell_type": "code",
      "execution_count": null,
      "metadata": {
        "deletable": false,
        "editable": false,
        "id": "ISVSgTq164Ml",
        "colab": {
          "base_uri": "https://localhost:8080/",
          "height": 47
        },
        "outputId": "eabb3c47-775d-4386-8a8e-0e4ad3490693"
      },
      "outputs": [
        {
          "output_type": "execute_result",
          "data": {
            "text/plain": [
              "q6_2 results: All test cases passed!"
            ],
            "text/html": [
              "<p><strong><pre style='display: inline;'>q6_2</pre></strong> passed! 🎉</p>"
            ]
          },
          "metadata": {},
          "execution_count": 129
        }
      ],
      "source": [
        "grader.check(\"q6_2\")"
      ]
    },
    {
      "cell_type": "markdown",
      "metadata": {
        "deletable": false,
        "editable": false,
        "id": "qpj2Q6kI64Ml"
      },
      "source": [
        "### Question 6.3\n",
        "\n",
        "Implement `normalized_gradient_step_size` which is defined as\n",
        "$$\\eta^{(t)} = \\frac{\\eta}{\\epsilon + \\| \\text{gradient} \\|}.$$\n",
        "You can use `np.linalg.norm` to calculate the 2-norm of the gradient\n",
        "\n",
        "_Points:_ 4"
      ]
    },
    {
      "cell_type": "code",
      "execution_count": null,
      "metadata": {
        "tags": [],
        "id": "LRy50Rva64Ml"
      },
      "outputs": [],
      "source": [
        "def normalized_gradient_step_size(state):\n",
        "    \"\"\"\n",
        "    Returns a normalized step size based on the gradient.\n",
        "\n",
        "    Parameters:\n",
        "    state (dict): A dictionary containing the state variables, including 'eta', 'gradient', and 'eps'.\n",
        "\n",
        "    Returns:\n",
        "    step_size (float): The normalized step size.\n",
        "    \"\"\"\n",
        "\n",
        "    ### YOUR CODE HERE ###\n",
        "\n",
        "    eta = state['eta']\n",
        "    gradient = state['gradient']\n",
        "    eps = state['eps']\n",
        "    step_size = eta / (eps + np.linalg.norm(gradient))\n",
        "    ######################\n",
        "    return step_size"
      ]
    },
    {
      "cell_type": "code",
      "execution_count": null,
      "metadata": {
        "deletable": false,
        "editable": false,
        "id": "WIkFBwSQ64Ml",
        "colab": {
          "base_uri": "https://localhost:8080/",
          "height": 47
        },
        "outputId": "2e4b4ac1-f1d8-4cb5-b7d4-eaa0ea4ffcfc"
      },
      "outputs": [
        {
          "output_type": "execute_result",
          "data": {
            "text/plain": [
              "q6_3 results: All test cases passed!"
            ],
            "text/html": [
              "<p><strong><pre style='display: inline;'>q6_3</pre></strong> passed! 🎉</p>"
            ]
          },
          "metadata": {},
          "execution_count": 131
        }
      ],
      "source": [
        "grader.check(\"q6_3\")"
      ]
    },
    {
      "cell_type": "markdown",
      "metadata": {
        "deletable": false,
        "editable": false,
        "id": "q40DQRnN64Ml"
      },
      "source": [
        "### Question 6.4\n",
        "\n",
        "Now that you have implemented the different step size functions, you have to modify the `batch_gradient_descent_learner` to accept a `step_size_func` parameter.\n",
        "We will call this new learner `batch_gradient_descent_learner_ss` (ss stands for step size).\n",
        "Compared to the previous `batch_gradient_descent_learner`, the new learner takes as input the additional parameters:\n",
        "- `step_size_func` which is the step size function to use,\n",
        "- `eta` which is the initial step size (previously we called this `step_size`),\n",
        "- `lambda_` which is the decay rate\n",
        "- `eps` which is a small constant to prevent division by zero.\n",
        "\n",
        "We have already started the implementation for you by defining the `state` dictionary.\n",
        "Your implementation of `batch_gradient_descent_learner_ss` should look similar to your implementation of `batch_gradient_descent_learner`, but with the step size being calculated using the `step_size_func` function.\n",
        "Also, make sure to update the `epoch` and `gradient` values in the `state` dictionary before calling the `step_size_func`.\n",
        "\n",
        "_Points:_ 4"
      ]
    },
    {
      "cell_type": "code",
      "execution_count": null,
      "metadata": {
        "tags": [],
        "id": "dPaIzXsE64Ml"
      },
      "outputs": [],
      "source": [
        "def batch_gradient_descent_learner_ss(X, Y, step_size_func, eta=0.01, lambda_=0.01, epochs=10, eps=1e-8, random_seed=42):\n",
        "    '''\n",
        "    Solves linear regression using batch gradient descent with a custom step size function.\n",
        "\n",
        "    Parameters:\n",
        "    X (numpy array): Feature matrix of size (n, d+1), where n is the number of samples\n",
        "                     and d is the number of features. The first column should be all 1s.\n",
        "    Y (numpy array): Target vector of size (n, 1).\n",
        "    step_size_func (function): A function that takes a state dictionary and returns the step size.\n",
        "    eta (float): The initial step size for gradient descent.\n",
        "    lambda_ (float): The decay rate for the step size functions that require it.\n",
        "    epochs (int): The number of iterations to run gradient descent.\n",
        "    eps (float): A small value to prevent division by zero in the normalized gradient step size function.\n",
        "    random_seed (int, optional): A random seed for initializing the weights.\n",
        "\n",
        "    Returns:\n",
        "    predictor (function): A function that takes a feature vector and returns a predicted value.\n",
        "    w (numpy array): The final weights after applying gradient descent for the specified epochs.\n",
        "    '''\n",
        "    n, d = X[:, 1:].shape\n",
        "    np.random.seed(random_seed)\n",
        "    w = np.random.randn(d+1) # initialize the weights randomly\n",
        "\n",
        "    # Initialize the state dictionary\n",
        "    state = {\n",
        "        'eta': eta,\n",
        "        'lambda_': lambda_,\n",
        "        'epoch': 0,\n",
        "        'gradient': np.zeros(d+1),\n",
        "        'eps': eps\n",
        "    }\n",
        "\n",
        "    ### YOUR CODE HERE ###\n",
        "    for epoch in range(epochs):\n",
        "\n",
        "      gradient = (2/n) * (X.T @X @ w - X.T @ Y.reshape(-1))\n",
        "\n",
        "\n",
        "      state['eta'] = eta\n",
        "      state['gradient'] = gradient\n",
        "      epoch = state['epoch'] = epoch\n",
        "\n",
        "\n",
        "      step_size = step_size_func(state)\n",
        "\n",
        "\n",
        "      w = w - step_size*gradient\n",
        "\n",
        "\n",
        "\n",
        "    ######################\n",
        "\n",
        "    def predictor(x):\n",
        "        return x @ w\n",
        "\n",
        "    return predictor, w"
      ]
    },
    {
      "cell_type": "code",
      "execution_count": null,
      "metadata": {
        "deletable": false,
        "editable": false,
        "id": "UMCLTu8b64Ml",
        "colab": {
          "base_uri": "https://localhost:8080/",
          "height": 47
        },
        "outputId": "5d667d7b-43be-4a8c-99b8-633bfadee311"
      },
      "outputs": [
        {
          "output_type": "execute_result",
          "data": {
            "text/plain": [
              "q6_4 results: All test cases passed!"
            ],
            "text/html": [
              "<p><strong><pre style='display: inline;'>q6_4</pre></strong> passed! 🚀</p>"
            ]
          },
          "metadata": {},
          "execution_count": 133
        }
      ],
      "source": [
        "grader.check(\"q6_4\")"
      ]
    },
    {
      "cell_type": "markdown",
      "metadata": {
        "id": "0TfzIjCK64Ml"
      },
      "source": [
        "### Learning Curves for Different Step Sizes\n",
        "\n",
        "We can once again continue with using `X_poly` and `Y` as the dataset.\n",
        "We will compare the performance of the different step size functions by plotting the estimated loss $\\hat L(\\mathbf{w})$ as a function of the number of epochs for each step size function.\n",
        "\n",
        "You can use the sliders to change the different parameters of the step size functions.\n",
        "\n",
        "You should see that when you make `eta` too large the estimated loss can actually increase.\n",
        "This is the case we saw in class where the step size is too large and the learner overshoots the minimum more and more after each step, causing for gradient descent to diverge."
      ]
    },
    {
      "cell_type": "code",
      "execution_count": null,
      "metadata": {
        "id": "pnI9M9_664Ml",
        "colab": {
          "base_uri": "https://localhost:8080/",
          "height": 113,
          "referenced_widgets": [
            "f15d7ae0ade74355af01630d5a4bcbc3",
            "f919b2d94ab9404bb84cda720ee5409b",
            "98554e09a40f4ec8bf734f1a6c6b18cb",
            "4ccfb9642e5d46838400415fbe9b5a37",
            "31df678a5ddd47bcba5a0d4e0829455e",
            "3c7340621d544d40a03703febac986d5",
            "bf9a42952ae545499d327ecad5ecb24f",
            "5c9b67d9e1c84210810167e46589dbce",
            "05e24e8090554305a51123478c5658b9",
            "6cc99e66e2a74f5b924a7888478b7700",
            "970edad0885c40479bbc312838e39ffa",
            "532cf0adbd304a1285a11b9872c1ac86",
            "785c789dd24242caa06482b735cb9b3c",
            "bcd6eca32b5d49a0a183b9257d9368f5",
            "c98bec3d0ec64a0b925d6524f41a66b7",
            "f19ab5c596aa4523ad40d41261b06da9",
            "9fcfc5a73ae747c5bffa73ac89080b40",
            "a8da2d3e6dbe42eeb9b180dac08542fd",
            "46628455c344481da84f72fa9c79ff50",
            "c6d31cb6a45c425fa6d5add3742da5ed",
            "3fca8681eb2f46738907ab87243fafa4",
            "a528cb47753b48c2b118f2666eaaaecd",
            "c5e6b8d5f7024f89830a744041196f68",
            "e84f2b2dc12a4744b581c62e52713c28",
            "b90b6eb71d6d40aabfbff562df8ad5a1",
            "bb521943a6d6475396a36f8912b8f022",
            "03a0f2a1f9b84381a6458a0ce926d414",
            "453f4bcb06394a04a47ea338176082cf",
            "90dc209eb46248518c5195aac7f56334",
            "3a0c14364bae4f31a80248147f9067e5",
            "c98cb5e245254c4d9cc7d1fa272fa597",
            "6d020f840dc54ff28b5c7adaad0ebe48",
            "25184be4246345a99d55b5e82490930a"
          ]
        },
        "outputId": "d77b3153-5395-4ced-d0ad-b165f8709c3d"
      },
      "outputs": [
        {
          "output_type": "display_data",
          "data": {
            "text/plain": [
              "HBox(children=(VBox(children=(FloatSlider(value=0.2, description='Eta (Const):', max=0.4, step=0.01),)), VBox(…"
            ],
            "application/vnd.jupyter.widget-view+json": {
              "version_major": 2,
              "version_minor": 0,
              "model_id": "f15d7ae0ade74355af01630d5a4bcbc3"
            }
          },
          "metadata": {
            "application/vnd.jupyter.widget-view+json": {
              "colab": {
                "custom_widget_manager": {
                  "url": "https://ssl.gstatic.com/colaboratory-static/widgets/colab-cdn-widget-manager/2b70e893a8ba7c0f/manager.min.js"
                }
              }
            }
          }
        },
        {
          "output_type": "display_data",
          "data": {
            "text/plain": [
              "Checkbox(value=False, description='Show Plot')"
            ],
            "application/vnd.jupyter.widget-view+json": {
              "version_major": 2,
              "version_minor": 0,
              "model_id": "90dc209eb46248518c5195aac7f56334"
            }
          },
          "metadata": {
            "application/vnd.jupyter.widget-view+json": {
              "colab": {
                "custom_widget_manager": {
                  "url": "https://ssl.gstatic.com/colaboratory-static/widgets/colab-cdn-widget-manager/2b70e893a8ba7c0f/manager.min.js"
                }
              }
            }
          }
        },
        {
          "output_type": "display_data",
          "data": {
            "text/plain": [
              "Output()"
            ],
            "application/vnd.jupyter.widget-view+json": {
              "version_major": 2,
              "version_minor": 0,
              "model_id": "6d020f840dc54ff28b5c7adaad0ebe48"
            }
          },
          "metadata": {
            "application/vnd.jupyter.widget-view+json": {
              "colab": {
                "custom_widget_manager": {
                  "url": "https://ssl.gstatic.com/colaboratory-static/widgets/colab-cdn-widget-manager/2b70e893a8ba7c0f/manager.min.js"
                }
              }
            }
          }
        }
      ],
      "source": [
        "# @title Plot\n",
        "\n",
        "# Define the number of epochs to evaluate\n",
        "epochs_lr = range(0, 50)\n",
        "\n",
        "# Create sliders for each step size function\n",
        "eta_slider_constant = widgets.FloatSlider(value=0.2, min=0.00, max=0.4, step=0.01, description='Eta (Const):')\n",
        "eta_slider_inverse = widgets.FloatSlider(value=0.10, min=0.000, max=0.4, step=0.001, description='Eta (Inv):')\n",
        "lambda_slider_inverse = widgets.FloatSlider(value=0.01, min=0.000, max=1.0, step=0.001, description='Lambda (Inv):')\n",
        "eta_slider_exponential = widgets.FloatSlider(value=0.25, min=0.000, max=0.4, step=0.001, description='Eta (Exp):')\n",
        "lambda_slider_exponential = widgets.FloatSlider(value=0.01, min=0.000, max=1.0, step=0.001, description='Lambda (Exp):')\n",
        "eta_slider_normalized = widgets.FloatSlider(value=0.30, min=0.000, max=1.0, step=0.001, description='Eta (Norm):')\n",
        "\n",
        "# Create a checkbox to control the display of the plot\n",
        "show_plot_checkbox_lr = widgets.Checkbox(value=False, description='Show Plot')\n",
        "\n",
        "# Arrange sliders in 4 columns\n",
        "column1 = widgets.VBox([eta_slider_constant])\n",
        "column2 = widgets.VBox([eta_slider_inverse, lambda_slider_inverse])\n",
        "column3 = widgets.VBox([eta_slider_exponential, lambda_slider_exponential])\n",
        "column4 = widgets.VBox([eta_slider_normalized])\n",
        "slider_layout = widgets.HBox([column1, column2, column3, column4])\n",
        "\n",
        "# Function to update the plot based on the slider values\n",
        "def update_plot_lr(eta_constant, eta_inverse, lambda_inverse, eta_exponential, lambda_exponential, eta_normalized, show_plot):\n",
        "    # # Clear the output before plotting or closing the plot\n",
        "    # clear_output(wait=True)\n",
        "\n",
        "    # # Re-display the sliders and checkbox\n",
        "    # display(slider_layout, show_plot_checkbox_lr)\n",
        "\n",
        "    # Initialize empty lists to store the loss values for each step size function\n",
        "    loss_values_constant = []\n",
        "    loss_values_inverse = []\n",
        "    loss_values_exponential = []\n",
        "    loss_values_normalized = []\n",
        "\n",
        "    # Train the model for each number of epochs and calculate the loss for each step size function\n",
        "    for epoch in epochs_lr:\n",
        "        # Constant step size\n",
        "        _, w_constant = batch_gradient_descent_learner_ss(X_poly, Y, step_size_func=constant_step_size, eta=eta_constant, epochs=epoch)\n",
        "        loss_constant = calculate_loss(X_poly, Y, w_constant)\n",
        "        loss_values_constant.append(loss_constant)\n",
        "\n",
        "        # Inverse decaying step size\n",
        "        _, w_inverse = batch_gradient_descent_learner_ss(X_poly, Y, step_size_func=inverse_decaying_step_size, eta=eta_inverse, lambda_=lambda_inverse, epochs=epoch)\n",
        "        loss_inverse = calculate_loss(X_poly, Y, w_inverse)\n",
        "        loss_values_inverse.append(loss_inverse)\n",
        "\n",
        "        # Exponential decaying step size\n",
        "        _, w_exponential = batch_gradient_descent_learner_ss(X_poly, Y, step_size_func=exponential_decaying_step_size, eta=eta_exponential, lambda_=lambda_exponential, epochs=epoch)\n",
        "        loss_exponential = calculate_loss(X_poly, Y, w_exponential)\n",
        "        loss_values_exponential.append(loss_exponential)\n",
        "\n",
        "        # Normalized gradient step size\n",
        "        _, w_normalized = batch_gradient_descent_learner_ss(X_poly, Y, step_size_func=normalized_gradient_step_size, eta=eta_normalized, epochs=epoch)\n",
        "        loss_normalized = calculate_loss(X_poly, Y, w_normalized)\n",
        "        loss_values_normalized.append(loss_normalized)\n",
        "\n",
        "    # Plot the loss as a function of the number of epochs for each step size function if the checkbox is checked\n",
        "    if show_plot:\n",
        "        plt.figure(figsize=(10, 5))\n",
        "        plt.plot(epochs_lr, loss_values_constant, label='Constant Step Size')\n",
        "        plt.plot(epochs_lr, loss_values_inverse, label='Inverse Decaying Step Size')\n",
        "        plt.plot(epochs_lr, loss_values_exponential, label='Exponential Decaying Step Size')\n",
        "        plt.plot(epochs_lr, loss_values_normalized, label='Normalized Gradient Step Size')\n",
        "        plt.xlabel('Number of Epochs')\n",
        "        plt.ylabel('Loss')\n",
        "        plt.title('Loss as a Function of Number of Epochs for Different Step Size Functions')\n",
        "        plt.yscale('log')\n",
        "        plt.legend()\n",
        "        plt.show()\n",
        "    else:\n",
        "        # Clear the output to hide the plot when \"Show Plot\" is unchecked\n",
        "        clear_output()\n",
        "\n",
        "\n",
        "# Use interactive_output to link the sliders and checkbox to the update_plot_lr function\n",
        "interactive_plot_lr = interactive_output(update_plot_lr, {\n",
        "    'eta_constant': eta_slider_constant,\n",
        "    'eta_inverse': eta_slider_inverse,\n",
        "    'lambda_inverse': lambda_slider_inverse,\n",
        "    'eta_exponential': eta_slider_exponential,\n",
        "    'lambda_exponential': lambda_slider_exponential,\n",
        "    'eta_normalized': eta_slider_normalized,\n",
        "    'show_plot': show_plot_checkbox_lr\n",
        "})\n",
        "\n",
        "# Initial display\n",
        "display(slider_layout, show_plot_checkbox_lr, interactive_plot_lr)\n"
      ]
    },
    {
      "cell_type": "markdown",
      "metadata": {
        "id": "BGAMiIwF64Mm"
      },
      "source": [
        "# The End, I hope you had fun :)"
      ]
    },
    {
      "cell_type": "markdown",
      "metadata": {
        "deletable": false,
        "editable": false,
        "id": "XlTNEm4t64Mm"
      },
      "source": [
        "---\n",
        "\n",
        "To double-check your work, the cell below will rerun all of the autograder tests."
      ]
    },
    {
      "cell_type": "code",
      "execution_count": null,
      "metadata": {
        "deletable": false,
        "editable": false,
        "id": "xIX6DGvz64Mm",
        "colab": {
          "base_uri": "https://localhost:8080/"
        },
        "outputId": "31555076-207a-41dc-e006-ae1d5f630d55"
      },
      "outputs": [
        {
          "output_type": "execute_result",
          "data": {
            "text/plain": [
              "q2_1 results: All test cases passed!\n",
              "\n",
              "q3_1 results: All test cases passed!\n",
              "\n",
              "q4_1 results: All test cases passed!\n",
              "\n",
              "q5_1 results: All test cases passed!\n",
              "\n",
              "q6_1 results: All test cases passed!\n",
              "\n",
              "q6_2 results: All test cases passed!\n",
              "\n",
              "q6_3 results: All test cases passed!\n",
              "\n",
              "q6_4 results: All test cases passed!"
            ]
          },
          "metadata": {},
          "execution_count": 135
        }
      ],
      "source": [
        "grader.check_all()"
      ]
    }
  ],
  "metadata": {
    "kernelspec": {
      "display_name": "ml1-new2",
      "language": "python",
      "name": "python3"
    },
    "language_info": {
      "codemirror_mode": {
        "name": "ipython",
        "version": 3
      },
      "file_extension": ".py",
      "mimetype": "text/x-python",
      "name": "python",
      "nbconvert_exporter": "python",
      "pygments_lexer": "ipython3",
      "version": "3.12.7"
    },
    "colab": {
      "provenance": [],
      "include_colab_link": true
    },
    "widgets": {
      "application/vnd.jupyter.widget-state+json": {
        "9339d41451274def878f07db45041358": {
          "model_module": "@jupyter-widgets/controls",
          "model_name": "CheckboxModel",
          "model_module_version": "1.5.0",
          "state": {
            "_dom_classes": [],
            "_model_module": "@jupyter-widgets/controls",
            "_model_module_version": "1.5.0",
            "_model_name": "CheckboxModel",
            "_view_count": null,
            "_view_module": "@jupyter-widgets/controls",
            "_view_module_version": "1.5.0",
            "_view_name": "CheckboxView",
            "description": "Show Plot",
            "description_tooltip": null,
            "disabled": false,
            "indent": true,
            "layout": "IPY_MODEL_7dafd52170c34627a76a900eafa17f38",
            "style": "IPY_MODEL_41c6f05ceb2c47c3b10db2757713096d",
            "value": false
          }
        },
        "7dafd52170c34627a76a900eafa17f38": {
          "model_module": "@jupyter-widgets/base",
          "model_name": "LayoutModel",
          "model_module_version": "1.2.0",
          "state": {
            "_model_module": "@jupyter-widgets/base",
            "_model_module_version": "1.2.0",
            "_model_name": "LayoutModel",
            "_view_count": null,
            "_view_module": "@jupyter-widgets/base",
            "_view_module_version": "1.2.0",
            "_view_name": "LayoutView",
            "align_content": null,
            "align_items": null,
            "align_self": null,
            "border": null,
            "bottom": null,
            "display": null,
            "flex": null,
            "flex_flow": null,
            "grid_area": null,
            "grid_auto_columns": null,
            "grid_auto_flow": null,
            "grid_auto_rows": null,
            "grid_column": null,
            "grid_gap": null,
            "grid_row": null,
            "grid_template_areas": null,
            "grid_template_columns": null,
            "grid_template_rows": null,
            "height": null,
            "justify_content": null,
            "justify_items": null,
            "left": null,
            "margin": null,
            "max_height": null,
            "max_width": null,
            "min_height": null,
            "min_width": null,
            "object_fit": null,
            "object_position": null,
            "order": null,
            "overflow": null,
            "overflow_x": null,
            "overflow_y": null,
            "padding": null,
            "right": null,
            "top": null,
            "visibility": null,
            "width": null
          }
        },
        "41c6f05ceb2c47c3b10db2757713096d": {
          "model_module": "@jupyter-widgets/controls",
          "model_name": "DescriptionStyleModel",
          "model_module_version": "1.5.0",
          "state": {
            "_model_module": "@jupyter-widgets/controls",
            "_model_module_version": "1.5.0",
            "_model_name": "DescriptionStyleModel",
            "_view_count": null,
            "_view_module": "@jupyter-widgets/base",
            "_view_module_version": "1.2.0",
            "_view_name": "StyleView",
            "description_width": ""
          }
        },
        "97f7b7ea4e6141c480d185b642ea17dc": {
          "model_module": "@jupyter-widgets/controls",
          "model_name": "CheckboxModel",
          "model_module_version": "1.5.0",
          "state": {
            "_dom_classes": [],
            "_model_module": "@jupyter-widgets/controls",
            "_model_module_version": "1.5.0",
            "_model_name": "CheckboxModel",
            "_view_count": null,
            "_view_module": "@jupyter-widgets/controls",
            "_view_module_version": "1.5.0",
            "_view_name": "CheckboxView",
            "description": "Show Plot",
            "description_tooltip": null,
            "disabled": false,
            "indent": true,
            "layout": "IPY_MODEL_d28836440b504ef9bae2bcd8ae715fed",
            "style": "IPY_MODEL_f0394a056b8b452a86390123ca48f5cd",
            "value": false
          }
        },
        "d28836440b504ef9bae2bcd8ae715fed": {
          "model_module": "@jupyter-widgets/base",
          "model_name": "LayoutModel",
          "model_module_version": "1.2.0",
          "state": {
            "_model_module": "@jupyter-widgets/base",
            "_model_module_version": "1.2.0",
            "_model_name": "LayoutModel",
            "_view_count": null,
            "_view_module": "@jupyter-widgets/base",
            "_view_module_version": "1.2.0",
            "_view_name": "LayoutView",
            "align_content": null,
            "align_items": null,
            "align_self": null,
            "border": null,
            "bottom": null,
            "display": null,
            "flex": null,
            "flex_flow": null,
            "grid_area": null,
            "grid_auto_columns": null,
            "grid_auto_flow": null,
            "grid_auto_rows": null,
            "grid_column": null,
            "grid_gap": null,
            "grid_row": null,
            "grid_template_areas": null,
            "grid_template_columns": null,
            "grid_template_rows": null,
            "height": null,
            "justify_content": null,
            "justify_items": null,
            "left": null,
            "margin": null,
            "max_height": null,
            "max_width": null,
            "min_height": null,
            "min_width": null,
            "object_fit": null,
            "object_position": null,
            "order": null,
            "overflow": null,
            "overflow_x": null,
            "overflow_y": null,
            "padding": null,
            "right": null,
            "top": null,
            "visibility": null,
            "width": null
          }
        },
        "f0394a056b8b452a86390123ca48f5cd": {
          "model_module": "@jupyter-widgets/controls",
          "model_name": "DescriptionStyleModel",
          "model_module_version": "1.5.0",
          "state": {
            "_model_module": "@jupyter-widgets/controls",
            "_model_module_version": "1.5.0",
            "_model_name": "DescriptionStyleModel",
            "_view_count": null,
            "_view_module": "@jupyter-widgets/base",
            "_view_module_version": "1.2.0",
            "_view_name": "StyleView",
            "description_width": ""
          }
        },
        "8aed9e2282b24e79b44f8cae5a7f4ab8": {
          "model_module": "@jupyter-widgets/controls",
          "model_name": "CheckboxModel",
          "model_module_version": "1.5.0",
          "state": {
            "_dom_classes": [],
            "_model_module": "@jupyter-widgets/controls",
            "_model_module_version": "1.5.0",
            "_model_name": "CheckboxModel",
            "_view_count": null,
            "_view_module": "@jupyter-widgets/controls",
            "_view_module_version": "1.5.0",
            "_view_name": "CheckboxView",
            "description": "Show Plot",
            "description_tooltip": null,
            "disabled": false,
            "indent": true,
            "layout": "IPY_MODEL_141005d7a784422f805294fadae79c5b",
            "style": "IPY_MODEL_5d0ca5ce36fa4ce5bd11da26f45b1dca",
            "value": false
          }
        },
        "141005d7a784422f805294fadae79c5b": {
          "model_module": "@jupyter-widgets/base",
          "model_name": "LayoutModel",
          "model_module_version": "1.2.0",
          "state": {
            "_model_module": "@jupyter-widgets/base",
            "_model_module_version": "1.2.0",
            "_model_name": "LayoutModel",
            "_view_count": null,
            "_view_module": "@jupyter-widgets/base",
            "_view_module_version": "1.2.0",
            "_view_name": "LayoutView",
            "align_content": null,
            "align_items": null,
            "align_self": null,
            "border": null,
            "bottom": null,
            "display": null,
            "flex": null,
            "flex_flow": null,
            "grid_area": null,
            "grid_auto_columns": null,
            "grid_auto_flow": null,
            "grid_auto_rows": null,
            "grid_column": null,
            "grid_gap": null,
            "grid_row": null,
            "grid_template_areas": null,
            "grid_template_columns": null,
            "grid_template_rows": null,
            "height": null,
            "justify_content": null,
            "justify_items": null,
            "left": null,
            "margin": null,
            "max_height": null,
            "max_width": null,
            "min_height": null,
            "min_width": null,
            "object_fit": null,
            "object_position": null,
            "order": null,
            "overflow": null,
            "overflow_x": null,
            "overflow_y": null,
            "padding": null,
            "right": null,
            "top": null,
            "visibility": null,
            "width": null
          }
        },
        "5d0ca5ce36fa4ce5bd11da26f45b1dca": {
          "model_module": "@jupyter-widgets/controls",
          "model_name": "DescriptionStyleModel",
          "model_module_version": "1.5.0",
          "state": {
            "_model_module": "@jupyter-widgets/controls",
            "_model_module_version": "1.5.0",
            "_model_name": "DescriptionStyleModel",
            "_view_count": null,
            "_view_module": "@jupyter-widgets/base",
            "_view_module_version": "1.2.0",
            "_view_name": "StyleView",
            "description_width": ""
          }
        },
        "9e9f6ed73da14f1f8a33d25df4e038ec": {
          "model_module": "@jupyter-widgets/controls",
          "model_name": "CheckboxModel",
          "model_module_version": "1.5.0",
          "state": {
            "_dom_classes": [],
            "_model_module": "@jupyter-widgets/controls",
            "_model_module_version": "1.5.0",
            "_model_name": "CheckboxModel",
            "_view_count": null,
            "_view_module": "@jupyter-widgets/controls",
            "_view_module_version": "1.5.0",
            "_view_name": "CheckboxView",
            "description": "Show Plot",
            "description_tooltip": null,
            "disabled": false,
            "indent": true,
            "layout": "IPY_MODEL_a8704a3657be49c9afabd9859edd8da8",
            "style": "IPY_MODEL_a7ddc3c5f2dd4d04a384d3a5e04514e5",
            "value": false
          }
        },
        "a8704a3657be49c9afabd9859edd8da8": {
          "model_module": "@jupyter-widgets/base",
          "model_name": "LayoutModel",
          "model_module_version": "1.2.0",
          "state": {
            "_model_module": "@jupyter-widgets/base",
            "_model_module_version": "1.2.0",
            "_model_name": "LayoutModel",
            "_view_count": null,
            "_view_module": "@jupyter-widgets/base",
            "_view_module_version": "1.2.0",
            "_view_name": "LayoutView",
            "align_content": null,
            "align_items": null,
            "align_self": null,
            "border": null,
            "bottom": null,
            "display": null,
            "flex": null,
            "flex_flow": null,
            "grid_area": null,
            "grid_auto_columns": null,
            "grid_auto_flow": null,
            "grid_auto_rows": null,
            "grid_column": null,
            "grid_gap": null,
            "grid_row": null,
            "grid_template_areas": null,
            "grid_template_columns": null,
            "grid_template_rows": null,
            "height": null,
            "justify_content": null,
            "justify_items": null,
            "left": null,
            "margin": null,
            "max_height": null,
            "max_width": null,
            "min_height": null,
            "min_width": null,
            "object_fit": null,
            "object_position": null,
            "order": null,
            "overflow": null,
            "overflow_x": null,
            "overflow_y": null,
            "padding": null,
            "right": null,
            "top": null,
            "visibility": null,
            "width": null
          }
        },
        "a7ddc3c5f2dd4d04a384d3a5e04514e5": {
          "model_module": "@jupyter-widgets/controls",
          "model_name": "DescriptionStyleModel",
          "model_module_version": "1.5.0",
          "state": {
            "_model_module": "@jupyter-widgets/controls",
            "_model_module_version": "1.5.0",
            "_model_name": "DescriptionStyleModel",
            "_view_count": null,
            "_view_module": "@jupyter-widgets/base",
            "_view_module_version": "1.2.0",
            "_view_name": "StyleView",
            "description_width": ""
          }
        },
        "a9dc95a3e0374940abaee5208a0b5b24": {
          "model_module": "@jupyter-widgets/controls",
          "model_name": "IntSliderModel",
          "model_module_version": "1.5.0",
          "state": {
            "_dom_classes": [],
            "_model_module": "@jupyter-widgets/controls",
            "_model_module_version": "1.5.0",
            "_model_name": "IntSliderModel",
            "_view_count": null,
            "_view_module": "@jupyter-widgets/controls",
            "_view_module_version": "1.5.0",
            "_view_name": "IntSliderView",
            "continuous_update": true,
            "description": "Epochs:",
            "description_tooltip": null,
            "disabled": false,
            "layout": "IPY_MODEL_8d6ef889ac174205b1d00d2197d8f0d4",
            "max": 300,
            "min": 1,
            "orientation": "horizontal",
            "readout": true,
            "readout_format": "d",
            "step": 1,
            "style": "IPY_MODEL_dcae574527904a749aef4b6b77b06832",
            "value": 3
          }
        },
        "8d6ef889ac174205b1d00d2197d8f0d4": {
          "model_module": "@jupyter-widgets/base",
          "model_name": "LayoutModel",
          "model_module_version": "1.2.0",
          "state": {
            "_model_module": "@jupyter-widgets/base",
            "_model_module_version": "1.2.0",
            "_model_name": "LayoutModel",
            "_view_count": null,
            "_view_module": "@jupyter-widgets/base",
            "_view_module_version": "1.2.0",
            "_view_name": "LayoutView",
            "align_content": null,
            "align_items": null,
            "align_self": null,
            "border": null,
            "bottom": null,
            "display": null,
            "flex": null,
            "flex_flow": null,
            "grid_area": null,
            "grid_auto_columns": null,
            "grid_auto_flow": null,
            "grid_auto_rows": null,
            "grid_column": null,
            "grid_gap": null,
            "grid_row": null,
            "grid_template_areas": null,
            "grid_template_columns": null,
            "grid_template_rows": null,
            "height": null,
            "justify_content": null,
            "justify_items": null,
            "left": null,
            "margin": null,
            "max_height": null,
            "max_width": null,
            "min_height": null,
            "min_width": null,
            "object_fit": null,
            "object_position": null,
            "order": null,
            "overflow": null,
            "overflow_x": null,
            "overflow_y": null,
            "padding": null,
            "right": null,
            "top": null,
            "visibility": null,
            "width": null
          }
        },
        "dcae574527904a749aef4b6b77b06832": {
          "model_module": "@jupyter-widgets/controls",
          "model_name": "SliderStyleModel",
          "model_module_version": "1.5.0",
          "state": {
            "_model_module": "@jupyter-widgets/controls",
            "_model_module_version": "1.5.0",
            "_model_name": "SliderStyleModel",
            "_view_count": null,
            "_view_module": "@jupyter-widgets/base",
            "_view_module_version": "1.2.0",
            "_view_name": "StyleView",
            "description_width": "",
            "handle_color": null
          }
        },
        "2078a5839fd944b18365d998e8149f0c": {
          "model_module": "@jupyter-widgets/controls",
          "model_name": "CheckboxModel",
          "model_module_version": "1.5.0",
          "state": {
            "_dom_classes": [],
            "_model_module": "@jupyter-widgets/controls",
            "_model_module_version": "1.5.0",
            "_model_name": "CheckboxModel",
            "_view_count": null,
            "_view_module": "@jupyter-widgets/controls",
            "_view_module_version": "1.5.0",
            "_view_name": "CheckboxView",
            "description": "Show Plot",
            "description_tooltip": null,
            "disabled": false,
            "indent": true,
            "layout": "IPY_MODEL_16da1115a56f4f10814c819ac48d10a6",
            "style": "IPY_MODEL_8c258fc33225412583fe37ba7c0227ce",
            "value": false
          }
        },
        "16da1115a56f4f10814c819ac48d10a6": {
          "model_module": "@jupyter-widgets/base",
          "model_name": "LayoutModel",
          "model_module_version": "1.2.0",
          "state": {
            "_model_module": "@jupyter-widgets/base",
            "_model_module_version": "1.2.0",
            "_model_name": "LayoutModel",
            "_view_count": null,
            "_view_module": "@jupyter-widgets/base",
            "_view_module_version": "1.2.0",
            "_view_name": "LayoutView",
            "align_content": null,
            "align_items": null,
            "align_self": null,
            "border": null,
            "bottom": null,
            "display": null,
            "flex": null,
            "flex_flow": null,
            "grid_area": null,
            "grid_auto_columns": null,
            "grid_auto_flow": null,
            "grid_auto_rows": null,
            "grid_column": null,
            "grid_gap": null,
            "grid_row": null,
            "grid_template_areas": null,
            "grid_template_columns": null,
            "grid_template_rows": null,
            "height": null,
            "justify_content": null,
            "justify_items": null,
            "left": null,
            "margin": null,
            "max_height": null,
            "max_width": null,
            "min_height": null,
            "min_width": null,
            "object_fit": null,
            "object_position": null,
            "order": null,
            "overflow": null,
            "overflow_x": null,
            "overflow_y": null,
            "padding": null,
            "right": null,
            "top": null,
            "visibility": null,
            "width": null
          }
        },
        "8c258fc33225412583fe37ba7c0227ce": {
          "model_module": "@jupyter-widgets/controls",
          "model_name": "DescriptionStyleModel",
          "model_module_version": "1.5.0",
          "state": {
            "_model_module": "@jupyter-widgets/controls",
            "_model_module_version": "1.5.0",
            "_model_name": "DescriptionStyleModel",
            "_view_count": null,
            "_view_module": "@jupyter-widgets/base",
            "_view_module_version": "1.2.0",
            "_view_name": "StyleView",
            "description_width": ""
          }
        },
        "0701ccc3e9904064b4a0066762318f09": {
          "model_module": "@jupyter-widgets/output",
          "model_name": "OutputModel",
          "model_module_version": "1.0.0",
          "state": {
            "_dom_classes": [],
            "_model_module": "@jupyter-widgets/output",
            "_model_module_version": "1.0.0",
            "_model_name": "OutputModel",
            "_view_count": null,
            "_view_module": "@jupyter-widgets/output",
            "_view_module_version": "1.0.0",
            "_view_name": "OutputView",
            "layout": "IPY_MODEL_568e956e6dee477a94ea62777f95462d",
            "msg_id": "",
            "outputs": []
          }
        },
        "568e956e6dee477a94ea62777f95462d": {
          "model_module": "@jupyter-widgets/base",
          "model_name": "LayoutModel",
          "model_module_version": "1.2.0",
          "state": {
            "_model_module": "@jupyter-widgets/base",
            "_model_module_version": "1.2.0",
            "_model_name": "LayoutModel",
            "_view_count": null,
            "_view_module": "@jupyter-widgets/base",
            "_view_module_version": "1.2.0",
            "_view_name": "LayoutView",
            "align_content": null,
            "align_items": null,
            "align_self": null,
            "border": null,
            "bottom": null,
            "display": null,
            "flex": null,
            "flex_flow": null,
            "grid_area": null,
            "grid_auto_columns": null,
            "grid_auto_flow": null,
            "grid_auto_rows": null,
            "grid_column": null,
            "grid_gap": null,
            "grid_row": null,
            "grid_template_areas": null,
            "grid_template_columns": null,
            "grid_template_rows": null,
            "height": null,
            "justify_content": null,
            "justify_items": null,
            "left": null,
            "margin": null,
            "max_height": null,
            "max_width": null,
            "min_height": null,
            "min_width": null,
            "object_fit": null,
            "object_position": null,
            "order": null,
            "overflow": null,
            "overflow_x": null,
            "overflow_y": null,
            "padding": null,
            "right": null,
            "top": null,
            "visibility": null,
            "width": null
          }
        },
        "0c0429931dcd4d8e9ba986a9a6a677a5": {
          "model_module": "@jupyter-widgets/controls",
          "model_name": "IntSliderModel",
          "model_module_version": "1.5.0",
          "state": {
            "_dom_classes": [],
            "_model_module": "@jupyter-widgets/controls",
            "_model_module_version": "1.5.0",
            "_model_name": "IntSliderModel",
            "_view_count": null,
            "_view_module": "@jupyter-widgets/controls",
            "_view_module_version": "1.5.0",
            "_view_name": "IntSliderView",
            "continuous_update": true,
            "description": "Elev:",
            "description_tooltip": null,
            "disabled": false,
            "layout": "IPY_MODEL_48b1237df0034b39b854abdf110f7bdb",
            "max": 90,
            "min": 0,
            "orientation": "horizontal",
            "readout": true,
            "readout_format": "d",
            "step": 1,
            "style": "IPY_MODEL_5173d56d8f7a4aa1a446ed67167c3dd4",
            "value": 15
          }
        },
        "48b1237df0034b39b854abdf110f7bdb": {
          "model_module": "@jupyter-widgets/base",
          "model_name": "LayoutModel",
          "model_module_version": "1.2.0",
          "state": {
            "_model_module": "@jupyter-widgets/base",
            "_model_module_version": "1.2.0",
            "_model_name": "LayoutModel",
            "_view_count": null,
            "_view_module": "@jupyter-widgets/base",
            "_view_module_version": "1.2.0",
            "_view_name": "LayoutView",
            "align_content": null,
            "align_items": null,
            "align_self": null,
            "border": null,
            "bottom": null,
            "display": null,
            "flex": null,
            "flex_flow": null,
            "grid_area": null,
            "grid_auto_columns": null,
            "grid_auto_flow": null,
            "grid_auto_rows": null,
            "grid_column": null,
            "grid_gap": null,
            "grid_row": null,
            "grid_template_areas": null,
            "grid_template_columns": null,
            "grid_template_rows": null,
            "height": null,
            "justify_content": null,
            "justify_items": null,
            "left": null,
            "margin": null,
            "max_height": null,
            "max_width": null,
            "min_height": null,
            "min_width": null,
            "object_fit": null,
            "object_position": null,
            "order": null,
            "overflow": null,
            "overflow_x": null,
            "overflow_y": null,
            "padding": null,
            "right": null,
            "top": null,
            "visibility": null,
            "width": null
          }
        },
        "5173d56d8f7a4aa1a446ed67167c3dd4": {
          "model_module": "@jupyter-widgets/controls",
          "model_name": "SliderStyleModel",
          "model_module_version": "1.5.0",
          "state": {
            "_model_module": "@jupyter-widgets/controls",
            "_model_module_version": "1.5.0",
            "_model_name": "SliderStyleModel",
            "_view_count": null,
            "_view_module": "@jupyter-widgets/base",
            "_view_module_version": "1.2.0",
            "_view_name": "StyleView",
            "description_width": "",
            "handle_color": null
          }
        },
        "480a1f12b01942c5a62c4c7497a01fde": {
          "model_module": "@jupyter-widgets/controls",
          "model_name": "IntSliderModel",
          "model_module_version": "1.5.0",
          "state": {
            "_dom_classes": [],
            "_model_module": "@jupyter-widgets/controls",
            "_model_module_version": "1.5.0",
            "_model_name": "IntSliderModel",
            "_view_count": null,
            "_view_module": "@jupyter-widgets/controls",
            "_view_module_version": "1.5.0",
            "_view_name": "IntSliderView",
            "continuous_update": true,
            "description": "Azim:",
            "description_tooltip": null,
            "disabled": false,
            "layout": "IPY_MODEL_1d45bfa8a6b140148b719bb7bb428da2",
            "max": 360,
            "min": 0,
            "orientation": "horizontal",
            "readout": true,
            "readout_format": "d",
            "step": 1,
            "style": "IPY_MODEL_3ba80f3982d94549ab4520ccee15cca2",
            "value": 70
          }
        },
        "1d45bfa8a6b140148b719bb7bb428da2": {
          "model_module": "@jupyter-widgets/base",
          "model_name": "LayoutModel",
          "model_module_version": "1.2.0",
          "state": {
            "_model_module": "@jupyter-widgets/base",
            "_model_module_version": "1.2.0",
            "_model_name": "LayoutModel",
            "_view_count": null,
            "_view_module": "@jupyter-widgets/base",
            "_view_module_version": "1.2.0",
            "_view_name": "LayoutView",
            "align_content": null,
            "align_items": null,
            "align_self": null,
            "border": null,
            "bottom": null,
            "display": null,
            "flex": null,
            "flex_flow": null,
            "grid_area": null,
            "grid_auto_columns": null,
            "grid_auto_flow": null,
            "grid_auto_rows": null,
            "grid_column": null,
            "grid_gap": null,
            "grid_row": null,
            "grid_template_areas": null,
            "grid_template_columns": null,
            "grid_template_rows": null,
            "height": null,
            "justify_content": null,
            "justify_items": null,
            "left": null,
            "margin": null,
            "max_height": null,
            "max_width": null,
            "min_height": null,
            "min_width": null,
            "object_fit": null,
            "object_position": null,
            "order": null,
            "overflow": null,
            "overflow_x": null,
            "overflow_y": null,
            "padding": null,
            "right": null,
            "top": null,
            "visibility": null,
            "width": null
          }
        },
        "3ba80f3982d94549ab4520ccee15cca2": {
          "model_module": "@jupyter-widgets/controls",
          "model_name": "SliderStyleModel",
          "model_module_version": "1.5.0",
          "state": {
            "_model_module": "@jupyter-widgets/controls",
            "_model_module_version": "1.5.0",
            "_model_name": "SliderStyleModel",
            "_view_count": null,
            "_view_module": "@jupyter-widgets/base",
            "_view_module_version": "1.2.0",
            "_view_name": "StyleView",
            "description_width": "",
            "handle_color": null
          }
        },
        "45ebe2588fa448e9af0343750f716eaf": {
          "model_module": "@jupyter-widgets/controls",
          "model_name": "CheckboxModel",
          "model_module_version": "1.5.0",
          "state": {
            "_dom_classes": [],
            "_model_module": "@jupyter-widgets/controls",
            "_model_module_version": "1.5.0",
            "_model_name": "CheckboxModel",
            "_view_count": null,
            "_view_module": "@jupyter-widgets/controls",
            "_view_module_version": "1.5.0",
            "_view_name": "CheckboxView",
            "description": "Show Plot",
            "description_tooltip": null,
            "disabled": false,
            "indent": true,
            "layout": "IPY_MODEL_ab130765cdf54b09848b04d74bc79cdf",
            "style": "IPY_MODEL_2fe66d01e9bc48e9b6dc47404d12deac",
            "value": false
          }
        },
        "ab130765cdf54b09848b04d74bc79cdf": {
          "model_module": "@jupyter-widgets/base",
          "model_name": "LayoutModel",
          "model_module_version": "1.2.0",
          "state": {
            "_model_module": "@jupyter-widgets/base",
            "_model_module_version": "1.2.0",
            "_model_name": "LayoutModel",
            "_view_count": null,
            "_view_module": "@jupyter-widgets/base",
            "_view_module_version": "1.2.0",
            "_view_name": "LayoutView",
            "align_content": null,
            "align_items": null,
            "align_self": null,
            "border": null,
            "bottom": null,
            "display": null,
            "flex": null,
            "flex_flow": null,
            "grid_area": null,
            "grid_auto_columns": null,
            "grid_auto_flow": null,
            "grid_auto_rows": null,
            "grid_column": null,
            "grid_gap": null,
            "grid_row": null,
            "grid_template_areas": null,
            "grid_template_columns": null,
            "grid_template_rows": null,
            "height": null,
            "justify_content": null,
            "justify_items": null,
            "left": null,
            "margin": null,
            "max_height": null,
            "max_width": null,
            "min_height": null,
            "min_width": null,
            "object_fit": null,
            "object_position": null,
            "order": null,
            "overflow": null,
            "overflow_x": null,
            "overflow_y": null,
            "padding": null,
            "right": null,
            "top": null,
            "visibility": null,
            "width": null
          }
        },
        "2fe66d01e9bc48e9b6dc47404d12deac": {
          "model_module": "@jupyter-widgets/controls",
          "model_name": "DescriptionStyleModel",
          "model_module_version": "1.5.0",
          "state": {
            "_model_module": "@jupyter-widgets/controls",
            "_model_module_version": "1.5.0",
            "_model_name": "DescriptionStyleModel",
            "_view_count": null,
            "_view_module": "@jupyter-widgets/base",
            "_view_module_version": "1.2.0",
            "_view_name": "StyleView",
            "description_width": ""
          }
        },
        "6bf1941246394495ac924c99371fad61": {
          "model_module": "@jupyter-widgets/output",
          "model_name": "OutputModel",
          "model_module_version": "1.0.0",
          "state": {
            "_dom_classes": [],
            "_model_module": "@jupyter-widgets/output",
            "_model_module_version": "1.0.0",
            "_model_name": "OutputModel",
            "_view_count": null,
            "_view_module": "@jupyter-widgets/output",
            "_view_module_version": "1.0.0",
            "_view_name": "OutputView",
            "layout": "IPY_MODEL_ee053da90f274ebeb04065958678d800",
            "msg_id": "",
            "outputs": []
          }
        },
        "ee053da90f274ebeb04065958678d800": {
          "model_module": "@jupyter-widgets/base",
          "model_name": "LayoutModel",
          "model_module_version": "1.2.0",
          "state": {
            "_model_module": "@jupyter-widgets/base",
            "_model_module_version": "1.2.0",
            "_model_name": "LayoutModel",
            "_view_count": null,
            "_view_module": "@jupyter-widgets/base",
            "_view_module_version": "1.2.0",
            "_view_name": "LayoutView",
            "align_content": null,
            "align_items": null,
            "align_self": null,
            "border": null,
            "bottom": null,
            "display": null,
            "flex": null,
            "flex_flow": null,
            "grid_area": null,
            "grid_auto_columns": null,
            "grid_auto_flow": null,
            "grid_auto_rows": null,
            "grid_column": null,
            "grid_gap": null,
            "grid_row": null,
            "grid_template_areas": null,
            "grid_template_columns": null,
            "grid_template_rows": null,
            "height": null,
            "justify_content": null,
            "justify_items": null,
            "left": null,
            "margin": null,
            "max_height": null,
            "max_width": null,
            "min_height": null,
            "min_width": null,
            "object_fit": null,
            "object_position": null,
            "order": null,
            "overflow": null,
            "overflow_x": null,
            "overflow_y": null,
            "padding": null,
            "right": null,
            "top": null,
            "visibility": null,
            "width": null
          }
        },
        "2d013dc6e4c34d22a9a5ba81793b0991": {
          "model_module": "@jupyter-widgets/controls",
          "model_name": "CheckboxModel",
          "model_module_version": "1.5.0",
          "state": {
            "_dom_classes": [],
            "_model_module": "@jupyter-widgets/controls",
            "_model_module_version": "1.5.0",
            "_model_name": "CheckboxModel",
            "_view_count": null,
            "_view_module": "@jupyter-widgets/controls",
            "_view_module_version": "1.5.0",
            "_view_name": "CheckboxView",
            "description": "Show Plot",
            "description_tooltip": null,
            "disabled": false,
            "indent": true,
            "layout": "IPY_MODEL_25b5373c2a304a36baa18ca7fa254f74",
            "style": "IPY_MODEL_a06348291100403ca30463cda585ebf1",
            "value": false
          }
        },
        "25b5373c2a304a36baa18ca7fa254f74": {
          "model_module": "@jupyter-widgets/base",
          "model_name": "LayoutModel",
          "model_module_version": "1.2.0",
          "state": {
            "_model_module": "@jupyter-widgets/base",
            "_model_module_version": "1.2.0",
            "_model_name": "LayoutModel",
            "_view_count": null,
            "_view_module": "@jupyter-widgets/base",
            "_view_module_version": "1.2.0",
            "_view_name": "LayoutView",
            "align_content": null,
            "align_items": null,
            "align_self": null,
            "border": null,
            "bottom": null,
            "display": null,
            "flex": null,
            "flex_flow": null,
            "grid_area": null,
            "grid_auto_columns": null,
            "grid_auto_flow": null,
            "grid_auto_rows": null,
            "grid_column": null,
            "grid_gap": null,
            "grid_row": null,
            "grid_template_areas": null,
            "grid_template_columns": null,
            "grid_template_rows": null,
            "height": null,
            "justify_content": null,
            "justify_items": null,
            "left": null,
            "margin": null,
            "max_height": null,
            "max_width": null,
            "min_height": null,
            "min_width": null,
            "object_fit": null,
            "object_position": null,
            "order": null,
            "overflow": null,
            "overflow_x": null,
            "overflow_y": null,
            "padding": null,
            "right": null,
            "top": null,
            "visibility": null,
            "width": null
          }
        },
        "a06348291100403ca30463cda585ebf1": {
          "model_module": "@jupyter-widgets/controls",
          "model_name": "DescriptionStyleModel",
          "model_module_version": "1.5.0",
          "state": {
            "_model_module": "@jupyter-widgets/controls",
            "_model_module_version": "1.5.0",
            "_model_name": "DescriptionStyleModel",
            "_view_count": null,
            "_view_module": "@jupyter-widgets/base",
            "_view_module_version": "1.2.0",
            "_view_name": "StyleView",
            "description_width": ""
          }
        },
        "7be0e9db4e3b4c78b1a124dd3663ab37": {
          "model_module": "@jupyter-widgets/controls",
          "model_name": "CheckboxModel",
          "model_module_version": "1.5.0",
          "state": {
            "_dom_classes": [],
            "_model_module": "@jupyter-widgets/controls",
            "_model_module_version": "1.5.0",
            "_model_name": "CheckboxModel",
            "_view_count": null,
            "_view_module": "@jupyter-widgets/controls",
            "_view_module_version": "1.5.0",
            "_view_name": "CheckboxView",
            "description": "Show Plot",
            "description_tooltip": null,
            "disabled": false,
            "indent": true,
            "layout": "IPY_MODEL_72fd90cda0714643a6ca4d315af4dfcc",
            "style": "IPY_MODEL_f27a8b951eec4f82a1e68afcd10b86ed",
            "value": false
          }
        },
        "72fd90cda0714643a6ca4d315af4dfcc": {
          "model_module": "@jupyter-widgets/base",
          "model_name": "LayoutModel",
          "model_module_version": "1.2.0",
          "state": {
            "_model_module": "@jupyter-widgets/base",
            "_model_module_version": "1.2.0",
            "_model_name": "LayoutModel",
            "_view_count": null,
            "_view_module": "@jupyter-widgets/base",
            "_view_module_version": "1.2.0",
            "_view_name": "LayoutView",
            "align_content": null,
            "align_items": null,
            "align_self": null,
            "border": null,
            "bottom": null,
            "display": null,
            "flex": null,
            "flex_flow": null,
            "grid_area": null,
            "grid_auto_columns": null,
            "grid_auto_flow": null,
            "grid_auto_rows": null,
            "grid_column": null,
            "grid_gap": null,
            "grid_row": null,
            "grid_template_areas": null,
            "grid_template_columns": null,
            "grid_template_rows": null,
            "height": null,
            "justify_content": null,
            "justify_items": null,
            "left": null,
            "margin": null,
            "max_height": null,
            "max_width": null,
            "min_height": null,
            "min_width": null,
            "object_fit": null,
            "object_position": null,
            "order": null,
            "overflow": null,
            "overflow_x": null,
            "overflow_y": null,
            "padding": null,
            "right": null,
            "top": null,
            "visibility": null,
            "width": null
          }
        },
        "f27a8b951eec4f82a1e68afcd10b86ed": {
          "model_module": "@jupyter-widgets/controls",
          "model_name": "DescriptionStyleModel",
          "model_module_version": "1.5.0",
          "state": {
            "_model_module": "@jupyter-widgets/controls",
            "_model_module_version": "1.5.0",
            "_model_name": "DescriptionStyleModel",
            "_view_count": null,
            "_view_module": "@jupyter-widgets/base",
            "_view_module_version": "1.2.0",
            "_view_name": "StyleView",
            "description_width": ""
          }
        },
        "4d5538534bce4bccb4fbe221c8d4546f": {
          "model_module": "@jupyter-widgets/controls",
          "model_name": "CheckboxModel",
          "model_module_version": "1.5.0",
          "state": {
            "_dom_classes": [],
            "_model_module": "@jupyter-widgets/controls",
            "_model_module_version": "1.5.0",
            "_model_name": "CheckboxModel",
            "_view_count": null,
            "_view_module": "@jupyter-widgets/controls",
            "_view_module_version": "1.5.0",
            "_view_name": "CheckboxView",
            "description": "Show Plot",
            "description_tooltip": null,
            "disabled": false,
            "indent": true,
            "layout": "IPY_MODEL_424e52eca40e4916b7dfc812f5ae2b40",
            "style": "IPY_MODEL_3f1da7e1d6cc45a780bf8a82c414a319",
            "value": false
          }
        },
        "424e52eca40e4916b7dfc812f5ae2b40": {
          "model_module": "@jupyter-widgets/base",
          "model_name": "LayoutModel",
          "model_module_version": "1.2.0",
          "state": {
            "_model_module": "@jupyter-widgets/base",
            "_model_module_version": "1.2.0",
            "_model_name": "LayoutModel",
            "_view_count": null,
            "_view_module": "@jupyter-widgets/base",
            "_view_module_version": "1.2.0",
            "_view_name": "LayoutView",
            "align_content": null,
            "align_items": null,
            "align_self": null,
            "border": null,
            "bottom": null,
            "display": null,
            "flex": null,
            "flex_flow": null,
            "grid_area": null,
            "grid_auto_columns": null,
            "grid_auto_flow": null,
            "grid_auto_rows": null,
            "grid_column": null,
            "grid_gap": null,
            "grid_row": null,
            "grid_template_areas": null,
            "grid_template_columns": null,
            "grid_template_rows": null,
            "height": null,
            "justify_content": null,
            "justify_items": null,
            "left": null,
            "margin": null,
            "max_height": null,
            "max_width": null,
            "min_height": null,
            "min_width": null,
            "object_fit": null,
            "object_position": null,
            "order": null,
            "overflow": null,
            "overflow_x": null,
            "overflow_y": null,
            "padding": null,
            "right": null,
            "top": null,
            "visibility": null,
            "width": null
          }
        },
        "3f1da7e1d6cc45a780bf8a82c414a319": {
          "model_module": "@jupyter-widgets/controls",
          "model_name": "DescriptionStyleModel",
          "model_module_version": "1.5.0",
          "state": {
            "_model_module": "@jupyter-widgets/controls",
            "_model_module_version": "1.5.0",
            "_model_name": "DescriptionStyleModel",
            "_view_count": null,
            "_view_module": "@jupyter-widgets/base",
            "_view_module_version": "1.2.0",
            "_view_name": "StyleView",
            "description_width": ""
          }
        },
        "8e8d6c68b5aa4b31867e88223db426db": {
          "model_module": "@jupyter-widgets/controls",
          "model_name": "CheckboxModel",
          "model_module_version": "1.5.0",
          "state": {
            "_dom_classes": [],
            "_model_module": "@jupyter-widgets/controls",
            "_model_module_version": "1.5.0",
            "_model_name": "CheckboxModel",
            "_view_count": null,
            "_view_module": "@jupyter-widgets/controls",
            "_view_module_version": "1.5.0",
            "_view_name": "CheckboxView",
            "description": "Show Plot",
            "description_tooltip": null,
            "disabled": false,
            "indent": true,
            "layout": "IPY_MODEL_a825b0a52c784dc78d0e8cd85518f467",
            "style": "IPY_MODEL_1e799cf0f6c941cc95185474b0d49530",
            "value": false
          }
        },
        "a825b0a52c784dc78d0e8cd85518f467": {
          "model_module": "@jupyter-widgets/base",
          "model_name": "LayoutModel",
          "model_module_version": "1.2.0",
          "state": {
            "_model_module": "@jupyter-widgets/base",
            "_model_module_version": "1.2.0",
            "_model_name": "LayoutModel",
            "_view_count": null,
            "_view_module": "@jupyter-widgets/base",
            "_view_module_version": "1.2.0",
            "_view_name": "LayoutView",
            "align_content": null,
            "align_items": null,
            "align_self": null,
            "border": null,
            "bottom": null,
            "display": null,
            "flex": null,
            "flex_flow": null,
            "grid_area": null,
            "grid_auto_columns": null,
            "grid_auto_flow": null,
            "grid_auto_rows": null,
            "grid_column": null,
            "grid_gap": null,
            "grid_row": null,
            "grid_template_areas": null,
            "grid_template_columns": null,
            "grid_template_rows": null,
            "height": null,
            "justify_content": null,
            "justify_items": null,
            "left": null,
            "margin": null,
            "max_height": null,
            "max_width": null,
            "min_height": null,
            "min_width": null,
            "object_fit": null,
            "object_position": null,
            "order": null,
            "overflow": null,
            "overflow_x": null,
            "overflow_y": null,
            "padding": null,
            "right": null,
            "top": null,
            "visibility": null,
            "width": null
          }
        },
        "1e799cf0f6c941cc95185474b0d49530": {
          "model_module": "@jupyter-widgets/controls",
          "model_name": "DescriptionStyleModel",
          "model_module_version": "1.5.0",
          "state": {
            "_model_module": "@jupyter-widgets/controls",
            "_model_module_version": "1.5.0",
            "_model_name": "DescriptionStyleModel",
            "_view_count": null,
            "_view_module": "@jupyter-widgets/base",
            "_view_module_version": "1.2.0",
            "_view_name": "StyleView",
            "description_width": ""
          }
        },
        "dbefdea0fe7b4d2eb80847fddad78e73": {
          "model_module": "@jupyter-widgets/controls",
          "model_name": "CheckboxModel",
          "model_module_version": "1.5.0",
          "state": {
            "_dom_classes": [],
            "_model_module": "@jupyter-widgets/controls",
            "_model_module_version": "1.5.0",
            "_model_name": "CheckboxModel",
            "_view_count": null,
            "_view_module": "@jupyter-widgets/controls",
            "_view_module_version": "1.5.0",
            "_view_name": "CheckboxView",
            "description": "Show Plot",
            "description_tooltip": null,
            "disabled": false,
            "indent": true,
            "layout": "IPY_MODEL_aabb74b77c684f1991abe580c8d17525",
            "style": "IPY_MODEL_a9e66f141bdf42d3bd296317161bd50a",
            "value": false
          }
        },
        "aabb74b77c684f1991abe580c8d17525": {
          "model_module": "@jupyter-widgets/base",
          "model_name": "LayoutModel",
          "model_module_version": "1.2.0",
          "state": {
            "_model_module": "@jupyter-widgets/base",
            "_model_module_version": "1.2.0",
            "_model_name": "LayoutModel",
            "_view_count": null,
            "_view_module": "@jupyter-widgets/base",
            "_view_module_version": "1.2.0",
            "_view_name": "LayoutView",
            "align_content": null,
            "align_items": null,
            "align_self": null,
            "border": null,
            "bottom": null,
            "display": null,
            "flex": null,
            "flex_flow": null,
            "grid_area": null,
            "grid_auto_columns": null,
            "grid_auto_flow": null,
            "grid_auto_rows": null,
            "grid_column": null,
            "grid_gap": null,
            "grid_row": null,
            "grid_template_areas": null,
            "grid_template_columns": null,
            "grid_template_rows": null,
            "height": null,
            "justify_content": null,
            "justify_items": null,
            "left": null,
            "margin": null,
            "max_height": null,
            "max_width": null,
            "min_height": null,
            "min_width": null,
            "object_fit": null,
            "object_position": null,
            "order": null,
            "overflow": null,
            "overflow_x": null,
            "overflow_y": null,
            "padding": null,
            "right": null,
            "top": null,
            "visibility": null,
            "width": null
          }
        },
        "a9e66f141bdf42d3bd296317161bd50a": {
          "model_module": "@jupyter-widgets/controls",
          "model_name": "DescriptionStyleModel",
          "model_module_version": "1.5.0",
          "state": {
            "_model_module": "@jupyter-widgets/controls",
            "_model_module_version": "1.5.0",
            "_model_name": "DescriptionStyleModel",
            "_view_count": null,
            "_view_module": "@jupyter-widgets/base",
            "_view_module_version": "1.2.0",
            "_view_name": "StyleView",
            "description_width": ""
          }
        },
        "fbeced5c4fd64a9abaf55d91a7966d50": {
          "model_module": "@jupyter-widgets/controls",
          "model_name": "CheckboxModel",
          "model_module_version": "1.5.0",
          "state": {
            "_dom_classes": [],
            "_model_module": "@jupyter-widgets/controls",
            "_model_module_version": "1.5.0",
            "_model_name": "CheckboxModel",
            "_view_count": null,
            "_view_module": "@jupyter-widgets/controls",
            "_view_module_version": "1.5.0",
            "_view_name": "CheckboxView",
            "description": "Show Plot",
            "description_tooltip": null,
            "disabled": false,
            "indent": true,
            "layout": "IPY_MODEL_d52f2fe6038443658b9b1056fb2bb358",
            "style": "IPY_MODEL_c73830ba48164f32960ca8b552c14262",
            "value": false
          }
        },
        "d52f2fe6038443658b9b1056fb2bb358": {
          "model_module": "@jupyter-widgets/base",
          "model_name": "LayoutModel",
          "model_module_version": "1.2.0",
          "state": {
            "_model_module": "@jupyter-widgets/base",
            "_model_module_version": "1.2.0",
            "_model_name": "LayoutModel",
            "_view_count": null,
            "_view_module": "@jupyter-widgets/base",
            "_view_module_version": "1.2.0",
            "_view_name": "LayoutView",
            "align_content": null,
            "align_items": null,
            "align_self": null,
            "border": null,
            "bottom": null,
            "display": null,
            "flex": null,
            "flex_flow": null,
            "grid_area": null,
            "grid_auto_columns": null,
            "grid_auto_flow": null,
            "grid_auto_rows": null,
            "grid_column": null,
            "grid_gap": null,
            "grid_row": null,
            "grid_template_areas": null,
            "grid_template_columns": null,
            "grid_template_rows": null,
            "height": null,
            "justify_content": null,
            "justify_items": null,
            "left": null,
            "margin": null,
            "max_height": null,
            "max_width": null,
            "min_height": null,
            "min_width": null,
            "object_fit": null,
            "object_position": null,
            "order": null,
            "overflow": null,
            "overflow_x": null,
            "overflow_y": null,
            "padding": null,
            "right": null,
            "top": null,
            "visibility": null,
            "width": null
          }
        },
        "c73830ba48164f32960ca8b552c14262": {
          "model_module": "@jupyter-widgets/controls",
          "model_name": "DescriptionStyleModel",
          "model_module_version": "1.5.0",
          "state": {
            "_model_module": "@jupyter-widgets/controls",
            "_model_module_version": "1.5.0",
            "_model_name": "DescriptionStyleModel",
            "_view_count": null,
            "_view_module": "@jupyter-widgets/base",
            "_view_module_version": "1.2.0",
            "_view_name": "StyleView",
            "description_width": ""
          }
        },
        "f15d7ae0ade74355af01630d5a4bcbc3": {
          "model_module": "@jupyter-widgets/controls",
          "model_name": "HBoxModel",
          "model_module_version": "1.5.0",
          "state": {
            "_dom_classes": [],
            "_model_module": "@jupyter-widgets/controls",
            "_model_module_version": "1.5.0",
            "_model_name": "HBoxModel",
            "_view_count": null,
            "_view_module": "@jupyter-widgets/controls",
            "_view_module_version": "1.5.0",
            "_view_name": "HBoxView",
            "box_style": "",
            "children": [
              "IPY_MODEL_f919b2d94ab9404bb84cda720ee5409b",
              "IPY_MODEL_98554e09a40f4ec8bf734f1a6c6b18cb",
              "IPY_MODEL_4ccfb9642e5d46838400415fbe9b5a37",
              "IPY_MODEL_31df678a5ddd47bcba5a0d4e0829455e"
            ],
            "layout": "IPY_MODEL_3c7340621d544d40a03703febac986d5"
          }
        },
        "f919b2d94ab9404bb84cda720ee5409b": {
          "model_module": "@jupyter-widgets/controls",
          "model_name": "VBoxModel",
          "model_module_version": "1.5.0",
          "state": {
            "_dom_classes": [],
            "_model_module": "@jupyter-widgets/controls",
            "_model_module_version": "1.5.0",
            "_model_name": "VBoxModel",
            "_view_count": null,
            "_view_module": "@jupyter-widgets/controls",
            "_view_module_version": "1.5.0",
            "_view_name": "VBoxView",
            "box_style": "",
            "children": [
              "IPY_MODEL_bf9a42952ae545499d327ecad5ecb24f"
            ],
            "layout": "IPY_MODEL_5c9b67d9e1c84210810167e46589dbce"
          }
        },
        "98554e09a40f4ec8bf734f1a6c6b18cb": {
          "model_module": "@jupyter-widgets/controls",
          "model_name": "VBoxModel",
          "model_module_version": "1.5.0",
          "state": {
            "_dom_classes": [],
            "_model_module": "@jupyter-widgets/controls",
            "_model_module_version": "1.5.0",
            "_model_name": "VBoxModel",
            "_view_count": null,
            "_view_module": "@jupyter-widgets/controls",
            "_view_module_version": "1.5.0",
            "_view_name": "VBoxView",
            "box_style": "",
            "children": [
              "IPY_MODEL_05e24e8090554305a51123478c5658b9",
              "IPY_MODEL_6cc99e66e2a74f5b924a7888478b7700"
            ],
            "layout": "IPY_MODEL_970edad0885c40479bbc312838e39ffa"
          }
        },
        "4ccfb9642e5d46838400415fbe9b5a37": {
          "model_module": "@jupyter-widgets/controls",
          "model_name": "VBoxModel",
          "model_module_version": "1.5.0",
          "state": {
            "_dom_classes": [],
            "_model_module": "@jupyter-widgets/controls",
            "_model_module_version": "1.5.0",
            "_model_name": "VBoxModel",
            "_view_count": null,
            "_view_module": "@jupyter-widgets/controls",
            "_view_module_version": "1.5.0",
            "_view_name": "VBoxView",
            "box_style": "",
            "children": [
              "IPY_MODEL_532cf0adbd304a1285a11b9872c1ac86",
              "IPY_MODEL_785c789dd24242caa06482b735cb9b3c"
            ],
            "layout": "IPY_MODEL_bcd6eca32b5d49a0a183b9257d9368f5"
          }
        },
        "31df678a5ddd47bcba5a0d4e0829455e": {
          "model_module": "@jupyter-widgets/controls",
          "model_name": "VBoxModel",
          "model_module_version": "1.5.0",
          "state": {
            "_dom_classes": [],
            "_model_module": "@jupyter-widgets/controls",
            "_model_module_version": "1.5.0",
            "_model_name": "VBoxModel",
            "_view_count": null,
            "_view_module": "@jupyter-widgets/controls",
            "_view_module_version": "1.5.0",
            "_view_name": "VBoxView",
            "box_style": "",
            "children": [
              "IPY_MODEL_c98bec3d0ec64a0b925d6524f41a66b7"
            ],
            "layout": "IPY_MODEL_f19ab5c596aa4523ad40d41261b06da9"
          }
        },
        "3c7340621d544d40a03703febac986d5": {
          "model_module": "@jupyter-widgets/base",
          "model_name": "LayoutModel",
          "model_module_version": "1.2.0",
          "state": {
            "_model_module": "@jupyter-widgets/base",
            "_model_module_version": "1.2.0",
            "_model_name": "LayoutModel",
            "_view_count": null,
            "_view_module": "@jupyter-widgets/base",
            "_view_module_version": "1.2.0",
            "_view_name": "LayoutView",
            "align_content": null,
            "align_items": null,
            "align_self": null,
            "border": null,
            "bottom": null,
            "display": null,
            "flex": null,
            "flex_flow": null,
            "grid_area": null,
            "grid_auto_columns": null,
            "grid_auto_flow": null,
            "grid_auto_rows": null,
            "grid_column": null,
            "grid_gap": null,
            "grid_row": null,
            "grid_template_areas": null,
            "grid_template_columns": null,
            "grid_template_rows": null,
            "height": null,
            "justify_content": null,
            "justify_items": null,
            "left": null,
            "margin": null,
            "max_height": null,
            "max_width": null,
            "min_height": null,
            "min_width": null,
            "object_fit": null,
            "object_position": null,
            "order": null,
            "overflow": null,
            "overflow_x": null,
            "overflow_y": null,
            "padding": null,
            "right": null,
            "top": null,
            "visibility": null,
            "width": null
          }
        },
        "bf9a42952ae545499d327ecad5ecb24f": {
          "model_module": "@jupyter-widgets/controls",
          "model_name": "FloatSliderModel",
          "model_module_version": "1.5.0",
          "state": {
            "_dom_classes": [],
            "_model_module": "@jupyter-widgets/controls",
            "_model_module_version": "1.5.0",
            "_model_name": "FloatSliderModel",
            "_view_count": null,
            "_view_module": "@jupyter-widgets/controls",
            "_view_module_version": "1.5.0",
            "_view_name": "FloatSliderView",
            "continuous_update": true,
            "description": "Eta (Const):",
            "description_tooltip": null,
            "disabled": false,
            "layout": "IPY_MODEL_9fcfc5a73ae747c5bffa73ac89080b40",
            "max": 0.4,
            "min": 0,
            "orientation": "horizontal",
            "readout": true,
            "readout_format": ".2f",
            "step": 0.01,
            "style": "IPY_MODEL_a8da2d3e6dbe42eeb9b180dac08542fd",
            "value": 0.2
          }
        },
        "5c9b67d9e1c84210810167e46589dbce": {
          "model_module": "@jupyter-widgets/base",
          "model_name": "LayoutModel",
          "model_module_version": "1.2.0",
          "state": {
            "_model_module": "@jupyter-widgets/base",
            "_model_module_version": "1.2.0",
            "_model_name": "LayoutModel",
            "_view_count": null,
            "_view_module": "@jupyter-widgets/base",
            "_view_module_version": "1.2.0",
            "_view_name": "LayoutView",
            "align_content": null,
            "align_items": null,
            "align_self": null,
            "border": null,
            "bottom": null,
            "display": null,
            "flex": null,
            "flex_flow": null,
            "grid_area": null,
            "grid_auto_columns": null,
            "grid_auto_flow": null,
            "grid_auto_rows": null,
            "grid_column": null,
            "grid_gap": null,
            "grid_row": null,
            "grid_template_areas": null,
            "grid_template_columns": null,
            "grid_template_rows": null,
            "height": null,
            "justify_content": null,
            "justify_items": null,
            "left": null,
            "margin": null,
            "max_height": null,
            "max_width": null,
            "min_height": null,
            "min_width": null,
            "object_fit": null,
            "object_position": null,
            "order": null,
            "overflow": null,
            "overflow_x": null,
            "overflow_y": null,
            "padding": null,
            "right": null,
            "top": null,
            "visibility": null,
            "width": null
          }
        },
        "05e24e8090554305a51123478c5658b9": {
          "model_module": "@jupyter-widgets/controls",
          "model_name": "FloatSliderModel",
          "model_module_version": "1.5.0",
          "state": {
            "_dom_classes": [],
            "_model_module": "@jupyter-widgets/controls",
            "_model_module_version": "1.5.0",
            "_model_name": "FloatSliderModel",
            "_view_count": null,
            "_view_module": "@jupyter-widgets/controls",
            "_view_module_version": "1.5.0",
            "_view_name": "FloatSliderView",
            "continuous_update": true,
            "description": "Eta (Inv):",
            "description_tooltip": null,
            "disabled": false,
            "layout": "IPY_MODEL_46628455c344481da84f72fa9c79ff50",
            "max": 0.4,
            "min": 0,
            "orientation": "horizontal",
            "readout": true,
            "readout_format": ".2f",
            "step": 0.001,
            "style": "IPY_MODEL_c6d31cb6a45c425fa6d5add3742da5ed",
            "value": 0.1
          }
        },
        "6cc99e66e2a74f5b924a7888478b7700": {
          "model_module": "@jupyter-widgets/controls",
          "model_name": "FloatSliderModel",
          "model_module_version": "1.5.0",
          "state": {
            "_dom_classes": [],
            "_model_module": "@jupyter-widgets/controls",
            "_model_module_version": "1.5.0",
            "_model_name": "FloatSliderModel",
            "_view_count": null,
            "_view_module": "@jupyter-widgets/controls",
            "_view_module_version": "1.5.0",
            "_view_name": "FloatSliderView",
            "continuous_update": true,
            "description": "Lambda (Inv):",
            "description_tooltip": null,
            "disabled": false,
            "layout": "IPY_MODEL_3fca8681eb2f46738907ab87243fafa4",
            "max": 1,
            "min": 0,
            "orientation": "horizontal",
            "readout": true,
            "readout_format": ".2f",
            "step": 0.001,
            "style": "IPY_MODEL_a528cb47753b48c2b118f2666eaaaecd",
            "value": 0.01
          }
        },
        "970edad0885c40479bbc312838e39ffa": {
          "model_module": "@jupyter-widgets/base",
          "model_name": "LayoutModel",
          "model_module_version": "1.2.0",
          "state": {
            "_model_module": "@jupyter-widgets/base",
            "_model_module_version": "1.2.0",
            "_model_name": "LayoutModel",
            "_view_count": null,
            "_view_module": "@jupyter-widgets/base",
            "_view_module_version": "1.2.0",
            "_view_name": "LayoutView",
            "align_content": null,
            "align_items": null,
            "align_self": null,
            "border": null,
            "bottom": null,
            "display": null,
            "flex": null,
            "flex_flow": null,
            "grid_area": null,
            "grid_auto_columns": null,
            "grid_auto_flow": null,
            "grid_auto_rows": null,
            "grid_column": null,
            "grid_gap": null,
            "grid_row": null,
            "grid_template_areas": null,
            "grid_template_columns": null,
            "grid_template_rows": null,
            "height": null,
            "justify_content": null,
            "justify_items": null,
            "left": null,
            "margin": null,
            "max_height": null,
            "max_width": null,
            "min_height": null,
            "min_width": null,
            "object_fit": null,
            "object_position": null,
            "order": null,
            "overflow": null,
            "overflow_x": null,
            "overflow_y": null,
            "padding": null,
            "right": null,
            "top": null,
            "visibility": null,
            "width": null
          }
        },
        "532cf0adbd304a1285a11b9872c1ac86": {
          "model_module": "@jupyter-widgets/controls",
          "model_name": "FloatSliderModel",
          "model_module_version": "1.5.0",
          "state": {
            "_dom_classes": [],
            "_model_module": "@jupyter-widgets/controls",
            "_model_module_version": "1.5.0",
            "_model_name": "FloatSliderModel",
            "_view_count": null,
            "_view_module": "@jupyter-widgets/controls",
            "_view_module_version": "1.5.0",
            "_view_name": "FloatSliderView",
            "continuous_update": true,
            "description": "Eta (Exp):",
            "description_tooltip": null,
            "disabled": false,
            "layout": "IPY_MODEL_c5e6b8d5f7024f89830a744041196f68",
            "max": 0.4,
            "min": 0,
            "orientation": "horizontal",
            "readout": true,
            "readout_format": ".2f",
            "step": 0.001,
            "style": "IPY_MODEL_e84f2b2dc12a4744b581c62e52713c28",
            "value": 0.25
          }
        },
        "785c789dd24242caa06482b735cb9b3c": {
          "model_module": "@jupyter-widgets/controls",
          "model_name": "FloatSliderModel",
          "model_module_version": "1.5.0",
          "state": {
            "_dom_classes": [],
            "_model_module": "@jupyter-widgets/controls",
            "_model_module_version": "1.5.0",
            "_model_name": "FloatSliderModel",
            "_view_count": null,
            "_view_module": "@jupyter-widgets/controls",
            "_view_module_version": "1.5.0",
            "_view_name": "FloatSliderView",
            "continuous_update": true,
            "description": "Lambda (Exp):",
            "description_tooltip": null,
            "disabled": false,
            "layout": "IPY_MODEL_b90b6eb71d6d40aabfbff562df8ad5a1",
            "max": 1,
            "min": 0,
            "orientation": "horizontal",
            "readout": true,
            "readout_format": ".2f",
            "step": 0.001,
            "style": "IPY_MODEL_bb521943a6d6475396a36f8912b8f022",
            "value": 0.01
          }
        },
        "bcd6eca32b5d49a0a183b9257d9368f5": {
          "model_module": "@jupyter-widgets/base",
          "model_name": "LayoutModel",
          "model_module_version": "1.2.0",
          "state": {
            "_model_module": "@jupyter-widgets/base",
            "_model_module_version": "1.2.0",
            "_model_name": "LayoutModel",
            "_view_count": null,
            "_view_module": "@jupyter-widgets/base",
            "_view_module_version": "1.2.0",
            "_view_name": "LayoutView",
            "align_content": null,
            "align_items": null,
            "align_self": null,
            "border": null,
            "bottom": null,
            "display": null,
            "flex": null,
            "flex_flow": null,
            "grid_area": null,
            "grid_auto_columns": null,
            "grid_auto_flow": null,
            "grid_auto_rows": null,
            "grid_column": null,
            "grid_gap": null,
            "grid_row": null,
            "grid_template_areas": null,
            "grid_template_columns": null,
            "grid_template_rows": null,
            "height": null,
            "justify_content": null,
            "justify_items": null,
            "left": null,
            "margin": null,
            "max_height": null,
            "max_width": null,
            "min_height": null,
            "min_width": null,
            "object_fit": null,
            "object_position": null,
            "order": null,
            "overflow": null,
            "overflow_x": null,
            "overflow_y": null,
            "padding": null,
            "right": null,
            "top": null,
            "visibility": null,
            "width": null
          }
        },
        "c98bec3d0ec64a0b925d6524f41a66b7": {
          "model_module": "@jupyter-widgets/controls",
          "model_name": "FloatSliderModel",
          "model_module_version": "1.5.0",
          "state": {
            "_dom_classes": [],
            "_model_module": "@jupyter-widgets/controls",
            "_model_module_version": "1.5.0",
            "_model_name": "FloatSliderModel",
            "_view_count": null,
            "_view_module": "@jupyter-widgets/controls",
            "_view_module_version": "1.5.0",
            "_view_name": "FloatSliderView",
            "continuous_update": true,
            "description": "Eta (Norm):",
            "description_tooltip": null,
            "disabled": false,
            "layout": "IPY_MODEL_03a0f2a1f9b84381a6458a0ce926d414",
            "max": 1,
            "min": 0,
            "orientation": "horizontal",
            "readout": true,
            "readout_format": ".2f",
            "step": 0.001,
            "style": "IPY_MODEL_453f4bcb06394a04a47ea338176082cf",
            "value": 0.3
          }
        },
        "f19ab5c596aa4523ad40d41261b06da9": {
          "model_module": "@jupyter-widgets/base",
          "model_name": "LayoutModel",
          "model_module_version": "1.2.0",
          "state": {
            "_model_module": "@jupyter-widgets/base",
            "_model_module_version": "1.2.0",
            "_model_name": "LayoutModel",
            "_view_count": null,
            "_view_module": "@jupyter-widgets/base",
            "_view_module_version": "1.2.0",
            "_view_name": "LayoutView",
            "align_content": null,
            "align_items": null,
            "align_self": null,
            "border": null,
            "bottom": null,
            "display": null,
            "flex": null,
            "flex_flow": null,
            "grid_area": null,
            "grid_auto_columns": null,
            "grid_auto_flow": null,
            "grid_auto_rows": null,
            "grid_column": null,
            "grid_gap": null,
            "grid_row": null,
            "grid_template_areas": null,
            "grid_template_columns": null,
            "grid_template_rows": null,
            "height": null,
            "justify_content": null,
            "justify_items": null,
            "left": null,
            "margin": null,
            "max_height": null,
            "max_width": null,
            "min_height": null,
            "min_width": null,
            "object_fit": null,
            "object_position": null,
            "order": null,
            "overflow": null,
            "overflow_x": null,
            "overflow_y": null,
            "padding": null,
            "right": null,
            "top": null,
            "visibility": null,
            "width": null
          }
        },
        "9fcfc5a73ae747c5bffa73ac89080b40": {
          "model_module": "@jupyter-widgets/base",
          "model_name": "LayoutModel",
          "model_module_version": "1.2.0",
          "state": {
            "_model_module": "@jupyter-widgets/base",
            "_model_module_version": "1.2.0",
            "_model_name": "LayoutModel",
            "_view_count": null,
            "_view_module": "@jupyter-widgets/base",
            "_view_module_version": "1.2.0",
            "_view_name": "LayoutView",
            "align_content": null,
            "align_items": null,
            "align_self": null,
            "border": null,
            "bottom": null,
            "display": null,
            "flex": null,
            "flex_flow": null,
            "grid_area": null,
            "grid_auto_columns": null,
            "grid_auto_flow": null,
            "grid_auto_rows": null,
            "grid_column": null,
            "grid_gap": null,
            "grid_row": null,
            "grid_template_areas": null,
            "grid_template_columns": null,
            "grid_template_rows": null,
            "height": null,
            "justify_content": null,
            "justify_items": null,
            "left": null,
            "margin": null,
            "max_height": null,
            "max_width": null,
            "min_height": null,
            "min_width": null,
            "object_fit": null,
            "object_position": null,
            "order": null,
            "overflow": null,
            "overflow_x": null,
            "overflow_y": null,
            "padding": null,
            "right": null,
            "top": null,
            "visibility": null,
            "width": null
          }
        },
        "a8da2d3e6dbe42eeb9b180dac08542fd": {
          "model_module": "@jupyter-widgets/controls",
          "model_name": "SliderStyleModel",
          "model_module_version": "1.5.0",
          "state": {
            "_model_module": "@jupyter-widgets/controls",
            "_model_module_version": "1.5.0",
            "_model_name": "SliderStyleModel",
            "_view_count": null,
            "_view_module": "@jupyter-widgets/base",
            "_view_module_version": "1.2.0",
            "_view_name": "StyleView",
            "description_width": "",
            "handle_color": null
          }
        },
        "46628455c344481da84f72fa9c79ff50": {
          "model_module": "@jupyter-widgets/base",
          "model_name": "LayoutModel",
          "model_module_version": "1.2.0",
          "state": {
            "_model_module": "@jupyter-widgets/base",
            "_model_module_version": "1.2.0",
            "_model_name": "LayoutModel",
            "_view_count": null,
            "_view_module": "@jupyter-widgets/base",
            "_view_module_version": "1.2.0",
            "_view_name": "LayoutView",
            "align_content": null,
            "align_items": null,
            "align_self": null,
            "border": null,
            "bottom": null,
            "display": null,
            "flex": null,
            "flex_flow": null,
            "grid_area": null,
            "grid_auto_columns": null,
            "grid_auto_flow": null,
            "grid_auto_rows": null,
            "grid_column": null,
            "grid_gap": null,
            "grid_row": null,
            "grid_template_areas": null,
            "grid_template_columns": null,
            "grid_template_rows": null,
            "height": null,
            "justify_content": null,
            "justify_items": null,
            "left": null,
            "margin": null,
            "max_height": null,
            "max_width": null,
            "min_height": null,
            "min_width": null,
            "object_fit": null,
            "object_position": null,
            "order": null,
            "overflow": null,
            "overflow_x": null,
            "overflow_y": null,
            "padding": null,
            "right": null,
            "top": null,
            "visibility": null,
            "width": null
          }
        },
        "c6d31cb6a45c425fa6d5add3742da5ed": {
          "model_module": "@jupyter-widgets/controls",
          "model_name": "SliderStyleModel",
          "model_module_version": "1.5.0",
          "state": {
            "_model_module": "@jupyter-widgets/controls",
            "_model_module_version": "1.5.0",
            "_model_name": "SliderStyleModel",
            "_view_count": null,
            "_view_module": "@jupyter-widgets/base",
            "_view_module_version": "1.2.0",
            "_view_name": "StyleView",
            "description_width": "",
            "handle_color": null
          }
        },
        "3fca8681eb2f46738907ab87243fafa4": {
          "model_module": "@jupyter-widgets/base",
          "model_name": "LayoutModel",
          "model_module_version": "1.2.0",
          "state": {
            "_model_module": "@jupyter-widgets/base",
            "_model_module_version": "1.2.0",
            "_model_name": "LayoutModel",
            "_view_count": null,
            "_view_module": "@jupyter-widgets/base",
            "_view_module_version": "1.2.0",
            "_view_name": "LayoutView",
            "align_content": null,
            "align_items": null,
            "align_self": null,
            "border": null,
            "bottom": null,
            "display": null,
            "flex": null,
            "flex_flow": null,
            "grid_area": null,
            "grid_auto_columns": null,
            "grid_auto_flow": null,
            "grid_auto_rows": null,
            "grid_column": null,
            "grid_gap": null,
            "grid_row": null,
            "grid_template_areas": null,
            "grid_template_columns": null,
            "grid_template_rows": null,
            "height": null,
            "justify_content": null,
            "justify_items": null,
            "left": null,
            "margin": null,
            "max_height": null,
            "max_width": null,
            "min_height": null,
            "min_width": null,
            "object_fit": null,
            "object_position": null,
            "order": null,
            "overflow": null,
            "overflow_x": null,
            "overflow_y": null,
            "padding": null,
            "right": null,
            "top": null,
            "visibility": null,
            "width": null
          }
        },
        "a528cb47753b48c2b118f2666eaaaecd": {
          "model_module": "@jupyter-widgets/controls",
          "model_name": "SliderStyleModel",
          "model_module_version": "1.5.0",
          "state": {
            "_model_module": "@jupyter-widgets/controls",
            "_model_module_version": "1.5.0",
            "_model_name": "SliderStyleModel",
            "_view_count": null,
            "_view_module": "@jupyter-widgets/base",
            "_view_module_version": "1.2.0",
            "_view_name": "StyleView",
            "description_width": "",
            "handle_color": null
          }
        },
        "c5e6b8d5f7024f89830a744041196f68": {
          "model_module": "@jupyter-widgets/base",
          "model_name": "LayoutModel",
          "model_module_version": "1.2.0",
          "state": {
            "_model_module": "@jupyter-widgets/base",
            "_model_module_version": "1.2.0",
            "_model_name": "LayoutModel",
            "_view_count": null,
            "_view_module": "@jupyter-widgets/base",
            "_view_module_version": "1.2.0",
            "_view_name": "LayoutView",
            "align_content": null,
            "align_items": null,
            "align_self": null,
            "border": null,
            "bottom": null,
            "display": null,
            "flex": null,
            "flex_flow": null,
            "grid_area": null,
            "grid_auto_columns": null,
            "grid_auto_flow": null,
            "grid_auto_rows": null,
            "grid_column": null,
            "grid_gap": null,
            "grid_row": null,
            "grid_template_areas": null,
            "grid_template_columns": null,
            "grid_template_rows": null,
            "height": null,
            "justify_content": null,
            "justify_items": null,
            "left": null,
            "margin": null,
            "max_height": null,
            "max_width": null,
            "min_height": null,
            "min_width": null,
            "object_fit": null,
            "object_position": null,
            "order": null,
            "overflow": null,
            "overflow_x": null,
            "overflow_y": null,
            "padding": null,
            "right": null,
            "top": null,
            "visibility": null,
            "width": null
          }
        },
        "e84f2b2dc12a4744b581c62e52713c28": {
          "model_module": "@jupyter-widgets/controls",
          "model_name": "SliderStyleModel",
          "model_module_version": "1.5.0",
          "state": {
            "_model_module": "@jupyter-widgets/controls",
            "_model_module_version": "1.5.0",
            "_model_name": "SliderStyleModel",
            "_view_count": null,
            "_view_module": "@jupyter-widgets/base",
            "_view_module_version": "1.2.0",
            "_view_name": "StyleView",
            "description_width": "",
            "handle_color": null
          }
        },
        "b90b6eb71d6d40aabfbff562df8ad5a1": {
          "model_module": "@jupyter-widgets/base",
          "model_name": "LayoutModel",
          "model_module_version": "1.2.0",
          "state": {
            "_model_module": "@jupyter-widgets/base",
            "_model_module_version": "1.2.0",
            "_model_name": "LayoutModel",
            "_view_count": null,
            "_view_module": "@jupyter-widgets/base",
            "_view_module_version": "1.2.0",
            "_view_name": "LayoutView",
            "align_content": null,
            "align_items": null,
            "align_self": null,
            "border": null,
            "bottom": null,
            "display": null,
            "flex": null,
            "flex_flow": null,
            "grid_area": null,
            "grid_auto_columns": null,
            "grid_auto_flow": null,
            "grid_auto_rows": null,
            "grid_column": null,
            "grid_gap": null,
            "grid_row": null,
            "grid_template_areas": null,
            "grid_template_columns": null,
            "grid_template_rows": null,
            "height": null,
            "justify_content": null,
            "justify_items": null,
            "left": null,
            "margin": null,
            "max_height": null,
            "max_width": null,
            "min_height": null,
            "min_width": null,
            "object_fit": null,
            "object_position": null,
            "order": null,
            "overflow": null,
            "overflow_x": null,
            "overflow_y": null,
            "padding": null,
            "right": null,
            "top": null,
            "visibility": null,
            "width": null
          }
        },
        "bb521943a6d6475396a36f8912b8f022": {
          "model_module": "@jupyter-widgets/controls",
          "model_name": "SliderStyleModel",
          "model_module_version": "1.5.0",
          "state": {
            "_model_module": "@jupyter-widgets/controls",
            "_model_module_version": "1.5.0",
            "_model_name": "SliderStyleModel",
            "_view_count": null,
            "_view_module": "@jupyter-widgets/base",
            "_view_module_version": "1.2.0",
            "_view_name": "StyleView",
            "description_width": "",
            "handle_color": null
          }
        },
        "03a0f2a1f9b84381a6458a0ce926d414": {
          "model_module": "@jupyter-widgets/base",
          "model_name": "LayoutModel",
          "model_module_version": "1.2.0",
          "state": {
            "_model_module": "@jupyter-widgets/base",
            "_model_module_version": "1.2.0",
            "_model_name": "LayoutModel",
            "_view_count": null,
            "_view_module": "@jupyter-widgets/base",
            "_view_module_version": "1.2.0",
            "_view_name": "LayoutView",
            "align_content": null,
            "align_items": null,
            "align_self": null,
            "border": null,
            "bottom": null,
            "display": null,
            "flex": null,
            "flex_flow": null,
            "grid_area": null,
            "grid_auto_columns": null,
            "grid_auto_flow": null,
            "grid_auto_rows": null,
            "grid_column": null,
            "grid_gap": null,
            "grid_row": null,
            "grid_template_areas": null,
            "grid_template_columns": null,
            "grid_template_rows": null,
            "height": null,
            "justify_content": null,
            "justify_items": null,
            "left": null,
            "margin": null,
            "max_height": null,
            "max_width": null,
            "min_height": null,
            "min_width": null,
            "object_fit": null,
            "object_position": null,
            "order": null,
            "overflow": null,
            "overflow_x": null,
            "overflow_y": null,
            "padding": null,
            "right": null,
            "top": null,
            "visibility": null,
            "width": null
          }
        },
        "453f4bcb06394a04a47ea338176082cf": {
          "model_module": "@jupyter-widgets/controls",
          "model_name": "SliderStyleModel",
          "model_module_version": "1.5.0",
          "state": {
            "_model_module": "@jupyter-widgets/controls",
            "_model_module_version": "1.5.0",
            "_model_name": "SliderStyleModel",
            "_view_count": null,
            "_view_module": "@jupyter-widgets/base",
            "_view_module_version": "1.2.0",
            "_view_name": "StyleView",
            "description_width": "",
            "handle_color": null
          }
        },
        "90dc209eb46248518c5195aac7f56334": {
          "model_module": "@jupyter-widgets/controls",
          "model_name": "CheckboxModel",
          "model_module_version": "1.5.0",
          "state": {
            "_dom_classes": [],
            "_model_module": "@jupyter-widgets/controls",
            "_model_module_version": "1.5.0",
            "_model_name": "CheckboxModel",
            "_view_count": null,
            "_view_module": "@jupyter-widgets/controls",
            "_view_module_version": "1.5.0",
            "_view_name": "CheckboxView",
            "description": "Show Plot",
            "description_tooltip": null,
            "disabled": false,
            "indent": true,
            "layout": "IPY_MODEL_3a0c14364bae4f31a80248147f9067e5",
            "style": "IPY_MODEL_c98cb5e245254c4d9cc7d1fa272fa597",
            "value": false
          }
        },
        "3a0c14364bae4f31a80248147f9067e5": {
          "model_module": "@jupyter-widgets/base",
          "model_name": "LayoutModel",
          "model_module_version": "1.2.0",
          "state": {
            "_model_module": "@jupyter-widgets/base",
            "_model_module_version": "1.2.0",
            "_model_name": "LayoutModel",
            "_view_count": null,
            "_view_module": "@jupyter-widgets/base",
            "_view_module_version": "1.2.0",
            "_view_name": "LayoutView",
            "align_content": null,
            "align_items": null,
            "align_self": null,
            "border": null,
            "bottom": null,
            "display": null,
            "flex": null,
            "flex_flow": null,
            "grid_area": null,
            "grid_auto_columns": null,
            "grid_auto_flow": null,
            "grid_auto_rows": null,
            "grid_column": null,
            "grid_gap": null,
            "grid_row": null,
            "grid_template_areas": null,
            "grid_template_columns": null,
            "grid_template_rows": null,
            "height": null,
            "justify_content": null,
            "justify_items": null,
            "left": null,
            "margin": null,
            "max_height": null,
            "max_width": null,
            "min_height": null,
            "min_width": null,
            "object_fit": null,
            "object_position": null,
            "order": null,
            "overflow": null,
            "overflow_x": null,
            "overflow_y": null,
            "padding": null,
            "right": null,
            "top": null,
            "visibility": null,
            "width": null
          }
        },
        "c98cb5e245254c4d9cc7d1fa272fa597": {
          "model_module": "@jupyter-widgets/controls",
          "model_name": "DescriptionStyleModel",
          "model_module_version": "1.5.0",
          "state": {
            "_model_module": "@jupyter-widgets/controls",
            "_model_module_version": "1.5.0",
            "_model_name": "DescriptionStyleModel",
            "_view_count": null,
            "_view_module": "@jupyter-widgets/base",
            "_view_module_version": "1.2.0",
            "_view_name": "StyleView",
            "description_width": ""
          }
        },
        "6d020f840dc54ff28b5c7adaad0ebe48": {
          "model_module": "@jupyter-widgets/output",
          "model_name": "OutputModel",
          "model_module_version": "1.0.0",
          "state": {
            "_dom_classes": [],
            "_model_module": "@jupyter-widgets/output",
            "_model_module_version": "1.0.0",
            "_model_name": "OutputModel",
            "_view_count": null,
            "_view_module": "@jupyter-widgets/output",
            "_view_module_version": "1.0.0",
            "_view_name": "OutputView",
            "layout": "IPY_MODEL_25184be4246345a99d55b5e82490930a",
            "msg_id": "",
            "outputs": []
          }
        },
        "25184be4246345a99d55b5e82490930a": {
          "model_module": "@jupyter-widgets/base",
          "model_name": "LayoutModel",
          "model_module_version": "1.2.0",
          "state": {
            "_model_module": "@jupyter-widgets/base",
            "_model_module_version": "1.2.0",
            "_model_name": "LayoutModel",
            "_view_count": null,
            "_view_module": "@jupyter-widgets/base",
            "_view_module_version": "1.2.0",
            "_view_name": "LayoutView",
            "align_content": null,
            "align_items": null,
            "align_self": null,
            "border": null,
            "bottom": null,
            "display": null,
            "flex": null,
            "flex_flow": null,
            "grid_area": null,
            "grid_auto_columns": null,
            "grid_auto_flow": null,
            "grid_auto_rows": null,
            "grid_column": null,
            "grid_gap": null,
            "grid_row": null,
            "grid_template_areas": null,
            "grid_template_columns": null,
            "grid_template_rows": null,
            "height": null,
            "justify_content": null,
            "justify_items": null,
            "left": null,
            "margin": null,
            "max_height": null,
            "max_width": null,
            "min_height": null,
            "min_width": null,
            "object_fit": null,
            "object_position": null,
            "order": null,
            "overflow": null,
            "overflow_x": null,
            "overflow_y": null,
            "padding": null,
            "right": null,
            "top": null,
            "visibility": null,
            "width": null
          }
        }
      }
    }
  },
  "nbformat": 4,
  "nbformat_minor": 0
}